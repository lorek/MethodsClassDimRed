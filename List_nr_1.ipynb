{
  "nbformat": 4,
  "nbformat_minor": 0,
  "metadata": {
    "colab": {
      "provenance": []
    },
    "kernelspec": {
      "name": "python3",
      "display_name": "Python 3"
    },
    "language_info": {
      "name": "python"
    }
  },
  "cells": [
    {
      "cell_type": "markdown",
      "source": [
        "# LIST NR 1: Python and NumPy exercises"
      ],
      "metadata": {
        "id": "PlnXVDobnABr"
      }
    },
    {
      "cell_type": "code",
      "source": [
        "import numpy as np"
      ],
      "metadata": {
        "id": "6LVz1fwinGT0"
      },
      "execution_count": 2,
      "outputs": []
    },
    {
      "cell_type": "markdown",
      "source": [
        "If you are new to Python: most questions can be answered after few minuts of \"googling\". You may also want to check simple built-in help, e.g., `help(np)` or `help(np.random)`"
      ],
      "metadata": {
        "id": "ZX2HX56Pn0pJ"
      }
    },
    {
      "cell_type": "markdown",
      "source": [
        "## Q1*.0* (warm-up)"
      ],
      "metadata": {
        "id": "LCslCKRYnPrh"
      }
    },
    {
      "cell_type": "markdown",
      "source": [
        "Create:\n",
        "* a=[1,2,...,100] (vector consiting of integer numbers from 1 to 100)\n",
        "* b=[1,3,...,99]\n",
        "* c=$[-\\pi, -0.99\\pi,...,0.99\\pi, \\pi]$\n",
        "* A = matrix of size $10\\times 10$:\n",
        "$$\\left[\\begin{array}{llll}\n",
        "1 & 2 & \\ldots & 9 & 10\\\\\n",
        "11 & 12 & \\ldots & 19 & 20\\\\\n",
        "\\vdots \\\\\n",
        "91 & 92 & \\ldots & 99 & 100\n",
        "\\end{array}\\right]$$\n",
        "* B = upper-triangular matrix with ons on and above diagonal\n",
        "* C = matrix of size $2\\times 100$, where first row has elements $d_{1,i} = 1+2+\\ldots + i$ and second $d_{2,i}=i!$\n",
        "* D = matrix of size $100\\times 100$ such that D[i,j]=1 if i divides j, 0 otherwise"
      ],
      "metadata": {
        "id": "XN_-U6MQnilx"
      }
    },
    {
      "cell_type": "code",
      "source": [],
      "metadata": {
        "id": "XS-d6O0hnh_w"
      },
      "execution_count": null,
      "outputs": []
    },
    {
      "cell_type": "code",
      "source": [],
      "metadata": {
        "id": "E8-OVVBfql-G"
      },
      "execution_count": null,
      "outputs": []
    },
    {
      "cell_type": "markdown",
      "source": [
        "## Q1.1"
      ],
      "metadata": {
        "id": "TX8K-wCGqA0Z"
      }
    },
    {
      "cell_type": "code",
      "source": [
        "np.random.seed(0)"
      ],
      "metadata": {
        "id": "qOhYis_NnTED"
      },
      "execution_count": null,
      "outputs": []
    },
    {
      "cell_type": "markdown",
      "source": [
        "1000 numbers for uniform distribution $U(-2,5)$"
      ],
      "metadata": {
        "id": "F6Mcar1YqyD-"
      }
    },
    {
      "cell_type": "code",
      "source": [
        "np.random.seed(0)\n",
        "x = np.random.uniform(-2,5, size=1000)"
      ],
      "metadata": {
        "id": "1EaKqxyPnXHI"
      },
      "execution_count": 11,
      "outputs": []
    },
    {
      "cell_type": "markdown",
      "source": [
        "Standard devitaion of $n$ numbers $x_1,\\ldots,x_n$\n",
        "$$\\sigma=\\sqrt{{1\\over n}\\sum_{i=1}^n (x_i-\\hat{x})^2}, \\quad \\textrm{where } \\hat{x}={1\\over n}\\sum_{i=1}^n x_i$$\n",
        "built-in function to compute it: `np.std(x)`"
      ],
      "metadata": {
        "id": "9gVn-_oLrLyV"
      }
    },
    {
      "cell_type": "code",
      "source": [
        "print(np.std(x))"
      ],
      "metadata": {
        "colab": {
          "base_uri": "https://localhost:8080/"
        },
        "id": "OhvzLZAzrKgN",
        "outputId": "815a6b78-48d3-4477-b4d0-974a811a00e0"
      },
      "execution_count": 12,
      "outputs": [
        {
          "output_type": "stream",
          "name": "stdout",
          "text": [
            "2.0341918909242707\n"
          ]
        }
      ]
    },
    {
      "cell_type": "markdown",
      "source": [
        "* a) compute `std` using only `np.mean`, `np.sqrt` and `**2`\n",
        "* b) Make  a histogram of `x` with 50 bins. Compare it with density plot. Reapeat for 10k numbers\n",
        "* c) Sample 1000 numbers from normal distribution with $\\mu=3, \\sigma^2=9$. Make their histogram with 50 bins. Compare with density plot. Repeat for 10k numbers\n",
        "* d) Sample 1000 points $(x,y)$ where $x$ are sampled from $N(4,4)$ and $y$ are sampled from $N(5,1)$. Make a scatter plot of the points. Repeat for 10k points.\n",
        "* e) Using data from d) estimate $P(X<Y)$ where X has distribution $N(4,4)$ and $Y$ has distribution $N(5,1)$. Can you provide exact answer? (computed based on probability/statistics)\n"
      ],
      "metadata": {
        "id": "F-JsWFkzr-eq"
      }
    },
    {
      "cell_type": "code",
      "source": [],
      "metadata": {
        "id": "WLj2GAVktNcv"
      },
      "execution_count": null,
      "outputs": []
    },
    {
      "cell_type": "markdown",
      "source": [
        "## Q1.2"
      ],
      "metadata": {
        "id": "SHEdtpcit_29"
      }
    },
    {
      "cell_type": "code",
      "source": [
        "#Random vectors v,w,u of dimension d\n",
        "np.random.seed(0)\n",
        "d=100\n",
        "v=np.random.uniform(-10,10,size=d)\n",
        "w=np.random.uniform(-5,5,size=d)\n",
        "u=np.random.uniform(0,10,size=d)\n",
        "\n",
        "n=200\n",
        "#X = random (standard normal) matrix of size d x n\n",
        "X=np.random.normal(0,1,size=(d,n))\n"
      ],
      "metadata": {
        "id": "YkmLMJLXuH3D"
      },
      "execution_count": 18,
      "outputs": []
    },
    {
      "cell_type": "markdown",
      "source": [
        "* a) compute lengths of vectors; weighted average of `v` weighted by weights `w`; dot product of `v` and `u`\n",
        "* b) For $\\mathbf{X}$ of size $d\\times n$ (think: $n$ vectors from $\\mathbb{R}^d$) compute:\n",
        "** lengths of all $n$ vectors\n",
        "** weighted average of all $n$ vectors weighted by weights `w` (result: vector of length $n$ with these averages)\n"
      ],
      "metadata": {
        "id": "Zial9-v0uB9l"
      }
    },
    {
      "cell_type": "code",
      "source": [],
      "metadata": {
        "id": "wKdWrRCsv4om"
      },
      "execution_count": null,
      "outputs": []
    },
    {
      "cell_type": "markdown",
      "source": [
        "## Q1.3"
      ],
      "metadata": {
        "id": "lDz-NeXMv4Cv"
      }
    },
    {
      "cell_type": "markdown",
      "source": [
        "For making plot use `matplotlib`"
      ],
      "metadata": {
        "id": "Ere0sP-zzIVl"
      }
    },
    {
      "cell_type": "code",
      "source": [
        "import matplotlib.pyplot as plt"
      ],
      "metadata": {
        "id": "w3NJjxNozMBU"
      },
      "execution_count": 19,
      "outputs": []
    },
    {
      "cell_type": "markdown",
      "source": [
        "* a) make a 2d plot containing 10 points: $(3,5), (4,6), (7,7), (8,11), (10,12), (11,14), (12, 10), (16,15), (18, 19) , (20, 21)$\n",
        "* b) add to the plot a line $y=0.6x+5$\n",
        "* c) for each data $(x_i,y_i)$ point compute its distance to the line $y=0.6x+5$ defined simply as $dist((x_i,y_i), line)=(0.6x_i+5 - y_i)^2$\n",
        "* d) try to  find $a,b$ such that sum of distances of all points from line $y=ax+b$ is smaller"
      ],
      "metadata": {
        "id": "F1gFWfFKv7Be"
      }
    },
    {
      "cell_type": "code",
      "source": [],
      "metadata": {
        "id": "lVNFx3X_9BVV"
      },
      "execution_count": null,
      "outputs": []
    },
    {
      "cell_type": "markdown",
      "source": [
        "## Q1.4 (bonus)"
      ],
      "metadata": {
        "id": "eCNZasiH9A2c"
      }
    },
    {
      "cell_type": "markdown",
      "source": [
        "* Read about  [Monte Hall Problem](https://en.wikipedia.org/wiki/Monty_Hall_problem). Simulate the game show 10k times and estimate the probabilities of winning in using two strategies:\n",
        "** do not change intially chosen door\n",
        "** always change intially chosen door"
      ],
      "metadata": {
        "id": "T9RvLQwu9Jsj"
      }
    },
    {
      "cell_type": "code",
      "source": [],
      "metadata": {
        "id": "-fqJs7za9HFE"
      },
      "execution_count": null,
      "outputs": []
    },
    {
      "cell_type": "code",
      "source": [],
      "metadata": {
        "id": "BGSorVUMuA0e"
      },
      "execution_count": null,
      "outputs": []
    }
  ]
}