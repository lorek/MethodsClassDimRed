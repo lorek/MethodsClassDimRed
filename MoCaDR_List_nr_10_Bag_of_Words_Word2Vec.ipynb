{
  "nbformat": 4,
  "nbformat_minor": 0,
  "metadata": {
    "colab": {
      "provenance": [],
      "include_colab_link": true
    },
    "kernelspec": {
      "name": "python3",
      "display_name": "Python 3"
    },
    "language_info": {
      "name": "python"
    }
  },
  "cells": [
    {
      "cell_type": "markdown",
      "metadata": {
        "id": "view-in-github",
        "colab_type": "text"
      },
      "source": [
        "<a href=\"https://colab.research.google.com/github/lorek/MethodsClassDimRed/blob/main/MoCaDR_List_nr_10_Bag_of_Words_Word2Vec.ipynb\" target=\"_parent\"><img src=\"https://colab.research.google.com/assets/colab-badge.svg\" alt=\"Open In Colab\"/></a>"
      ]
    },
    {
      "cell_type": "markdown",
      "source": [
        "# Bag of words and Word2Vec"
      ],
      "metadata": {
        "id": "xnNFmcVoGC5u"
      }
    },
    {
      "cell_type": "code",
      "source": [
        "# Paweł Lorek\n",
        "import numpy as np\n",
        "import time\n",
        "import gensim\n",
        "\n",
        "from gensim.models import Word2Vec\n",
        "\n",
        "import nltk\n",
        "from nltk.corpus import brown, movie_reviews, treebank\n",
        "\n",
        "\n",
        "from gensim.models import KeyedVectors\n",
        "import string\n",
        "from nltk.stem import PorterStemmer\n",
        "from nltk import word_tokenize\n",
        "from nltk.corpus import brown\n",
        "\n",
        "from sklearn.naive_bayes import GaussianNB\n",
        "from sklearn.neighbors import KNeighborsClassifier\n",
        "from sklearn.svm import SVC\n",
        "from sklearn.metrics import accuracy_score\n",
        "from sklearn.feature_extraction.text import TfidfVectorizer  # TF-IDF\n",
        "\n",
        "from sklearn.metrics.pairwise import cosine_similarity\n"
      ],
      "metadata": {
        "id": "39RfP2oyGF73"
      },
      "execution_count": 1,
      "outputs": []
    },
    {
      "cell_type": "markdown",
      "source": [
        "## Bag of Words"
      ],
      "metadata": {
        "id": "LDXu9-Vj83rx"
      }
    },
    {
      "cell_type": "code",
      "source": [
        "from sklearn.feature_extraction.text import CountVectorizer\n",
        "from sklearn.feature_extraction.text import TfidfTransformer"
      ],
      "metadata": {
        "id": "_tay-YZHo-Ja"
      },
      "execution_count": 34,
      "outputs": []
    },
    {
      "cell_type": "code",
      "source": [
        "documents = [\n",
        "    \"The quick brown fox jumped over the lazy dog.\",\n",
        "    \"The dog slept in the afternoon.\",\n",
        "    \"Foxes are wild animals.\",\n",
        "    \"Dogs are loyal pets.\"\n",
        "]"
      ],
      "metadata": {
        "id": "pE-26-9ypDnA"
      },
      "execution_count": 35,
      "outputs": []
    },
    {
      "cell_type": "code",
      "source": [
        "# Convert texts to count vectors\n",
        "count_vect = CountVectorizer()\n",
        "X_counts = count_vect.fit_transform(documents)\n",
        "\n",
        "# Display count vectors\n",
        "print(\"Count Vectors (CountVectorizer):\")\n",
        "print(X_counts.toarray())\n",
        "print(\"\\nVocabulary:\", count_vect.get_feature_names_out())\n",
        "\n",
        "# Convert count vectors to tf-idf vectors\n",
        "tfidf_transformer = TfidfTransformer()\n",
        "X_tfidf = tfidf_transformer.fit_transform(X_counts)\n",
        "\n",
        "# Display tf-idf vectors\n",
        "print(\"\\nTF-IDF Vectors (TfidfTransformer):\")\n",
        "print(X_tfidf.toarray())"
      ],
      "metadata": {
        "id": "YCUwIjmnpDqw",
        "colab": {
          "base_uri": "https://localhost:8080/"
        },
        "outputId": "56375aa1-fbc0-4440-ab16-27053dae7653"
      },
      "execution_count": 36,
      "outputs": [
        {
          "output_type": "stream",
          "name": "stdout",
          "text": [
            "Count Vectors (CountVectorizer):\n",
            "[[0 0 0 1 1 0 1 0 0 1 1 0 1 0 1 0 2 0]\n",
            " [1 0 0 0 1 0 0 0 1 0 0 0 0 0 0 1 2 0]\n",
            " [0 1 1 0 0 0 0 1 0 0 0 0 0 0 0 0 0 1]\n",
            " [0 0 1 0 0 1 0 0 0 0 0 1 0 1 0 0 0 0]]\n",
            "\n",
            "Vocabulary: ['afternoon' 'animals' 'are' 'brown' 'dog' 'dogs' 'fox' 'foxes' 'in'\n",
            " 'jumped' 'lazy' 'loyal' 'over' 'pets' 'quick' 'slept' 'the' 'wild']\n",
            "\n",
            "TF-IDF Vectors (TfidfTransformer):\n",
            "[[0.         0.         0.         0.33135182 0.26124158 0.\n",
            "  0.33135182 0.         0.         0.33135182 0.33135182 0.\n",
            "  0.33135182 0.         0.33135182 0.         0.52248316 0.        ]\n",
            " [0.40462414 0.         0.         0.         0.31901032 0.\n",
            "  0.         0.         0.40462414 0.         0.         0.\n",
            "  0.         0.         0.         0.40462414 0.63802064 0.        ]\n",
            " [0.         0.52547275 0.41428875 0.         0.         0.\n",
            "  0.         0.52547275 0.         0.         0.         0.\n",
            "  0.         0.         0.         0.         0.         0.52547275]\n",
            " [0.         0.         0.41428875 0.         0.         0.52547275\n",
            "  0.         0.         0.         0.         0.         0.52547275\n",
            "  0.         0.52547275 0.         0.         0.         0.        ]]\n"
          ]
        }
      ]
    },
    {
      "cell_type": "code",
      "source": [],
      "metadata": {
        "id": "dAYi8RvsfIWL"
      },
      "execution_count": null,
      "outputs": []
    },
    {
      "cell_type": "markdown",
      "source": [
        "# Word2Vec:  train model from gensim"
      ],
      "metadata": {
        "id": "r5RALYPLDz2p"
      }
    },
    {
      "cell_type": "code",
      "source": [
        "nltk.download('brown')\n",
        "nltk.download('treebank')\n"
      ],
      "metadata": {
        "colab": {
          "base_uri": "https://localhost:8080/"
        },
        "id": "mkCtN16uEDNK",
        "outputId": "64448b59-8bf6-468f-bac6-b4bd278d9b79"
      },
      "execution_count": 2,
      "outputs": [
        {
          "output_type": "stream",
          "name": "stderr",
          "text": [
            "[nltk_data] Downloading package brown to /root/nltk_data...\n",
            "[nltk_data]   Unzipping corpora/brown.zip.\n",
            "[nltk_data] Downloading package treebank to /root/nltk_data...\n",
            "[nltk_data]   Unzipping corpora/treebank.zip.\n"
          ]
        },
        {
          "output_type": "execute_result",
          "data": {
            "text/plain": [
              "True"
            ]
          },
          "metadata": {},
          "execution_count": 2
        }
      ]
    },
    {
      "cell_type": "code",
      "source": [
        "print(\"Calculating Word2Vec for 'brown' dataset .\", end=\"\", flush=True)\n",
        "start_time = time.time()\n",
        "w2v_brown = Word2Vec(brown.sents())\n",
        "print(\"\\t\\t took %s seconds \" % round((time.time() - start_time),5))"
      ],
      "metadata": {
        "colab": {
          "base_uri": "https://localhost:8080/"
        },
        "id": "j33zwHr8D5Wx",
        "outputId": "feb4a6d1-bd06-4429-f928-cd82c0803410"
      },
      "execution_count": 3,
      "outputs": [
        {
          "output_type": "stream",
          "name": "stdout",
          "text": [
            "Calculating Word2Vec for 'brown' dataset .\t\t took 41.83131 seconds \n"
          ]
        }
      ]
    },
    {
      "cell_type": "code",
      "source": [
        "print(\"Calculating Word2Vec for 'treebank' dataset .\", end=\"\", flush=True)\n",
        "start_time = time.time()\n",
        "w2v_tb = Word2Vec(treebank.sents())\n",
        "print(\"\\t\\t took %s seconds \" % round((time.time() - start_time),5))"
      ],
      "metadata": {
        "colab": {
          "base_uri": "https://localhost:8080/"
        },
        "id": "bhaZBuQqER-z",
        "outputId": "7dd3aa25-4047-46b2-f654-c22c48e71960"
      },
      "execution_count": 4,
      "outputs": [
        {
          "output_type": "stream",
          "name": "stdout",
          "text": [
            "Calculating Word2Vec for 'treebank' dataset .\t\t took 6.99281 seconds \n"
          ]
        }
      ]
    },
    {
      "cell_type": "code",
      "source": [
        "print(\"dimension: \", len(w2v_brown.wv[\"apple\"] ), \" apple = \",w2v_brown.wv[\"apple\"] )"
      ],
      "metadata": {
        "colab": {
          "base_uri": "https://localhost:8080/"
        },
        "id": "NdjT1zaBFUzg",
        "outputId": "eb588310-37cd-4ddf-e70b-12223bb1841e"
      },
      "execution_count": 5,
      "outputs": [
        {
          "output_type": "stream",
          "name": "stdout",
          "text": [
            "dimension:  100  apple =  [ 8.23317096e-02  7.47319683e-02  2.82908306e-02 -1.21446997e-02\n",
            " -1.04962839e-02 -6.36102557e-02  7.00236708e-02  1.68403789e-01\n",
            " -9.15719345e-02 -6.93530589e-02  2.52947379e-02 -7.26555213e-02\n",
            "  3.64574529e-02  1.87692493e-02  6.36409223e-02 -8.40146691e-02\n",
            "  2.57701166e-02 -4.56809811e-02 -6.15098029e-02 -1.15827225e-01\n",
            "  5.14591821e-02 -3.46797146e-02  7.93560594e-02  3.59990099e-03\n",
            " -2.32398231e-02 -6.20469041e-02 -5.70676811e-02 -3.26855630e-02\n",
            " -3.14676575e-02  5.08689173e-02  1.10364281e-01 -8.83811116e-02\n",
            "  1.91504788e-02 -1.15050547e-01  1.25137437e-02  6.65299371e-02\n",
            " -8.86415783e-03 -2.57209074e-02 -3.10990419e-02 -5.99632487e-02\n",
            "  1.54627804e-02 -1.06639534e-01  5.33831678e-02  7.78012797e-02\n",
            "  5.69414236e-02 -3.42835225e-02 -1.56059917e-02  2.07771473e-02\n",
            " -1.03374105e-03  6.17487319e-02  2.11441424e-02 -8.66596252e-02\n",
            " -5.05734272e-02 -5.78068383e-02 -5.20443767e-02 -4.67707328e-02\n",
            "  8.93955827e-02  3.30981053e-02 -1.18302228e-02  1.55865634e-02\n",
            "  1.30030606e-03  5.39745055e-02 -5.05491644e-02 -1.66831426e-02\n",
            " -9.82791707e-02  9.01062936e-02  1.10489778e-01  2.85527874e-02\n",
            " -6.15628213e-02  9.16236192e-02  1.79517772e-02 -2.74165371e-03\n",
            "  1.19868033e-01  3.11660557e-03  8.28317180e-02  4.31767255e-02\n",
            "  6.81707487e-02  3.21460031e-02  2.15701982e-02  1.63037721e-02\n",
            " -3.62791792e-02  6.68066144e-02 -6.94334283e-02  4.06127684e-02\n",
            " -2.75813695e-02  9.96630825e-03 -6.53542811e-05  7.61456788e-02\n",
            "  1.04214452e-01  6.05195574e-02  7.43007362e-02 -4.35250886e-02\n",
            "  9.41823120e-04 -4.14046226e-03  9.35500264e-02  3.86602692e-02\n",
            "  9.09982249e-02 -9.72437710e-02  3.07193939e-02 -5.06311469e-02]\n"
          ]
        }
      ]
    },
    {
      "cell_type": "code",
      "source": [
        "sample_words = [\"apple\",\"pear\",\"car\",\"house\",\"building\"]\n",
        "\n",
        "for w1 in sample_words:\n",
        "  for w2 in sample_words:\n",
        "\n",
        "    print(\"w1=\",w1,\", w2=\",w2,\"\\t\\t\\t brown: cosine_similarity(w1,w2) = \", cosine_similarity([w2v_brown.wv[w1]],[w2v_brown.wv[w2]]))"
      ],
      "metadata": {
        "colab": {
          "base_uri": "https://localhost:8080/"
        },
        "id": "5gtY2Tf7FLzf",
        "outputId": "26771e30-3101-4c68-b20c-b49861d24a36"
      },
      "execution_count": 6,
      "outputs": [
        {
          "output_type": "stream",
          "name": "stdout",
          "text": [
            "w1= apple , w2= apple \t\t\t brown: cosine_similarity(w1,w2) =  [[1.]]\n",
            "w1= apple , w2= pear \t\t\t brown: cosine_similarity(w1,w2) =  [[0.78480107]]\n",
            "w1= apple , w2= car \t\t\t brown: cosine_similarity(w1,w2) =  [[0.60593385]]\n",
            "w1= apple , w2= house \t\t\t brown: cosine_similarity(w1,w2) =  [[0.50023335]]\n",
            "w1= apple , w2= building \t\t\t brown: cosine_similarity(w1,w2) =  [[0.72100234]]\n",
            "w1= pear , w2= apple \t\t\t brown: cosine_similarity(w1,w2) =  [[0.78480107]]\n",
            "w1= pear , w2= pear \t\t\t brown: cosine_similarity(w1,w2) =  [[1.]]\n",
            "w1= pear , w2= car \t\t\t brown: cosine_similarity(w1,w2) =  [[0.6408107]]\n",
            "w1= pear , w2= house \t\t\t brown: cosine_similarity(w1,w2) =  [[0.53352976]]\n",
            "w1= pear , w2= building \t\t\t brown: cosine_similarity(w1,w2) =  [[0.80650854]]\n",
            "w1= car , w2= apple \t\t\t brown: cosine_similarity(w1,w2) =  [[0.60593385]]\n",
            "w1= car , w2= pear \t\t\t brown: cosine_similarity(w1,w2) =  [[0.6408107]]\n",
            "w1= car , w2= car \t\t\t brown: cosine_similarity(w1,w2) =  [[0.99999994]]\n",
            "w1= car , w2= house \t\t\t brown: cosine_similarity(w1,w2) =  [[0.9466372]]\n",
            "w1= car , w2= building \t\t\t brown: cosine_similarity(w1,w2) =  [[0.7527281]]\n",
            "w1= house , w2= apple \t\t\t brown: cosine_similarity(w1,w2) =  [[0.50023335]]\n",
            "w1= house , w2= pear \t\t\t brown: cosine_similarity(w1,w2) =  [[0.53352976]]\n",
            "w1= house , w2= car \t\t\t brown: cosine_similarity(w1,w2) =  [[0.9466372]]\n",
            "w1= house , w2= house \t\t\t brown: cosine_similarity(w1,w2) =  [[1.]]\n",
            "w1= house , w2= building \t\t\t brown: cosine_similarity(w1,w2) =  [[0.68829423]]\n",
            "w1= building , w2= apple \t\t\t brown: cosine_similarity(w1,w2) =  [[0.72100234]]\n",
            "w1= building , w2= pear \t\t\t brown: cosine_similarity(w1,w2) =  [[0.80650854]]\n",
            "w1= building , w2= car \t\t\t brown: cosine_similarity(w1,w2) =  [[0.7527281]]\n",
            "w1= building , w2= house \t\t\t brown: cosine_similarity(w1,w2) =  [[0.68829423]]\n",
            "w1= building , w2= building \t\t\t brown: cosine_similarity(w1,w2) =  [[1.0000002]]\n"
          ]
        }
      ]
    },
    {
      "cell_type": "markdown",
      "source": [],
      "metadata": {
        "id": "wTsHNzaHFMQ3"
      }
    },
    {
      "cell_type": "code",
      "source": [],
      "metadata": {
        "id": "V1s57zrFFI8G"
      },
      "execution_count": 6,
      "outputs": []
    },
    {
      "cell_type": "code",
      "source": [
        "print(\"MOST SIMILAR WORDS:\")\n",
        "\n",
        "for w1 in sample_words:\n",
        "  print(w1,\" -> \",w2v_brown.wv.most_similar(w1))\n"
      ],
      "metadata": {
        "colab": {
          "base_uri": "https://localhost:8080/"
        },
        "id": "Hyl-zoBlEgMU",
        "outputId": "9a8c3293-01d3-4ebe-80d1-a8356fe78461"
      },
      "execution_count": 7,
      "outputs": [
        {
          "output_type": "stream",
          "name": "stdout",
          "text": [
            "MOST SIMILAR WORDS:\n",
            "apple  ->  [('securely', 0.9413764476776123), ('disguised', 0.9406211972236633), ('replace', 0.9367627501487732), ('insert', 0.9365649223327637), ('thoroughly', 0.9350473284721375), ('wired', 0.9328399300575256), ('attempts', 0.9324250221252441), ('shadows', 0.9308593273162842), ('bell', 0.9287177324295044), ('portrait', 0.9278996586799622)]\n",
            "pear  ->  [('gold', 0.9518222808837891), ('tax-free', 0.9494732022285461), ('outboard', 0.9452440738677979), ('formulation', 0.9446111917495728), ('enclosed', 0.9433748126029968), ('horror', 0.9431988596916199), ('bloat', 0.9427004456520081), ('drying', 0.9418098330497742), ('relief', 0.941766619682312), ('chill', 0.9416624903678894)]\n",
            "car  ->  [('house', 0.9466373324394226), ('hall', 0.9047896265983582), ('room', 0.9042400121688843), ('corner', 0.9014179706573486), ('town', 0.9009864926338196), ('road', 0.8940757513046265), ('desk', 0.8921055197715759), ('bed', 0.8913705945014954), ('jig', 0.8833386898040771), ('fire', 0.8797889947891235)]\n",
            "house  ->  [('car', 0.9466372132301331), ('room', 0.9149416089057922), ('hand', 0.8711081147193909), ('bed', 0.8625425100326538), ('door', 0.8597394227981567), ('hall', 0.8586548566818237), ('office', 0.8507446050643921), ('hands', 0.8494648337364197), ('face', 0.8469142317771912), ('close', 0.8430466055870056)]\n",
            "building  ->  [('post', 0.9495983123779297), ('stretching', 0.9443433880805969), ('pitch', 0.9340969324111938), ('camp', 0.9335179924964905), ('entire', 0.9316161274909973), ('sky', 0.9306459426879883), ('sea', 0.929589569568634), ('plane', 0.9294460415840149), ('column', 0.9285906553268433), ('valley', 0.9281083941459656)]\n"
          ]
        }
      ]
    },
    {
      "cell_type": "markdown",
      "source": [
        "## Word2Vec: Using a pre-trained model"
      ],
      "metadata": {
        "id": "NbN41ITp_T5L"
      }
    },
    {
      "cell_type": "markdown",
      "source": [
        "Model trained on Google News:\n",
        "\n",
        "Load trained model (SLIM version ~ 260 MB, one may find full version ~ 1.5GB)"
      ],
      "metadata": {
        "id": "ShkUJRyM-rEY"
      }
    },
    {
      "cell_type": "code",
      "source": [
        "!wget -P /root/input/ -c \"https://github.com/eyaler/word2vec-slim/raw/master/GoogleNews-vectors-negative300-SLIM.bin.gz\""
      ],
      "metadata": {
        "colab": {
          "base_uri": "https://localhost:8080/"
        },
        "id": "zdsC8K3u85th",
        "outputId": "52909ac6-aec1-4f80-ca85-28f8003049b1"
      },
      "execution_count": 8,
      "outputs": [
        {
          "output_type": "stream",
          "name": "stdout",
          "text": [
            "--2024-05-26 10:26:17--  https://github.com/eyaler/word2vec-slim/raw/master/GoogleNews-vectors-negative300-SLIM.bin.gz\n",
            "Resolving github.com (github.com)... 140.82.113.4\n",
            "Connecting to github.com (github.com)|140.82.113.4|:443... connected.\n",
            "HTTP request sent, awaiting response... 302 Found\n",
            "Location: https://media.githubusercontent.com/media/eyaler/word2vec-slim/master/GoogleNews-vectors-negative300-SLIM.bin.gz [following]\n",
            "--2024-05-26 10:26:17--  https://media.githubusercontent.com/media/eyaler/word2vec-slim/master/GoogleNews-vectors-negative300-SLIM.bin.gz\n",
            "Resolving media.githubusercontent.com (media.githubusercontent.com)... 185.199.108.133, 185.199.109.133, 185.199.110.133, ...\n",
            "Connecting to media.githubusercontent.com (media.githubusercontent.com)|185.199.108.133|:443... connected.\n",
            "HTTP request sent, awaiting response... 200 OK\n",
            "Length: 276467217 (264M) [application/octet-stream]\n",
            "Saving to: ‘/root/input/GoogleNews-vectors-negative300-SLIM.bin.gz’\n",
            "\n",
            "GoogleNews-vectors- 100%[===================>] 263.66M   245MB/s    in 1.1s    \n",
            "\n",
            "2024-05-26 10:26:21 (245 MB/s) - ‘/root/input/GoogleNews-vectors-negative300-SLIM.bin.gz’ saved [276467217/276467217]\n",
            "\n"
          ]
        }
      ]
    },
    {
      "cell_type": "code",
      "source": [],
      "metadata": {
        "id": "ETTD5sXRBOSV"
      },
      "execution_count": 8,
      "outputs": []
    },
    {
      "cell_type": "code",
      "source": [
        "!ls /root/input"
      ],
      "metadata": {
        "colab": {
          "base_uri": "https://localhost:8080/"
        },
        "id": "LGXWV41cBFv1",
        "outputId": "7eae67fd-ea29-4326-984f-c1ece6f0719a"
      },
      "execution_count": 9,
      "outputs": [
        {
          "output_type": "stream",
          "name": "stdout",
          "text": [
            "GoogleNews-vectors-negative300-SLIM.bin.gz\n"
          ]
        }
      ]
    },
    {
      "cell_type": "code",
      "source": [],
      "metadata": {
        "id": "fHdn9xZWCVGD"
      },
      "execution_count": 9,
      "outputs": []
    },
    {
      "cell_type": "code",
      "source": [
        "!file /root/input/GoogleNews-vectors-negative300-SLIM.bin.gz"
      ],
      "metadata": {
        "colab": {
          "base_uri": "https://localhost:8080/"
        },
        "id": "0P2fhus7Bt7o",
        "outputId": "f480cde2-5276-47c6-d684-9db872245c6b"
      },
      "execution_count": 10,
      "outputs": [
        {
          "output_type": "stream",
          "name": "stdout",
          "text": [
            "/root/input/GoogleNews-vectors-negative300-SLIM.bin.gz: gzip compressed data, was \"GoogleNews-vectors-negative300-SLIM.bin\", last modified: Wed Sep 14 17:08:49 2016, max compression, original size modulo 2^32 362017275\n"
          ]
        }
      ]
    },
    {
      "cell_type": "code",
      "source": [
        "EMBEDDING_FILE = '/root/input/GoogleNews-vectors-negative300-SLIM.bin.gz'\n",
        "w2v_google = KeyedVectors.load_word2vec_format(EMBEDDING_FILE, binary=True)"
      ],
      "metadata": {
        "id": "uEdHMXSGv5Rf"
      },
      "execution_count": 11,
      "outputs": []
    },
    {
      "cell_type": "code",
      "source": [
        "print(\"dim = \", len(w2v_google[\"apple\"]))"
      ],
      "metadata": {
        "colab": {
          "base_uri": "https://localhost:8080/"
        },
        "id": "s8NUNnmlGAoe",
        "outputId": "96af78f6-62ba-4285-9039-46e9e5a3e3ea"
      },
      "execution_count": 12,
      "outputs": [
        {
          "output_type": "stream",
          "name": "stdout",
          "text": [
            "dim =  300\n"
          ]
        }
      ]
    },
    {
      "cell_type": "code",
      "source": [
        "\n",
        "for w1 in sample_words:\n",
        "  for w2 in sample_words:\n",
        "\n",
        "    print(\"w1=\",w1,\", w2=\",w2,\"\\t\\t\\t  cosine_similarity(w1,w2) = \", cosine_similarity([w2v_google[w1]],[w2v_google[w2]]))"
      ],
      "metadata": {
        "colab": {
          "base_uri": "https://localhost:8080/"
        },
        "id": "h-54ZTQuHFAp",
        "outputId": "e6064cee-2a03-4e70-b3c4-905c29690582"
      },
      "execution_count": 13,
      "outputs": [
        {
          "output_type": "stream",
          "name": "stdout",
          "text": [
            "w1= apple , w2= apple \t\t\t  cosine_similarity(w1,w2) =  [[0.9999999]]\n",
            "w1= apple , w2= pear \t\t\t  cosine_similarity(w1,w2) =  [[0.64506966]]\n",
            "w1= apple , w2= car \t\t\t  cosine_similarity(w1,w2) =  [[0.12830707]]\n",
            "w1= apple , w2= house \t\t\t  cosine_similarity(w1,w2) =  [[0.05334292]]\n",
            "w1= apple , w2= building \t\t\t  cosine_similarity(w1,w2) =  [[0.01450158]]\n",
            "w1= pear , w2= apple \t\t\t  cosine_similarity(w1,w2) =  [[0.64506966]]\n",
            "w1= pear , w2= pear \t\t\t  cosine_similarity(w1,w2) =  [[1.]]\n",
            "w1= pear , w2= car \t\t\t  cosine_similarity(w1,w2) =  [[0.10614194]]\n",
            "w1= pear , w2= house \t\t\t  cosine_similarity(w1,w2) =  [[0.07710931]]\n",
            "w1= pear , w2= building \t\t\t  cosine_similarity(w1,w2) =  [[-0.00473523]]\n",
            "w1= car , w2= apple \t\t\t  cosine_similarity(w1,w2) =  [[0.12830707]]\n",
            "w1= car , w2= pear \t\t\t  cosine_similarity(w1,w2) =  [[0.10614194]]\n",
            "w1= car , w2= car \t\t\t  cosine_similarity(w1,w2) =  [[1.0000001]]\n",
            "w1= car , w2= house \t\t\t  cosine_similarity(w1,w2) =  [[0.39060056]]\n",
            "w1= car , w2= building \t\t\t  cosine_similarity(w1,w2) =  [[0.20123914]]\n",
            "w1= house , w2= apple \t\t\t  cosine_similarity(w1,w2) =  [[0.05334292]]\n",
            "w1= house , w2= pear \t\t\t  cosine_similarity(w1,w2) =  [[0.07710931]]\n",
            "w1= house , w2= car \t\t\t  cosine_similarity(w1,w2) =  [[0.39060056]]\n",
            "w1= house , w2= house \t\t\t  cosine_similarity(w1,w2) =  [[0.9999999]]\n",
            "w1= house , w2= building \t\t\t  cosine_similarity(w1,w2) =  [[0.4378754]]\n",
            "w1= building , w2= apple \t\t\t  cosine_similarity(w1,w2) =  [[0.01450158]]\n",
            "w1= building , w2= pear \t\t\t  cosine_similarity(w1,w2) =  [[-0.00473523]]\n",
            "w1= building , w2= car \t\t\t  cosine_similarity(w1,w2) =  [[0.20123914]]\n",
            "w1= building , w2= house \t\t\t  cosine_similarity(w1,w2) =  [[0.4378754]]\n",
            "w1= building , w2= building \t\t\t  cosine_similarity(w1,w2) =  [[1.]]\n"
          ]
        }
      ]
    },
    {
      "cell_type": "code",
      "source": [
        "print(\"MOST SIMILAR WORDS:\")\n",
        "\n",
        "for w1 in sample_words:\n",
        "  print(w1,\" -> \",w2v_google.most_similar(w1))\n"
      ],
      "metadata": {
        "colab": {
          "base_uri": "https://localhost:8080/"
        },
        "id": "59Ypso9IHOZC",
        "outputId": "a353e225-1c2a-4832-d64a-6d2d95aa995e"
      },
      "execution_count": 14,
      "outputs": [
        {
          "output_type": "stream",
          "name": "stdout",
          "text": [
            "MOST SIMILAR WORDS:\n",
            "apple  ->  [('apples', 0.7203598618507385), ('pear', 0.6450697183609009), ('fruit', 0.6410147547721863), ('berry', 0.6302294135093689), ('pears', 0.613396167755127), ('strawberry', 0.605826199054718), ('peach', 0.6025873422622681), ('potato', 0.5960935354232788), ('grape', 0.5935865640640259), ('blueberry', 0.5866668224334717)]\n",
            "pear  ->  [('pears', 0.7719404101371765), ('apricot', 0.7096841335296631), ('apricots', 0.6913131475448608), ('nectarine', 0.6751577854156494), ('almond', 0.6685435771942139), ('berry', 0.6649978160858154), ('cherries', 0.66241854429245), ('asparagus', 0.6483862400054932), ('apple', 0.6450697183609009), ('melon', 0.6406576037406921)]\n",
            "car  ->  [('vehicle', 0.7821096181869507), ('cars', 0.7423830032348633), ('SUV', 0.7160962820053101), ('minivan', 0.6907036304473877), ('truck', 0.6735790371894836), ('Car', 0.6677609086036682), ('Jeep', 0.6511331796646118), ('scooter', 0.638153076171875), ('sedan', 0.6336702108383179), ('motorcycle', 0.6256054043769836)]\n",
            "house  ->  [('houses', 0.707239031791687), ('bungalow', 0.6878559589385986), ('apartment', 0.6628997325897217), ('bedroom', 0.6496936678886414), ('townhouse', 0.6384078860282898), ('residence', 0.6198421120643616), ('mansion', 0.6058192253112793), ('farmhouse', 0.5857570171356201), ('duplex', 0.5757937431335449), ('homes', 0.5619801878929138)]\n",
            "building  ->  [('buildings', 0.6931759119033813), ('Building', 0.6737184524536133), ('renovating', 0.5804428458213806), ('constructing', 0.550527036190033), ('construction', 0.5331418514251709), ('renovated', 0.5311850309371948), ('demolishing', 0.5298539400100708), ('brick', 0.5241116881370544), ('storey', 0.5215394496917725), ('demolish', 0.5135480761528015)]\n"
          ]
        }
      ]
    },
    {
      "cell_type": "markdown",
      "source": [
        "**Germany - Berlin + Paris = ?**"
      ],
      "metadata": {
        "id": "TNUHHksPHp89"
      }
    },
    {
      "cell_type": "code",
      "source": [
        "print(\"Germany - Berlin + Paris in 'GoogleNewsSLIM': \",w2v_google.most_similar(positive=['Paris','Germany'], negative=['Berlin'], topn = 1))"
      ],
      "metadata": {
        "colab": {
          "base_uri": "https://localhost:8080/"
        },
        "id": "GXqEEs3QHZrr",
        "outputId": "15173ccf-7568-41cf-8a5c-2aaafc3443a6"
      },
      "execution_count": 15,
      "outputs": [
        {
          "output_type": "stream",
          "name": "stdout",
          "text": [
            "Germany - Berlin + Paris in 'GoogleNewsSLIM':  [('France', 0.7884092926979065)]\n"
          ]
        }
      ]
    },
    {
      "cell_type": "markdown",
      "source": [
        "**Germany - Berlin + Warsaw = ?**"
      ],
      "metadata": {
        "id": "3Iz-2Q6aIGB_"
      }
    },
    {
      "cell_type": "code",
      "source": [
        "print(\"Germany - Berlin + Warsaw in 'GoogleNewsSLIM': \",w2v_google.most_similar(positive=['Warsaw','Germany'], negative=['Berlin'], topn = 1))"
      ],
      "metadata": {
        "colab": {
          "base_uri": "https://localhost:8080/"
        },
        "id": "I4zK6VtSCnCa",
        "outputId": "7e1c61ea-730d-49b1-f1c5-69ef2d2464fc"
      },
      "execution_count": 16,
      "outputs": [
        {
          "output_type": "stream",
          "name": "stdout",
          "text": [
            "Germany - Berlin + Warsaw in 'GoogleNewsSLIM':  [('Poland', 0.7386027574539185)]\n"
          ]
        }
      ]
    },
    {
      "cell_type": "code",
      "source": [],
      "metadata": {
        "id": "hTeQ6HjOH9RE"
      },
      "execution_count": 16,
      "outputs": []
    },
    {
      "cell_type": "markdown",
      "source": [
        "# Classification of posts from dataset `20newsgroups`"
      ],
      "metadata": {
        "id": "tn16_M9xcGg4"
      }
    },
    {
      "cell_type": "code",
      "source": [
        "from sklearn.datasets import fetch_20newsgroups\n",
        "\n",
        "# Wczytanie danych treningowych\n",
        "newsgroups_data = fetch_20newsgroups(subset='all', shuffle=True, random_state=42)\n",
        "\n",
        "from sklearn.model_selection import train_test_split\n",
        "\n",
        "X_train, X_test, y_train, y_test = train_test_split(newsgroups_data.data, newsgroups_data.target, test_size=0.25, random_state=42)"
      ],
      "metadata": {
        "id": "dnRauz0Ud__U"
      },
      "execution_count": 30,
      "outputs": []
    },
    {
      "cell_type": "code",
      "source": [
        "\n",
        "\n",
        "label_names = newsgroups_data.target_names\n",
        "\n",
        "# Wyświetlenie przykładowych danych\n",
        "print(\"label_names = \",label_names)\n",
        "print(\"len(label_names) = \",len(label_names))\n",
        "\n",
        "print(\"\\nSample post (from training set): id=0\")\n",
        "print(\"Post class = \",y_train[0], \" -> \", label_names[y_train[0]])\n",
        "print(\"\\n POST: \\n\", X_train[0])"
      ],
      "metadata": {
        "colab": {
          "base_uri": "https://localhost:8080/"
        },
        "id": "r6L3B7-jcNLS",
        "outputId": "d62aa95c-97a5-43c5-ca6d-cbe0517adaae"
      },
      "execution_count": 31,
      "outputs": [
        {
          "output_type": "stream",
          "name": "stdout",
          "text": [
            "label_names =  ['alt.atheism', 'comp.graphics', 'comp.os.ms-windows.misc', 'comp.sys.ibm.pc.hardware', 'comp.sys.mac.hardware', 'comp.windows.x', 'misc.forsale', 'rec.autos', 'rec.motorcycles', 'rec.sport.baseball', 'rec.sport.hockey', 'sci.crypt', 'sci.electronics', 'sci.med', 'sci.space', 'soc.religion.christian', 'talk.politics.guns', 'talk.politics.mideast', 'talk.politics.misc', 'talk.religion.misc']\n",
            "len(label_names) =  20\n",
            "\n",
            "Sample post (from training set): id=0\n",
            "Post class =  8  ->  rec.motorcycles\n",
            "\n",
            " POST:  Subject: Re: Ed must be a Daemon Child!!\n",
            "From: REE700A@MAINE.MAINE.EDU\n",
            " <1993Apr2.003029.1962@adobe.com><1993Apr2.163021.17074@linus.mitre.org>\n",
            "Organization: University of Maine System\n",
            "Lines: 8\n",
            "\n",
            "Ed's heading out on the highway?\n",
            "\n",
            "Did he finally buy a bike or is he a passanger?\n",
            "\n",
            "Jeff Andle   DoD #3005  1976 KZ900     REE700A@MAINE.MAINE.EDU\n",
            "\n",
            "IntermittentNet access arranged through Bowdoin College.  Please reply\n",
            "via e-mail, since a followup might expire before I see the Net again.\n",
            "\n"
          ]
        }
      ]
    },
    {
      "cell_type": "markdown",
      "source": [
        "#Q10.1\n",
        "\n",
        "* Perform PCA to $d=2$ and $d=3$ (plot results) of `x_train` using represantation  `BagOfWords` and `word2vec`, plot each class with different color.\n",
        "\n"
      ],
      "metadata": {
        "id": "k5Pxg3g6fXyc"
      }
    },
    {
      "cell_type": "code",
      "source": [],
      "metadata": {
        "id": "odBUSPY0gh-h"
      },
      "execution_count": 36,
      "outputs": []
    },
    {
      "cell_type": "markdown",
      "source": [
        "#Q10.2\n",
        "* Compare `BagOfWords` and `word2vec` in classifcation task. Train some   classifier on `x_train, y_train`, check results (accuracy) on `x_test, y_test`.\n",
        "* You may compare several classifiers\n",
        "* Try with and without stemming\n"
      ],
      "metadata": {
        "id": "lPDjWzYJgKrA"
      }
    },
    {
      "cell_type": "code",
      "source": [],
      "metadata": {
        "id": "A2TGbPOycOWC"
      },
      "execution_count": null,
      "outputs": []
    }
  ]
}