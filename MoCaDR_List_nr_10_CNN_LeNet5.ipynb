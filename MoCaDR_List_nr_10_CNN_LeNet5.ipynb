{
  "cells": [
    {
      "cell_type": "markdown",
      "metadata": {
        "id": "view-in-github",
        "colab_type": "text"
      },
      "source": [
        "<a href=\"https://colab.research.google.com/github/lorek/MethodsClassDimRed/blob/main/MoCaDR_List_nr_10_CNN_LeNet5.ipynb\" target=\"_parent\"><img src=\"https://colab.research.google.com/assets/colab-badge.svg\" alt=\"Open In Colab\"/></a>"
      ]
    },
    {
      "cell_type": "markdown",
      "source": [
        "**Methods of classification and dimensionality reduction**\n",
        "\n",
        "\n",
        "Paweł Lorek  \n",
        "University of Wrocław\n",
        "\n",
        "# LIST NR 10: CNN -- Convolutional Neural Networks\n",
        "\n",
        "\n",
        "\n",
        " <font face=\"Rage\" size=2  > Updated: 23.05.2025 <font>\n"
      ],
      "metadata": {
        "id": "rEVtJzWwTccH"
      }
    },
    {
      "cell_type": "markdown",
      "source": [
        "**NOTE: THIS SCRIPT IS NOT POLISHED**"
      ],
      "metadata": {
        "id": "4V8YW7eX_1Vi"
      }
    },
    {
      "cell_type": "code",
      "source": [
        "import torch\n",
        "import torch.nn as nn\n",
        "import torch.optim as optim\n",
        "from torch.utils.data import DataLoader, random_split, TensorDataset\n",
        "from torchvision import datasets, transforms\n",
        "import matplotlib.pyplot as plt\n",
        "import time\n",
        "from datetime import datetime"
      ],
      "metadata": {
        "id": "HTBx1h4Kxj9A"
      },
      "execution_count": 1,
      "outputs": []
    },
    {
      "cell_type": "code",
      "source": [
        "!pip install tqdm\n",
        "from tqdm import tqdm"
      ],
      "metadata": {
        "colab": {
          "base_uri": "https://localhost:8080/"
        },
        "id": "dPy5xyq24sxR",
        "outputId": "9663807f-60d9-47d2-87af-42785406ed60"
      },
      "execution_count": 2,
      "outputs": [
        {
          "output_type": "stream",
          "name": "stdout",
          "text": [
            "Requirement already satisfied: tqdm in /usr/local/lib/python3.11/dist-packages (4.67.1)\n"
          ]
        }
      ]
    },
    {
      "cell_type": "code",
      "source": [
        "!pip install torchinfo\n",
        "from torchinfo import summary as torch_summary"
      ],
      "metadata": {
        "colab": {
          "base_uri": "https://localhost:8080/"
        },
        "id": "gV6251Qy0Pbw",
        "outputId": "eb1bed52-394b-4b8c-fc6e-710c30fa7795"
      },
      "execution_count": 3,
      "outputs": [
        {
          "output_type": "stream",
          "name": "stdout",
          "text": [
            "Collecting torchinfo\n",
            "  Downloading torchinfo-1.8.0-py3-none-any.whl.metadata (21 kB)\n",
            "Downloading torchinfo-1.8.0-py3-none-any.whl (23 kB)\n",
            "Installing collected packages: torchinfo\n",
            "Successfully installed torchinfo-1.8.0\n"
          ]
        }
      ]
    },
    {
      "cell_type": "code",
      "source": [
        "from keras import datasets # only to load 28x28 MNIST"
      ],
      "metadata": {
        "id": "168FjxsrxtqF"
      },
      "execution_count": 4,
      "outputs": []
    },
    {
      "cell_type": "code",
      "source": [
        "(x_train, y_train), (x_test, y_test) = datasets.mnist.load_data()\n"
      ],
      "metadata": {
        "id": "q8Q6NTRuuugX",
        "colab": {
          "base_uri": "https://localhost:8080/"
        },
        "outputId": "d5e057e5-aa43-47e0-db0b-af795f3c0d7b"
      },
      "execution_count": 5,
      "outputs": [
        {
          "output_type": "stream",
          "name": "stdout",
          "text": [
            "Downloading data from https://storage.googleapis.com/tensorflow/tf-keras-datasets/mnist.npz\n",
            "\u001b[1m11490434/11490434\u001b[0m \u001b[32m━━━━━━━━━━━━━━━━━━━━\u001b[0m\u001b[37m\u001b[0m \u001b[1m2s\u001b[0m 0us/step\n"
          ]
        }
      ]
    },
    {
      "cell_type": "code",
      "source": [
        "# Convert data to float32 and add channel dimension\n",
        "x_train_torch = torch.tensor(x_train, dtype=torch.float32).unsqueeze(1)  # shape: (N, 1, 28, 28)\n",
        "x_test_torch = torch.tensor(x_test, dtype=torch.float32).unsqueeze(1)\n",
        "\n",
        "# Convert labels to long tensors\n",
        "y_train_torch = torch.tensor(y_train, dtype=torch.long)\n",
        "y_test_torch = torch.tensor(y_test, dtype=torch.long)\n",
        "\n",
        "# Divide by 255 to scale pixel values from [0,255] to [0,1]\n",
        "x_train_torch /= 255.0\n",
        "x_test_torch /= 255.0"
      ],
      "metadata": {
        "id": "CE3dtCsBx_JA"
      },
      "execution_count": 7,
      "outputs": []
    },
    {
      "cell_type": "code",
      "source": [],
      "metadata": {
        "id": "3foaDtrIyHuu"
      },
      "execution_count": null,
      "outputs": []
    },
    {
      "cell_type": "code",
      "source": [
        "plt.figure(figsize=(10, 4))  #\n",
        "for i in range(10):\n",
        "    plt.subplot(2, 5, i + 1)\n",
        "    plt.imshow(x_train[i], cmap='gray')\n",
        "    plt.title(f\"Label: {y_train[i]}\")\n",
        "    plt.axis('off')\n",
        "plt.show()"
      ],
      "metadata": {
        "colab": {
          "base_uri": "https://localhost:8080/",
          "height": 360
        },
        "id": "Hmqkzx9cuui2",
        "outputId": "173835ba-6e15-46e0-f5ef-f09a071c6fac"
      },
      "execution_count": 8,
      "outputs": [
        {
          "output_type": "display_data",
          "data": {
            "text/plain": [
              "<Figure size 1000x400 with 10 Axes>"
            ],
            "image/png": "[encoded data removed]"
          },
          "metadata": {}
        }
      ]
    },
    {
      "cell_type": "code",
      "source": [
        "x_train_main = x_train_torch[:50000]\n",
        "y_train_main = y_train_torch[:50000]\n",
        "\n",
        "x_val = x_train_torch[50000:]\n",
        "y_val = y_train_torch[50000:]"
      ],
      "metadata": {
        "id": "b9ln2YbcyL3F"
      },
      "execution_count": 9,
      "outputs": []
    },
    {
      "cell_type": "markdown",
      "source": [
        "# **Remark: Progress bars with `tqdm`**\n",
        "\n",
        "The `tqdm` library is a simple and powerful tool for adding progress bars to your Python loops.\n",
        "It is especially useful in machine learning to visualize the progress of training or data processing, and helps you quickly estimate how much time remains for a task.\n",
        "\n",
        "Example usage:\n",
        "```python\n",
        "from tqdm import tqdm\n",
        "\n",
        "for i in tqdm(range(100)):\n",
        "    # Your code here\n",
        "    pass\n",
        "```"
      ],
      "metadata": {
        "id": "_UsBHaJS5eDj"
      }
    },
    {
      "cell_type": "code",
      "source": [
        "for i in tqdm(range(100)):\n",
        "    # Your code here\n",
        "    pass"
      ],
      "metadata": {
        "colab": {
          "base_uri": "https://localhost:8080/"
        },
        "id": "91Ns4yig5tpP",
        "outputId": "6a41c9c6-66bd-47be-ed0a-89a6b4e63dd2"
      },
      "execution_count": 10,
      "outputs": [
        {
          "output_type": "stream",
          "name": "stderr",
          "text": [
            "100%|██████████| 100/100 [00:00<00:00, 923855.51it/s]\n"
          ]
        }
      ]
    },
    {
      "cell_type": "markdown",
      "source": [
        "###  TensorDataset and DataLoaders (for batch training)"
      ],
      "metadata": {
        "id": "UCYaHGB1ytaU"
      }
    },
    {
      "cell_type": "code",
      "source": [
        "# Training set (first 50,000 samples)\n",
        "train_dataset = TensorDataset(x_train_main, y_train_main)\n",
        "\n",
        "\n",
        "batch_size = 64\n",
        "\n",
        "train_loader = DataLoader(train_dataset, batch_size=batch_size, shuffle=True)\n",
        "\n"
      ],
      "metadata": {
        "id": "2ZEp6fFUywt7"
      },
      "execution_count": 11,
      "outputs": []
    },
    {
      "cell_type": "markdown",
      "source": [
        "## Simple MLP:"
      ],
      "metadata": {
        "id": "YbpdM3Q-z7Cf"
      }
    },
    {
      "cell_type": "code",
      "source": [
        "# Set device\n",
        "device = torch.device(\"cuda\" if torch.cuda.is_available() else \"cpu\")"
      ],
      "metadata": {
        "id": "lkOSYxnq0EsF"
      },
      "execution_count": 12,
      "outputs": []
    },
    {
      "cell_type": "code",
      "source": [
        "num_classes = 10\n",
        "\n",
        "model_mlp = nn.Sequential(\n",
        "    nn.Flatten(),                  # (batch, 1, 28, 28) -> (batch, 28*28)\n",
        "    nn.Linear(28*28, 256),\n",
        "    nn.ReLU(),\n",
        "    # nn.Dropout(0.2),             # Uncomment to use dropout after first hidden layer\n",
        "    nn.Linear(256, 256),\n",
        "    nn.ReLU(),\n",
        "    #nn.Dropout(0.2),             # Uncomment to use dropout after second hidden layer\n",
        "    nn.Linear(256, num_classes)\n",
        ").to(device)"
      ],
      "metadata": {
        "id": "OTDSL6LDz8-O"
      },
      "execution_count": 13,
      "outputs": []
    },
    {
      "cell_type": "code",
      "source": [
        "torch_summary(model_mlp)"
      ],
      "metadata": {
        "colab": {
          "base_uri": "https://localhost:8080/"
        },
        "id": "sUDop_mMysvc",
        "outputId": "aafac3e6-6710-411c-f121-baa37d6fbfb5"
      },
      "execution_count": 14,
      "outputs": [
        {
          "output_type": "execute_result",
          "data": {
            "text/plain": [
              "=================================================================\n",
              "Layer (type:depth-idx)                   Param #\n",
              "=================================================================\n",
              "Sequential                               --\n",
              "├─Flatten: 1-1                           --\n",
              "├─Linear: 1-2                            200,960\n",
              "├─ReLU: 1-3                              --\n",
              "├─Linear: 1-4                            65,792\n",
              "├─ReLU: 1-5                              --\n",
              "├─Linear: 1-6                            2,570\n",
              "=================================================================\n",
              "Total params: 269,322\n",
              "Trainable params: 269,322\n",
              "Non-trainable params: 0\n",
              "================================================================="
            ]
          },
          "metadata": {},
          "execution_count": 14
        }
      ]
    },
    {
      "cell_type": "code",
      "source": [
        "criterion = nn.CrossEntropyLoss()\n",
        "optimizer = torch.optim.Adam(model_mlp.parameters(), lr=0.001)"
      ],
      "metadata": {
        "id": "a3kJKDGlysx9"
      },
      "execution_count": 15,
      "outputs": []
    },
    {
      "cell_type": "code",
      "source": [
        "# Training loop\n",
        "\n",
        "n_epochs = 20\n",
        "\n",
        "start_time = datetime.now()\n",
        "\n",
        "for epoch in range(n_epochs):\n",
        "    running_loss = 0.0\n",
        "    correct = 0\n",
        "    total = 0\n",
        "\n",
        "    model_mlp.train()\n",
        "    for x_batch, y_batch in train_loader:\n",
        "        x_batch, y_batch = x_batch.to(device), y_batch.to(device)\n",
        "\n",
        "        optimizer.zero_grad()\n",
        "        outputs = model_mlp(x_batch)\n",
        "        loss = criterion(outputs, y_batch)\n",
        "        loss.backward()\n",
        "        optimizer.step()\n",
        "\n",
        "        running_loss += loss.item() * x_batch.size(0)\n",
        "        _, predicted = outputs.max(1)\n",
        "        correct += predicted.eq(y_batch).sum().item()\n",
        "        total += y_batch.size(0)\n",
        "\n",
        "    train_loss = running_loss / total\n",
        "    train_acc = correct / total\n",
        "    print(\"Epoch: \",epoch+1, \"/\", n_epochs, \", \\t loss = \\t\",train_loss)\n",
        "time_elapsed = datetime.now() - start_time\n",
        "print('TRAINING TIME (hh:mm:ss.ms) {}'.format(time_elapsed))"
      ],
      "metadata": {
        "colab": {
          "base_uri": "https://localhost:8080/"
        },
        "id": "xXztqrJ2ys01",
        "outputId": "1b877142-9e62-49be-b726-95df52752c68"
      },
      "execution_count": 16,
      "outputs": [
        {
          "output_type": "stream",
          "name": "stdout",
          "text": [
            "Epoch:  1 / 20 , \t loss = \t 0.29008130910873414\n",
            "Epoch:  2 / 20 , \t loss = \t 0.10920051732897758\n",
            "Epoch:  3 / 20 , \t loss = \t 0.07331924453377724\n",
            "Epoch:  4 / 20 , \t loss = \t 0.053311147002279756\n",
            "Epoch:  5 / 20 , \t loss = \t 0.03952064248666167\n",
            "Epoch:  6 / 20 , \t loss = \t 0.02950546621380374\n",
            "Epoch:  7 / 20 , \t loss = \t 0.025277097506187857\n",
            "Epoch:  8 / 20 , \t loss = \t 0.02209237180579454\n",
            "Epoch:  9 / 20 , \t loss = \t 0.019965752528044396\n",
            "Epoch:  10 / 20 , \t loss = \t 0.014009967137894128\n",
            "Epoch:  11 / 20 , \t loss = \t 0.014023789367522113\n",
            "Epoch:  12 / 20 , \t loss = \t 0.012085441224856767\n",
            "Epoch:  13 / 20 , \t loss = \t 0.016555786262417677\n",
            "Epoch:  14 / 20 , \t loss = \t 0.010600947609960568\n",
            "Epoch:  15 / 20 , \t loss = \t 0.010778043860166217\n",
            "Epoch:  16 / 20 , \t loss = \t 0.010427558618187031\n",
            "Epoch:  17 / 20 , \t loss = \t 0.009994212741167576\n",
            "Epoch:  18 / 20 , \t loss = \t 0.008047028155626613\n",
            "Epoch:  19 / 20 , \t loss = \t 0.008218005578375888\n",
            "Epoch:  20 / 20 , \t loss = \t 0.010917205344221293\n",
            "TRAINING TIME (hh:mm:ss.ms) 0:00:40.080114\n"
          ]
        }
      ]
    },
    {
      "cell_type": "code",
      "source": [
        "# Test set, loader:\n",
        "test_dataset = TensorDataset(x_test_torch, y_test_torch)\n",
        "test_loader = DataLoader(test_dataset, batch_size=batch_size, shuffle=False)"
      ],
      "metadata": {
        "id": "HTIeVEjPllC9"
      },
      "execution_count": 17,
      "outputs": []
    },
    {
      "cell_type": "code",
      "source": [
        "# After training is finished\n",
        "model_mlp.eval()  # Set the model to evaluation mode (turns off dropout/batchnorm)\n",
        "\n",
        "test_loss = 0.0\n",
        "test_correct = 0\n",
        "test_total = 0\n",
        "\n",
        "with torch.no_grad():  # Disable gradient calculation (saves memory, faster)\n",
        "    for x_batch, y_batch in test_loader:\n",
        "        x_batch, y_batch = x_batch.to(device), y_batch.to(device)\n",
        "        outputs = model_mlp(x_batch)  # Forward pass\n",
        "        loss = criterion(outputs, y_batch)  # Calculate loss\n",
        "        test_loss += loss.item() * x_batch.size(0)  # Sum total loss\n",
        "        _, predicted = outputs.max(1)  # Get predicted class\n",
        "        test_correct += predicted.eq(y_batch).sum().item()  # Count correct predictions\n",
        "        test_total += y_batch.size(0)  # Count total samples\n",
        "\n",
        "test_loss /= test_total  # Average loss per sample\n",
        "test_acc = test_correct / test_total  # Accuracy\n",
        "\n",
        "print(f\"Test Loss: {test_loss:.4f} | Test Accuracy: {test_acc:.4f}\")\n"
      ],
      "metadata": {
        "colab": {
          "base_uri": "https://localhost:8080/"
        },
        "id": "yhktVqbMl2nn",
        "outputId": "cb731af2-c237-47dd-86ba-f74d5873ca47"
      },
      "execution_count": 18,
      "outputs": [
        {
          "output_type": "stream",
          "name": "stdout",
          "text": [
            "Test Loss: 0.1275 | Test Accuracy: 0.9793\n"
          ]
        }
      ]
    },
    {
      "cell_type": "markdown",
      "source": [
        "# Convolutional Neural Network (CNN)"
      ],
      "metadata": {
        "id": "AYpZS87A39Fg"
      }
    },
    {
      "cell_type": "markdown",
      "source": [
        "![Conv2D](https://miro.medium.com/v2/resize:fit:1100/format:webp/1*ulfFYH5HbWpLTIfuebj5mQ.gif)"
      ],
      "metadata": {
        "id": "Zhj2yes36bbg"
      }
    },
    {
      "cell_type": "markdown",
      "source": [
        "## Convolutional Layer: `nn.Conv2d`\n",
        "\n",
        "The **2D convolution layer (Conv2D)** is the fundamental building block of a CNN. It applies a set of learnable filters (kernels) to the input image, sliding over the image spatially to produce feature maps.\n",
        "\n",
        "**Mathematically:**\n",
        "\n",
        "Given an input image $x$ of size $h \\times w$ and a filter $f$ of size $k_h \\times k_w$:\n",
        "\n",
        "$$\n",
        "y_{i, j} = \\sum_{m=0}^{k_h-1} \\sum_{n=0}^{k_w-1} x_{i \\cdot s_h + m - p_h,\\, j \\cdot s_w + n - p_w} \\cdot f_{m, n}\n",
        "$$\n",
        "\n",
        "where:\n",
        "- $s_h, s_w$ are the vertical and horizontal **strides**,\n",
        "- $p_h, p_w$ are the vertical and horizontal **padding** amounts.\n",
        "\n",
        "**Key parameters:**\n",
        "- **Kernel size**: The size of the filter, e.g. $3 \\times 3$ or $5 \\times 5$.\n",
        "- **Stride** ($s$): How many pixels the filter moves at each step.\n",
        "    - Default: $s=1$ (moves 1 pixel at a time).\n",
        "    - Larger stride ($s>1$) downsamples the output.\n",
        "- **Padding** ($p$): The number of zeros added to the border of the input.\n",
        "    - **No padding** ($p=0$): Output shrinks after convolution.\n",
        "    - **Same padding** (often $p = \\frac{k-1}{2}$): Output size is preserved.\n",
        "\n",
        "**Output size formula:**\n",
        "\n",
        "For input size $(h_\\text{in}, w_\\text{in})$, kernel size $(k_h, k_w)$, stride $(s_h, s_w)$, and padding $(p_h, p_w)$:\n",
        "$$\n",
        "h_\\text{out} = \\left\\lfloor \\frac{h_\\text{in} + 2p_h - k_h}{s_h} \\right\\rfloor + 1\n",
        "$$\n",
        "$$\n",
        "w_\\text{out} = \\left\\lfloor \\frac{w_\\text{in} + 2p_w - k_w}{s_w} \\right\\rfloor + 1\n",
        "$$\n",
        "\n",
        "**PyTorch command:**\n",
        "\n",
        "\n",
        "\n",
        "\n",
        "```python\n",
        "nn.Conv2d(in_channels, out_channels, kernel_size, stride=1, padding=0)\n",
        "```\n",
        "\n",
        "- `in_channels`: Number of input channels (e.g., 1 for grayscale, 3 for RGB).\n",
        "- `out_channels`: Number of output feature maps (filters).\n",
        "- `kernel_size`: Tuple or int, e.g., 3 or (3, 3).\n",
        "- `stride`: Tuple or int, e.g., 1 or (2, 2).\n",
        "- `padding`: Tuple or int, e.g., 0 or (1, 1).\n",
        "\n",
        "**Examples:**\n",
        "```python\n",
        "nn.Conv2d(1, 6, kernel_size=5, stride=1, padding=0) # classic LeNet\n",
        "nn.Conv2d(3, 32, kernel_size=3, stride=2, padding=1) # stride and padding\n",
        "```\n"
      ],
      "metadata": {
        "id": "Kol21cgC4OfU"
      }
    },
    {
      "cell_type": "markdown",
      "source": [
        "**Padding = 1**\n",
        "\n",
        "![Padding](https://raw.githubusercontent.com/lorek/datasets/refs/heads/master/cnn_pics/cnn_padding.png)"
      ],
      "metadata": {
        "id": "ymMp3k7GkHwZ"
      }
    },
    {
      "cell_type": "markdown",
      "source": [
        "**Stride = 2**\n",
        "\n",
        "![Stride](https://raw.githubusercontent.com/lorek/datasets/refs/heads/master/cnn_pics/cnn_stride.png)\n",
        "\n",
        "\n",
        "\n"
      ],
      "metadata": {
        "id": "heZnWwYSkgKj"
      }
    },
    {
      "cell_type": "markdown",
      "source": [
        "### Example of 5x5 \"Image\" (grayscale) and 3x3 Kernel.\n",
        "Let's imagine a $5 \\times 5$ grayscale input and a $3 \\times 3$ filter.\n",
        "The Conv2d operation (with no padding and stride=1) will slide the kernel over the input, as shown in the animation.\n",
        "\n",
        "**Input Image Example:** (Just an example. The numbers are arbitrary.)\n",
        "\n",
        "```\n",
        "[ 0 0 0 0 0 ]\n",
        "[ 0 1 2 3 0 ]\n",
        "[ 0 4 5 6 0 ]\n",
        "[ 0 7 8 9 0 ]\n",
        "[ 0 0 0 0 0 ]\n",
        "```\n",
        "\n",
        "**Kernel Example:**\n",
        "\n",
        "```\n",
        "[ k11 k12 k13 ]\n",
        "[ k21 k22 k23 ]\n",
        "[ k31 k32 k33 ]\n",
        "```\n",
        "\n",
        "**Manual Calculation of Trainable Parameters**\n",
        "\n",
        "For a Conv2d layer:\n",
        "\n",
        "- **Each filter (kernel) has size** $k_h \\times k_w$.\n",
        "- **Each filter also has one bias parameter.**\n",
        "- **If there are $C_\\text{in}$ input channels and $C_\\text{out}$ output channels (filters):**\n",
        "\n",
        "$$\n",
        "\\text{Trainable parameters} = C_\\text{out} \\times (C_\\text{in} \\times k_h \\times k_w + 1)\n",
        "$$\n",
        "\n",
        "For our specific case:\n",
        "- $C_\\text{in} = 1$ (grayscale input)\n",
        "- $C_\\text{out} = 1$ (one output channel / filter)\n",
        "- $k_h = 3$, $k_w = 3$\n",
        "\n",
        "So:\n",
        "\n",
        "$$\n",
        "\\text{Trainable parameters} = 1 \\times (1 \\times 3 \\times 3 + 1) = 1 \\times (9 + 1) = 10\n",
        "$$\n",
        "\n",
        "**Therefore, there are 10 trainable parameters (9 weights + 1 bias) in this Conv2d layer.**\n"
      ],
      "metadata": {
        "id": "EdeBenBk7oyQ"
      }
    },
    {
      "cell_type": "markdown",
      "source": [
        "Sanity check: implement above example and display summary:"
      ],
      "metadata": {
        "id": "xz-Y1KVe8Vtc"
      }
    },
    {
      "cell_type": "code",
      "source": [
        "# Define the Conv2d layer: 1 input channel, 1 output channel, kernel 3x3\n",
        "conv = nn.Conv2d(in_channels=1, out_channels=1, kernel_size=3, stride=1, padding=0)\n",
        "\n",
        "# Input shape: (batch_size, channels, height, width)\n",
        "input_shape = (1, 1, 5, 5)\n",
        "\n",
        "# Print summary\n",
        "torch_summary(conv, input_size=input_shape)"
      ],
      "metadata": {
        "colab": {
          "base_uri": "https://localhost:8080/"
        },
        "id": "-KthQyT567Ad",
        "outputId": "d351097c-1e03-4b91-e36e-9423555fb9c3"
      },
      "execution_count": 19,
      "outputs": [
        {
          "output_type": "execute_result",
          "data": {
            "text/plain": [
              "==========================================================================================\n",
              "Layer (type:depth-idx)                   Output Shape              Param #\n",
              "==========================================================================================\n",
              "Conv2d                                   [1, 1, 3, 3]              10\n",
              "==========================================================================================\n",
              "Total params: 10\n",
              "Trainable params: 10\n",
              "Non-trainable params: 0\n",
              "Total mult-adds (Units.MEGABYTES): 0.00\n",
              "==========================================================================================\n",
              "Input size (MB): 0.00\n",
              "Forward/backward pass size (MB): 0.00\n",
              "Params size (MB): 0.00\n",
              "Estimated Total Size (MB): 0.00\n",
              "=========================================================================================="
            ]
          },
          "metadata": {},
          "execution_count": 19
        }
      ]
    },
    {
      "cell_type": "code",
      "source": [],
      "metadata": {
        "id": "nOoczCLE4NiF"
      },
      "execution_count": null,
      "outputs": []
    },
    {
      "cell_type": "markdown",
      "source": [
        "# Average and Max Pooling\n",
        "\n",
        "![Pooling](https://raw.githubusercontent.com/lorek/datasets/refs/heads/master/cnn_pics/cnn_pooling.png)\n"
      ],
      "metadata": {
        "id": "lygqDUUc2fAq"
      }
    },
    {
      "cell_type": "markdown",
      "source": [
        "## Average Pooling (`nn.AvgPool2d`)\n",
        "\n",
        "**Average pooling** is an operation that reduces the spatial size of the feature maps by computing the average value within each non-overlapping window (patch) of the input.\n",
        "\n",
        "Given a feature map $x$ and a pooling window of size $k \\times k$ (stride $s$):\n",
        "\n",
        "$$\n",
        "y_{i, j} = \\frac{1}{k^2} \\sum_{m=0}^{k-1} \\sum_{n=0}^{k-1} x_{s \\cdot i + m,\\, s \\cdot j + n}\n",
        "$$\n",
        "\n",
        "- **PyTorch command:**  \n",
        "  `nn.AvgPool2d(kernel_size, stride)`\n",
        "\n",
        "- **Example:**  \n",
        "  `nn.AvgPool2d(kernel_size=2, stride=2)`\n",
        "\n",
        "---\n",
        "\n",
        "## Max Pooling (`nn.MaxPool2d`)\n",
        "\n",
        "**Max pooling** is an operation that reduces the spatial size of the feature maps by taking the maximum value within each non-overlapping window (patch) of the input.\n",
        "\n",
        "Given a feature map $x$ and a pooling window of size $k \\times k$ (stride $s$):\n",
        "\n",
        "$$\n",
        "y_{i, j} = \\max_{0 \\leq m < k} \\max_{0 \\leq n < k} x_{s \\cdot i + m,\\, s \\cdot j + n}\n",
        "$$\n",
        "\n",
        "- **PyTorch command:**  \n",
        "  `nn.MaxPool2d(kernel_size, stride)`\n",
        "\n",
        "- **Example:**  \n",
        "  `nn.MaxPool2d(kernel_size=2, stride=2)`\n"
      ],
      "metadata": {
        "id": "jWID5TBMldvp"
      }
    },
    {
      "cell_type": "markdown",
      "source": [
        "## Dropout (`nn.Dropout`)\n",
        "\n",
        "![Pooling](https://raw.githubusercontent.com/lorek/datasets/refs/heads/master/cnn_pics/dropout.gif)\n",
        "\n",
        "\n",
        "![Pooling](https://raw.githubusercontent.com/lorek/datasets/refs/heads/master/cnn_pics/dropout1.png)\n",
        "\n",
        "\n",
        "**Dropout** is a regularization technique used to reduce overfitting in neural networks. During training, dropout randomly sets a fraction $p$ of the input units to zero at each update, which helps prevent the network from relying too heavily on any particular neuron.\n",
        "\n",
        "- At each training step, each neuron is kept with probability $1-p$ (where $p$ is the dropout rate).\n",
        "- During evaluation (inference), dropout is not applied; all units are used, but their outputs are scaled appropriately.\n",
        "\n",
        "**Mathematically:**\n",
        "\n",
        "For a layer input $x$ and dropout rate $p$:\n",
        "\n",
        "$$\n",
        "\\tilde{x}_i =\n",
        "\\begin{cases}\n",
        "0 & \\text{with probability } p \\\\\n",
        "\\frac{x_i}{1-p} & \\text{with probability } 1-p\n",
        "\\end{cases}\n",
        "$$\n",
        "\n",
        "- This scaling ensures the expected value of the input remains the same during training and evaluation.\n",
        "\n",
        "**PyTorch command:**  \n",
        "`nn.Dropout(p)`\n",
        "\n",
        "- `p`: probability of an element to be zeroed (dropout rate).\n",
        "\n",
        "**Example:**  \n",
        "`nn.Dropout(0.5)`  # 50% dropout rate\n",
        "\n",
        "---\n",
        "\n",
        "*Typical values of $p$ are 0.2–0.5. Dropout is usually applied after activation functions (e.g., ReLU) in fully connected or convolutional layers.*\n",
        "\n"
      ],
      "metadata": {
        "id": "dMw5PFwOmFiO"
      }
    },
    {
      "cell_type": "markdown",
      "source": [],
      "metadata": {
        "id": "l-GIlg3OoMI8"
      }
    },
    {
      "cell_type": "code",
      "source": [],
      "metadata": {
        "id": "w33t5pZ0oLdc"
      },
      "execution_count": null,
      "outputs": []
    },
    {
      "cell_type": "markdown",
      "source": [
        "# AlexNet"
      ],
      "metadata": {
        "id": "mXJWwfCVospH"
      }
    },
    {
      "cell_type": "markdown",
      "source": [
        "\n",
        "![AlexNet](https://raw.githubusercontent.com/lorek/datasets/refs/heads/master/cnn_pics/LeNet5_MNIST28x28c.png)"
      ],
      "metadata": {
        "id": "ToQeKTpEq0Jt"
      }
    },
    {
      "cell_type": "markdown",
      "source": [
        "## Let's break it down: Layer-by-layer correspondence: LeNet-5\n",
        "\n",
        "1. **Input:**  \n",
        "   $28 \\times 28$ grayscale image (e.g., MNIST).\n",
        "\n",
        "2. **First Conv2D:**  \n",
        "   `nn.Conv2d(1, 6, 5)`  \n",
        "   - **Input:** $28 \\times 28$\n",
        "   - **Output:** $6$ feature maps of $24 \\times 24$  \n",
        "     (since $28 - 5 + 1 = 24$)\n",
        "   - **Activation:** `nn.Tanh()`\n",
        "\n",
        "3. **First Average Pooling:**  \n",
        "   `nn.AvgPool2d(2)`  \n",
        "   - **Output:** $6$ feature maps of $12 \\times 12$\n",
        "\n",
        "4. **Second Conv2D:**  \n",
        "   `nn.Conv2d(6, 16, 5)`  \n",
        "   - **Output:** $16$ feature maps of $8 \\times 8$  \n",
        "     (since $12 - 5 + 1 = 8$)\n",
        "   - **Activation:** `nn.Tanh()`\n",
        "\n",
        "5. **Second Average Pooling:**  \n",
        "   `nn.AvgPool2d(2)`  \n",
        "   - **Output:** $16$ feature maps of $4 \\times 4$\n",
        "\n",
        "6. **Flatten:**  \n",
        "   $16 \\times 4 \\times 4 = 256$ features\n",
        "\n",
        "7. **Dense/Linear layers:**  \n",
        "   - `nn.Linear(256, 120)`, `nn.Tanh()`\n",
        "   - `nn.Linear(120, 84)`, `nn.Tanh()`\n",
        "   - `nn.Linear(84, 10)` (outputs: logits for 10 classes)\n",
        "\n",
        "---\n",
        "\n",
        "- **No softmax at the end:** In PyTorch, use `nn.CrossEntropyLoss`, which includes softmax internally.\n",
        "- **This structure matches the classic LeNet-5 architecture and your provided diagram.**\n"
      ],
      "metadata": {
        "id": "KfMNKrSzq4p1"
      }
    },
    {
      "cell_type": "markdown",
      "source": [
        "\n"
      ],
      "metadata": {
        "id": "wNHxod6-lYNh"
      }
    },
    {
      "cell_type": "code",
      "source": [
        "\n",
        "LeNet5_Model = nn.Sequential(\n",
        "    nn.Conv2d(in_channels=1, out_channels=6, kernel_size=5),  # First convolution\n",
        "    nn.Tanh(),                        # Activation\n",
        "    nn.AvgPool2d(kernel_size=2),      # Subsampling (pooling)\n",
        "    nn.Conv2d(in_channels=6, out_channels=16, kernel_size=5), # Second convolution\n",
        "    nn.Tanh(),\n",
        "    nn.AvgPool2d(kernel_size=2),\n",
        "    nn.Flatten(),                     # Flatten feature maps into a vector\n",
        "    nn.Linear(16*4*4, 120),           # First fully connected layer\n",
        "    nn.Tanh(),\n",
        "    nn.Linear(120, 84),               # Second fully connected layer\n",
        "    nn.Tanh(),\n",
        "    nn.Linear(84, 10)                 # Output layer (10 classes, no Softmax)\n",
        ")\n"
      ],
      "metadata": {
        "id": "_ObDlPtylXQq"
      },
      "execution_count": 20,
      "outputs": []
    },
    {
      "cell_type": "code",
      "source": [
        "torch_summary(LeNet5_Model)"
      ],
      "metadata": {
        "id": "94PG3sgWucFP",
        "colab": {
          "base_uri": "https://localhost:8080/"
        },
        "outputId": "f99ee8e8-de68-420a-cd01-9f109abd5747"
      },
      "execution_count": null,
      "outputs": [
        {
          "output_type": "execute_result",
          "data": {
            "text/plain": [
              "=================================================================\n",
              "Layer (type:depth-idx)                   Param #\n",
              "=================================================================\n",
              "Sequential                               --\n",
              "├─Conv2d: 1-1                            156\n",
              "├─Tanh: 1-2                              --\n",
              "├─AvgPool2d: 1-3                         --\n",
              "├─Conv2d: 1-4                            2,416\n",
              "├─Tanh: 1-5                              --\n",
              "├─AvgPool2d: 1-6                         --\n",
              "├─Flatten: 1-7                           --\n",
              "├─Linear: 1-8                            30,840\n",
              "├─Tanh: 1-9                              --\n",
              "├─Linear: 1-10                           10,164\n",
              "├─Tanh: 1-11                             --\n",
              "├─Linear: 1-12                           850\n",
              "=================================================================\n",
              "Total params: 44,426\n",
              "Trainable params: 44,426\n",
              "Non-trainable params: 0\n",
              "================================================================="
            ]
          },
          "metadata": {},
          "execution_count": 19
        }
      ]
    },
    {
      "cell_type": "markdown",
      "source": [
        "**Notes**\n",
        "* In PyTorch, *do not add* `nn.Softmax` *as the last layer* if you use `nn.CrossEntropyLoss`, because it applies `LogSoftmax` internally.\n",
        "\n",
        "* For classic LeNet-5 with `28x28` images and no padding, the final feature map size before the `Linear` layer is $16 \\times 4 \\times 4$.\n",
        "\n",
        "* If your image size is different, adjust the `nn.Linear` input features accordingly."
      ],
      "metadata": {
        "id": "ByshbvmRqgyb"
      }
    },
    {
      "cell_type": "code",
      "source": [
        "\n",
        "\n",
        "\n",
        "n_epochs = 5\n",
        "\n",
        "\n",
        "# Choose loss function (for classification with logits)\n",
        "criterion = nn.CrossEntropyLoss()\n",
        "\n",
        "# Choose optimizer and tell it to optimize all parameters in LeNet5_Model\n",
        "# Adam optimizer:\n",
        "optimizer_LeNet5 = optim.Adam(LeNet5_Model.parameters(), lr=0.001)\n",
        "\n",
        "\n",
        "start_time = datetime.now()\n",
        "\n",
        "for epoch in range(n_epochs):\n",
        "    running_loss = 0.0\n",
        "    correct = 0\n",
        "    total = 0\n",
        "\n",
        "    LeNet5_Model.train()\n",
        "    for x_batch, y_batch in train_loader:\n",
        "        x_batch, y_batch = x_batch.to(device), y_batch.to(device)\n",
        "\n",
        "        optimizer_LeNet5.zero_grad()\n",
        "        outputs = LeNet5_Model(x_batch)\n",
        "        loss = criterion(outputs, y_batch)\n",
        "        loss.backward()\n",
        "        optimizer_LeNet5.step()\n",
        "\n",
        "        running_loss += loss.item() * x_batch.size(0)\n",
        "        _, predicted = outputs.max(1)\n",
        "        correct += predicted.eq(y_batch).sum().item()\n",
        "        total += y_batch.size(0)\n",
        "\n",
        "    train_loss = running_loss / total\n",
        "    train_acc = correct / total\n",
        "    print(\"Epoch: \", epoch+1, \"/\", n_epochs, \", \\t loss = \\t\", train_loss)\n",
        "time_elapsed = datetime.now() - start_time\n",
        "print('TRAINING TIME (hh:mm:ss.ms) {}'.format(time_elapsed))"
      ],
      "metadata": {
        "colab": {
          "base_uri": "https://localhost:8080/"
        },
        "id": "ZeP5atoNnEhp",
        "outputId": "f3c0cc36-d959-435a-cf91-1a9d582cd600"
      },
      "execution_count": null,
      "outputs": [
        {
          "output_type": "stream",
          "name": "stdout",
          "text": [
            "Epoch:  1 / 5 , \t loss = \t 0.3429482515025139\n",
            "Epoch:  2 / 5 , \t loss = \t 0.10969357136249543\n",
            "Epoch:  3 / 5 , \t loss = \t 0.07523882004082202\n",
            "Epoch:  4 / 5 , \t loss = \t 0.05657168304763734\n",
            "Epoch:  5 / 5 , \t loss = \t 0.047069279798567294\n",
            "TRAINING TIME (hh:mm:ss.ms) 0:01:02.739435\n"
          ]
        }
      ]
    },
    {
      "cell_type": "code",
      "source": [
        "# After training is finished\n",
        "LeNet5_Model.eval()  # Set the model to evaluation mode (turns off dropout/batchnorm)\n",
        "\n",
        "test_loss = 0.0\n",
        "test_correct = 0\n",
        "test_total = 0\n",
        "\n",
        "with torch.no_grad():  # Disable gradient calculation (saves memory, faster)\n",
        "    for x_batch, y_batch in test_loader:\n",
        "        x_batch, y_batch = x_batch.to(device), y_batch.to(device)\n",
        "        outputs = LeNet5_Model(x_batch)  # Forward pass\n",
        "        loss = criterion(outputs, y_batch)  # Calculate loss\n",
        "        test_loss += loss.item() * x_batch.size(0)  # Sum total loss\n",
        "        _, predicted = outputs.max(1)  # Get predicted class\n",
        "        test_correct += predicted.eq(y_batch).sum().item()  # Count correct predictions\n",
        "        test_total += y_batch.size(0)  # Count total samples\n",
        "\n",
        "test_loss /= test_total  # Average loss per sample\n",
        "test_acc = test_correct / test_total  # Accuracy\n",
        "\n",
        "print(f\"Test Loss: {test_loss:.4f} | Test Accuracy: {test_acc:.4f}\")\n"
      ],
      "metadata": {
        "colab": {
          "base_uri": "https://localhost:8080/"
        },
        "id": "rEqNc7unnr1A",
        "outputId": "d118f9ea-3c30-42b3-9ec6-edf05a8c5291"
      },
      "execution_count": null,
      "outputs": [
        {
          "output_type": "stream",
          "name": "stdout",
          "text": [
            "Test Loss: 0.0507 | Test Accuracy: 0.9839\n"
          ]
        }
      ]
    },
    {
      "cell_type": "markdown",
      "source": [
        "**^^ Better accuracy, shorter training time, fewer parameters (~44k vs ~270k for model_mlp) !!!**"
      ],
      "metadata": {
        "id": "kT96mz8NnxE9"
      }
    },
    {
      "cell_type": "code",
      "source": [],
      "metadata": {
        "id": "6PVJ2GYdpgIv"
      },
      "execution_count": null,
      "outputs": []
    },
    {
      "cell_type": "markdown",
      "source": [],
      "metadata": {
        "id": "QMCfkAHlpgU2"
      }
    },
    {
      "cell_type": "markdown",
      "source": [
        "#Q10.1 **CNN for CIFAR10 Dataset**\n",
        "\n",
        "**Q10.1 STARTS**"
      ],
      "metadata": {
        "id": "ZSOLKmm6__XC"
      }
    },
    {
      "cell_type": "code",
      "source": [
        "import torch\n",
        "import torchvision\n",
        "import matplotlib.pyplot as plt\n",
        "import numpy as np\n",
        "\n",
        "\n",
        "import torchvision\n",
        "import torchvision.transforms as transforms\n",
        "\n",
        "# CIFAR-10 class names\n",
        "classes = ['airplane', 'automobile', 'bird', 'cat', 'deer',\n",
        "           'dog', 'frog', 'horse', 'ship', 'truck']\n",
        "\n",
        "#load dataset\n",
        "trainset = torchvision.datasets.CIFAR10(root='./data', train=True, download=True, transform=None)\n",
        "testset = torchvision.datasets.CIFAR10(root='./data', train=False, download=True, transform=None)\n"
      ],
      "metadata": {
        "id": "73LJ5gMGAALI"
      },
      "execution_count": null,
      "outputs": []
    },
    {
      "cell_type": "code",
      "source": [
        "# Convert trainset to NumPy arrays\n",
        "x_train = np.stack([np.array(img) for img, _ in trainset])  # shape: (50000, 32, 32, 3)\n",
        "y_train = np.array([label for _, label in trainset])        # shape: (50000,)\n",
        "\n",
        "# Convert testset to NumPy arrays\n",
        "x_test = np.stack([np.array(img) for img, _ in testset])    # shape: (10000, 32, 32, 3)\n",
        "y_test = np.array([label for _, label in testset])          # shape: (10000,)\n",
        "\n"
      ],
      "metadata": {
        "id": "FVgVjvRxq_ps"
      },
      "execution_count": null,
      "outputs": []
    },
    {
      "cell_type": "code",
      "source": [],
      "metadata": {
        "id": "89TbxNa2rDjL"
      },
      "execution_count": null,
      "outputs": []
    },
    {
      "cell_type": "code",
      "source": [
        "# Display 6 images with class names (from trainset)\n",
        "plt.figure(figsize=(10, 2))\n",
        "for i in range(10):\n",
        "    img_np = x_train[i] / 255.0  # Scale to [0, 1] for matplotlib\n",
        "    plt.subplot(1, 10, i + 1)\n",
        "    plt.imshow(img_np)\n",
        "    plt.title(classes[y_train[i]])\n",
        "    plt.axis('off')\n",
        "plt.tight_layout()\n",
        "plt.show()"
      ],
      "metadata": {
        "colab": {
          "base_uri": "https://localhost:8080/",
          "height": 142
        },
        "id": "h60576bLqYku",
        "outputId": "51f0cee9-7998-42c3-e781-2c794b9431ff"
      },
      "execution_count": null,
      "outputs": [
        {
          "output_type": "display_data",
          "data": {
            "text/plain": [
              "<Figure size 1000x200 with 10 Axes>"
            ],
            "image/png": "[encoded data removed]"
          },
          "metadata": {}
        }
      ]
    },
    {
      "cell_type": "code",
      "source": [
        "# Convert to torch tensors and move color channel to dimension 1\n",
        "x_train_torch = torch.tensor(x_train, dtype=torch.float32).permute(0, 3, 1, 2) / 255.0  # (N, 3, 32, 32)\n",
        "x_test_torch  = torch.tensor(x_test,  dtype=torch.float32).permute(0, 3, 1, 2) / 255.0\n",
        "\n",
        "y_train_torch = torch.tensor(y_train, dtype=torch.long)\n",
        "y_test_torch  = torch.tensor(y_test,  dtype=torch.long)"
      ],
      "metadata": {
        "id": "5UgDCXDAqhqQ"
      },
      "execution_count": null,
      "outputs": []
    },
    {
      "cell_type": "code",
      "source": [
        "x_train[0].shape #32x32 image, 3 channels"
      ],
      "metadata": {
        "colab": {
          "base_uri": "https://localhost:8080/"
        },
        "id": "bDCm9XsrrgKb",
        "outputId": "f811e922-e9da-40d7-d61e-5a9ff5a00a68"
      },
      "execution_count": null,
      "outputs": [
        {
          "output_type": "execute_result",
          "data": {
            "text/plain": [
              "(32, 32, 3)"
            ]
          },
          "metadata": {},
          "execution_count": 34
        }
      ]
    },
    {
      "cell_type": "code",
      "source": [
        "# Create DataLoaders\n",
        "from torch.utils.data import TensorDataset, DataLoader\n",
        "\n",
        "batch_size = 64\n",
        "\n",
        "train_dataset = TensorDataset(x_train_torch, y_train_torch)\n",
        "test_dataset = TensorDataset(x_test_torch, y_test_torch)\n",
        "\n",
        "train_loader = DataLoader(train_dataset, batch_size=batch_size, shuffle=True)\n",
        "test_loader  = DataLoader(test_dataset,  batch_size=batch_size, shuffle=False)"
      ],
      "metadata": {
        "id": "SSoBUkGWraFk"
      },
      "execution_count": null,
      "outputs": []
    },
    {
      "cell_type": "markdown",
      "source": [
        "**TASK**\n",
        "\n",
        "\n",
        "\n",
        "Use the classic LeNet-5 convolutional neural network to classify images from the CIFAR-10 dataset.\n",
        "\n",
        "### Instructions\n",
        "\n",
        "1. **Modify LeNet-5:**  \n",
        "   Adapt the classic LeNet-5 architecture to work with CIFAR-10 images (32x32 RGB):\n",
        "\n",
        "   - Change the first convolutional layer so it accepts color images: set `in_channels=3`.\n",
        "   - Update the first fully connected (linear) layer. Its input dimension must match the output size after all convolution and pooling layers:  \n",
        "     Replace `nn.Linear(16*4*4, 120)` with `nn.Linear(16*r*r, 120)`, where you must compute `r` based on the CIFAR-10 image size (32x32).  \n",
        "     **Hint:** `r` is the width/height of the feature map after both convolution and pooling operations.\n",
        "   - Call your model `LeNet5_Model_color`.\n",
        "\n",
        "2. **Train and Test:**  \n",
        "   - Train your network using the provided `train_loader` (CIFAR-10 training set).\n",
        "   - Evaluate your model on `test_loader` (CIFAR-10 test set) and print test accuracy and loss.\n",
        "\n",
        "**Remarks**\n",
        "   - `CIFAR-10` dataset is more challenging than MNIST, you can expect LeNet5 will yield accuracy 50%-60%\n",
        "   - For best models for `CIFAR-10` see [https://paperswithcode.com/sota/image-classification-on-cifar-10](https://paperswithcode.com/sota/image-classification-on-cifar-10)\n",
        "\n",
        "**Hints:**  \n",
        "- Use `nn.CrossEntropyLoss` as your loss function.  \n",
        "- Use Adam or SGD optimizer.  \n",
        "- Do not use softmax as the last layer.  \n",
        "- Make sure input shape is `(batch, 3, 32, 32)` (should already be the case).\n",
        "\n",
        "\n"
      ],
      "metadata": {
        "id": "9uWQlcc9ry4t"
      }
    },
    {
      "cell_type": "markdown",
      "source": [
        "**Q10.1 ENDS**"
      ],
      "metadata": {
        "id": "C-iz-6DF8pOD"
      }
    },
    {
      "cell_type": "code",
      "source": [
        "#Check i it is of shape (n,3,32,32)\n",
        "x_train_torch.shape"
      ],
      "metadata": {
        "colab": {
          "base_uri": "https://localhost:8080/"
        },
        "id": "rsYDmAgrrcKA",
        "outputId": "2c463b9f-331a-4e5e-eb24-8d58b350a474"
      },
      "execution_count": null,
      "outputs": [
        {
          "output_type": "execute_result",
          "data": {
            "text/plain": [
              "torch.Size([50000, 3, 32, 32])"
            ]
          },
          "metadata": {},
          "execution_count": 36
        }
      ]
    },
    {
      "cell_type": "code",
      "source": [
        "device"
      ],
      "metadata": {
        "colab": {
          "base_uri": "https://localhost:8080/"
        },
        "id": "Ch8UyiN44IS3",
        "outputId": "6abed1c6-a81c-4c6d-ce2e-dc52053c3fb7"
      },
      "execution_count": null,
      "outputs": [
        {
          "output_type": "execute_result",
          "data": {
            "text/plain": [
              "device(type='cpu')"
            ]
          },
          "metadata": {},
          "execution_count": 65
        }
      ]
    },
    {
      "cell_type": "code",
      "source": [],
      "metadata": {
        "id": "XZL84zHJ7H2t"
      },
      "execution_count": null,
      "outputs": []
    },
    {
      "cell_type": "markdown",
      "source": [
        "#Q10.2 A **better** CNN architecture for CIFAR10 Dataset\n",
        "\n",
        "**Q10.2 STARTS**\n",
        "\n",
        "As we have seen -- LeNet5 did not yield very good results for CIFAR-10.\n",
        "In this assignment you will implement another architecture which *should* yield better results. Note that **training time will be significantly longer** (~10 min on CPU).\n",
        "\n",
        "\n",
        "\n",
        "Using `nn.Sequential` implement the following network:\n",
        "\n",
        "**Architecture:**\n",
        "\n",
        "![Better CNN for CIFAR-10](https://raw.githubusercontent.com/lorek/datasets/refs/heads/master/cnn_pics/better_CNN_cifar10.png)\n",
        "\n",
        "\n",
        "```\n",
        "Input: 32x32x3\n",
        "│\n",
        "[Conv2d 3→32, kernel=3, padding=1] → 32x32x32\n",
        "│\n",
        "[ReLU]\n",
        "│\n",
        "[MaxPool2d 2x2] → 16x16x32\n",
        "│\n",
        "[Conv2d 32→64, kernel=3, padding=1] → 16x16x64\n",
        "│\n",
        "[ReLU]\n",
        "│\n",
        "[MaxPool2d 2x2] → 8x8x64\n",
        "│\n",
        "[Conv2d 64→128, kernel=3, padding=1] → 8x8x128\n",
        "│\n",
        "[ReLU]\n",
        "│\n",
        "[MaxPool2d 2x2] → 4x4x128\n",
        "│\n",
        "[Flatten] → 2048\n",
        "│\n",
        "[Linear 2048→128]\n",
        "│\n",
        "[ReLU]\n",
        "│\n",
        "[Linear 128→10]\n",
        "│\n",
        "Output: 10 classes\n",
        "```"
      ],
      "metadata": {
        "id": "nSZG0ZKh8wpI"
      }
    },
    {
      "cell_type": "markdown",
      "source": [
        "**Instructions:**\n",
        "- Carefully follow the above architecture.  \n",
        "- Use only `nn.Conv2d`, `nn.ReLU`, `nn.MaxPool2d`, `nn.Flatten`, and `nn.Linear` (do not use batch normalization or dropout).\n",
        "- Train your model using the provided `train_loader` and evaluate on `test_loader`.\n",
        "- Print test accuracy and loss after training.\n",
        "- Use `nn.CrossEntropyLoss` and Adam optimizer with `lr=0.001`, train the model for `5 epochs`\n",
        "\n",
        "**Hint:**  \n",
        "The first fully connected layer (`Linear`) should have `128*4*4 = 2048` input features, since after the last convolution and pooling, the feature map size is `4x4x128`.\n",
        "\n",
        "**Q10.2 ENDS**"
      ],
      "metadata": {
        "id": "0JoGtR8M9gqU"
      }
    },
    {
      "cell_type": "code",
      "source": [],
      "metadata": {
        "id": "GMYaidY_7H30"
      },
      "execution_count": null,
      "outputs": []
    },
    {
      "cell_type": "markdown",
      "source": [],
      "metadata": {
        "id": "ffp09dp0ASEK"
      }
    },
    {
      "cell_type": "markdown",
      "source": [
        "#Q10.3 **Grayscale CIFAR-10, Classes 0–2**\n",
        "\n",
        "**Q10.3 STARTS**\n",
        "\n",
        "You are given a version of the CIFAR-10 dataset where all images are converted to grayscale and only classes 0, 1, and 2 are included.\n",
        "\n",
        "**Your tasks:**\n",
        "1. **Model adaptation:**  \n",
        "   - Adapt both the `LeNet-5` and `BetterCIFAR_CNN` architectures so that they work with grayscale images (set `in_channels=1`).\n",
        "   - Change the output layer so that your models classify only 3 classes instead of 10.\n",
        "   - Call the models `LeNet5_gray` and ``BetterCIFAR_CNN_gray`\n",
        "\n",
        "2. **Training and evaluation:**  \n",
        "   - Train each model on the provided training set.\n",
        "   - Evaluate and report test accuracy for each model.\n",
        "\n",
        "**Hints:**  \n",
        "- The output layer should be `nn.Linear(..., 3)` (for 3 classes).\n",
        "- Make sure your input tensors have shape `(batch, 1, 32, 32)`.\n",
        "\n",
        "**Class labels:**  \n",
        "- 0: airplane  \n",
        "- 1: automobile  \n",
        "- 2: bird\n",
        "\n"
      ],
      "metadata": {
        "id": "kp4i3YA3ASMC"
      }
    },
    {
      "cell_type": "code",
      "source": [
        "# CIFAR-10 class names\n",
        "classes_all = ['airplane', 'automobile', 'bird', 'cat', 'deer',\n",
        "               'dog', 'frog', 'horse', 'ship', 'truck']\n",
        "\n",
        "selected_classes = [0, 1, 2]\n",
        "\n",
        "# Download CIFAR-10 (no transform, get PIL Images)\n",
        "trainset = torchvision.datasets.CIFAR10(root='./data', train=True, download=True, transform=None)\n",
        "testset  = torchvision.datasets.CIFAR10(root='./data', train=False, download=True, transform=None)\n",
        "\n",
        "# Convert images and labels to numpy arrays\n",
        "x_train = np.stack([np.array(img) for img, _ in trainset])  # (N, 32, 32, 3)\n",
        "y_train = np.array([label for _, label in trainset])\n",
        "x_test = np.stack([np.array(img) for img, _ in testset])\n",
        "y_test = np.array([label for _, label in testset])\n",
        "\n",
        "# Select only classes 0, 1, 2\n",
        "idx_train = np.isin(y_train, selected_classes)\n",
        "idx_test = np.isin(y_test, selected_classes)\n",
        "\n",
        "x_train_sel = x_train[idx_train]\n",
        "y_train_sel = y_train[idx_train]\n",
        "x_test_sel  = x_test[idx_test]\n",
        "y_test_sel  = y_test[idx_test]\n",
        "\n",
        "# Convert images to grayscale (luminosity method)\n",
        "def rgb2gray(img):  # img shape: (H, W, 3)\n",
        "    return np.dot(img[..., :3], [0.2989, 0.5870, 0.1140]).astype(np.uint8)\n",
        "\n",
        "x_train_gray = np.stack([rgb2gray(img) for img in x_train_sel])  # (N, 32, 32)\n",
        "x_test_gray  = np.stack([rgb2gray(img) for img in x_test_sel])\n",
        "\n",
        "print(\"Shapes after selection and conversion:\")\n",
        "print(\"x_train_gray:\", x_train_gray.shape, \"y_train_sel:\", y_train_sel.shape)\n",
        "print(\"x_test_gray:\", x_test_gray.shape, \"y_test_sel:\", y_test_sel.shape)\n",
        "\n",
        "# Display class names\n",
        "print(\"Selected classes:\")\n",
        "for i in selected_classes:\n",
        "    print(f\"{i}: {classes_all[i]}\")\n",
        "\n",
        "# Convert images and labels to torch tensors, add channel dimension\n",
        "x_train_torch = torch.tensor(x_train_gray, dtype=torch.float32).unsqueeze(1) / 255.0  # (N, 1, 32, 32)\n",
        "x_test_torch  = torch.tensor(x_test_gray,  dtype=torch.float32).unsqueeze(1) / 255.0\n",
        "y_train_torch = torch.tensor(y_train_sel, dtype=torch.long)\n",
        "y_test_torch  = torch.tensor(y_test_sel,  dtype=torch.long)"
      ],
      "metadata": {
        "colab": {
          "base_uri": "https://localhost:8080/"
        },
        "id": "VXctpSTpAsiu",
        "outputId": "9fc3f437-bdc7-4a87-ab1d-c832a304be1b"
      },
      "execution_count": null,
      "outputs": [
        {
          "output_type": "stream",
          "name": "stdout",
          "text": [
            "Shapes after selection and conversion:\n",
            "x_train_gray: (15000, 32, 32) y_train_sel: (15000,)\n",
            "x_test_gray: (3000, 32, 32) y_test_sel: (3000,)\n",
            "Selected classes:\n",
            "0: airplane\n",
            "1: automobile\n",
            "2: bird\n"
          ]
        }
      ]
    },
    {
      "cell_type": "code",
      "source": [
        "# Create DataLoaders\n",
        "batch_size = 64\n",
        "train_dataset = TensorDataset(x_train_torch, y_train_torch)\n",
        "test_dataset  = TensorDataset(x_test_torch,  y_test_torch)\n",
        "train_loader = DataLoader(train_dataset, batch_size=batch_size, shuffle=True)\n",
        "test_loader  = DataLoader(test_dataset,  batch_size=batch_size, shuffle=False)"
      ],
      "metadata": {
        "id": "YBh6i3MYBUSY"
      },
      "execution_count": null,
      "outputs": []
    },
    {
      "cell_type": "code",
      "source": [
        "# Display 8 random grayscale images in a row with class names\n",
        "np.random.seed(42)\n",
        "random_idx = np.random.choice(len(x_train_gray), 8, replace=False)\n",
        "\n",
        "plt.figure(figsize=(10, 2))\n",
        "for i, idx in enumerate(random_idx):\n",
        "    plt.subplot(1, 8, i+1)\n",
        "    plt.imshow(x_train_gray[idx], cmap='gray')\n",
        "    plt.title(classes_all[y_train_sel[idx]])\n",
        "    plt.axis('off')\n",
        "plt.tight_layout()\n",
        "plt.show()"
      ],
      "metadata": {
        "colab": {
          "base_uri": "https://localhost:8080/",
          "height": 167
        },
        "id": "M7KZCkHUBO0t",
        "outputId": "3652c377-e915-4528-d793-bdd333ce2dfc"
      },
      "execution_count": null,
      "outputs": [
        {
          "output_type": "display_data",
          "data": {
            "text/plain": [
              "<Figure size 1000x200 with 8 Axes>"
            ],
            "image/png": "[encoded data removed]"
          },
          "metadata": {}
        }
      ]
    },
    {
      "cell_type": "markdown",
      "source": [
        "**Q10.3 ENDS**"
      ],
      "metadata": {
        "id": "ImHiMwVPBg7V"
      }
    },
    {
      "cell_type": "code",
      "source": [],
      "metadata": {
        "id": "o0enB8ipBaI6"
      },
      "execution_count": null,
      "outputs": []
    }
  ],
  "metadata": {
    "colab": {
      "provenance": [],
      "gpuType": "T4",
      "include_colab_link": true
    },
    "kernelspec": {
      "display_name": "Python 3",
      "name": "python3"
    },
    "language_info": {
      "codemirror_mode": {
        "name": "ipython",
        "version": 3
      },
      "file_extension": ".py",
      "mimetype": "text/x-python",
      "name": "python",
      "nbconvert_exporter": "python",
      "pygments_lexer": "ipython3",
      "version": "3.10.12"
    },
    "accelerator": "GPU"
  },
  "nbformat": 4,
  "nbformat_minor": 0
}