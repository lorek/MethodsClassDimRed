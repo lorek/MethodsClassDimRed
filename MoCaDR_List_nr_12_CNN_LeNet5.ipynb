{
  "cells": [
    {
      "cell_type": "markdown",
      "metadata": {
        "id": "view-in-github",
        "colab_type": "text"
      },
      "source": [
        "<a href=\"https://colab.research.google.com/github/lorek/MethodsClassDimRed/blob/main/MoCaDR_List_nr_12_CNN_LeNet5.ipynb\" target=\"_parent\"><img src=\"https://colab.research.google.com/assets/colab-badge.svg\" alt=\"Open In Colab\"/></a>"
      ]
    },
    {
      "cell_type": "markdown",
      "source": [
        "# NOTEBOOK NO 12, CNN LeNet5\n"
      ],
      "metadata": {
        "id": "rEVtJzWwTccH"
      }
    },
    {
      "cell_type": "markdown",
      "source": [
        "**NOTE: THIS SCRIPT IS NOT POLISHED**"
      ],
      "metadata": {
        "id": "4V8YW7eX_1Vi"
      }
    },
    {
      "cell_type": "code",
      "source": [
        "import keras\n",
        "import keras.utils\n",
        "from keras import datasets, layers, models\n",
        "from keras.models import Sequential\n",
        "from keras.layers import Conv2D, AveragePooling2D, MaxPooling2D, Flatten, Dense, Activation\n",
        "import matplotlib.pyplot as plt\n"
      ],
      "metadata": {
        "id": "hHdghuG4TcE3"
      },
      "execution_count": null,
      "outputs": []
    },
    {
      "cell_type": "code",
      "source": [
        "(x_train, y_train), (x_test, y_test) = datasets.mnist.load_data()\n"
      ],
      "metadata": {
        "id": "q8Q6NTRuuugX",
        "colab": {
          "base_uri": "https://localhost:8080/"
        },
        "outputId": "a563cd2f-197a-4b7a-e793-cab3d31b8f74"
      },
      "execution_count": null,
      "outputs": [
        {
          "output_type": "stream",
          "name": "stdout",
          "text": [
            "Downloading data from https://storage.googleapis.com/tensorflow/tf-keras-datasets/mnist.npz\n",
            "11490434/11490434 [==============================] - 0s 0us/step\n"
          ]
        }
      ]
    },
    {
      "cell_type": "code",
      "source": [
        "plt.figure(figsize=(10, 4))  #\n",
        "for i in range(10):\n",
        "    plt.subplot(2, 5, i + 1)\n",
        "    plt.imshow(x_train[i], cmap='gray')\n",
        "    plt.title(f\"Label: {y_train[i]}\")\n",
        "    plt.axis('off')\n",
        "plt.show()"
      ],
      "metadata": {
        "colab": {
          "base_uri": "https://localhost:8080/",
          "height": 360
        },
        "id": "Hmqkzx9cuui2",
        "outputId": "d44373c2-64cb-4622-cd33-42fb92023682"
      },
      "execution_count": null,
      "outputs": [
        {
          "output_type": "display_data",
          "data": {
            "text/plain": [
              "<Figure size 1000x400 with 10 Axes>"
            ],
            "image/png": "[encoded data removed]"
          },
          "metadata": {}
        }
      ]
    },
    {
      "cell_type": "code",
      "source": [
        "# Consider The First 50000 samples As The Training Dataset\n",
        "x_train_main = x_train[:50000]\n",
        "y_train_main = y_train[:50000]\n",
        "\n",
        "# Conside The Last 10000 Samples AS The Validation Dataset\n",
        "x_val = x_train[50000:]\n",
        "y_val = y_train[50000:]"
      ],
      "metadata": {
        "id": "FWuEuasAuul2"
      },
      "execution_count": null,
      "outputs": []
    },
    {
      "cell_type": "code",
      "source": [],
      "metadata": {
        "id": "U02lq7dOu14v"
      },
      "execution_count": null,
      "outputs": []
    },
    {
      "cell_type": "code",
      "source": [
        "x_train_main = x_train_main / 255.0\n",
        "x_val=x_val/255.0\n",
        "x_test = x_test / 255.0\n",
        "\n",
        "x_train_main = x_train_main.reshape(50000, 28, 28, 1)\n",
        "x_val = x_val.reshape(10000, 28, 28, 1)\n",
        "x_test = x_test.reshape(10000, 28, 28, 1)"
      ],
      "metadata": {
        "id": "ZpEgWxNMu17H"
      },
      "execution_count": null,
      "outputs": []
    },
    {
      "cell_type": "code",
      "source": [
        "x_train_main.shape\n"
      ],
      "metadata": {
        "colab": {
          "base_uri": "https://localhost:8080/"
        },
        "id": "S-Y_Mr4Fu19n",
        "outputId": "0ec69360-4616-4d78-948e-fa9992d246b1"
      },
      "execution_count": null,
      "outputs": [
        {
          "output_type": "execute_result",
          "data": {
            "text/plain": [
              "(50000, 28, 28, 1)"
            ]
          },
          "metadata": {},
          "execution_count": 7
        }
      ]
    },
    {
      "cell_type": "code",
      "source": [
        "y_train_main[0]"
      ],
      "metadata": {
        "colab": {
          "base_uri": "https://localhost:8080/"
        },
        "id": "3Rd97WdRuuou",
        "outputId": "f394d6c6-d93d-4fa5-c325-d59a5f48465b"
      },
      "execution_count": null,
      "outputs": [
        {
          "output_type": "execute_result",
          "data": {
            "text/plain": [
              "5"
            ]
          },
          "metadata": {},
          "execution_count": 8
        }
      ]
    },
    {
      "cell_type": "code",
      "source": [
        "# one hot encoding"
      ],
      "metadata": {
        "id": "_OQ16WcfvHxI"
      },
      "execution_count": null,
      "outputs": []
    },
    {
      "cell_type": "code",
      "source": [
        "y_train_main = keras.utils.to_categorical(y_train_main, 10)\n",
        "y_val = keras.utils.to_categorical(y_val, 10)\n",
        "y_test = keras.utils.to_categorical(y_test, 10)"
      ],
      "metadata": {
        "id": "BelpPixIvHz4"
      },
      "execution_count": null,
      "outputs": []
    },
    {
      "cell_type": "code",
      "source": [
        "y_train_main[0]"
      ],
      "metadata": {
        "colab": {
          "base_uri": "https://localhost:8080/"
        },
        "id": "Q0KlsupmvH24",
        "outputId": "0ccd2cdc-642f-4db7-d482-fc6eb4ed0f09"
      },
      "execution_count": null,
      "outputs": [
        {
          "output_type": "execute_result",
          "data": {
            "text/plain": [
              "array([0., 0., 0., 0., 0., 1., 0., 0., 0., 0.], dtype=float32)"
            ]
          },
          "metadata": {},
          "execution_count": 11
        }
      ]
    },
    {
      "cell_type": "code",
      "source": [
        "num_classes=10"
      ],
      "metadata": {
        "id": "m80wGAPxwvQA"
      },
      "execution_count": null,
      "outputs": []
    },
    {
      "cell_type": "markdown",
      "source": [
        "# Simple MLP"
      ],
      "metadata": {
        "id": "nqq69XDIwf3v"
      }
    },
    {
      "cell_type": "code",
      "source": [
        "model_mlp = keras.Sequential(\n",
        "    [\n",
        "        # dense, 256\n",
        "        layers.Dense(256, input_shape=(28*28,), activation='relu'),\n",
        "        #layers.Dropout(0.2),\n",
        "        layers.Dense(256, activation='relu'),\n",
        "        #layers.Dropout(0.2),\n",
        "        # output layer. the number of output should be your number of classification\n",
        "        layers.Dense(num_classes, activation='softmax')\n",
        "    ]\n",
        ");"
      ],
      "metadata": {
        "id": "ftwnVXRwwjIH"
      },
      "execution_count": null,
      "outputs": []
    },
    {
      "cell_type": "code",
      "source": [
        "model_mlp.summary()"
      ],
      "metadata": {
        "colab": {
          "base_uri": "https://localhost:8080/"
        },
        "id": "IuwDCHHDwfLf",
        "outputId": "1b807a2c-9c36-4a05-b98c-c589a98d752f"
      },
      "execution_count": null,
      "outputs": [
        {
          "output_type": "stream",
          "name": "stdout",
          "text": [
            "Model: \"sequential_3\"\n",
            "_________________________________________________________________\n",
            " Layer (type)                Output Shape              Param #   \n",
            "=================================================================\n",
            " dense_9 (Dense)             (None, 256)               200960    \n",
            "                                                                 \n",
            " dense_10 (Dense)            (None, 256)               65792     \n",
            "                                                                 \n",
            " dense_11 (Dense)            (None, 10)                2570      \n",
            "                                                                 \n",
            "=================================================================\n",
            "Total params: 269322 (1.03 MB)\n",
            "Trainable params: 269322 (1.03 MB)\n",
            "Non-trainable params: 0 (0.00 Byte)\n",
            "_________________________________________________________________\n"
          ]
        }
      ]
    },
    {
      "cell_type": "code",
      "source": [
        "model_mlp.compile(loss='categorical_crossentropy', optimizer='adam', metrics=['accuracy'])"
      ],
      "metadata": {
        "id": "LF9o15_Tx4Je"
      },
      "execution_count": null,
      "outputs": []
    },
    {
      "cell_type": "code",
      "source": [
        "model_mlp.fit(\n",
        "    x_train_main.reshape(50000, 28 * 28), y_train_main,\n",
        "    epochs=20, batch_size=128, validation_data=(x_val.reshape(10000, 28 * 28), y_val)\n",
        ")"
      ],
      "metadata": {
        "colab": {
          "base_uri": "https://localhost:8080/"
        },
        "id": "5qHHlNMUxI5q",
        "outputId": "2793e89f-1a31-4d2f-83b9-f27900e9f640"
      },
      "execution_count": null,
      "outputs": [
        {
          "output_type": "stream",
          "name": "stdout",
          "text": [
            "Epoch 1/20\n",
            "391/391 [==============================] - 5s 9ms/step - loss: 0.2851 - accuracy: 0.9167 - val_loss: 0.1367 - val_accuracy: 0.9589\n",
            "Epoch 2/20\n",
            "391/391 [==============================] - 4s 10ms/step - loss: 0.1079 - accuracy: 0.9672 - val_loss: 0.0980 - val_accuracy: 0.9701\n",
            "Epoch 3/20\n",
            "391/391 [==============================] - 4s 10ms/step - loss: 0.0689 - accuracy: 0.9789 - val_loss: 0.0981 - val_accuracy: 0.9696\n",
            "Epoch 4/20\n",
            "391/391 [==============================] - 3s 8ms/step - loss: 0.0483 - accuracy: 0.9855 - val_loss: 0.0773 - val_accuracy: 0.9780\n",
            "Epoch 5/20\n",
            "391/391 [==============================] - 3s 8ms/step - loss: 0.0353 - accuracy: 0.9893 - val_loss: 0.0768 - val_accuracy: 0.9768\n",
            "Epoch 6/20\n",
            "391/391 [==============================] - 5s 12ms/step - loss: 0.0248 - accuracy: 0.9924 - val_loss: 0.0837 - val_accuracy: 0.9771\n",
            "Epoch 7/20\n",
            "391/391 [==============================] - 4s 9ms/step - loss: 0.0233 - accuracy: 0.9923 - val_loss: 0.0753 - val_accuracy: 0.9797\n",
            "Epoch 8/20\n",
            "391/391 [==============================] - 3s 8ms/step - loss: 0.0205 - accuracy: 0.9932 - val_loss: 0.0954 - val_accuracy: 0.9767\n",
            "Epoch 9/20\n",
            "391/391 [==============================] - 4s 10ms/step - loss: 0.0137 - accuracy: 0.9958 - val_loss: 0.1014 - val_accuracy: 0.9742\n",
            "Epoch 10/20\n",
            "391/391 [==============================] - 4s 11ms/step - loss: 0.0127 - accuracy: 0.9956 - val_loss: 0.0902 - val_accuracy: 0.9778\n",
            "Epoch 11/20\n",
            "391/391 [==============================] - 4s 9ms/step - loss: 0.0115 - accuracy: 0.9960 - val_loss: 0.0880 - val_accuracy: 0.9792\n",
            "Epoch 12/20\n",
            "391/391 [==============================] - 4s 9ms/step - loss: 0.0123 - accuracy: 0.9961 - val_loss: 0.0853 - val_accuracy: 0.9790\n",
            "Epoch 13/20\n",
            "391/391 [==============================] - 5s 13ms/step - loss: 0.0108 - accuracy: 0.9965 - val_loss: 0.1112 - val_accuracy: 0.9739\n",
            "Epoch 14/20\n",
            "391/391 [==============================] - 3s 9ms/step - loss: 0.0107 - accuracy: 0.9964 - val_loss: 0.0939 - val_accuracy: 0.9796\n",
            "Epoch 15/20\n",
            "391/391 [==============================] - 4s 9ms/step - loss: 0.0059 - accuracy: 0.9981 - val_loss: 0.0904 - val_accuracy: 0.9818\n",
            "Epoch 16/20\n",
            "391/391 [==============================] - 4s 10ms/step - loss: 0.0074 - accuracy: 0.9975 - val_loss: 0.1120 - val_accuracy: 0.9763\n",
            "Epoch 17/20\n",
            "391/391 [==============================] - 4s 11ms/step - loss: 0.0120 - accuracy: 0.9959 - val_loss: 0.1154 - val_accuracy: 0.9764\n",
            "Epoch 18/20\n",
            "391/391 [==============================] - 4s 10ms/step - loss: 0.0045 - accuracy: 0.9986 - val_loss: 0.1120 - val_accuracy: 0.9786\n",
            "Epoch 19/20\n",
            "391/391 [==============================] - 4s 10ms/step - loss: 0.0072 - accuracy: 0.9975 - val_loss: 0.1461 - val_accuracy: 0.9750\n",
            "Epoch 20/20\n",
            "391/391 [==============================] - 5s 13ms/step - loss: 0.0107 - accuracy: 0.9963 - val_loss: 0.1221 - val_accuracy: 0.9756\n"
          ]
        },
        {
          "output_type": "execute_result",
          "data": {
            "text/plain": [
              "<keras.src.callbacks.History at 0x7f1238639db0>"
            ]
          },
          "metadata": {},
          "execution_count": 31
        }
      ]
    },
    {
      "cell_type": "code",
      "source": [
        "mlp_test_loss, mlp_test_accuracy = model_mlp.evaluate(x_test.reshape(10000, 28 * 28), y_test)\n",
        "print(f'MLP: Test loss: {mlp_test_loss:.4f}, Test accuracy: {mlp_test_accuracy:.4f}')"
      ],
      "metadata": {
        "id": "2mteJwkmxI8S",
        "colab": {
          "base_uri": "https://localhost:8080/"
        },
        "outputId": "37601e4c-14cf-4957-c7b7-83fb6c20e8aa"
      },
      "execution_count": null,
      "outputs": [
        {
          "output_type": "stream",
          "name": "stdout",
          "text": [
            "313/313 [==============================] - 1s 3ms/step - loss: 0.1104 - accuracy: 0.9768\n",
            "MLP: Test loss: 0.1104, Test accuracy: 0.9768\n"
          ]
        }
      ]
    },
    {
      "cell_type": "code",
      "source": [],
      "metadata": {
        "id": "D8ypqXQFxJCN"
      },
      "execution_count": null,
      "outputs": []
    },
    {
      "cell_type": "code",
      "source": [
        "print(x_train_main[0].shape, \"\\n\", y_train_main.shape)\n",
        "print(x_train_main.shape, \"\\n\", y_train_main.shape)\n"
      ],
      "metadata": {
        "colab": {
          "base_uri": "https://localhost:8080/"
        },
        "id": "1X02PttY1Nsg",
        "outputId": "dd9153f4-4690-4fc6-9d09-5375c22186fd"
      },
      "execution_count": null,
      "outputs": [
        {
          "output_type": "stream",
          "name": "stdout",
          "text": [
            "(28, 28, 1) \n",
            " (50000, 10)\n",
            "(50000, 28, 28, 1) \n",
            " (50000, 10)\n"
          ]
        }
      ]
    },
    {
      "cell_type": "code",
      "source": [],
      "metadata": {
        "id": "81sXpjrv11UT"
      },
      "execution_count": null,
      "outputs": []
    },
    {
      "cell_type": "markdown",
      "source": [
        "# Conv2D, AveragePooling2D, Flatten\n",
        "\n",
        "# Conv2D:"
      ],
      "metadata": {
        "id": "sh0DTf_E11ji"
      }
    },
    {
      "cell_type": "markdown",
      "source": [
        "https://miro.medium.com/v2/resize:fit:1100/format:webp/1*ulfFYH5HbWpLTIfuebj5mQ.gif"
      ],
      "metadata": {
        "id": "j9wcTFTk210I"
      }
    },
    {
      "cell_type": "markdown",
      "source": [],
      "metadata": {
        "id": "guSF7_y11-is"
      }
    },
    {
      "cell_type": "markdown",
      "source": [
        "# LeNet5"
      ],
      "metadata": {
        "id": "duXOTkuexA45"
      }
    },
    {
      "cell_type": "markdown",
      "source": [],
      "metadata": {
        "id": "oL7n26YV0pdF"
      }
    },
    {
      "cell_type": "code",
      "source": [
        "#Create An Instance of Sequential Class.\n",
        "LeNet5_Model=Sequential()\n",
        "\n",
        "LeNet5_Model.add(Conv2D(6, kernel_size=(5, 5), activation='tanh', input_shape=(28, 28, 1)))\n",
        "\n",
        "# Add First Average Pooling Layer\n",
        "LeNet5_Model.add(AveragePooling2D((2, 2)))\n",
        "\n",
        "# Add Second Convolutional Layer\n",
        "LeNet5_Model.add(Conv2D(16, kernel_size=(5, 5), activation='tanh'))\n",
        "\n",
        "# Add Second Average Pooling Layer\n",
        "LeNet5_Model.add(AveragePooling2D((2, 2)))\n",
        "\n",
        "# Flatten The Layer\n",
        "LeNet5_Model.add(Flatten())\n",
        "\n",
        "# Add Dense Layer\n",
        "LeNet5_Model.add(Dense(120, activation='tanh'))\n",
        "LeNet5_Model.add(Dense(84, activation='tanh'))\n",
        "LeNet5_Model.add(Dense(10, activation='softmax'))"
      ],
      "metadata": {
        "id": "WxG3IsQxvMSR"
      },
      "execution_count": null,
      "outputs": []
    },
    {
      "cell_type": "code",
      "source": [
        "LeNet5_Model.compile(loss='categorical_crossentropy', optimizer='adam', metrics=['accuracy'])\n"
      ],
      "metadata": {
        "id": "Lu0Yi_dPvMbh"
      },
      "execution_count": null,
      "outputs": []
    },
    {
      "cell_type": "code",
      "source": [
        "LeNet5_Model.summary()"
      ],
      "metadata": {
        "colab": {
          "base_uri": "https://localhost:8080/"
        },
        "id": "FXaXdw9jvMeR",
        "outputId": "3c6f4b30-7eb4-4bfa-b95f-8776ed4228f8"
      },
      "execution_count": null,
      "outputs": [
        {
          "output_type": "stream",
          "name": "stdout",
          "text": [
            "Model: \"sequential\"\n",
            "_________________________________________________________________\n",
            " Layer (type)                Output Shape              Param #   \n",
            "=================================================================\n",
            " conv2d (Conv2D)             (None, 24, 24, 6)         156       \n",
            "                                                                 \n",
            " average_pooling2d (Average  (None, 12, 12, 6)         0         \n",
            " Pooling2D)                                                      \n",
            "                                                                 \n",
            " conv2d_1 (Conv2D)           (None, 8, 8, 16)          2416      \n",
            "                                                                 \n",
            " average_pooling2d_1 (Avera  (None, 4, 4, 16)          0         \n",
            " gePooling2D)                                                    \n",
            "                                                                 \n",
            " flatten (Flatten)           (None, 256)               0         \n",
            "                                                                 \n",
            " dense (Dense)               (None, 120)               30840     \n",
            "                                                                 \n",
            " dense_1 (Dense)             (None, 84)                10164     \n",
            "                                                                 \n",
            " dense_2 (Dense)             (None, 10)                850       \n",
            "                                                                 \n",
            "=================================================================\n",
            "Total params: 44426 (173.54 KB)\n",
            "Trainable params: 44426 (173.54 KB)\n",
            "Non-trainable params: 0 (0.00 Byte)\n",
            "_________________________________________________________________\n"
          ]
        }
      ]
    },
    {
      "cell_type": "code",
      "source": [
        "LeNet5_Model.fit(x_train_main, y_train_main, epochs=20, batch_size=128, validation_data=(x_val, y_val))\n"
      ],
      "metadata": {
        "colab": {
          "base_uri": "https://localhost:8080/"
        },
        "id": "2u3-cwilvMg9",
        "outputId": "f8cc4085-199e-4c25-dd89-1ce4c6456456"
      },
      "execution_count": null,
      "outputs": [
        {
          "output_type": "stream",
          "name": "stdout",
          "text": [
            "Epoch 1/20\n",
            "391/391 [==============================] - 20s 48ms/step - loss: 0.3949 - accuracy: 0.8839 - val_loss: 0.1724 - val_accuracy: 0.9509\n",
            "Epoch 2/20\n",
            "391/391 [==============================] - 23s 58ms/step - loss: 0.1468 - accuracy: 0.9546 - val_loss: 0.1040 - val_accuracy: 0.9704\n",
            "Epoch 3/20\n",
            "391/391 [==============================] - 19s 49ms/step - loss: 0.0936 - accuracy: 0.9720 - val_loss: 0.1026 - val_accuracy: 0.9682\n",
            "Epoch 4/20\n",
            "391/391 [==============================] - 17s 42ms/step - loss: 0.0716 - accuracy: 0.9781 - val_loss: 0.0731 - val_accuracy: 0.9778\n",
            "Epoch 5/20\n",
            "391/391 [==============================] - 17s 42ms/step - loss: 0.0561 - accuracy: 0.9824 - val_loss: 0.0654 - val_accuracy: 0.9812\n",
            "Epoch 6/20\n",
            "391/391 [==============================] - 17s 42ms/step - loss: 0.0465 - accuracy: 0.9857 - val_loss: 0.0617 - val_accuracy: 0.9815\n",
            "Epoch 7/20\n",
            "391/391 [==============================] - 18s 46ms/step - loss: 0.0399 - accuracy: 0.9878 - val_loss: 0.0489 - val_accuracy: 0.9853\n",
            "Epoch 8/20\n",
            "391/391 [==============================] - 17s 44ms/step - loss: 0.0327 - accuracy: 0.9899 - val_loss: 0.0514 - val_accuracy: 0.9845\n",
            "Epoch 9/20\n",
            "391/391 [==============================] - 16s 42ms/step - loss: 0.0276 - accuracy: 0.9913 - val_loss: 0.0490 - val_accuracy: 0.9855\n",
            "Epoch 10/20\n",
            "391/391 [==============================] - 17s 43ms/step - loss: 0.0232 - accuracy: 0.9930 - val_loss: 0.0475 - val_accuracy: 0.9870\n",
            "Epoch 11/20\n",
            "391/391 [==============================] - 18s 45ms/step - loss: 0.0224 - accuracy: 0.9930 - val_loss: 0.0481 - val_accuracy: 0.9867\n",
            "Epoch 12/20\n",
            "391/391 [==============================] - 17s 43ms/step - loss: 0.0172 - accuracy: 0.9948 - val_loss: 0.0580 - val_accuracy: 0.9851\n",
            "Epoch 13/20\n",
            "391/391 [==============================] - 16s 42ms/step - loss: 0.0148 - accuracy: 0.9957 - val_loss: 0.0536 - val_accuracy: 0.9856\n",
            "Epoch 14/20\n",
            "391/391 [==============================] - 18s 46ms/step - loss: 0.0145 - accuracy: 0.9957 - val_loss: 0.0541 - val_accuracy: 0.9859\n",
            "Epoch 15/20\n",
            "391/391 [==============================] - 18s 45ms/step - loss: 0.0119 - accuracy: 0.9963 - val_loss: 0.0469 - val_accuracy: 0.9880\n",
            "Epoch 16/20\n",
            "391/391 [==============================] - 24s 61ms/step - loss: 0.0095 - accuracy: 0.9974 - val_loss: 0.0479 - val_accuracy: 0.9875\n",
            "Epoch 17/20\n",
            "391/391 [==============================] - 25s 64ms/step - loss: 0.0072 - accuracy: 0.9981 - val_loss: 0.0496 - val_accuracy: 0.9879\n",
            "Epoch 18/20\n",
            "391/391 [==============================] - 23s 59ms/step - loss: 0.0085 - accuracy: 0.9977 - val_loss: 0.0596 - val_accuracy: 0.9857\n",
            "Epoch 19/20\n",
            "391/391 [==============================] - 23s 59ms/step - loss: 0.0071 - accuracy: 0.9980 - val_loss: 0.0546 - val_accuracy: 0.9867\n",
            "Epoch 20/20\n",
            "391/391 [==============================] - 16s 42ms/step - loss: 0.0069 - accuracy: 0.9979 - val_loss: 0.0525 - val_accuracy: 0.9880\n"
          ]
        },
        {
          "output_type": "execute_result",
          "data": {
            "text/plain": [
              "<keras.src.callbacks.History at 0x7a74c7af4f10>"
            ]
          },
          "metadata": {},
          "execution_count": 17
        }
      ]
    },
    {
      "cell_type": "code",
      "source": [
        "lenet5_test_loss, lenet5_test_acc = LeNet5_Model.evaluate(x_test, y_test)\n",
        "print('LENET5: Test accuracy:\\t\\t', lenet5_test_acc)\n",
        "\n",
        "mlp_test_loss, mlp_test_accuracy = model_mlp.evaluate(x_test.reshape(10000, 28 * 28), y_test)\n",
        "print(f'MLP: Test accuracy: \\t\\t {mlp_test_accuracy:.4f}')"
      ],
      "metadata": {
        "colab": {
          "base_uri": "https://localhost:8080/"
        },
        "id": "rJCinmfTvMjp",
        "outputId": "2b025166-7da7-4426-ab63-7f1247687500"
      },
      "execution_count": null,
      "outputs": [
        {
          "output_type": "stream",
          "name": "stdout",
          "text": [
            "313/313 [==============================] - 3s 9ms/step - loss: 0.0488 - accuracy: 0.9869\n",
            "LENET5: Test accuracy:\t\t 0.9868999719619751\n",
            "313/313 [==============================] - 1s 2ms/step - loss: 0.0858 - accuracy: 0.9823\n",
            "MLP: Test accuracy: \t\t 0.9823\n"
          ]
        }
      ]
    },
    {
      "cell_type": "code",
      "source": [],
      "metadata": {
        "id": "srn8Z6QCw9Ow"
      },
      "execution_count": null,
      "outputs": []
    },
    {
      "cell_type": "markdown",
      "source": [
        "#Q12.1 **TO DO**"
      ],
      "metadata": {
        "id": "ZSOLKmm6__XC"
      }
    },
    {
      "cell_type": "code",
      "source": [],
      "metadata": {
        "id": "73LJ5gMGAALI"
      },
      "execution_count": null,
      "outputs": []
    }
  ],
  "metadata": {
    "colab": {
      "provenance": [],
      "include_colab_link": true
    },
    "kernelspec": {
      "display_name": "Python 3 (ipykernel)",
      "language": "python",
      "name": "python3"
    },
    "language_info": {
      "codemirror_mode": {
        "name": "ipython",
        "version": 3
      },
      "file_extension": ".py",
      "mimetype": "text/x-python",
      "name": "python",
      "nbconvert_exporter": "python",
      "pygments_lexer": "ipython3",
      "version": "3.10.12"
    }
  },
  "nbformat": 4,
  "nbformat_minor": 0
}