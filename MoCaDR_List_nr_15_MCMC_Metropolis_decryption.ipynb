{
  "cells": [
    {
      "cell_type": "markdown",
      "metadata": {
        "id": "view-in-github",
        "colab_type": "text"
      },
      "source": [
        "<a href=\"https://colab.research.google.com/github/lorek/MethodsClassDimRed/blob/main/MoCaDR_List_nr_15_MCMC_Metropolis_decryption.ipynb\" target=\"_parent\"><img src=\"https://colab.research.google.com/assets/colab-badge.svg\" alt=\"Open In Colab\"/></a>"
      ]
    },
    {
      "cell_type": "markdown",
      "source": [
        "# NOTEBOOK NO 15: Markov Chain Monte Carlo\n",
        "## Metropolis algorithm: decrypting substitution cipher"
      ],
      "metadata": {
        "id": "EPYUyj7i4qeL"
      }
    },
    {
      "cell_type": "code",
      "execution_count": 1,
      "metadata": {
        "id": "KwpUUrImZBrs"
      },
      "outputs": [],
      "source": [
        "import numpy as np\n",
        "import matplotlib.pyplot as plt\n",
        "import copy as cp\n",
        "import pandas as pd\n",
        "import inspect\n",
        "import urllib.request\n",
        "import re\n",
        "from collections import Counter\n",
        "import string;\n",
        "\n",
        "\n"
      ]
    },
    {
      "cell_type": "markdown",
      "source": [],
      "metadata": {
        "id": "qNdnCP444pwr"
      }
    },
    {
      "cell_type": "code",
      "execution_count": 2,
      "metadata": {
        "id": "ymiy-rfA715L"
      },
      "outputs": [],
      "source": [
        "#ttest"
      ]
    },
    {
      "cell_type": "code",
      "execution_count": 2,
      "metadata": {
        "id": "6sv9vf5E715L"
      },
      "outputs": [],
      "source": []
    },
    {
      "cell_type": "markdown",
      "metadata": {
        "id": "myhP1wFAbAZo"
      },
      "source": [
        "## Read in cryptogram and book. Clean data"
      ]
    },
    {
      "cell_type": "code",
      "execution_count": 3,
      "metadata": {
        "id": "qGC_udySSt5R"
      },
      "outputs": [],
      "source": [
        "\n",
        "cryptogram_data=urllib.request.urlopen(\"https://raw.githubusercontent.com/lorek/datasets/master/encrypted_message.txt\")\n",
        "for line in cryptogram_data:\n",
        "  cryptogram=line.decode('utf-8')\n",
        "\n"
      ]
    },
    {
      "cell_type": "markdown",
      "metadata": {
        "id": "ky82zBIHbF9A"
      },
      "source": []
    },
    {
      "cell_type": "code",
      "execution_count": 4,
      "metadata": {
        "colab": {
          "base_uri": "https://localhost:8080/"
        },
        "id": "wHHwc7zqUjVG",
        "outputId": "03b2c3bb-f4b9-48d8-e7c8-5320e9ae2137"
      },
      "outputs": [
        {
          "output_type": "stream",
          "name": "stdout",
          "text": [
            "sjhmsXLmKNKmNomsXLmIpwpPjKmoXmKjeBgComoQNhmIjhhpPjmnFjphjmaBNojmjIpNFmoXmoQjmFjeoLBjBmaNoQmhFXPpwmGj\n",
            "omAXIjmlwmqpImijgmbXamGXXwmEXmDMjwmnpCjBmOLjjwmvXXTmzjMjwmdBpMjFmYwNMjBhjmfNKjXmJXXFm BpgmsjhmujkBp\n",
            "\n",
            "10016\n"
          ]
        }
      ],
      "source": [
        "print(cryptogram[:100])\n",
        "print(cryptogram[-100:])\n",
        "\n",
        "print(len(cryptogram))\n"
      ]
    },
    {
      "cell_type": "markdown",
      "metadata": {
        "id": "oTbUTGbtJ3ya"
      },
      "source": [
        "Read Tolsto's \"War and Peace\""
      ]
    },
    {
      "cell_type": "code",
      "execution_count": 5,
      "metadata": {
        "colab": {
          "base_uri": "https://localhost:8080/"
        },
        "id": "1_Fk7qC6VeKy",
        "outputId": "3e60691d-cc4d-4c05-ca3a-6950e5e06e71"
      },
      "outputs": [
        {
          "output_type": "stream",
          "name": "stdout",
          "text": [
            "3238412\n"
          ]
        }
      ],
      "source": [
        "book_data=urllib.request.urlopen(\"https://raw.githubusercontent.com/lorek/datasets/master/war_and_peace.txt\")\n",
        "book=\"\"\n",
        "for line in book_data:\n",
        "  book=book+str(line.decode('utf-8'))\n",
        "print(len(book))"
      ]
    },
    {
      "cell_type": "code",
      "execution_count": 6,
      "metadata": {
        "colab": {
          "base_uri": "https://localhost:8080/"
        },
        "id": "k2uY7oriVksr",
        "outputId": "08f40d05-ff30-482b-d918-e429fb15d240"
      },
      "outputs": [
        {
          "output_type": "stream",
          "name": "stdout",
          "text": [
            "\n",
            "\n",
            "\n",
            "The Project Gutenberg EBook of War and Peace, by Leo Tolstoy\n",
            "\n",
            "This eBook is for the use of anyone anywhere at no cost and with\n",
            "almost no restrictions whatsoever.  You may copy it, give it away or\n",
            "re-use it under the t\n"
          ]
        }
      ],
      "source": [
        "print(book[0:220])\n"
      ]
    },
    {
      "cell_type": "markdown",
      "metadata": {
        "id": "x53r4FDDJ_8m"
      },
      "source": [
        "Clean data, make sure only a-z, A-Z and space are present"
      ]
    },
    {
      "cell_type": "code",
      "execution_count": 7,
      "metadata": {
        "colab": {
          "base_uri": "https://localhost:8080/"
        },
        "id": "f7CdAtvgSu9n",
        "outputId": "589b3f8c-3e52-4db1-d9ea-aacae88da958"
      },
      "outputs": [
        {
          "output_type": "stream",
          "name": "stdout",
          "text": [
            "3087852\n",
            "3087852\n",
            "The Project Gutenberg EBook of War and Peace by Leo Tolstoy This eBook is for the use of anyone anywhere at no cost and with almost no restrictions whatsoever You may copy it give it away or reuse it under the terms of t\n",
            "10015\n",
            "10015\n",
            "sjhmsXLmKNKmNomsXLmIpwpPjKmoXmKjeBgComoQNhmIjhhpPjmnFjphjmaBNojmjIpNFmoXmoQjmFjeoLBjBmaNoQmhFXPpwmGj\n",
            "homAXIjmlwmqpImijgmbXamGXXwmEXmDMjwmnpCjBmOLjjwmvXXTmzjMjwmdBpMjFmYwNMjBhjmfNKjXmJXXFm BpgmsjhmujkBp\n",
            "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 BpgmsjhmujkBp\n"
          ]
        }
      ],
      "source": [
        "#clean\n",
        "\n",
        "regex = re.compile('[^a-zA-Z ]')\n",
        "\n",
        "regex_space=re.compile('\\n')\n",
        "book=re.sub('\\s+', ' ', book).strip()\n",
        "book=regex_space.sub(' ',book)\n",
        "book=regex.sub('',book).strip()\n",
        "print(len(book))\n",
        "book=book.rstrip('\\n')\n",
        "print(len(book))\n",
        "\n",
        "print(book[0:220])\n",
        "\n",
        "cryptogram=re.sub('\\s+', ' ', cryptogram).strip()\n",
        "cryptogram=regex_space.sub(' ',cryptogram)\n",
        "cryptogram=regex.sub('',cryptogram)\n",
        "print(len(cryptogram))\n",
        "cryptogram=cryptogram.rstrip('\\n')\n",
        "print(len(cryptogram))\n",
        "\n",
        "print(cryptogram[:100])\n",
        "print(cryptogram[-100:])\n",
        "print(cryptogram)\n",
        "\n"
      ]
    },
    {
      "cell_type": "markdown",
      "metadata": {
        "id": "8Al0M72rbJL5"
      },
      "source": [
        "## Compute frequencies $M$"
      ]
    },
    {
      "cell_type": "code",
      "source": [
        "from collections import Counter\n",
        "import string"
      ],
      "metadata": {
        "id": "NUdad7WLs3ZO"
      },
      "execution_count": 8,
      "outputs": []
    },
    {
      "cell_type": "code",
      "source": [
        "letters = list(book)\n",
        "letters_unique = sorted(set(letters + list(string.ascii_letters) + list(\" \")))\n",
        "print(letters_unique)\n",
        "\n",
        "# Compute bigram frequencies\n",
        "cntr = Counter(zip(letters, letters[1:]))\n",
        "total = sum(cntr.values())\n",
        "\n",
        "# Create the initial frequency dictionaries\n",
        "M2 = {''.join(k): v for k, v in cntr.items()}\n",
        "\n",
        "# Normalize the frequencies to get M\n",
        "bigram_sums = {a: sum(M2.get(a+b, 0) for b in letters_unique) for a in letters_unique}\n",
        "M = {k: v / bigram_sums[k[0]] for k, v in M2.items()}\n",
        "\n",
        "print(M)\n",
        "print(M2)\n",
        "print(\"\\n\")\n",
        "print(\"M['aa'] = \", M['aa']);\n",
        "print(\"M['st'] = \", M['st'])"
      ],
      "metadata": {
        "colab": {
          "base_uri": "https://localhost:8080/"
        },
        "id": "v0LbAVwQs5iM",
        "outputId": "05b17837-3143-43d8-cb3b-594567fd70c5"
      },
      "execution_count": 9,
      "outputs": [
        {
          "output_type": "stream",
          "name": "stdout",
          "text": [
            "[' ', 'A', 'B', 'C', 'D', 'E', 'F', 'G', 'H', 'I', 'J', 'K', 'L', 'M', 'N', 'O', 'P', 'Q', 'R', 'S', 'T', 'U', 'V', 'W', 'X', 'Y', 'Z', 'a', 'b', 'c', 'd', 'e', 'f', 'g', 'h', 'i', 'j', 'k', 'l', 'm', 'n', 'o', 'p', 'q', 'r', 's', 't', 'u', 'v', 'w', 'x', 'y', 'z']\n",
            "{'Th': 0.7169257846875917, 'he': 0.4464671246319922, 'e ': 0.35629713859872286, ' P': 0.010167504246760632, 'Pr': 0.3698588090853284, 'ro': 0.09330352536543422, 'oj': 0.0006208543380206951, 'je': 0.22992056487202117, 'ec': 0.01744529674028961, 'ct': 0.06930160650668818, 't ': 0.2651450638226173, ' G': 0.0022478695564651413, 'Gu': 0.14581734458940906, 'ut': 0.17064117160815384, 'te': 0.08347260613953997, 'en': 0.08384085623610736, 'nb': 0.0008473121376079215, 'be': 0.3447231973205372, 'er': 0.13908376055197935, 'rg': 0.010269991401547721, 'g ': 0.44280745242283703, ' E': 0.002383836528851485, 'EB': 0.002215330084182543, 'Bo': 0.273987798114254, 'oo': 0.038079066065269306, 'ok': 0.017718227646590607, 'k ': 0.26124486506161926, ' o': 0.05749990288073401, 'of': 0.08932342796497744, 'f ': 0.3659591343430147, ' W': 0.005080220513707943, 'Wa': 0.03393351800554017, 'ar': 0.08904092130283396, 'r ': 0.2122304385210662, ' a': 0.11252767899080722, 'an': 0.21658671370381888, 'nd': 0.19146485316025275, 'd ': 0.6520553835569315, 'Pe': 0.06276856967464703, 'ea': 0.042901746135759165, 'ac': 0.03566530891071947, 'ce': 0.22034012233649258, ' b': 0.03809017612137436, 'by': 0.08089916588837719, 'y ': 0.6980053812456917, ' L': 0.0011936840692619289, 'Le': 0.22612359550561797, 'eo': 0.005274383584525049, 'o ': 0.14188378880339614, ' T': 0.010593063212281525, 'To': 0.05558814901730713, 'ol': 0.03875829132395861, 'ls': 0.0171992736229101, 'st': 0.11029885373739143, 'to': 0.1062920949210585, 'oy': 0.00369859379145662, 'hi': 0.155096908734053, 'is': 0.12826941567372174, 's ': 0.39277473094408766, ' e': 0.018309630346415594, 'eB': 4.175821351938224e-05, ' i': 0.042457011481263046, ' f': 0.03430605635742715, 'fo': 0.14790195263813877, 'or': 0.10420270628814009, ' t': 0.14391839156369082, 'th': 0.3136165542617479, ' u': 0.00951239065253552, 'us': 0.13699954770185754, 'se': 0.10800382712884042, 'ny': 0.011530090656860736, 'yo': 0.11649729825887795, 'on': 0.13842929158928097, 'ne': 0.08103183789202031, 'yw': 0.0021791821396010764, 'wh': 0.18168421426415496, 're': 0.2433499570077386, 'at': 0.14108086889583343, ' n': 0.020419767125658204, 'no': 0.06547563008456507, ' c': 0.0339652560240432, 'co': 0.20111581636082543, 'os': 0.03580260015919342, ' w': 0.06663264549348948, 'wi': 0.17314418621167196, 'it': 0.12279249783966019, 'h ': 0.09467615309126595, 'al': 0.06904163501684875, 'lm': 0.004153708071552318, 'mo': 0.0970692519826656, ' r': 0.022777116581966895, 'es': 0.06570173071734187, 'tr': 0.025715755966720252, 'ri': 0.0898572656921754, 'ic': 0.05179338631744216, 'ti': 0.06298014964047123, 'io': 0.04417438506383652, 'ns': 0.03997873412674239, 'ha': 0.16207065750736016, 'ts': 0.0274598917087521, 'so': 0.05100337062491011, 'oe': 0.0026585301140886176, 'ev': 0.016382068380680723, 've': 0.5545972585861697, ' Y': 0.0021913638017071802, 'Yo': 0.5897233201581028, 'ou': 0.12455293181215177, 'u ': 0.05979693373052389, ' m': 0.0287508343427851, 'ma': 0.13492403350405097, 'ay': 0.026524671564104263, 'op': 0.016179357919872645, 'py': 0.008432221852013226, ' g': 0.01506937847201376, 'gi': 0.0493363185670878, 'iv': 0.019887297201903534, 'aw': 0.010970803998837667, 'wa': 0.21424640022726063, 'eu': 0.0007837695460560974, 'un': 0.13425456587176568, 'de': 0.1131062951496388, 'rm': 0.02040928632846088, 'ms': 0.03316147376715027, 'Li': 0.21207865168539325, 'in': 0.2903314143836033, 'nc': 0.050423379169412585, 'cl': 0.032903139073737986, 'lu': 0.01532071218351458, 'ud': 0.022271784394154438, 'ed': 0.09208007298050855, 'nl': 0.012050661512645996, 'li': 0.09654762153248868, 'ww': 0.00046162313797205406, 'wg': 0.00012428315253093763, 'gu': 0.02278906125059971, 'go': 0.0511954261954262, 'Ti': 0.010560281607509533, 'tl': 0.013775484646596203, 'le': 0.173443403118412, ' A': 0.010183396490286307, 'Au': 0.04007924413288631, 'ho': 0.08146467124631993, 'Tr': 0.007040187738339689, 'ra': 0.055023215821152195, 'sl': 0.009223880783685925, 'la': 0.07800204554467845, 'rs': 0.06253482373172829, 'Lo': 0.2598314606741573, 'ui': 0.02737183586256375, 'Ay': 0.00030478512648582747, 'yl': 0.0051144070623290565, 'me': 0.25737825662458674, ' M': 0.005726505083752123, 'Ma': 0.4265605875152999, 'au': 0.011465305851945126, 'Po': 0.02470841006752609, 'ng': 0.13841092977277636, ' D': 0.0034927619659764725, 'Da': 0.07337630143777887, ' J': 0.000538570475036817, 'Ja': 0.06472491909385113, 'nu': 0.005327544290057651, 'ua': 0.02064974967637288, 'ry': 0.03941530524505589, '  ': 0.0012131079224599781, 'La': 0.17275280898876405, 'as': 0.0996752601232686, ' U': 0.00042909057519326734, 'Up': 0.01060070671378092, 'pd': 5.1259707307071275e-05, 'da': 0.02000343997248022, 'ag': 0.016935413979618365, 'ge': 0.11002718695026387, 'En': 0.03898980948161276, 'gl': 0.029325923556692786, 'sh': 0.062453489753675484, ' C': 0.0036534502060694245, 'Ch': 0.07142857142857142, ' s': 0.06678980212391006, 'et': 0.023988487581749735, 'od': 0.016184664367206156, 'di': 0.0662624699002408, 'UT': 0.0353356890459364, 'TF': 0.00014667057788207686, 'F ': 0.014381099126861838, ' S': 0.005179105584534375, 'ST': 0.0026791694574681848, 'TA': 0.0007333528894103843, 'AR': 0.0019811033221578786, 'RT': 0.001962708537782139, 'T ': 0.0038134350249339984, ' O': 0.0026575362784603596, 'OF': 0.00672782874617737, 'TH': 0.0027867409797594604, 'HI': 0.001827318410232983, 'IS': 0.0012608750472828142, 'S ': 0.00971198928332217, 'PR': 0.0013812154696132596, 'RO': 0.001962708537782139, 'OJ': 0.0024464831804281344, 'JE': 0.012944983818770227, 'EC': 0.003544528134692069, 'CT': 0.004730368968779565, 'GU': 0.0061396776669224865, 'TE': 0.10956292167791142, 'EN': 0.012405848471422242, 'NB': 0.0011068068622025456, 'BE': 0.0019412090959511925, 'ER': 0.3283119184758529, 'RG': 0.0013084723585214263, 'G ': 0.005372217958557176, 'BO': 0.00887409872434831, 'OO': 0.019571865443425075, 'OK': 0.019571865443425075, 'K ': 0.029142381348875937, 'WA': 0.0024238227146814403, 'R ': 0.24566568531239777, 'AN': 0.0021334958854007926, 'ND': 0.00387382401770891, 'D ': 0.00991571641051066, 'PE': 0.00046040515653775324, 'EA': 0.0031014621178555605, 'AC': 0.0012191405059433099, 'CE': 0.005203405865657522, 'E ': 0.02924235711120957, 'An': 0.4489484913136239, 'n ': 0.2254957883602572, 'ym': 0.0037357408107447023, ' V': 0.001522123768792578, 'Vo': 0.05555555555555555, 'nt': 0.09539184032873496, 'ee': 0.025610633568464197, 'av': 0.022058861014391532, 'vi': 0.16864315416602496, 'id': 0.05259058213551112, 'Wi': 0.09245152354570638, 'dg': 0.003758169934640523, 'ov': 0.03040594322101353, ' B': 0.006303923265185038, 'By': 0.014143094841930116, 'yT': 2.223655244490894e-05, 'oi': 0.01186521623772884, 'i ': 0.004996166157516157, 'CO': 0.0033112582781456954, 'ON': 0.009785932721712538, 'NT': 0.0035971223021582736, 'TS': 0.0002933411557641537, 'NE': 0.0024903154399557276, 'CH': 0.34720908230842007, 'HA': 0.16834170854271358, 'AP': 0.11185614142029869, 'PT': 0.1121853898096992, ' I': 0.01213637663910834, 'I ': 0.5806329592737359, 'II': 0.058000252175009454, 'IV': 0.010843525406632203, 'V ': 0.14516129032258066, 'VI': 0.1935483870967742, 'IX': 0.008573950321523137, 'X ': 0.1827637444279346, ' X': 0.000785783152102897, 'XI': 0.3447251114413076, 'XV': 0.23179791976225855, 'XX': 0.23476968796433878, 'TW': 0.0005866823115283074, 'WO': 0.001038781163434903, 'O ': 0.03058103975535168, 'HR': 0.00045682960255824577, 'RE': 0.004906771344455349, 'EE': 0.004873726185201595, ' F': 0.0033921110903138542, 'FO': 0.004622496147919877, 'OU': 0.00856269113149847, 'UR': 0.024734982332155476, 'FI': 0.0035952747817154596, 'VE': 0.010752688172043012, 'SI': 0.0016744809109176155, 'SE': 0.004018754186202277, 'EV': 0.002215330084182543, 'N ': 0.008024349750968456, 'EI': 0.001329198050509526, 'IG': 0.0005043500189131257, 'GH': 0.0023023791250959325, 'HT': 0.0006852444038373687, ' N': 0.006219164633048097, 'NI': 0.0011068068622025456, 'IN': 0.00176522506619594, 'EL': 0.0017722640673460345, 'LE': 0.01544943820224719, 'WE': 0.0006925207756232687, 'LV': 0.0028089887640449437, 'IR': 0.00088261253309797, 'IF': 0.00037826251418484426, 'FT': 0.001027221366204417, 'RS': 0.0009813542688910696, 'EP': 0.002658396101019052, 'PI': 0.0006138735420503376, 'IL': 0.0010087000378262514, 'LO': 0.0056179775280898875, 'OG': 0.0024464831804281344, 'UE': 0.0176678445229682, 'We': 0.24722991689750692, 'el': 0.032879774891107424, 'll': 0.1378864096516312, 'l ': 0.13489114780103947, 'Ge': 0.2563315425940138, 'oa': 0.0073865746882462195, 'a ': 0.07421096366685868, 'Lu': 0.01544943820224719, 'uc': 0.03192601026248889, 'cc': 0.017644686428715466, 'ca': 0.10978355851314109, 'ow': 0.05256036083841868, 'w ': 0.14663636525043056, ' j': 0.0023873681385238577, 'ju': 0.4298323036187114, 'fa': 0.07143936246553613, 'am': 0.023149823865577065, 'mi': 0.07706274301570716, 'il': 0.047424022978713044, 'ly': 0.10440627022062661, 'ta': 0.03417230968200261, 'Bu': 0.3247365501941209, 'uo': 0.0023238766629754977, 'na': 0.020390871180865144, 'ap': 0.01973419250906162, 'pa': 0.10895250788118, 'rt': 0.03208942390369733, 'rn': 0.01877901977644024, ' y': 0.009701331770007452, 'if': 0.0209339970546353, ' d': 0.026935586971185598, 'do': 0.039447884416924664, 'ef': 0.010240398823060813, 'fe': 0.08581032594327152, 'nf': 0.0050727968499925235, 'ie': 0.051343061962197095, ' h': 0.08153603831090173, 'rr': 0.03391229578675838, ' p': 0.023262712911918122, 'pe': 0.19937463157085372, 'rp': 0.0037420464316423045, 'ch': 0.18017745513208308, 'hr': 0.008372178606476937, 'tI': 4.5538792220152736e-05, 'ot': 0.05285221544176174, ' l': 0.022102579134543734, 'lo': 0.08467093865453255, 'my': 0.039636183004744696, 'fr': 0.08169354534123957, 'ai': 0.04450516677967139, 'hf': 0.0004232090284592738, 'fu': 0.03503040374664804, 'ul': 0.0985386091052295, 'ur': 0.12564530467738666, 'lf': 0.02413951449623244, 'ig': 0.026033616104572617, 'gh': 0.11916280185510955, 'ht': 0.02582801766437684, 'si': 0.056168743863774226, 'wn': 0.03948653303268647, 'ew': 0.010362461293348238, 'ws': 0.01537560144168457, 'It': 0.12003530450132392, 'Ju': 0.6731391585760518, 'sp': 0.01953586682592192, 'ak': 0.01288763592428514, 'ke': 0.29405647132234414, 'we': 0.1250466061821991, 'lk': 0.011031330230228141, 'kn': 0.11736259164890021, 'nn': 0.010848918154077897, 'Pv': 0.028391651319828116, 'vl': 0.008047127675958724, 'vn': 0.024179886031110428, 'Sc': 0.030475552578700604, 'vo': 0.054058216540890186, 'Em': 0.3212228622064688, 'mp': 0.058820506671691135, 'pr': 0.1394520337288874, 'ss': 0.060677501860409856, 'Mr': 0.039473684210526314, 'ya': 0.025905583598318918, 'Fd': 0.01386748844375963, 'wo': 0.08021589759068232, 'rd': 0.030493551160791058, 'ds': 0.020553835569315445, 'gr': 0.05265472573164881, 'Va': 0.25, ' K': 0.002037738780958973, 'Ku': 0.5412156536219817, 'nk': 0.008262677838634111, 'im': 0.059534096856249163, 'po': 0.11733347002588615, 'fi': 0.08618801223703591, 'ir': 0.03597117924126431, 'ep': 0.011017744028575466, 'pt': 0.04052079862623984, 'ad': 0.05727045172999179, 'ug': 0.05067298844300264, 'om': 0.05872114619262404, 'ys': 0.03537835493985013, 'Sh': 0.2926992632283992, 'sa': 0.0522790802383826, 'su': 0.023819499596650636, 'uf': 0.00516243741909322, 'ff': 0.05361256939985648, 'm ': 0.21375104914270054, 'ip': 0.005148302764017867, 'pp': 0.0673808852551452, 'ei': 0.011165503861028665, 'St': 0.06999330207635633, 'sb': 0.0027577840173596564, 'bu': 0.13213745128981352, 'Al': 0.1030173727522097, 'nv': 0.0041867187975920825, 'ex': 0.009973788690590912, 'xc': 0.16226415094339622, 'wr': 0.009196953287289384, 'tt': 0.02022377762496983, 'Fr': 0.6928608115048793, 'sc': 0.013363683548974117, 'rl': 0.008956147893379191, 'tm': 0.0014572413510448876, 'ni': 0.027701015113168782, 'If': 0.038078426427940994, 'Co': 0.40539262062440873, 'va': 0.05448174957646697, 'ib': 0.00768594136046639, 'bl': 0.1164857814563138, ' v': 0.005521671722754514, 'tw': 0.00507757533254703, ' H': 0.0063869160924857945, 'He': 0.48538145271813615, 'ru': 0.014383490971625107, 'ck': 0.044094911608523225, 'pl': 0.10559499705256684, 'em': 0.020506495008287398, 'mb': 0.018619071273188195, 'br': 0.05993365753115842, ' k': 0.0050713914895270116, 'xp': 0.36495956873315366, 'fl': 0.022680061940552176, 'df': 0.000997592019263846, 'iz': 0.003505227413799399, 'zi': 0.10570175438596491, 'tu': 0.013247234656842431, 'ld': 0.07220981443987559, 'oc': 0.0075139294242504645, 'ci': 0.04310344827586207, 'ty': 0.014303734636349975, 'up': 0.04323346382394685, 'p ': 0.08068277930133019, 'ki': 0.17055795330456033, 'ba': 0.08772664326430711, 'Fi': 0.05290190035952748, 'Se': 0.09109176155391828, 'lt': 0.017543676553465944, 'af': 0.0073767441386236535, 'sy': 0.00234505443653032, 'hy': 0.006470804710500491, 'Ca': 0.08940397350993377, 'ik': 0.007290386183561944, 'yi': 0.0241266594027262, 'dn': 0.0031217750257997935, 'sd': 0.0005440526292750343, 'mu': 0.026789537692057348, 'pu': 0.029192403311377093, 'My': 0.044369645042839655, 'rk': 0.00694067067927773, 'ks': 0.04040351515781811, 'ey': 0.011949273407084763, 'nm': 0.0008196221984704077, 'du': 0.008290333677330581, 'rc': 0.0101530524505589, 'ab': 0.017435013789974356, 'bi': 0.02975749573282664, 'gs': 0.01795138333599872, 'Do': 0.1819533961328706, 'bo': 0.09880519145921227, 'No': 0.20558937465412286, 'vs': 0.023794855998767905, 'tc': 0.002978237011197989, 'yt': 0.0189010695781726, 'Wh': 0.5865650969529086, 'dy': 0.01021671826625387, 'lw': 0.0049990607192803025, 'dl': 0.0108703130374957, 'pi': 0.05705205423277033, 'ye': 0.04718596428809677, 'rf': 0.003116079105760963, 'hu': 0.009322865554465163, 'ia': 0.01769044460401884, 'c ': 0.010166700275593198, 'ub': 0.014083628366891776, 'bd': 0.0006441016392386719, 'ue': 0.029492958185816553, 'sm': 0.009936777332391143, 'ps': 0.02773150165312556, 'sn': 0.002851586194820869, 'In': 0.07502206531332745, 'Oh': 0.1871559633027523, 'rh': 0.001355116079105761, ' R': 0.003957168637893465, 'Ru': 0.26333006215243704, 'Eu': 0.03145768719539211, 'Ou': 0.03853211009174312, 'gn': 0.01869102830641292, 'og': 0.004070045104802335, 'ze': 0.31973684210526315, 'ob': 0.0046696736534889895, 'Go': 0.409823484267076, 'cr': 0.0341130604288499, 'yd': 0.000378021391563452, 'dr': 0.029618163054695563, 'sk': 0.0134887531189224, 'mm': 0.023706342817012383, 'xa': 0.0908355795148248, 'ft': 0.04065792952373758, 'cu': 0.028315520602271962, 'ek': 0.0008576494622826966, 'sw': 0.004327407120210617, 'v ': 0.09683505313414446, 'bn': 0.0007085118031625391, 'eg': 0.006880468719885903, 'ga': 0.0667479609787302, 'Ha': 0.06943809958885336, 'gw': 0.0004997601151447306, 'tz': 0.0030328835618621723, 'z ': 0.06140350877192982, 'dd': 0.011222910216718266, 'Ki': 0.08742714404662781, 'oq': 0.00013266118333775536, 'qu': 0.9991289198606271, 'Vi': 0.10931899641577061, 'mt': 0.0040595399188092015, 'Mo': 0.29773561811505506, 'cy': 0.004957316663305774, 'Ro': 0.37618580307491006, 'oh': 0.00031308039267710267, 'Ab': 0.005333739713501981, 'bb': 0.007374963769282793, 'b ': 0.0062155808186531835, ' q': 0.0024562345271351227, 'Ba': 0.12895174708818635, 'Fu': 0.002054442732408834, 'bt': 0.008856397539531739, 'As': 0.040841206949100886, 'um': 0.021304802158553893, 'aj': 0.0008564568177531263, 'eb': 0.000831952100116923, 'uk': 0.001419280378058861, 'nr': 0.00044303902620022043, 'az': 0.0017791870797371494, 'fy': 0.001605166748498697, 'cs': 0.001663641863278887, 'nI': 2.215195131001102e-05, 'jo': 0.3000882612533098, 'dm': 0.0017457860337117303, 'ej': 0.0002730344730113454, 'Tw': 0.01026694045174538, 'rv': 0.005124677558039553, 'lp': 0.004091089356905801, 'sf': 0.0019510852911932262, 'Be': 0.17831392124237383, 'lv': 0.005134734601014423, 'Hi': 0.122658748286889, 'kl': 0.018771774738703135, 'np': 0.0005537987827502755, 'hm': 0.0023245829244357215, 'nh': 0.0008528501254354242, 'ka': 0.01747179033851594, 'Is': 0.016139200605220023, 'gy': 0.0027386854309931234, 'Me': 0.02447980416156671, 'zo': 0.27631578947368424, 'nw': 0.0007420903688853692, 'Ar': 0.030173727522096922, 'wu': 0.0003195852493652682, 'mc': 0.0008907007416796561, 'At': 0.04922279792746114, 'ez': 0.0005460689460226908, 'Il': 0.03946538897995209, 'eh': 0.002187487954361485, 'Hl': 0.038145271813613525, 'ln': 0.00434156421549187, 'Pt': 0.04189686924493554, 'wl': 0.0035509472151696465, 'Ea': 0.014621178555604785, 'bs': 0.015458439341728124, 'mn': 0.005241431287576438, 'hl': 0.0009629538763493621, 'tn': 0.0010200689457314214, 'hs': 0.0011837585868498528, 'Ev': 0.09614532565352238, 'Ol': 0.036085626911314984, 'kb': 0.000623992512089855, 'Mi': 0.09975520195838433, 'So': 0.13563295378432685, 'nq': 0.0013457310420831696, 'Te': 0.01642710472279261, 'tf': 0.0008788986898489478, 'On': 0.41651376146788993, 'xt': 0.12668463611859837, 'zk': 0.04429824561403509, 'kh': 0.0425874889501326, 'tg': 8.65237052182902e-05, 'nx': 0.00045411500185522593, 'xi': 0.07574123989218329, 'Pi': 0.30263965623081646, 'gg': 0.008935710858787782, 'cq': 0.0019661222020568663, 'Ye': 0.35889328063241105, 'fc': 0.0008686784756581184, 'bv': 0.0015136388522108788, 'dh': 0.0006879944960440316, 'Du': 0.07288051561725335, 'dE': 6.879944960440316e-05, 'Ah': 0.026973483693995732, 'Ho': 0.09159433531292828, 'dv': 0.002760577915376677, 'lg': 0.0015341585088396751, 'vy': 0.003272755274911443, 'mw': 0.00025693290625374693, 'lr': 0.004873823289987268, 'ao': 0.00021411420443828157, 'dj': 0.0020295837633298934, 'Fe': 0.023112480739599383, 'fs': 0.004324508063602372, 'kg': 0.0008319900161198066, 'ph': 0.010508239997949611, 'cd': 0.00015124016938898973, 'Pa': 0.02394106813996317, 'nj': 0.0006645585393003306, 'Na': 0.515218594355285, 'bj': 0.005635889343338378, 'eq': 0.000809466908221871, 'rb': 0.0015202063628546863, 'iu': 0.000791110353808892, 'Ve': 0.07437275985663082, 'Ed': 0.00044306601683650863, 'rw': 0.0020842648323301806, 'yn': 0.0032243001045117966, 'Dr': 0.07288051561725335, 'ky': 0.007591908897093235, 'uI': 6.238595068390598e-05, 'tj': 1.3661637666045821e-05, 'ae': 0.0003517590501486055, 'db': 0.0006965944272445821, 'Ce': 0.009933774834437087, 'Ap': 0.004114599207558671, 'Ad': 0.004419384334044499, 'zy': 0.0061403508771929825, 'Di': 0.0466038671294001, 'lh': 0.0001565467866162934, ' Q': 6.0037364430333703e-05, 'Qu': 0.9714285714285714, 'El': 0.011519716437749225, 'za': 0.03333333333333333, 'Bt': 0.0013865779256794233, 'zu': 0.010964912280701754, 'xe': 0.08436657681940701, 'yI': 0.00013341931466945365, 'Im': 0.016643550624133148, 'wd': 0.0065514976119879975, 'Af': 0.03383114903992685, 'yr': 0.0025127304262747103, 'Re': 0.047432122996401704, 'Wo': 0.02631578947368421, 'rj': 2.063628546861565e-05, 'Sa': 0.024447421299397188, 'tb': 0.00015938577277053458, 'Br': 0.03410981697171381, 'wk': 0.0011185483727784386, 'kw': 0.004575945088658936, 'Su': 0.045880776959142666, 'Ex': 0.011519716437749225, 'eI': 3.5333872977938814e-05, 'Gi': 0.02072141212586339, 'yb': 0.0034911387338507037, 'Op': 0.003669724770642202, 'ix': 0.0015578788505775105, 'Wr': 0.006578947368421052, 'De': 0.2989588497768964, 'yf': 0.0034689021814057947, 'Ei': 0.004873726185201595, 'lb': 0.001565467866162934, 'Ml': 0.006731946144430845, 'Un': 0.5371024734982333, 'sq': 0.0009567822101043705, 'x ': 0.06684636118598383, 'xh': 0.016172506738544475, 'Ne': 0.053126729385722195, 'ux': 0.0006706489698519893, 'xu': 0.004582210242587601, 'pk': 0.0005125970730707127, 'fw': 0.0006042980700230389, 'gt': 0.004677754677754678, 'ax': 0.00025489786242652567, 'Fo': 0.13405238828967642, 'lc': 0.0013254294600179507, 'A ': 0.06842426089606828, 'Dl': 0.16360932077342588, 'ml': 0.003579931827135541, 'Pu': 0.0035297728667894415, 'Ta': 0.014227046054561454, 'Eh': 0.024811696942844484, 'lI': 1.0436452441086227e-05, 'Pl': 0.015193370165745856, 'tv': 0.004494678792129075, 'pm': 0.0006920060486454622, 'Ra': 0.02453385672227674, 'dz': 1.719986240110079e-05, 'Or': 0.0599388379204893, 'yp': 0.0012452469369149007, 'kI': 0.00010399875201497582, 'ja': 0.0353045013239188, 'Dm': 0.06544372830937036, 'Lv': 0.0028089887640449437, 'vv': 0.00030802402587401816, 'Ka': 0.14737718567860117, 'fb': 0.000547645125958379, 'ox': 0.0007482090740249403, 'mv': 0.00015415974375224817, 'Iv': 0.016391375614676587, 'yk': 0.0008449889929065397, 'Cy': 0.007095553453169348, 'Vl': 0.044802867383512544, 'Si': 0.035164099129269925, 'Es': 0.002658396101019052, 'gm': 0.000359827282904206, 'Ni': 0.19203099059214168, 'Sn': 0.15003348961821836, 'ku': 0.0008319900161198066, 'fg': 1.8884314688219965e-05, 'yv': 0.0005559138111227236, 'Hu': 0.01667428049337597, 'hb': 0.0004232090284592738, 'Vr': 0.06630824372759857, 'Cl': 0.020813623462630087, 'hn': 0.001919774288518155, 'uv': 0.001731210131478391, 'yg': 0.0002223655244490894, 'dS': 1.719986240110079e-05, 'dk': 0.0005933952528379773, 'wt': 0.00040835892974450935, 'nz': 0.00012183573220506061, 'wf': 0.0008877368037924116, 'Hm': 0.0022841480127912287, 'mf': 0.002363782737534472, 'Sp': 0.04018754186202277, 'Of': 0.04525993883792049, 'ko': 0.00873589516925797, 'aa': 0.00012235097396473234, 'dt': 0.0006363949088407293, 'Tu': 0.008360222939278381, 'Ak': 0.0007619628162145687, 'hp': 5.520117762512267e-05, 'Kr': 0.06744379683597003, 'mr': 0.0014045665541871498, ' z': 8.299282730075542e-05, 'vr': 0.005813953488372093, 'yy': 0.00024460207689399834, 'dw': 0.0005503955968352253, 'Rh': 0.010140660778541054, ' Z': 0.00017481467878244225, 'Za': 0.21296296296296297, 'zv': 0.0017543859649122807, 'Je': 0.12944983818770225, 'Ic': 0.00037826251418484426, 'Ag': 0.007619628162145687, 'Nu': 0.002213613724405091, 'uz': 0.0011385435999812842, 'vu': 0.0007700600646850454, 'Oo': 0.007339449541284404, 'Fa': 0.04930662557781202, 'zz': 0.0206140350877193, 'zl': 0.01929824561403509, 'kr': 0.003067963184441787, 'pb': 0.0003075582438424277, 'Mm': 0.0006119951040391676, 'gI': 7.996161842315688e-05, 'sg': 0.00029391348937846676, 'Id': 0.004160887656033287, 'Gr': 0.10053722179585571, 'pw': 0.0005125970730707127, 'Eg': 0.0031014621178555605, 'kc': 0.0027039675523893715, 'ah': 0.000754497672782516, 'wy': 0.0007279441791097776, 'wc': 0.00040835892974450935, 'md': 6.851544166766585e-05, 'oz': 0.0005837092066861237, 'AB': 0.0006095702529716549, 'BC': 0.00027731558513588466, 'C ': 0.0023651844843897824, 'Ke': 0.009159034138218152, 'JU': 0.003236245954692557, 'UL': 0.01060070671378092, 'LI': 0.018258426966292134, 'IE': 0.0007565250283696885, 'PS': 0.0001534683855125844, 'gd': 0.001079481848712618, 'Ep': 0.0008861320336730173, 'Et': 0.002215330084182543, 'MA': 0.0021419828641370867, 'RY': 0.0006542361792607131, 'Y ': 0.008695652173913044, 'yh': 0.0006448600209023593, 'Tk': 0.012026987386330302, 'hw': 0.00034347399411187437, 'tY': 4.553879222015274e-06, 'Od': 0.003669724770642202, 'iq': 0.00016430753502184682, 'cm': 5.0413389796329905e-05, 'dT': 2.5799793601651186e-05, 'Sw': 0.007032819825853985, 'Rr': 0.00032711808963035657, 'Ac': 0.0021334958854007926, 'Ts': 0.02273393957172191, 'B ': 0.0022185246810870773, 'mk': 0.0006166389750089927, 'sR': 6.253478497414187e-06, 'tR': 1.3661637666045821e-05, 'Am': 0.00853398354160317, 'Oc': 0.025688073394495414, 'hk': 0.0006746810598626104, 'kf': 0.0009879881441422704, 'Ms': 0.004589963280293758, 'Kn': 0.017485428809325562, 'Zb': 0.06481481481481481, 'hd': 0.00038640824337585867, 'dq': 0.0003955968352253182, 'nR': 1.6613963482508265e-05, 'Mt': 0.012545899632802938, 'fk': 0.0001699588321939797, 'sr': 0.0002876600108810526, 'Ga': 0.02686108979278588, 'hg': 0.00017173699705593719, 'Cr': 0.019867549668874173, 'ji': 0.0048543689320388345, 'sv': 0.0004752643658034782, 'vt': 0.0035807793007854613, 'Ig': 0.001513050056739377, 'yc': 0.003802450468079429, 'mh': 0.0003597060687552457, 'Km': 0.010824313072439634, 'Zh': 0.4537037037037037, 'kv': 0.0047319432166814, 'Ul': 0.05653710247349823, 'Ko': 0.07160699417152373, 'Ot': 0.03363914373088685, 'lz': 0.0002817842159093281, 'Vs': 0.015232974910394265, 'Uk': 0.0176678445229682, 'Oe': 0.0012232415902140672, 'Mu': 0.02447980416156671, 'vw': 0.00023101801940551362, 'bw': 0.0005474863933528711, 'Ug': 0.01060070671378092, 'ih': 3.65127855604104e-05, 'cw': 0.00015124016938898973, 'uh': 0.00017156136438074146, 'iw': 3.0427321300342003e-05, 'km': 0.0016119806562321251, 'eS': 3.2121702707217105e-06, 'pf': 0.001358382243637389, 'Sm': 0.036838580040187544, 'Zk': 0.009259259259259259, 'tp': 0.00019126292732464149, 'mR': 1.7128860416916463e-05, 'Aw': 0.0010667479427003963, 'Bi': 0.021630615640599003, 'bc': 9.661524588580078e-05, 'sI': 5.0027827979313496e-05, 'xq': 0.001078167115902965, 'Ob': 0.0061162079510703364, 'Fl': 0.004622496147919877, 'lA': 1.0436452441086227e-05, 'dU': 8.599931200550395e-06, 'Ai': 0.00045717768972874126, 'Zn': 0.1574074074074074, 'sZ': 1.2506956994828374e-05, 'aZ': 1.0195914497061027e-05, 'RI': 0.001962708537782139, 'NC': 0.001383508577753182, 'MU': 0.0003059975520195838, 'RA': 0.0032711808963035655, 'AT': 0.0009143553794574825, 'NA': 0.0011068068622025456, 'PO': 0.000767341927562922, 'OL': 0.001834862385321101, 'EO': 0.001329198050509526, 'wm': 7.101894430339293e-05, 'Sd': 0.0013395847287340924, 'hc': 0.00039867517173699705, 'vd': 0.00015401201293700908, 'fh': 0.0001699588321939797, 'Gl': 0.012279355333844973, 'xl': 0.001078167115902965, 'Az': 0.00030478512648582747, 'kt': 0.0007799906401123187, 'Bl': 0.004991680532445923, 'Cu': 0.004257332071901609, 'fp': 0.0002077274615704196, 'Ek': 0.002215330084182543, 'dc': 0.00010319917440660474, 'Ow': 0.0030581039755351682, 'Ir': 0.00037826251418484426, 'Ry': 0.008177952240758913, 'zn': 0.013596491228070176, 'Ll': 0.004213483146067416, 'yz': 0.000778279335571813, 'Vk': 0.0008960573476702509, 'zm': 0.028070175438596492, 'Vy': 0.025089605734767026, 'oP': 1.061289466702043e-05, 'hF': 6.133464180569186e-06, 'rM': 1.3757523645743766e-05, 'wb': 0.00019530209683433055, 'bm': 0.0022543557373353516, 'pI': 5.1259707307071275e-05, 'rI': 3.4393809114359416e-05, 'mI': 3.4257720833832925e-05, 'hI': 6.133464180569186e-06, 'Ey': 0.002658396101019052, 'dp': 7.739938080495357e-05, 'gf': 0.00021989445066368144, 'Us': 0.02120141342756184, 'Cz': 0.0023651844843897824, 'Os': 0.007951070336391437, 'rz': 0.0006878761822871883, 'sz': 2.5013913989656748e-05, 'zw': 0.0017543859649122807, 'eK': 2.5697362165773684e-05, 'Tv': 0.0014667057788207685, 'Ov': 0.001834862385321101, 'lE': 0.00017741969149846583, 'nM': 5.537987827502755e-06, 'Nv': 0.001383508577753182, 'vg': 0.00011550900970275681, 'Uv': 0.04240282685512368, 'Uh': 0.10954063604240283, 'Zu': 0.009259259259259259, 'sj': 2.5013913989656748e-05, 'rH': 6.878761822871883e-06, 'fm': 0.00011330588812931979, 'pn': 0.0008201553169131404, 'zh': 0.046052631578947366, 'uy': 0.0003119297534195299, 'Kl': 0.006661115736885929, 'Gw': 0.0007674597083653108, 'uS': 1.5596487670976495e-05, 'Ip': 0.00012608750472828143, 'tk': 5.0092671442168013e-05, 'nC': 1.107597565500551e-05, 'pc': 0.0032806212676525616, 'Yr': 0.0007905138339920949, 'hv': 0.0008157507360157017, 'rq': 9.630266552020637e-05, 'Ee': 0.00044306601683650863, 'sB': 6.253478497414187e-06, 'Av': 0.00015239256324291374, 'tB': 9.107758444030547e-06, 'Fk': 0.0015408320493066256, 'Sv': 0.004018754186202277, 'sS': 1.2506956994828374e-05, 'Ph': 0.001074278698588091, 'Io': 0.0016391375614676585, 'uw': 3.119297534195299e-05, 'Aa': 0.00015239256324291374, 'IO': 0.0005043500189131257, 'U ': 0.024734982332155476, 'aI': 1.0195914497061027e-05, 'vb': 3.850300323425227e-05, 'yY': 2.223655244490894e-05, 'Jo': 0.11650485436893204, 'zd': 0.008771929824561403, 'vk': 0.00034652702910827044, 'fd': 0.00013219020281753975, 'Sq': 0.0053583389149363695, 'dI': 4.299965600275198e-05, 'td': 3.643103377612219e-05, 'M ': 0.00397796817625459, 'qc': 0.00043554006968641115, 'LU': 0.004213483146067416, 'Ur': 0.0176678445229682, 'Kh': 0.006661115736885929, 'hE': 2.4533856722276743e-05, 'hh': 7.973503434739942e-05, 'yA': 2.223655244490894e-05, 'lS': 1.0436452441086227e-05, 'Yk': 0.012648221343873518, 'sG': 1.2506956994828374e-05, 'Sl': 0.003348961821835231, 'yW': 2.223655244490894e-05, 'Ty': 0.00014667057788207686, 'kp': 0.00015599812802246374, 'Nl': 0.0002767017155506364, 'Lg': 0.004213483146067416, 'Lz': 0.016853932584269662, 'Er': 0.021710234824988923, 'wI': 3.5509472151696465e-05, 'Ci': 0.003784295175023652, 'Ri': 0.004252535165194635, 'eM': 3.2121702707217105e-06, 'NN': 0.0005534034311012728, 'SS': 0.0013395847287340924, 'Mv': 0.00795593635250918, 'wB': 1.7754736075848232e-05, 'nP': 1.6613963482508265e-05, 'tE': 4.553879222015274e-06, 'aq': 1.0195914497061027e-05, 'Yu': 0.0023715415019762848, 'wN': 1.7754736075848232e-05, 'Bs': 0.0008319467554076539, 'yN': 8.894620977963576e-05, 'Ly': 0.0056179775280898875, 'yu': 0.0011118276222454471, 'yC': 2.223655244490894e-05, 'rC': 6.878761822871883e-06, 'gp': 5.9971213817367666e-05, 'nD': 5.537987827502755e-06, 'nT': 2.7689939137513777e-05, 'Ss': 0.0006697923643670462, 'wp': 5.32642082275447e-05, 'Ib': 0.0007565250283696885, 'Iw': 0.00025217500945656286, 'iF': 6.0854642600684e-06, 'eR': 3.2121702707217105e-06, 'rT': 6.878761822871883e-06, 'Pn': 0.0009208103130755065, 'rR': 6.878761822871883e-06, 'vz': 0.0002695210226397659, 'aM': 5.097957248530514e-06, 'gq': 1.999040460578922e-05, 'uq': 1.5596487670976495e-05, 'sC': 1.2506956994828374e-05, 'Tp': 0.0002933411557641537, 'Sy': 0.0020093770931011385, 'Eq': 0.0008861320336730173, 'dN': 8.599931200550395e-06, 'Kv': 0.0008326394671107411, 'iy': 6.0854642600684e-06, 'xo': 0.0013477088948787063, 'Pf': 0.007213014119091467, 'rB': 6.878761822871883e-06, 'Dv': 0.0004957858205255329, 'Dn': 0.0034705007436787306, 'xM': 0.0005390835579514825, 'Vt': 0.007168458781362007, 'gc': 9.995202302894611e-05, 'Zd': 0.06481481481481481, 'kk': 5.199937600748791e-05, 'Md': 0.0003059975520195838, 'fn': 0.0002454960909468595, 'gk': 1.999040460578922e-05, 'Gh': 0.0007674597083653108, 'q ': 0.00043554006968641115, ' x': 8.829024180931427e-06, 'Lr': 0.0056179775280898875, 'rW': 1.3757523645743766e-05, 'uP': 1.5596487670976495e-05, 'Zi': 0.009259259259259259, 'Bw': 0.0008319467554076539, 'tM': 4.553879222015274e-06, 'Wl': 0.00034626038781163435, 'yH': 2.223655244490894e-05, 'wM': 1.7754736075848232e-05, 'lq': 2.0872904882172454e-05, 'zc': 0.0004385964912280702, 'Gc': 0.0007674597083653108, 'bz': 9.661524588580078e-05, 'lx': 1.0436452441086227e-05, 'hH': 6.133464180569186e-06, 'oZ': 2.122578933404086e-05, 'dA': 8.599931200550395e-06, 'Py': 0.0003069367710251688, 'Ya': 0.021343873517786563, 'Gn': 0.0007674597083653108, 'xE': 0.00026954177897574127, 'Vn': 0.0008960573476702509, 'rA': 1.3757523645743766e-05, 'Wu': 0.0006925207756232687, 'Pw': 0.00046040515653775324, 'bh': 6.441016392386718e-05, 'Ps': 0.0001534683855125844, 'Nz': 0.002213613724405091, 'Lb': 0.004213483146067416, 'Ut': 0.02120141342756184, 'zb': 0.0004385964912280702, 'Tc': 0.0008800234672924611, 'Zw': 0.009259259259259259, 'tP': 1.3661637666045821e-05, 'Ec': 0.002215330084182543, 'xs': 0.001078167115902965, 'nN': 5.537987827502755e-06, 'Xs': 0.0029717682020802376, 'yF': 2.223655244490894e-05, 'rP': 1.3757523645743766e-05, 'sD': 6.253478497414187e-06, 'AL': 0.0009143553794574825, 'LF': 0.0028089887640449437, 'oY': 4.245157866808172e-05, 'xy': 0.0018867924528301887, 'tC': 9.107758444030547e-06, 'gY': 1.999040460578922e-05, 'sP': 6.253478497414187e-06, 'Ef': 0.001329198050509526, 'Kd': 0.0008326394671107411, 'Sk': 0.0020093770931011385, 'rK': 1.3757523645743766e-05, 'zs': 0.0008771929824561404, 'gz': 0.00013993283224052454, 'aT': 5.097957248530514e-06, 'hV': 6.133464180569186e-06, 'gE': 1.999040460578922e-05, 'xf': 0.00026954177897574127, 'tG': 4.553879222015274e-06, 'gN': 1.999040460578922e-05, 'mP': 1.7128860416916463e-05, 'yG': 4.447310488981788e-05, 'Lp': 0.0014044943820224719, 'aY': 5.097957248530514e-06, 'Ok': 0.0012232415902140672, 'Tl': 0.0011733646230566149, 'iN': 1.21709285201368e-05, 'MO': 0.0009179926560587516, 'NS': 0.001383508577753182, 'EU': 0.00044306601683650863, 'KO': 0.0008326394671107411, 'TO': 0.0007333528894103843, 'UZ': 0.0035335689045936395, 'ZO': 0.009259259259259259, 'OV': 0.0012232415902140672, 'OS': 0.0030581039755351682, 'SC': 0.0016744809109176155, 'OW': 0.001834862385321101, 'W ': 0.0006925207756232687, 'OC': 0.0012232415902140672, 'OB': 0.0006116207951070336, 'Ds': 0.0004957858205255329, 'Sr': 0.0003348961821835231, 'Rz': 0.00032711808963035657, 'vh': 3.850300323425227e-05, 'Kk': 0.0008326394671107411, 'fj': 1.8884314688219965e-05, 'vD': 0.0003850300323425227, 'rG': 6.878761822871883e-06, 'eT': 3.2121702707217105e-06, 'zt': 0.0004385964912280702, 'NH': 0.0002767017155506364, 'BI': 0.0011092623405435386, 'IT': 0.0013869625520110957, 'CL': 0.0014191106906338694, 'LA': 0.0056179775280898875, 'AM': 0.0006095702529716549, 'TI': 0.0013200352009386917, 'gO': 1.999040460578922e-05, 'eO': 3.2121702707217105e-06, 'mg': 1.7128860416916463e-05, 'gb': 3.998080921157844e-05, 'oF': 5.306447333510215e-06, 'vK': 3.850300323425227e-05, 'GE': 0.003837298541826554, 'L ': 0.009831460674157303, 'AF': 0.00030478512648582747, 'FF': 0.0005136106831022085, 'uj': 1.5596487670976495e-05, 'hz': 1.8400392541707557e-05, 'Ih': 0.00012608750472828143, 'Gz': 0.0007674597083653108, 'aV': 5.097957248530514e-06, 'bk': 6.441016392386718e-05, 'Oz': 0.001834862385321101, 'uu': 3.119297534195299e-05, 'gv': 0.00019990404605789222, 'gK': 1.999040460578922e-05, 'Db': 0.001487357461576599, 'Ax': 0.00015239256324291374, 'kd': 0.00015599812802246374, 'eC': 3.2121702707217105e-06, 'yj': 2.223655244490894e-05, 'oT': 5.306447333510215e-06, 'tW': 4.553879222015274e-06, 'lM': 1.0436452441086227e-05, 'eP': 3.2121702707217105e-06, 'rD': 6.878761822871883e-06, 'Kw': 0.0008326394671107411, 'gM': 1.999040460578922e-05, 'gP': 1.999040460578922e-05, 'Ia': 0.00012608750472828143, 'eD': 3.2121702707217105e-06, 'tS': 4.553879222015274e-06, 'sN': 6.253478497414187e-06, 'Vw': 0.0008960573476702509, 'Gt': 0.0007674597083653108, 'NY': 0.0011068068622025456, 'YT': 0.0007905138339920949, 'NG': 0.0005534034311012728, 'FU': 0.0015408320493066256, 'LL': 0.004213483146067416, 'IC': 0.0005043500189131257, 'HE': 0.0011420740063956144, 'PL': 0.00046040515653775324, 'AS': 0.0006095702529716549, 'AD': 0.00030478512648582747, 'EF': 0.0008861320336730173, 'OR': 0.007339449541284404, 'YO': 0.0047430830039525695, 'DI': 0.0034705007436787306, 'TR': 0.0007333528894103843, 'IB': 0.0005043500189131257, 'BU': 0.0008319467554076539, 'US': 0.014134275618374558, 'RK': 0.0006542361792607131, 'pg': 0.0002050388292282851, 'PG': 0.0003069367710251688, 'GL': 0.0015349194167306216, 'CI': 0.0014191106906338694, 'IM': 0.0006304375236414071, 'MI': 0.0009179926560587516, 'ED': 0.002658396101019052, 'RR': 0.0013084723585214263, 'TY': 0.0008800234672924611, 'AI': 0.00015239256324291374, 'ME': 0.0015299877600979193, 'DA': 0.0019831432821021317, 'AG': 0.0010667479427003963, 'ES': 0.0031014621178555605, 'GR': 0.0030698388334612432, 'AV': 0.00015239256324291374, 'NO': 0.001383508577753182, 'EM': 0.002215330084182543, 'EG': 0.00044306601683650863, 'IA': 0.00037826251418484426, 'BR': 0.0005546311702717693, 'H ': 0.0011420740063956144, 'EX': 0.0008861320336730173, 'XC': 0.0014858841010401188, 'HO': 0.00022841480127912289, 'ID': 0.00025217500945656286, 'DE': 0.002478929102627665, 'PA': 0.0001534683855125844, 'PH': 0.0001534683855125844, 'UN': 0.014134275618374558, 'WN': 0.00034626038781163435, 'WI': 0.0006925207756232687, 'OT': 0.0024464831804281344, 'BL': 0.00027731558513588466, 'TU': 0.00014667057788207686, 'UA': 0.0035335689045936395, 'EQ': 0.00044306601683650863, 'QU': 0.02857142857142857, 'PU': 0.0003069367710251688, 'GI': 0.0007674597083653108, 'SU': 0.0003348961821835231, 'UC': 0.0035335689045936395, 'KI': 0.0008326394671107411, 'XP': 0.0014858841010401188, 'MP': 0.0003059975520195838, 'UD': 0.0035335689045936395, 'RC': 0.00032711808963035657, 'TN': 0.00014667057788207686, 'RP': 0.00032711808963035657, 'MN': 0.0003059975520195838, 'AK': 0.00015239256324291374, 'DO': 0.0004957858205255329}\n",
            "{'Th': 4888, 'he': 72792, 'e ': 110921, ' P': 5758, 'Pr': 2410, 'ro': 13564, 'oj': 117, 'je': 521, 'ec': 5431, 'ct': 4124, 't ': 58224, ' G': 1273, 'Gu': 190, 'ut': 10941, 'te': 18330, 'en': 26101, 'nb': 153, 'be': 10704, 'er': 43299, 'rg': 1493, 'g ': 22151, ' E': 1350, 'EB': 5, 'Bo': 988, 'oo': 7176, 'ok': 3339, 'k ': 5024, ' o': 32563, 'of': 16833, 'f ': 19379, ' W': 2877, 'Wa': 98, 'ar': 17466, 'r ': 30853, ' a': 63726, 'an': 42485, 'nd': 34573, 'd ': 75821, 'Pe': 409, 'ea': 13356, 'ac': 6996, 'ce': 13112, ' b': 21571, 'by': 2512, 'y ': 31390, ' L': 676, 'Le': 161, 'eo': 1642, 'o ': 26738, ' T': 5999, 'To': 379, 'ol': 7304, 'ls': 1648, 'st': 17638, 'to': 23341, 'oy': 697, 'hi': 25287, 'is': 21078, 's ': 62809, ' e': 10369, 'eB': 13, ' i': 24044, ' f': 19428, 'fo': 7832, 'or': 19637, ' t': 81503, 'th': 68868, ' u': 5387, 'us': 8784, 'se': 17271, 'ny': 2082, 'yo': 5239, 'on': 26087, 'ne': 14632, 'yw': 98, 'wh': 10233, 're': 35377, 'at': 27674, ' n': 11564, 'no': 11823, ' c': 19235, 'co': 11968, 'os': 6747, ' w': 37735, 'wi': 9752, 'it': 20178, 'h ': 15436, 'al': 13543, 'lm': 398, 'mo': 5667, ' r': 12899, 'es': 20454, 'tr': 5647, 'ri': 13063, 'ic': 8511, 'ti': 13830, 'io': 7259, 'ns': 7219, 'ha': 26424, 'ts': 6030, 'so': 8156, 'oe': 501, 'ev': 5100, 've': 14404, ' Y': 1241, 'Yo': 746, 'ou': 23472, 'u ': 3834, ' m': 16282, 'ma': 7877, 'ay': 5203, 'op': 3049, 'py': 329, ' g': 8534, 'gi': 2468, 'iv': 3268, 'aw': 2152, 'wa': 12067, 'eu': 244, 'un': 8608, 'de': 13152, 'rm': 2967, 'ms': 1936, 'Li': 151, 'in': 47709, 'nc': 9105, 'cl': 1958, 'lu': 1468, 'ud': 1428, 'ed': 28666, 'nl': 2176, 'li': 9251, 'ww': 26, 'wg': 7, 'gu': 1140, 'go': 2561, 'Ti': 72, 'tl': 3025, 'le': 16619, ' A': 5767, 'Au': 263, 'ho': 13282, 'Tr': 48, 'ra': 7999, 'sl': 1475, 'la': 7474, 'rs': 9091, 'Lo': 185, 'ui': 1755, 'Ay': 2, 'yl': 230, 'me': 15026, ' M': 3243, 'Ma': 1394, 'au': 2249, 'Po': 161, 'ng': 24993, ' D': 1978, 'Da': 148, ' J': 305, 'Ja': 20, 'nu': 962, 'ua': 1324, 'ry': 5730, '  ': 687, 'La': 123, 'as': 19552, ' U': 243, 'Up': 3, 'pd': 2, 'da': 2326, 'ag': 3322, 'ge': 5504, 'En': 88, 'gl': 1467, 'sh': 9987, ' C': 2069, 'Ch': 151, ' s': 37824, 'et': 7468, 'od': 3050, 'di': 7705, 'UT': 10, 'TF': 1, 'F ': 28, ' S': 2933, 'ST': 8, 'TA': 5, 'AR': 13, 'RT': 6, 'T ': 26, ' O': 1505, 'OF': 11, 'TH': 19, 'HI': 8, 'IS': 10, 'S ': 29, 'PR': 9, 'RO': 6, 'OJ': 4, 'JE': 4, 'EC': 8, 'CT': 10, 'GU': 8, 'TE': 747, 'EN': 28, 'NB': 4, 'BE': 7, 'ER': 741, 'RG': 4, 'G ': 7, 'BO': 32, 'OO': 32, 'OK': 32, 'K ': 35, 'WA': 7, 'R ': 751, 'AN': 14, 'ND': 14, 'D ': 20, 'PE': 3, 'EA': 7, 'AC': 8, 'CE': 11, 'E ': 66, 'An': 2946, 'n ': 40718, 'ym': 168, ' V': 862, 'Vo': 62, 'nt': 17225, 'ee': 7973, 'av': 4327, 'vi': 4380, 'id': 8642, 'Wi': 267, 'dg': 437, 'ov': 5730, ' B': 3570, 'By': 51, 'yT': 1, 'oi': 2236, 'i ': 821, 'CO': 7, 'ON': 16, 'NT': 13, 'TS': 2, 'NE': 9, 'CH': 734, 'HA': 737, 'AP': 734, 'PT': 731, ' I': 6873, 'I ': 4605, 'II': 460, 'IV': 86, 'V ': 162, 'VI': 216, 'IX': 68, 'X ': 123, ' X': 445, 'XI': 232, 'XV': 156, 'XX': 158, 'TW': 4, 'WO': 3, 'O ': 50, 'HR': 2, 'RE': 15, 'EE': 11, ' F': 1921, 'FO': 9, 'OU': 14, 'UR': 7, 'FI': 7, 'VE': 12, 'SI': 5, 'SE': 12, 'EV': 5, 'N ': 29, 'EI': 3, 'IG': 4, 'GH': 3, 'HT': 3, ' N': 3522, 'NI': 4, 'IN': 14, 'EL': 4, 'LE': 11, 'WE': 2, 'LV': 2, 'IR': 7, 'IF': 3, 'FT': 2, 'RS': 3, 'EP': 6, 'PI': 4, 'IL': 8, 'LO': 4, 'OG': 4, 'UE': 5, 'We': 714, 'el': 10236, 'll': 13212, 'l ': 12925, 'Ge': 334, 'oa': 1392, 'a ': 14557, 'Lu': 11, 'uc': 2047, 'cc': 1050, 'ca': 6533, 'ow': 9905, 'w ': 8259, ' j': 1352, 'ju': 974, 'fa': 3783, 'am': 4541, 'mi': 4499, 'il': 7793, 'ly': 10004, 'ta': 7504, 'Bu': 1171, 'uo': 149, 'na': 3682, 'ap': 3871, 'pa': 4251, 'rt': 4665, 'rn': 2730, ' y': 5494, 'if': 3440, ' d': 15254, 'do': 4587, 'ef': 3188, 'fe': 4544, 'nf': 916, 'ie': 8437, ' h': 46175, 'rr': 4930, ' p': 13174, 'pe': 7779, 'rp': 544, 'ch': 10722, 'hr': 1365, 'tI': 10, 'ot': 9960, ' l': 12517, 'lo': 8113, 'my': 2314, 'fr': 4326, 'ai': 8730, 'hf': 69, 'fu': 1855, 'ul': 6318, 'ur': 8056, 'lf': 2313, 'ig': 4278, 'gh': 5961, 'ht': 4211, 'si': 8982, 'wn': 2224, 'ew': 3226, 'ws': 866, 'It': 952, 'Ju': 208, 'sp': 3124, 'ak': 2528, 'ke': 5655, 'we': 7043, 'lk': 1057, 'kn': 2257, 'nn': 1959, 'Pv': 185, 'vl': 209, 'vn': 628, 'Sc': 91, 'vo': 1404, 'Em': 725, 'mp': 3434, 'pr': 5441, 'ss': 9703, 'Mr': 129, 'ya': 1165, 'Fd': 27, 'wo': 4518, 'rd': 4433, 'ds': 2390, 'gr': 2634, 'Va': 279, ' K': 1154, 'Ku': 650, 'nk': 1492, 'im': 9783, 'po': 4578, 'fi': 4564, 'ir': 5911, 'ep': 3430, 'pt': 1581, 'ad': 11234, 'ug': 3249, 'om': 11066, 'ys': 1591, 'Sh': 874, 'sa': 8360, 'su': 3809, 'uf': 331, 'ff': 2839, 'm ': 12479, 'ip': 846, 'pp': 2629, 'ei': 3476, 'St': 209, 'sb': 441, 'bu': 4103, 'Al': 676, 'nv': 756, 'ex': 3105, 'xc': 602, 'wr': 518, 'tt': 4441, 'Fr': 1349, 'sc': 2137, 'rl': 1302, 'tm': 320, 'ni': 5002, 'If': 302, 'Co': 857, 'va': 1415, 'ib': 1263, 'bl': 3617, ' v': 3127, 'tw': 1115, ' H': 3617, 'He': 2125, 'ru': 2091, 'ck': 2624, 'pl': 4120, 'em': 6384, 'mb': 1087, 'br': 1861, ' k': 2872, 'xp': 1354, 'fl': 1201, 'df': 116, 'iz': 576, 'zi': 241, 'tu': 2909, 'ld': 6919, 'oc': 1416, 'ci': 2565, 'ty': 3141, 'up': 2772, 'p ': 3148, 'ki': 3280, 'ba': 2724, 'Fi': 103, 'Se': 272, 'lt': 1681, 'af': 1447, 'sy': 375, 'hy': 1055, 'Ca': 189, 'ik': 1198, 'yi': 1085, 'dn': 363, 'sd': 87, 'mu': 1564, 'pu': 1139, 'My': 145, 'rk': 1009, 'ks': 777, 'ey': 3720, 'nm': 148, 'du': 964, 'rc': 1476, 'ab': 3420, 'bi': 924, 'gs': 898, 'Do': 367, 'bo': 3068, 'No': 743, 'vs': 618, 'tc': 654, 'yt': 850, 'Wh': 1694, 'dy': 1188, 'lw': 479, 'dl': 1264, 'pi': 2226, 'ye': 2122, 'rf': 453, 'hu': 1520, 'ia': 2907, 'c ': 605, 'ub': 903, 'bd': 20, 'ue': 1891, 'sm': 1589, 'ps': 1082, 'sn': 456, 'In': 595, 'Oh': 306, 'rh': 197, ' R': 2241, 'Ru': 805, 'Eu': 71, 'Ou': 63, 'gn': 935, 'og': 767, 'ze': 729, 'ob': 880, 'Go': 534, 'cr': 2030, 'yd': 17, 'dr': 3444, 'sk': 2157, 'mm': 1384, 'xa': 337, 'ft': 2153, 'cu': 1685, 'ek': 267, 'sw': 692, 'v ': 2515, 'bn': 22, 'eg': 2142, 'ga': 3339, 'Ha': 304, 'gw': 25, 'tz': 666, 'z ': 140, 'dd': 1305, 'Ki': 105, 'oq': 25, 'qu': 2294, 'Vi': 122, 'mt': 237, 'Mo': 973, 'cy': 295, 'Ro': 1150, 'oh': 59, 'Ab': 35, 'bb': 229, 'b ': 193, ' q': 1391, 'Ba': 465, 'Fu': 4, 'bt': 275, 'As': 268, 'um': 1366, 'aj': 168, 'eb': 259, 'uk': 91, 'nr': 80, 'az': 349, 'fy': 85, 'cs': 99, 'nI': 4, 'jo': 680, 'dm': 203, 'ej': 85, 'Tw': 70, 'rv': 745, 'lp': 392, 'sf': 312, 'Be': 643, 'lv': 492, 'Hi': 537, 'kl': 361, 'np': 100, 'hm': 379, 'nh': 154, 'ka': 336, 'Is': 128, 'gy': 137, 'Me': 80, 'zo': 630, 'nw': 134, 'Ar': 198, 'wu': 18, 'mc': 52, 'At': 323, 'ez': 170, 'Il': 313, 'eh': 681, 'Hl': 167, 'ln': 416, 'Pt': 273, 'wl': 200, 'Ea': 33, 'bs': 480, 'mn': 306, 'hl': 157, 'tn': 224, 'hs': 193, 'Ev': 217, 'Ol': 59, 'kb': 12, 'Mi': 326, 'So': 405, 'nq': 243, 'Te': 112, 'tf': 193, 'On': 681, 'xt': 470, 'zk': 101, 'kh': 819, 'tg': 19, 'nx': 82, 'xi': 281, 'Pi': 1972, 'gg': 447, 'cq': 117, 'Ye': 454, 'fc': 46, 'bv': 47, 'dh': 80, 'Du': 147, 'dE': 8, 'Ah': 177, 'Ho': 401, 'dv': 321, 'lg': 147, 'vy': 85, 'mw': 15, 'lr': 467, 'ao': 42, 'dj': 236, 'Fe': 45, 'fs': 229, 'kg': 16, 'ph': 410, 'cd': 9, 'Pa': 156, 'nj': 120, 'Na': 1862, 'bj': 175, 'eq': 252, 'rb': 221, 'iu': 130, 'Ve': 83, 'Ed': 1, 'rw': 303, 'yn': 145, 'Dr': 147, 'ky': 146, 'uI': 4, 'tj': 3, 'ae': 69, 'db': 81, 'Ce': 21, 'Ap': 27, 'Ad': 29, 'zy': 14, 'Di': 94, 'lh': 15, ' Q': 34, 'Qu': 34, 'El': 26, 'za': 76, 'Bt': 5, 'zu': 25, 'xe': 313, 'yI': 6, 'Im': 132, 'wd': 369, 'Af': 222, 'yr': 113, 'Re': 145, 'Wo': 76, 'rj': 3, 'Sa': 73, 'tb': 35, 'Br': 123, 'wk': 63, 'kw': 88, 'Su': 137, 'Ex': 26, 'eI': 11, 'Gi': 27, 'yb': 157, 'Op': 6, 'ix': 256, 'Wr': 19, 'De': 603, 'yf': 156, 'Ei': 11, 'lb': 150, 'Ml': 22, 'Un': 152, 'sq': 153, 'x ': 248, 'xh': 60, 'Ne': 192, 'ux': 43, 'xu': 17, 'pk': 20, 'fw': 32, 'gt': 234, 'ax': 50, 'Fo': 261, 'lc': 127, 'A ': 449, 'Dl': 330, 'ml': 209, 'Pu': 23, 'Ta': 97, 'Eh': 56, 'lI': 1, 'Pl': 99, 'tv': 987, 'pm': 27, 'Ra': 75, 'dz': 2, 'Or': 98, 'yp': 56, 'kI': 2, 'ja': 80, 'Dm': 132, 'Lv': 2, 'vv': 8, 'Ka': 177, 'fb': 29, 'ox': 141, 'mv': 9, 'Iv': 130, 'yk': 38, 'Cy': 15, 'Vl': 50, 'Si': 105, 'Es': 6, 'gm': 18, 'Ni': 694, 'Sn': 448, 'ku': 16, 'fg': 1, 'yv': 25, 'Hu': 73, 'hb': 69, 'Vr': 74, 'Cl': 44, 'hn': 313, 'uv': 111, 'yg': 10, 'dS': 2, 'dk': 69, 'wt': 23, 'nz': 22, 'wf': 50, 'Hm': 10, 'mf': 138, 'Sp': 120, 'Of': 74, 'ko': 168, 'aa': 24, 'dt': 74, 'Tu': 57, 'Ak': 5, 'hp': 9, 'Kr': 81, 'mr': 82, ' z': 47, 'vr': 151, 'yy': 11, 'dw': 64, 'Rh': 31, ' Z': 99, 'Za': 23, 'zv': 4, 'Je': 40, 'Ic': 3, 'Ag': 50, 'Nu': 8, 'uz': 73, 'vu': 20, 'Oo': 12, 'Fa': 96, 'zz': 47, 'zl': 44, 'kr': 59, 'pb': 12, 'Mm': 2, 'gI': 4, 'sg': 47, 'Id': 33, 'Gr': 131, 'pw': 20, 'Eg': 7, 'kc': 52, 'ah': 148, 'wy': 41, 'wc': 23, 'md': 4, 'oz': 110, 'AB': 4, 'BC': 1, 'C ': 5, 'Ke': 11, 'JU': 1, 'UL': 3, 'LI': 13, 'IE': 6, 'PS': 1, 'gd': 54, 'Ep': 2, 'Et': 5, 'MA': 7, 'RY': 2, 'Y ': 11, 'yh': 29, 'Tk': 82, 'hw': 56, 'tY': 1, 'Od': 6, 'iq': 27, 'cm': 3, 'dT': 3, 'Sw': 21, 'Rr': 1, 'Ac': 14, 'Ts': 155, 'B ': 8, 'mk': 36, 'sR': 1, 'tR': 3, 'Am': 56, 'Oc': 42, 'hk': 110, 'kf': 19, 'Ms': 15, 'Kn': 21, 'Zb': 7, 'hd': 63, 'dq': 46, 'nR': 3, 'Mt': 41, 'fk': 9, 'sr': 46, 'Ga': 35, 'hg': 28, 'Cr': 42, 'ji': 11, 'sv': 76, 'vt': 93, 'Ig': 12, 'yc': 171, 'mh': 21, 'Km': 13, 'Zh': 49, 'kv': 91, 'Ul': 16, 'Ko': 86, 'Ot': 55, 'lz': 27, 'Vs': 17, 'Uk': 5, 'Oe': 2, 'Mu': 80, 'vw': 6, 'bw': 17, 'Ug': 3, 'ih': 6, 'cw': 9, 'uh': 11, 'iw': 5, 'km': 31, 'eS': 1, 'pf': 53, 'Sm': 110, 'Zk': 1, 'tp': 42, 'mR': 1, 'Aw': 7, 'Bi': 78, 'bc': 3, 'sI': 8, 'xq': 4, 'Ob': 10, 'Fl': 9, 'lA': 1, 'dU': 1, 'Ai': 3, 'Zn': 17, 'sZ': 2, 'aZ': 2, 'RI': 6, 'NC': 5, 'MU': 1, 'RA': 10, 'AT': 6, 'NA': 4, 'PO': 5, 'OL': 3, 'EO': 3, 'wm': 4, 'Sd': 4, 'hc': 65, 'vd': 4, 'fh': 9, 'Gl': 16, 'xl': 4, 'Az': 2, 'kt': 15, 'Bl': 18, 'Cu': 9, 'fp': 11, 'Ek': 5, 'dc': 12, 'Ow': 5, 'Ir': 3, 'Ry': 25, 'zn': 31, 'Ll': 3, 'yz': 35, 'Vk': 1, 'zm': 64, 'Vy': 28, 'oP': 2, 'hF': 1, 'rM': 2, 'wb': 11, 'bm': 70, 'pI': 2, 'rI': 5, 'mI': 2, 'hI': 1, 'Ey': 6, 'dp': 9, 'gf': 11, 'Us': 6, 'Cz': 5, 'Os': 13, 'rz': 100, 'sz': 4, 'zw': 4, 'eK': 8, 'Tv': 10, 'Ov': 3, 'lE': 17, 'nM': 1, 'Nv': 5, 'vg': 3, 'Uv': 12, 'Uh': 31, 'Zu': 1, 'sj': 4, 'rH': 1, 'fm': 6, 'pn': 32, 'zh': 105, 'uy': 20, 'Kl': 8, 'Gw': 1, 'uS': 1, 'Ip': 1, 'tk': 11, 'nC': 2, 'pc': 128, 'Yr': 1, 'hv': 133, 'rq': 14, 'Ee': 1, 'sB': 1, 'Av': 1, 'tB': 2, 'Fk': 3, 'Sv': 12, 'sS': 2, 'Ph': 7, 'Io': 13, 'uw': 2, 'Aa': 1, 'IO': 4, 'U ': 7, 'aI': 2, 'vb': 1, 'yY': 1, 'Jo': 36, 'zd': 20, 'vk': 9, 'fd': 7, 'Sq': 16, 'dI': 5, 'td': 8, 'M ': 13, 'qc': 1, 'LU': 3, 'Ur': 5, 'Kh': 8, 'hE': 4, 'hh': 13, 'yA': 1, 'lS': 1, 'Yk': 16, 'sG': 2, 'Sl': 10, 'yW': 1, 'Ty': 1, 'kp': 3, 'Nl': 1, 'Lg': 3, 'Lz': 12, 'Er': 49, 'wI': 2, 'Ci': 8, 'Ri': 13, 'eM': 1, 'NN': 2, 'SS': 4, 'Mv': 26, 'wB': 1, 'nP': 3, 'tE': 1, 'aq': 2, 'Yu': 3, 'wN': 1, 'Bs': 3, 'yN': 4, 'Ly': 4, 'yu': 50, 'yC': 1, 'rC': 1, 'gp': 3, 'nD': 1, 'nT': 5, 'Ss': 2, 'wp': 3, 'Ib': 6, 'Iw': 2, 'iF': 1, 'eR': 1, 'rT': 1, 'Pn': 6, 'rR': 1, 'vz': 7, 'aM': 1, 'gq': 1, 'uq': 1, 'sC': 2, 'Tp': 2, 'Sy': 6, 'Eq': 2, 'dN': 1, 'Kv': 1, 'iy': 1, 'xo': 5, 'Pf': 47, 'rB': 1, 'Dv': 1, 'Dn': 7, 'xM': 2, 'Vt': 8, 'gc': 5, 'Zd': 7, 'kk': 1, 'Md': 1, 'fn': 13, 'gk': 1, 'Gh': 1, 'q ': 1, ' x': 5, 'Lr': 4, 'rW': 2, 'uP': 1, 'Zi': 1, 'Bw': 3, 'tM': 1, 'Wl': 1, 'yH': 1, 'wM': 1, 'lq': 2, 'zc': 1, 'Gc': 1, 'bz': 3, 'lx': 1, 'hH': 1, 'oZ': 4, 'dA': 1, 'Py': 2, 'Ya': 27, 'Gn': 1, 'xE': 1, 'Vn': 1, 'rA': 2, 'Wu': 2, 'Pw': 3, 'bh': 2, 'Ps': 1, 'Nz': 8, 'Lb': 3, 'Ut': 6, 'zb': 1, 'Tc': 6, 'Zw': 1, 'tP': 3, 'Ec': 5, 'xs': 4, 'nN': 1, 'Xs': 2, 'yF': 1, 'rP': 2, 'sD': 1, 'AL': 6, 'LF': 2, 'oY': 8, 'xy': 7, 'tC': 2, 'gY': 1, 'sP': 1, 'Ef': 3, 'Kd': 1, 'Sk': 6, 'rK': 2, 'zs': 2, 'gz': 7, 'aT': 1, 'hV': 1, 'gE': 1, 'xf': 1, 'tG': 1, 'gN': 1, 'mP': 1, 'yG': 2, 'Lp': 1, 'aY': 1, 'Ok': 2, 'Tl': 8, 'iN': 2, 'MO': 3, 'NS': 5, 'EU': 1, 'KO': 1, 'TO': 5, 'UZ': 1, 'ZO': 1, 'OV': 2, 'OS': 5, 'SC': 5, 'OW': 3, 'W ': 2, 'OC': 2, 'OB': 1, 'Ds': 1, 'Sr': 1, 'Rz': 1, 'vh': 1, 'Kk': 1, 'fj': 1, 'vD': 10, 'rG': 1, 'eT': 1, 'zt': 1, 'NH': 1, 'BI': 4, 'IT': 11, 'CL': 3, 'LA': 4, 'AM': 4, 'TI': 9, 'gO': 1, 'eO': 1, 'mg': 1, 'gb': 2, 'oF': 1, 'vK': 1, 'GE': 5, 'L ': 7, 'AF': 2, 'FF': 1, 'uj': 1, 'hz': 3, 'Ih': 1, 'Gz': 1, 'aV': 1, 'bk': 2, 'Oz': 3, 'uu': 2, 'gv': 10, 'gK': 1, 'Db': 3, 'Ax': 1, 'kd': 3, 'eC': 1, 'yj': 1, 'oT': 1, 'tW': 1, 'lM': 1, 'eP': 1, 'rD': 1, 'Kw': 1, 'gM': 1, 'gP': 1, 'Ia': 1, 'eD': 1, 'tS': 1, 'sN': 1, 'Vw': 1, 'Gt': 1, 'NY': 4, 'YT': 1, 'NG': 2, 'FU': 3, 'LL': 3, 'IC': 4, 'HE': 5, 'PL': 3, 'AS': 4, 'AD': 2, 'EF': 2, 'OR': 12, 'YO': 6, 'DI': 7, 'TR': 5, 'IB': 4, 'BU': 3, 'US': 4, 'RK': 2, 'pg': 8, 'PG': 2, 'GL': 2, 'CI': 3, 'IM': 5, 'MI': 3, 'ED': 6, 'RR': 4, 'TY': 6, 'AI': 1, 'ME': 5, 'DA': 4, 'AG': 7, 'ES': 7, 'GR': 4, 'AV': 1, 'NO': 5, 'EM': 5, 'EG': 1, 'IA': 3, 'BR': 2, 'H ': 5, 'EX': 2, 'XC': 1, 'HO': 1, 'ID': 2, 'DE': 5, 'PA': 1, 'PH': 1, 'UN': 4, 'WN': 1, 'WI': 2, 'OT': 4, 'BL': 1, 'TU': 1, 'UA': 1, 'EQ': 1, 'QU': 1, 'PU': 2, 'GI': 1, 'SU': 1, 'UC': 1, 'KI': 1, 'XP': 1, 'MP': 1, 'UD': 1, 'RC': 1, 'TN': 1, 'RP': 1, 'MN': 1, 'AK': 1, 'DO': 1}\n",
            "\n",
            "\n",
            "M['aa'] =  0.00012235097396473234\n",
            "M['st'] =  0.11029885373739143\n"
          ]
        }
      ]
    },
    {
      "cell_type": "markdown",
      "metadata": {
        "id": "_MRG1_YmbSf7"
      },
      "source": [
        "## Mapping letters <-> numbers"
      ]
    },
    {
      "cell_type": "code",
      "execution_count": 10,
      "metadata": {
        "id": "vo8P6dsbbW_t"
      },
      "outputs": [],
      "source": [
        "characters = list(dict.fromkeys(letters))\n",
        "characters = list(dict.fromkeys(letters_unique))\n",
        "\n",
        "number_of_characters=len(characters)\n",
        "\n",
        "#mapping: letter -> number\n",
        "char_mapping = dict(zip(letters_unique ,np.arange(len(characters))))\n",
        "#print(char_mapping)\n",
        "\n",
        "#inverse mapping: number -> letter\n",
        "char_mapping_inv = dict(map(reversed, char_mapping.items()))"
      ]
    },
    {
      "cell_type": "code",
      "execution_count": 11,
      "metadata": {
        "colab": {
          "base_uri": "https://localhost:8080/"
        },
        "id": "KqDEFLMtbsA4",
        "outputId": "4b6c46e8-8c43-4141-a02a-46062d451b59"
      },
      "outputs": [
        {
          "output_type": "stream",
          "name": "stdout",
          "text": [
            "{' ': 0, 'A': 1, 'B': 2, 'C': 3, 'D': 4, 'E': 5, 'F': 6, 'G': 7, 'H': 8, 'I': 9, 'J': 10, 'K': 11, 'L': 12, 'M': 13, 'N': 14, 'O': 15, 'P': 16, 'Q': 17, 'R': 18, 'S': 19, 'T': 20, 'U': 21, 'V': 22, 'W': 23, 'X': 24, 'Y': 25, 'Z': 26, 'a': 27, 'b': 28, 'c': 29, 'd': 30, 'e': 31, 'f': 32, 'g': 33, 'h': 34, 'i': 35, 'j': 36, 'k': 37, 'l': 38, 'm': 39, 'n': 40, 'o': 41, 'p': 42, 'q': 43, 'r': 44, 's': 45, 't': 46, 'u': 47, 'v': 48, 'w': 49, 'x': 50, 'y': 51, 'z': 52}\n",
            "{0: ' ', 1: 'A', 2: 'B', 3: 'C', 4: 'D', 5: 'E', 6: 'F', 7: 'G', 8: 'H', 9: 'I', 10: 'J', 11: 'K', 12: 'L', 13: 'M', 14: 'N', 15: 'O', 16: 'P', 17: 'Q', 18: 'R', 19: 'S', 20: 'T', 21: 'U', 22: 'V', 23: 'W', 24: 'X', 25: 'Y', 26: 'Z', 27: 'a', 28: 'b', 29: 'c', 30: 'd', 31: 'e', 32: 'f', 33: 'g', 34: 'h', 35: 'i', 36: 'j', 37: 'k', 38: 'l', 39: 'm', 40: 'n', 41: 'o', 42: 'p', 43: 'q', 44: 'r', 45: 's', 46: 't', 47: 'u', 48: 'v', 49: 'w', 50: 'x', 51: 'y', 52: 'z'}\n"
          ]
        }
      ],
      "source": [
        "print(char_mapping)\n",
        "print(char_mapping_inv)\n"
      ]
    },
    {
      "cell_type": "markdown",
      "metadata": {
        "id": "dWXHuKKjxb6c"
      },
      "source": [
        "## Main function: calc_likelihood_ratio\n",
        "It computes:\n",
        "$${f(\\sigma')\\over f(\\sigma)}=\\prod_{i=1}^{L-1}{\\textbf{M}(\\sigma(c_i),\\sigma(c_{i+1}))\n",
        "\\over \\textbf{M}(\\sigma'(c_i),\\sigma'(c_{i+1}))},$$"
      ]
    },
    {
      "cell_type": "code",
      "execution_count": 12,
      "metadata": {
        "id": "_2odZ5fkbsEw"
      },
      "outputs": [],
      "source": [
        "def calc_likelihood_ratio(encrypted_message, M, sigma, i, j, char_mapping_inv, char_mapping):\n",
        "  # compute f(sigma')/f(sigma)\n",
        "  # do not compute full f(sigma') and f(sigma), to large (small) numbers\n",
        "  # Moreover, add some penalty if 'xy' is not in decrypted text\n",
        "\n",
        "    likelihood_ratio = 1;\n",
        "    sigma2=cp.copy(sigma)\n",
        "    sigma2[[i,j]]=sigma2[[j,i]]\n",
        "\n",
        "    M_min = min(M.values())\n",
        "    penalty = M_min/10;\n",
        "\n",
        "    for k in np.arange(len(encrypted_message)-1):\n",
        "        a0=encrypted_message[k]\n",
        "        b0=encrypted_message[k+1]\n",
        "        if (char_mapping[a0]==i or char_mapping[a0]==j or char_mapping[b0]==i or char_mapping[b0]==j):\n",
        "\n",
        "            a=char_mapping_inv[sigma[char_mapping[a0]]]\n",
        "            b=char_mapping_inv[sigma[char_mapping[b0]]]\n",
        "            ab=a+b\n",
        "\n",
        "            a2=char_mapping_inv[sigma2[char_mapping[a0]]]\n",
        "            b2=char_mapping_inv[sigma2[char_mapping[b0]]]\n",
        "            ab2=a2+b2\n",
        "\n",
        "            #print(\"ASDF ab = \", ab, \", ab2 = \", ab2)\n",
        "            #if ((ab in M) and (ab2 in M)):\n",
        "            if(ab2 in M):\n",
        "                likelihood_ratio = likelihood_ratio*M[ab2];\n",
        "            else:\n",
        "                likelihood_ratio = likelihood_ratio*penalty;\n",
        "\n",
        "            if(ab in M):\n",
        "                likelihood_ratio = likelihood_ratio/M[ab];\n",
        "            else:\n",
        "                likelihood_ratio = likelihood_ratio/penalty;\n",
        "\n",
        "\n",
        "                #print(\" i = \", i,\", j = \", j, \", a0 = \", a0, \", b0 = \", b0, \", k = \", k, \"lik_rat=\", likelihood_ratio)\n",
        "\n",
        "\n",
        "            #quit()\n",
        "\n",
        "    return likelihood_ratio;"
      ]
    },
    {
      "cell_type": "code",
      "execution_count": 13,
      "metadata": {
        "id": "BLTLyXRbcT-m"
      },
      "outputs": [],
      "source": [
        "def transform_message(text_message, perm, char_mapping, char_mapping_inv):\n",
        "    decrypted_message = \"\"\n",
        "    for let in text_message:\n",
        "        decrypted_message = decrypted_message +char_mapping_inv[perm[char_mapping[let]]]\n",
        "    return decrypted_message\n"
      ]
    },
    {
      "cell_type": "code",
      "execution_count": 13,
      "metadata": {
        "id": "pyaXZwqjmo3Z"
      },
      "outputs": [],
      "source": []
    },
    {
      "cell_type": "markdown",
      "metadata": {
        "id": "34yrEwN7b_6u"
      },
      "source": [
        "## The Metropolis Algorithm\n",
        "To sample from a distribution $\\pi(\\textbf{w})$, repeat *enough* number of steps (recall, we assume each $\\textbf{w}$ has $m$ neighbours $\\mathcal{N}(\\mathbf{w})$:\n",
        "\n",
        "\n",
        "*   Assume we are currently $\\textbf{w}^{(t)}$\n",
        "*   Choose a neighbour $\\textbf{w}'$ of $\\textbf{w}^{(t)}$ uniformly at random (i.e., with prob. $1/m$)\n",
        "*   Set $\\textbf{w}^{(t+1)}=\\textbf{w}'$ with probability $\\alpha=\\min\\left(1,{\\pi(\\textbf{w}')\\over \\pi(\\textbf{w}^{(t)})}\\right)$;\n",
        "otherwise $\\textbf{w}^{(t+1)}=\\textbf{w}^{(t)}$ (i.e., do nothing)\n",
        "\n",
        "\n"
      ]
    },
    {
      "cell_type": "code",
      "execution_count": 14,
      "metadata": {
        "colab": {
          "base_uri": "https://localhost:8080/"
        },
        "id": "ihGWpRMZmpmF",
        "outputId": "1dd714a7-53eb-426f-dad2-a03b4478c5a0"
      },
      "outputs": [
        {
          "output_type": "stream",
          "name": "stdout",
          "text": [
            "[25 39 47 31 40 44 27  4 30 23 11 28  3 52 24  9 17  6 22 49 10 12 43 51\n",
            " 45  2 42 26 37 35 32 20 18  0  8 29 34  7 15 16 13 14 38 19 46 21  5 33\n",
            " 36 50 41  1 48]\n",
            "53\n"
          ]
        }
      ],
      "source": [
        "R=10000\n",
        "#TRY ANOTHER SEED !!\n",
        "np.random.seed(1434)\n",
        "print(np.random.permutation(53))\n",
        "print(number_of_characters)\n",
        "sigma=np.random.permutation(number_of_characters)\n",
        "\n",
        "tenth=int(R/10)\n",
        "show_length=50\n",
        "# print(sigma)\n",
        "# print(M['ab']); print(M['st'])\n",
        "# print(char_mapping)\n",
        "# print(char_mapping_inv[char_mapping['d']])\n",
        "# print(len(book))"
      ]
    },
    {
      "cell_type": "code",
      "execution_count": 15,
      "metadata": {
        "colab": {
          "base_uri": "https://localhost:8080/"
        },
        "id": "dS9qAnATMKWn",
        "outputId": "b64b7f27-8041-4f03-8609-fe039f1bef88"
      },
      "outputs": [
        {
          "output_type": "stream",
          "name": "stdout",
          "text": [
            "{'Th': 0.7169257846875917, 'he': 0.4464671246319922, 'e ': 0.35629713859872286, ' P': 0.010167504246760632, 'Pr': 0.3698588090853284, 'ro': 0.09330352536543422, 'oj': 0.0006208543380206951, 'je': 0.22992056487202117, 'ec': 0.01744529674028961, 'ct': 0.06930160650668818, 't ': 0.2651450638226173, ' G': 0.0022478695564651413, 'Gu': 0.14581734458940906, 'ut': 0.17064117160815384, 'te': 0.08347260613953997, 'en': 0.08384085623610736, 'nb': 0.0008473121376079215, 'be': 0.3447231973205372, 'er': 0.13908376055197935, 'rg': 0.010269991401547721, 'g ': 0.44280745242283703, ' E': 0.002383836528851485, 'EB': 0.002215330084182543, 'Bo': 0.273987798114254, 'oo': 0.038079066065269306, 'ok': 0.017718227646590607, 'k ': 0.26124486506161926, ' o': 0.05749990288073401, 'of': 0.08932342796497744, 'f ': 0.3659591343430147, ' W': 0.005080220513707943, 'Wa': 0.03393351800554017, 'ar': 0.08904092130283396, 'r ': 0.2122304385210662, ' a': 0.11252767899080722, 'an': 0.21658671370381888, 'nd': 0.19146485316025275, 'd ': 0.6520553835569315, 'Pe': 0.06276856967464703, 'ea': 0.042901746135759165, 'ac': 0.03566530891071947, 'ce': 0.22034012233649258, ' b': 0.03809017612137436, 'by': 0.08089916588837719, 'y ': 0.6980053812456917, ' L': 0.0011936840692619289, 'Le': 0.22612359550561797, 'eo': 0.005274383584525049, 'o ': 0.14188378880339614, ' T': 0.010593063212281525, 'To': 0.05558814901730713, 'ol': 0.03875829132395861, 'ls': 0.0171992736229101, 'st': 0.11029885373739143, 'to': 0.1062920949210585, 'oy': 0.00369859379145662, 'hi': 0.155096908734053, 'is': 0.12826941567372174, 's ': 0.39277473094408766, ' e': 0.018309630346415594, 'eB': 4.175821351938224e-05, ' i': 0.042457011481263046, ' f': 0.03430605635742715, 'fo': 0.14790195263813877, 'or': 0.10420270628814009, ' t': 0.14391839156369082, 'th': 0.3136165542617479, ' u': 0.00951239065253552, 'us': 0.13699954770185754, 'se': 0.10800382712884042, 'ny': 0.011530090656860736, 'yo': 0.11649729825887795, 'on': 0.13842929158928097, 'ne': 0.08103183789202031, 'yw': 0.0021791821396010764, 'wh': 0.18168421426415496, 're': 0.2433499570077386, 'at': 0.14108086889583343, ' n': 0.020419767125658204, 'no': 0.06547563008456507, ' c': 0.0339652560240432, 'co': 0.20111581636082543, 'os': 0.03580260015919342, ' w': 0.06663264549348948, 'wi': 0.17314418621167196, 'it': 0.12279249783966019, 'h ': 0.09467615309126595, 'al': 0.06904163501684875, 'lm': 0.004153708071552318, 'mo': 0.0970692519826656, ' r': 0.022777116581966895, 'es': 0.06570173071734187, 'tr': 0.025715755966720252, 'ri': 0.0898572656921754, 'ic': 0.05179338631744216, 'ti': 0.06298014964047123, 'io': 0.04417438506383652, 'ns': 0.03997873412674239, 'ha': 0.16207065750736016, 'ts': 0.0274598917087521, 'so': 0.05100337062491011, 'oe': 0.0026585301140886176, 'ev': 0.016382068380680723, 've': 0.5545972585861697, ' Y': 0.0021913638017071802, 'Yo': 0.5897233201581028, 'ou': 0.12455293181215177, 'u ': 0.05979693373052389, ' m': 0.0287508343427851, 'ma': 0.13492403350405097, 'ay': 0.026524671564104263, 'op': 0.016179357919872645, 'py': 0.008432221852013226, ' g': 0.01506937847201376, 'gi': 0.0493363185670878, 'iv': 0.019887297201903534, 'aw': 0.010970803998837667, 'wa': 0.21424640022726063, 'eu': 0.0007837695460560974, 'un': 0.13425456587176568, 'de': 0.1131062951496388, 'rm': 0.02040928632846088, 'ms': 0.03316147376715027, 'Li': 0.21207865168539325, 'in': 0.2903314143836033, 'nc': 0.050423379169412585, 'cl': 0.032903139073737986, 'lu': 0.01532071218351458, 'ud': 0.022271784394154438, 'ed': 0.09208007298050855, 'nl': 0.012050661512645996, 'li': 0.09654762153248868, 'ww': 0.00046162313797205406, 'wg': 0.00012428315253093763, 'gu': 0.02278906125059971, 'go': 0.0511954261954262, 'Ti': 0.010560281607509533, 'tl': 0.013775484646596203, 'le': 0.173443403118412, ' A': 0.010183396490286307, 'Au': 0.04007924413288631, 'ho': 0.08146467124631993, 'Tr': 0.007040187738339689, 'ra': 0.055023215821152195, 'sl': 0.009223880783685925, 'la': 0.07800204554467845, 'rs': 0.06253482373172829, 'Lo': 0.2598314606741573, 'ui': 0.02737183586256375, 'Ay': 0.00030478512648582747, 'yl': 0.0051144070623290565, 'me': 0.25737825662458674, ' M': 0.005726505083752123, 'Ma': 0.4265605875152999, 'au': 0.011465305851945126, 'Po': 0.02470841006752609, 'ng': 0.13841092977277636, ' D': 0.0034927619659764725, 'Da': 0.07337630143777887, ' J': 0.000538570475036817, 'Ja': 0.06472491909385113, 'nu': 0.005327544290057651, 'ua': 0.02064974967637288, 'ry': 0.03941530524505589, '  ': 0.0012131079224599781, 'La': 0.17275280898876405, 'as': 0.0996752601232686, ' U': 0.00042909057519326734, 'Up': 0.01060070671378092, 'pd': 5.1259707307071275e-05, 'da': 0.02000343997248022, 'ag': 0.016935413979618365, 'ge': 0.11002718695026387, 'En': 0.03898980948161276, 'gl': 0.029325923556692786, 'sh': 0.062453489753675484, ' C': 0.0036534502060694245, 'Ch': 0.07142857142857142, ' s': 0.06678980212391006, 'et': 0.023988487581749735, 'od': 0.016184664367206156, 'di': 0.0662624699002408, 'UT': 0.0353356890459364, 'TF': 0.00014667057788207686, 'F ': 0.014381099126861838, ' S': 0.005179105584534375, 'ST': 0.0026791694574681848, 'TA': 0.0007333528894103843, 'AR': 0.0019811033221578786, 'RT': 0.001962708537782139, 'T ': 0.0038134350249339984, ' O': 0.0026575362784603596, 'OF': 0.00672782874617737, 'TH': 0.0027867409797594604, 'HI': 0.001827318410232983, 'IS': 0.0012608750472828142, 'S ': 0.00971198928332217, 'PR': 0.0013812154696132596, 'RO': 0.001962708537782139, 'OJ': 0.0024464831804281344, 'JE': 0.012944983818770227, 'EC': 0.003544528134692069, 'CT': 0.004730368968779565, 'GU': 0.0061396776669224865, 'TE': 0.10956292167791142, 'EN': 0.012405848471422242, 'NB': 0.0011068068622025456, 'BE': 0.0019412090959511925, 'ER': 0.3283119184758529, 'RG': 0.0013084723585214263, 'G ': 0.005372217958557176, 'BO': 0.00887409872434831, 'OO': 0.019571865443425075, 'OK': 0.019571865443425075, 'K ': 0.029142381348875937, 'WA': 0.0024238227146814403, 'R ': 0.24566568531239777, 'AN': 0.0021334958854007926, 'ND': 0.00387382401770891, 'D ': 0.00991571641051066, 'PE': 0.00046040515653775324, 'EA': 0.0031014621178555605, 'AC': 0.0012191405059433099, 'CE': 0.005203405865657522, 'E ': 0.02924235711120957, 'An': 0.4489484913136239, 'n ': 0.2254957883602572, 'ym': 0.0037357408107447023, ' V': 0.001522123768792578, 'Vo': 0.05555555555555555, 'nt': 0.09539184032873496, 'ee': 0.025610633568464197, 'av': 0.022058861014391532, 'vi': 0.16864315416602496, 'id': 0.05259058213551112, 'Wi': 0.09245152354570638, 'dg': 0.003758169934640523, 'ov': 0.03040594322101353, ' B': 0.006303923265185038, 'By': 0.014143094841930116, 'yT': 2.223655244490894e-05, 'oi': 0.01186521623772884, 'i ': 0.004996166157516157, 'CO': 0.0033112582781456954, 'ON': 0.009785932721712538, 'NT': 0.0035971223021582736, 'TS': 0.0002933411557641537, 'NE': 0.0024903154399557276, 'CH': 0.34720908230842007, 'HA': 0.16834170854271358, 'AP': 0.11185614142029869, 'PT': 0.1121853898096992, ' I': 0.01213637663910834, 'I ': 0.5806329592737359, 'II': 0.058000252175009454, 'IV': 0.010843525406632203, 'V ': 0.14516129032258066, 'VI': 0.1935483870967742, 'IX': 0.008573950321523137, 'X ': 0.1827637444279346, ' X': 0.000785783152102897, 'XI': 0.3447251114413076, 'XV': 0.23179791976225855, 'XX': 0.23476968796433878, 'TW': 0.0005866823115283074, 'WO': 0.001038781163434903, 'O ': 0.03058103975535168, 'HR': 0.00045682960255824577, 'RE': 0.004906771344455349, 'EE': 0.004873726185201595, ' F': 0.0033921110903138542, 'FO': 0.004622496147919877, 'OU': 0.00856269113149847, 'UR': 0.024734982332155476, 'FI': 0.0035952747817154596, 'VE': 0.010752688172043012, 'SI': 0.0016744809109176155, 'SE': 0.004018754186202277, 'EV': 0.002215330084182543, 'N ': 0.008024349750968456, 'EI': 0.001329198050509526, 'IG': 0.0005043500189131257, 'GH': 0.0023023791250959325, 'HT': 0.0006852444038373687, ' N': 0.006219164633048097, 'NI': 0.0011068068622025456, 'IN': 0.00176522506619594, 'EL': 0.0017722640673460345, 'LE': 0.01544943820224719, 'WE': 0.0006925207756232687, 'LV': 0.0028089887640449437, 'IR': 0.00088261253309797, 'IF': 0.00037826251418484426, 'FT': 0.001027221366204417, 'RS': 0.0009813542688910696, 'EP': 0.002658396101019052, 'PI': 0.0006138735420503376, 'IL': 0.0010087000378262514, 'LO': 0.0056179775280898875, 'OG': 0.0024464831804281344, 'UE': 0.0176678445229682, 'We': 0.24722991689750692, 'el': 0.032879774891107424, 'll': 0.1378864096516312, 'l ': 0.13489114780103947, 'Ge': 0.2563315425940138, 'oa': 0.0073865746882462195, 'a ': 0.07421096366685868, 'Lu': 0.01544943820224719, 'uc': 0.03192601026248889, 'cc': 0.017644686428715466, 'ca': 0.10978355851314109, 'ow': 0.05256036083841868, 'w ': 0.14663636525043056, ' j': 0.0023873681385238577, 'ju': 0.4298323036187114, 'fa': 0.07143936246553613, 'am': 0.023149823865577065, 'mi': 0.07706274301570716, 'il': 0.047424022978713044, 'ly': 0.10440627022062661, 'ta': 0.03417230968200261, 'Bu': 0.3247365501941209, 'uo': 0.0023238766629754977, 'na': 0.020390871180865144, 'ap': 0.01973419250906162, 'pa': 0.10895250788118, 'rt': 0.03208942390369733, 'rn': 0.01877901977644024, ' y': 0.009701331770007452, 'if': 0.0209339970546353, ' d': 0.026935586971185598, 'do': 0.039447884416924664, 'ef': 0.010240398823060813, 'fe': 0.08581032594327152, 'nf': 0.0050727968499925235, 'ie': 0.051343061962197095, ' h': 0.08153603831090173, 'rr': 0.03391229578675838, ' p': 0.023262712911918122, 'pe': 0.19937463157085372, 'rp': 0.0037420464316423045, 'ch': 0.18017745513208308, 'hr': 0.008372178606476937, 'tI': 4.5538792220152736e-05, 'ot': 0.05285221544176174, ' l': 0.022102579134543734, 'lo': 0.08467093865453255, 'my': 0.039636183004744696, 'fr': 0.08169354534123957, 'ai': 0.04450516677967139, 'hf': 0.0004232090284592738, 'fu': 0.03503040374664804, 'ul': 0.0985386091052295, 'ur': 0.12564530467738666, 'lf': 0.02413951449623244, 'ig': 0.026033616104572617, 'gh': 0.11916280185510955, 'ht': 0.02582801766437684, 'si': 0.056168743863774226, 'wn': 0.03948653303268647, 'ew': 0.010362461293348238, 'ws': 0.01537560144168457, 'It': 0.12003530450132392, 'Ju': 0.6731391585760518, 'sp': 0.01953586682592192, 'ak': 0.01288763592428514, 'ke': 0.29405647132234414, 'we': 0.1250466061821991, 'lk': 0.011031330230228141, 'kn': 0.11736259164890021, 'nn': 0.010848918154077897, 'Pv': 0.028391651319828116, 'vl': 0.008047127675958724, 'vn': 0.024179886031110428, 'Sc': 0.030475552578700604, 'vo': 0.054058216540890186, 'Em': 0.3212228622064688, 'mp': 0.058820506671691135, 'pr': 0.1394520337288874, 'ss': 0.060677501860409856, 'Mr': 0.039473684210526314, 'ya': 0.025905583598318918, 'Fd': 0.01386748844375963, 'wo': 0.08021589759068232, 'rd': 0.030493551160791058, 'ds': 0.020553835569315445, 'gr': 0.05265472573164881, 'Va': 0.25, ' K': 0.002037738780958973, 'Ku': 0.5412156536219817, 'nk': 0.008262677838634111, 'im': 0.059534096856249163, 'po': 0.11733347002588615, 'fi': 0.08618801223703591, 'ir': 0.03597117924126431, 'ep': 0.011017744028575466, 'pt': 0.04052079862623984, 'ad': 0.05727045172999179, 'ug': 0.05067298844300264, 'om': 0.05872114619262404, 'ys': 0.03537835493985013, 'Sh': 0.2926992632283992, 'sa': 0.0522790802383826, 'su': 0.023819499596650636, 'uf': 0.00516243741909322, 'ff': 0.05361256939985648, 'm ': 0.21375104914270054, 'ip': 0.005148302764017867, 'pp': 0.0673808852551452, 'ei': 0.011165503861028665, 'St': 0.06999330207635633, 'sb': 0.0027577840173596564, 'bu': 0.13213745128981352, 'Al': 0.1030173727522097, 'nv': 0.0041867187975920825, 'ex': 0.009973788690590912, 'xc': 0.16226415094339622, 'wr': 0.009196953287289384, 'tt': 0.02022377762496983, 'Fr': 0.6928608115048793, 'sc': 0.013363683548974117, 'rl': 0.008956147893379191, 'tm': 0.0014572413510448876, 'ni': 0.027701015113168782, 'If': 0.038078426427940994, 'Co': 0.40539262062440873, 'va': 0.05448174957646697, 'ib': 0.00768594136046639, 'bl': 0.1164857814563138, ' v': 0.005521671722754514, 'tw': 0.00507757533254703, ' H': 0.0063869160924857945, 'He': 0.48538145271813615, 'ru': 0.014383490971625107, 'ck': 0.044094911608523225, 'pl': 0.10559499705256684, 'em': 0.020506495008287398, 'mb': 0.018619071273188195, 'br': 0.05993365753115842, ' k': 0.0050713914895270116, 'xp': 0.36495956873315366, 'fl': 0.022680061940552176, 'df': 0.000997592019263846, 'iz': 0.003505227413799399, 'zi': 0.10570175438596491, 'tu': 0.013247234656842431, 'ld': 0.07220981443987559, 'oc': 0.0075139294242504645, 'ci': 0.04310344827586207, 'ty': 0.014303734636349975, 'up': 0.04323346382394685, 'p ': 0.08068277930133019, 'ki': 0.17055795330456033, 'ba': 0.08772664326430711, 'Fi': 0.05290190035952748, 'Se': 0.09109176155391828, 'lt': 0.017543676553465944, 'af': 0.0073767441386236535, 'sy': 0.00234505443653032, 'hy': 0.006470804710500491, 'Ca': 0.08940397350993377, 'ik': 0.007290386183561944, 'yi': 0.0241266594027262, 'dn': 0.0031217750257997935, 'sd': 0.0005440526292750343, 'mu': 0.026789537692057348, 'pu': 0.029192403311377093, 'My': 0.044369645042839655, 'rk': 0.00694067067927773, 'ks': 0.04040351515781811, 'ey': 0.011949273407084763, 'nm': 0.0008196221984704077, 'du': 0.008290333677330581, 'rc': 0.0101530524505589, 'ab': 0.017435013789974356, 'bi': 0.02975749573282664, 'gs': 0.01795138333599872, 'Do': 0.1819533961328706, 'bo': 0.09880519145921227, 'No': 0.20558937465412286, 'vs': 0.023794855998767905, 'tc': 0.002978237011197989, 'yt': 0.0189010695781726, 'Wh': 0.5865650969529086, 'dy': 0.01021671826625387, 'lw': 0.0049990607192803025, 'dl': 0.0108703130374957, 'pi': 0.05705205423277033, 'ye': 0.04718596428809677, 'rf': 0.003116079105760963, 'hu': 0.009322865554465163, 'ia': 0.01769044460401884, 'c ': 0.010166700275593198, 'ub': 0.014083628366891776, 'bd': 0.0006441016392386719, 'ue': 0.029492958185816553, 'sm': 0.009936777332391143, 'ps': 0.02773150165312556, 'sn': 0.002851586194820869, 'In': 0.07502206531332745, 'Oh': 0.1871559633027523, 'rh': 0.001355116079105761, ' R': 0.003957168637893465, 'Ru': 0.26333006215243704, 'Eu': 0.03145768719539211, 'Ou': 0.03853211009174312, 'gn': 0.01869102830641292, 'og': 0.004070045104802335, 'ze': 0.31973684210526315, 'ob': 0.0046696736534889895, 'Go': 0.409823484267076, 'cr': 0.0341130604288499, 'yd': 0.000378021391563452, 'dr': 0.029618163054695563, 'sk': 0.0134887531189224, 'mm': 0.023706342817012383, 'xa': 0.0908355795148248, 'ft': 0.04065792952373758, 'cu': 0.028315520602271962, 'ek': 0.0008576494622826966, 'sw': 0.004327407120210617, 'v ': 0.09683505313414446, 'bn': 0.0007085118031625391, 'eg': 0.006880468719885903, 'ga': 0.0667479609787302, 'Ha': 0.06943809958885336, 'gw': 0.0004997601151447306, 'tz': 0.0030328835618621723, 'z ': 0.06140350877192982, 'dd': 0.011222910216718266, 'Ki': 0.08742714404662781, 'oq': 0.00013266118333775536, 'qu': 0.9991289198606271, 'Vi': 0.10931899641577061, 'mt': 0.0040595399188092015, 'Mo': 0.29773561811505506, 'cy': 0.004957316663305774, 'Ro': 0.37618580307491006, 'oh': 0.00031308039267710267, 'Ab': 0.005333739713501981, 'bb': 0.007374963769282793, 'b ': 0.0062155808186531835, ' q': 0.0024562345271351227, 'Ba': 0.12895174708818635, 'Fu': 0.002054442732408834, 'bt': 0.008856397539531739, 'As': 0.040841206949100886, 'um': 0.021304802158553893, 'aj': 0.0008564568177531263, 'eb': 0.000831952100116923, 'uk': 0.001419280378058861, 'nr': 0.00044303902620022043, 'az': 0.0017791870797371494, 'fy': 0.001605166748498697, 'cs': 0.001663641863278887, 'nI': 2.215195131001102e-05, 'jo': 0.3000882612533098, 'dm': 0.0017457860337117303, 'ej': 0.0002730344730113454, 'Tw': 0.01026694045174538, 'rv': 0.005124677558039553, 'lp': 0.004091089356905801, 'sf': 0.0019510852911932262, 'Be': 0.17831392124237383, 'lv': 0.005134734601014423, 'Hi': 0.122658748286889, 'kl': 0.018771774738703135, 'np': 0.0005537987827502755, 'hm': 0.0023245829244357215, 'nh': 0.0008528501254354242, 'ka': 0.01747179033851594, 'Is': 0.016139200605220023, 'gy': 0.0027386854309931234, 'Me': 0.02447980416156671, 'zo': 0.27631578947368424, 'nw': 0.0007420903688853692, 'Ar': 0.030173727522096922, 'wu': 0.0003195852493652682, 'mc': 0.0008907007416796561, 'At': 0.04922279792746114, 'ez': 0.0005460689460226908, 'Il': 0.03946538897995209, 'eh': 0.002187487954361485, 'Hl': 0.038145271813613525, 'ln': 0.00434156421549187, 'Pt': 0.04189686924493554, 'wl': 0.0035509472151696465, 'Ea': 0.014621178555604785, 'bs': 0.015458439341728124, 'mn': 0.005241431287576438, 'hl': 0.0009629538763493621, 'tn': 0.0010200689457314214, 'hs': 0.0011837585868498528, 'Ev': 0.09614532565352238, 'Ol': 0.036085626911314984, 'kb': 0.000623992512089855, 'Mi': 0.09975520195838433, 'So': 0.13563295378432685, 'nq': 0.0013457310420831696, 'Te': 0.01642710472279261, 'tf': 0.0008788986898489478, 'On': 0.41651376146788993, 'xt': 0.12668463611859837, 'zk': 0.04429824561403509, 'kh': 0.0425874889501326, 'tg': 8.65237052182902e-05, 'nx': 0.00045411500185522593, 'xi': 0.07574123989218329, 'Pi': 0.30263965623081646, 'gg': 0.008935710858787782, 'cq': 0.0019661222020568663, 'Ye': 0.35889328063241105, 'fc': 0.0008686784756581184, 'bv': 0.0015136388522108788, 'dh': 0.0006879944960440316, 'Du': 0.07288051561725335, 'dE': 6.879944960440316e-05, 'Ah': 0.026973483693995732, 'Ho': 0.09159433531292828, 'dv': 0.002760577915376677, 'lg': 0.0015341585088396751, 'vy': 0.003272755274911443, 'mw': 0.00025693290625374693, 'lr': 0.004873823289987268, 'ao': 0.00021411420443828157, 'dj': 0.0020295837633298934, 'Fe': 0.023112480739599383, 'fs': 0.004324508063602372, 'kg': 0.0008319900161198066, 'ph': 0.010508239997949611, 'cd': 0.00015124016938898973, 'Pa': 0.02394106813996317, 'nj': 0.0006645585393003306, 'Na': 0.515218594355285, 'bj': 0.005635889343338378, 'eq': 0.000809466908221871, 'rb': 0.0015202063628546863, 'iu': 0.000791110353808892, 'Ve': 0.07437275985663082, 'Ed': 0.00044306601683650863, 'rw': 0.0020842648323301806, 'yn': 0.0032243001045117966, 'Dr': 0.07288051561725335, 'ky': 0.007591908897093235, 'uI': 6.238595068390598e-05, 'tj': 1.3661637666045821e-05, 'ae': 0.0003517590501486055, 'db': 0.0006965944272445821, 'Ce': 0.009933774834437087, 'Ap': 0.004114599207558671, 'Ad': 0.004419384334044499, 'zy': 0.0061403508771929825, 'Di': 0.0466038671294001, 'lh': 0.0001565467866162934, ' Q': 6.0037364430333703e-05, 'Qu': 0.9714285714285714, 'El': 0.011519716437749225, 'za': 0.03333333333333333, 'Bt': 0.0013865779256794233, 'zu': 0.010964912280701754, 'xe': 0.08436657681940701, 'yI': 0.00013341931466945365, 'Im': 0.016643550624133148, 'wd': 0.0065514976119879975, 'Af': 0.03383114903992685, 'yr': 0.0025127304262747103, 'Re': 0.047432122996401704, 'Wo': 0.02631578947368421, 'rj': 2.063628546861565e-05, 'Sa': 0.024447421299397188, 'tb': 0.00015938577277053458, 'Br': 0.03410981697171381, 'wk': 0.0011185483727784386, 'kw': 0.004575945088658936, 'Su': 0.045880776959142666, 'Ex': 0.011519716437749225, 'eI': 3.5333872977938814e-05, 'Gi': 0.02072141212586339, 'yb': 0.0034911387338507037, 'Op': 0.003669724770642202, 'ix': 0.0015578788505775105, 'Wr': 0.006578947368421052, 'De': 0.2989588497768964, 'yf': 0.0034689021814057947, 'Ei': 0.004873726185201595, 'lb': 0.001565467866162934, 'Ml': 0.006731946144430845, 'Un': 0.5371024734982333, 'sq': 0.0009567822101043705, 'x ': 0.06684636118598383, 'xh': 0.016172506738544475, 'Ne': 0.053126729385722195, 'ux': 0.0006706489698519893, 'xu': 0.004582210242587601, 'pk': 0.0005125970730707127, 'fw': 0.0006042980700230389, 'gt': 0.004677754677754678, 'ax': 0.00025489786242652567, 'Fo': 0.13405238828967642, 'lc': 0.0013254294600179507, 'A ': 0.06842426089606828, 'Dl': 0.16360932077342588, 'ml': 0.003579931827135541, 'Pu': 0.0035297728667894415, 'Ta': 0.014227046054561454, 'Eh': 0.024811696942844484, 'lI': 1.0436452441086227e-05, 'Pl': 0.015193370165745856, 'tv': 0.004494678792129075, 'pm': 0.0006920060486454622, 'Ra': 0.02453385672227674, 'dz': 1.719986240110079e-05, 'Or': 0.0599388379204893, 'yp': 0.0012452469369149007, 'kI': 0.00010399875201497582, 'ja': 0.0353045013239188, 'Dm': 0.06544372830937036, 'Lv': 0.0028089887640449437, 'vv': 0.00030802402587401816, 'Ka': 0.14737718567860117, 'fb': 0.000547645125958379, 'ox': 0.0007482090740249403, 'mv': 0.00015415974375224817, 'Iv': 0.016391375614676587, 'yk': 0.0008449889929065397, 'Cy': 0.007095553453169348, 'Vl': 0.044802867383512544, 'Si': 0.035164099129269925, 'Es': 0.002658396101019052, 'gm': 0.000359827282904206, 'Ni': 0.19203099059214168, 'Sn': 0.15003348961821836, 'ku': 0.0008319900161198066, 'fg': 1.8884314688219965e-05, 'yv': 0.0005559138111227236, 'Hu': 0.01667428049337597, 'hb': 0.0004232090284592738, 'Vr': 0.06630824372759857, 'Cl': 0.020813623462630087, 'hn': 0.001919774288518155, 'uv': 0.001731210131478391, 'yg': 0.0002223655244490894, 'dS': 1.719986240110079e-05, 'dk': 0.0005933952528379773, 'wt': 0.00040835892974450935, 'nz': 0.00012183573220506061, 'wf': 0.0008877368037924116, 'Hm': 0.0022841480127912287, 'mf': 0.002363782737534472, 'Sp': 0.04018754186202277, 'Of': 0.04525993883792049, 'ko': 0.00873589516925797, 'aa': 0.00012235097396473234, 'dt': 0.0006363949088407293, 'Tu': 0.008360222939278381, 'Ak': 0.0007619628162145687, 'hp': 5.520117762512267e-05, 'Kr': 0.06744379683597003, 'mr': 0.0014045665541871498, ' z': 8.299282730075542e-05, 'vr': 0.005813953488372093, 'yy': 0.00024460207689399834, 'dw': 0.0005503955968352253, 'Rh': 0.010140660778541054, ' Z': 0.00017481467878244225, 'Za': 0.21296296296296297, 'zv': 0.0017543859649122807, 'Je': 0.12944983818770225, 'Ic': 0.00037826251418484426, 'Ag': 0.007619628162145687, 'Nu': 0.002213613724405091, 'uz': 0.0011385435999812842, 'vu': 0.0007700600646850454, 'Oo': 0.007339449541284404, 'Fa': 0.04930662557781202, 'zz': 0.0206140350877193, 'zl': 0.01929824561403509, 'kr': 0.003067963184441787, 'pb': 0.0003075582438424277, 'Mm': 0.0006119951040391676, 'gI': 7.996161842315688e-05, 'sg': 0.00029391348937846676, 'Id': 0.004160887656033287, 'Gr': 0.10053722179585571, 'pw': 0.0005125970730707127, 'Eg': 0.0031014621178555605, 'kc': 0.0027039675523893715, 'ah': 0.000754497672782516, 'wy': 0.0007279441791097776, 'wc': 0.00040835892974450935, 'md': 6.851544166766585e-05, 'oz': 0.0005837092066861237, 'AB': 0.0006095702529716549, 'BC': 0.00027731558513588466, 'C ': 0.0023651844843897824, 'Ke': 0.009159034138218152, 'JU': 0.003236245954692557, 'UL': 0.01060070671378092, 'LI': 0.018258426966292134, 'IE': 0.0007565250283696885, 'PS': 0.0001534683855125844, 'gd': 0.001079481848712618, 'Ep': 0.0008861320336730173, 'Et': 0.002215330084182543, 'MA': 0.0021419828641370867, 'RY': 0.0006542361792607131, 'Y ': 0.008695652173913044, 'yh': 0.0006448600209023593, 'Tk': 0.012026987386330302, 'hw': 0.00034347399411187437, 'tY': 4.553879222015274e-06, 'Od': 0.003669724770642202, 'iq': 0.00016430753502184682, 'cm': 5.0413389796329905e-05, 'dT': 2.5799793601651186e-05, 'Sw': 0.007032819825853985, 'Rr': 0.00032711808963035657, 'Ac': 0.0021334958854007926, 'Ts': 0.02273393957172191, 'B ': 0.0022185246810870773, 'mk': 0.0006166389750089927, 'sR': 6.253478497414187e-06, 'tR': 1.3661637666045821e-05, 'Am': 0.00853398354160317, 'Oc': 0.025688073394495414, 'hk': 0.0006746810598626104, 'kf': 0.0009879881441422704, 'Ms': 0.004589963280293758, 'Kn': 0.017485428809325562, 'Zb': 0.06481481481481481, 'hd': 0.00038640824337585867, 'dq': 0.0003955968352253182, 'nR': 1.6613963482508265e-05, 'Mt': 0.012545899632802938, 'fk': 0.0001699588321939797, 'sr': 0.0002876600108810526, 'Ga': 0.02686108979278588, 'hg': 0.00017173699705593719, 'Cr': 0.019867549668874173, 'ji': 0.0048543689320388345, 'sv': 0.0004752643658034782, 'vt': 0.0035807793007854613, 'Ig': 0.001513050056739377, 'yc': 0.003802450468079429, 'mh': 0.0003597060687552457, 'Km': 0.010824313072439634, 'Zh': 0.4537037037037037, 'kv': 0.0047319432166814, 'Ul': 0.05653710247349823, 'Ko': 0.07160699417152373, 'Ot': 0.03363914373088685, 'lz': 0.0002817842159093281, 'Vs': 0.015232974910394265, 'Uk': 0.0176678445229682, 'Oe': 0.0012232415902140672, 'Mu': 0.02447980416156671, 'vw': 0.00023101801940551362, 'bw': 0.0005474863933528711, 'Ug': 0.01060070671378092, 'ih': 3.65127855604104e-05, 'cw': 0.00015124016938898973, 'uh': 0.00017156136438074146, 'iw': 3.0427321300342003e-05, 'km': 0.0016119806562321251, 'eS': 3.2121702707217105e-06, 'pf': 0.001358382243637389, 'Sm': 0.036838580040187544, 'Zk': 0.009259259259259259, 'tp': 0.00019126292732464149, 'mR': 1.7128860416916463e-05, 'Aw': 0.0010667479427003963, 'Bi': 0.021630615640599003, 'bc': 9.661524588580078e-05, 'sI': 5.0027827979313496e-05, 'xq': 0.001078167115902965, 'Ob': 0.0061162079510703364, 'Fl': 0.004622496147919877, 'lA': 1.0436452441086227e-05, 'dU': 8.599931200550395e-06, 'Ai': 0.00045717768972874126, 'Zn': 0.1574074074074074, 'sZ': 1.2506956994828374e-05, 'aZ': 1.0195914497061027e-05, 'RI': 0.001962708537782139, 'NC': 0.001383508577753182, 'MU': 0.0003059975520195838, 'RA': 0.0032711808963035655, 'AT': 0.0009143553794574825, 'NA': 0.0011068068622025456, 'PO': 0.000767341927562922, 'OL': 0.001834862385321101, 'EO': 0.001329198050509526, 'wm': 7.101894430339293e-05, 'Sd': 0.0013395847287340924, 'hc': 0.00039867517173699705, 'vd': 0.00015401201293700908, 'fh': 0.0001699588321939797, 'Gl': 0.012279355333844973, 'xl': 0.001078167115902965, 'Az': 0.00030478512648582747, 'kt': 0.0007799906401123187, 'Bl': 0.004991680532445923, 'Cu': 0.004257332071901609, 'fp': 0.0002077274615704196, 'Ek': 0.002215330084182543, 'dc': 0.00010319917440660474, 'Ow': 0.0030581039755351682, 'Ir': 0.00037826251418484426, 'Ry': 0.008177952240758913, 'zn': 0.013596491228070176, 'Ll': 0.004213483146067416, 'yz': 0.000778279335571813, 'Vk': 0.0008960573476702509, 'zm': 0.028070175438596492, 'Vy': 0.025089605734767026, 'oP': 1.061289466702043e-05, 'hF': 6.133464180569186e-06, 'rM': 1.3757523645743766e-05, 'wb': 0.00019530209683433055, 'bm': 0.0022543557373353516, 'pI': 5.1259707307071275e-05, 'rI': 3.4393809114359416e-05, 'mI': 3.4257720833832925e-05, 'hI': 6.133464180569186e-06, 'Ey': 0.002658396101019052, 'dp': 7.739938080495357e-05, 'gf': 0.00021989445066368144, 'Us': 0.02120141342756184, 'Cz': 0.0023651844843897824, 'Os': 0.007951070336391437, 'rz': 0.0006878761822871883, 'sz': 2.5013913989656748e-05, 'zw': 0.0017543859649122807, 'eK': 2.5697362165773684e-05, 'Tv': 0.0014667057788207685, 'Ov': 0.001834862385321101, 'lE': 0.00017741969149846583, 'nM': 5.537987827502755e-06, 'Nv': 0.001383508577753182, 'vg': 0.00011550900970275681, 'Uv': 0.04240282685512368, 'Uh': 0.10954063604240283, 'Zu': 0.009259259259259259, 'sj': 2.5013913989656748e-05, 'rH': 6.878761822871883e-06, 'fm': 0.00011330588812931979, 'pn': 0.0008201553169131404, 'zh': 0.046052631578947366, 'uy': 0.0003119297534195299, 'Kl': 0.006661115736885929, 'Gw': 0.0007674597083653108, 'uS': 1.5596487670976495e-05, 'Ip': 0.00012608750472828143, 'tk': 5.0092671442168013e-05, 'nC': 1.107597565500551e-05, 'pc': 0.0032806212676525616, 'Yr': 0.0007905138339920949, 'hv': 0.0008157507360157017, 'rq': 9.630266552020637e-05, 'Ee': 0.00044306601683650863, 'sB': 6.253478497414187e-06, 'Av': 0.00015239256324291374, 'tB': 9.107758444030547e-06, 'Fk': 0.0015408320493066256, 'Sv': 0.004018754186202277, 'sS': 1.2506956994828374e-05, 'Ph': 0.001074278698588091, 'Io': 0.0016391375614676585, 'uw': 3.119297534195299e-05, 'Aa': 0.00015239256324291374, 'IO': 0.0005043500189131257, 'U ': 0.024734982332155476, 'aI': 1.0195914497061027e-05, 'vb': 3.850300323425227e-05, 'yY': 2.223655244490894e-05, 'Jo': 0.11650485436893204, 'zd': 0.008771929824561403, 'vk': 0.00034652702910827044, 'fd': 0.00013219020281753975, 'Sq': 0.0053583389149363695, 'dI': 4.299965600275198e-05, 'td': 3.643103377612219e-05, 'M ': 0.00397796817625459, 'qc': 0.00043554006968641115, 'LU': 0.004213483146067416, 'Ur': 0.0176678445229682, 'Kh': 0.006661115736885929, 'hE': 2.4533856722276743e-05, 'hh': 7.973503434739942e-05, 'yA': 2.223655244490894e-05, 'lS': 1.0436452441086227e-05, 'Yk': 0.012648221343873518, 'sG': 1.2506956994828374e-05, 'Sl': 0.003348961821835231, 'yW': 2.223655244490894e-05, 'Ty': 0.00014667057788207686, 'kp': 0.00015599812802246374, 'Nl': 0.0002767017155506364, 'Lg': 0.004213483146067416, 'Lz': 0.016853932584269662, 'Er': 0.021710234824988923, 'wI': 3.5509472151696465e-05, 'Ci': 0.003784295175023652, 'Ri': 0.004252535165194635, 'eM': 3.2121702707217105e-06, 'NN': 0.0005534034311012728, 'SS': 0.0013395847287340924, 'Mv': 0.00795593635250918, 'wB': 1.7754736075848232e-05, 'nP': 1.6613963482508265e-05, 'tE': 4.553879222015274e-06, 'aq': 1.0195914497061027e-05, 'Yu': 0.0023715415019762848, 'wN': 1.7754736075848232e-05, 'Bs': 0.0008319467554076539, 'yN': 8.894620977963576e-05, 'Ly': 0.0056179775280898875, 'yu': 0.0011118276222454471, 'yC': 2.223655244490894e-05, 'rC': 6.878761822871883e-06, 'gp': 5.9971213817367666e-05, 'nD': 5.537987827502755e-06, 'nT': 2.7689939137513777e-05, 'Ss': 0.0006697923643670462, 'wp': 5.32642082275447e-05, 'Ib': 0.0007565250283696885, 'Iw': 0.00025217500945656286, 'iF': 6.0854642600684e-06, 'eR': 3.2121702707217105e-06, 'rT': 6.878761822871883e-06, 'Pn': 0.0009208103130755065, 'rR': 6.878761822871883e-06, 'vz': 0.0002695210226397659, 'aM': 5.097957248530514e-06, 'gq': 1.999040460578922e-05, 'uq': 1.5596487670976495e-05, 'sC': 1.2506956994828374e-05, 'Tp': 0.0002933411557641537, 'Sy': 0.0020093770931011385, 'Eq': 0.0008861320336730173, 'dN': 8.599931200550395e-06, 'Kv': 0.0008326394671107411, 'iy': 6.0854642600684e-06, 'xo': 0.0013477088948787063, 'Pf': 0.007213014119091467, 'rB': 6.878761822871883e-06, 'Dv': 0.0004957858205255329, 'Dn': 0.0034705007436787306, 'xM': 0.0005390835579514825, 'Vt': 0.007168458781362007, 'gc': 9.995202302894611e-05, 'Zd': 0.06481481481481481, 'kk': 5.199937600748791e-05, 'Md': 0.0003059975520195838, 'fn': 0.0002454960909468595, 'gk': 1.999040460578922e-05, 'Gh': 0.0007674597083653108, 'q ': 0.00043554006968641115, ' x': 8.829024180931427e-06, 'Lr': 0.0056179775280898875, 'rW': 1.3757523645743766e-05, 'uP': 1.5596487670976495e-05, 'Zi': 0.009259259259259259, 'Bw': 0.0008319467554076539, 'tM': 4.553879222015274e-06, 'Wl': 0.00034626038781163435, 'yH': 2.223655244490894e-05, 'wM': 1.7754736075848232e-05, 'lq': 2.0872904882172454e-05, 'zc': 0.0004385964912280702, 'Gc': 0.0007674597083653108, 'bz': 9.661524588580078e-05, 'lx': 1.0436452441086227e-05, 'hH': 6.133464180569186e-06, 'oZ': 2.122578933404086e-05, 'dA': 8.599931200550395e-06, 'Py': 0.0003069367710251688, 'Ya': 0.021343873517786563, 'Gn': 0.0007674597083653108, 'xE': 0.00026954177897574127, 'Vn': 0.0008960573476702509, 'rA': 1.3757523645743766e-05, 'Wu': 0.0006925207756232687, 'Pw': 0.00046040515653775324, 'bh': 6.441016392386718e-05, 'Ps': 0.0001534683855125844, 'Nz': 0.002213613724405091, 'Lb': 0.004213483146067416, 'Ut': 0.02120141342756184, 'zb': 0.0004385964912280702, 'Tc': 0.0008800234672924611, 'Zw': 0.009259259259259259, 'tP': 1.3661637666045821e-05, 'Ec': 0.002215330084182543, 'xs': 0.001078167115902965, 'nN': 5.537987827502755e-06, 'Xs': 0.0029717682020802376, 'yF': 2.223655244490894e-05, 'rP': 1.3757523645743766e-05, 'sD': 6.253478497414187e-06, 'AL': 0.0009143553794574825, 'LF': 0.0028089887640449437, 'oY': 4.245157866808172e-05, 'xy': 0.0018867924528301887, 'tC': 9.107758444030547e-06, 'gY': 1.999040460578922e-05, 'sP': 6.253478497414187e-06, 'Ef': 0.001329198050509526, 'Kd': 0.0008326394671107411, 'Sk': 0.0020093770931011385, 'rK': 1.3757523645743766e-05, 'zs': 0.0008771929824561404, 'gz': 0.00013993283224052454, 'aT': 5.097957248530514e-06, 'hV': 6.133464180569186e-06, 'gE': 1.999040460578922e-05, 'xf': 0.00026954177897574127, 'tG': 4.553879222015274e-06, 'gN': 1.999040460578922e-05, 'mP': 1.7128860416916463e-05, 'yG': 4.447310488981788e-05, 'Lp': 0.0014044943820224719, 'aY': 5.097957248530514e-06, 'Ok': 0.0012232415902140672, 'Tl': 0.0011733646230566149, 'iN': 1.21709285201368e-05, 'MO': 0.0009179926560587516, 'NS': 0.001383508577753182, 'EU': 0.00044306601683650863, 'KO': 0.0008326394671107411, 'TO': 0.0007333528894103843, 'UZ': 0.0035335689045936395, 'ZO': 0.009259259259259259, 'OV': 0.0012232415902140672, 'OS': 0.0030581039755351682, 'SC': 0.0016744809109176155, 'OW': 0.001834862385321101, 'W ': 0.0006925207756232687, 'OC': 0.0012232415902140672, 'OB': 0.0006116207951070336, 'Ds': 0.0004957858205255329, 'Sr': 0.0003348961821835231, 'Rz': 0.00032711808963035657, 'vh': 3.850300323425227e-05, 'Kk': 0.0008326394671107411, 'fj': 1.8884314688219965e-05, 'vD': 0.0003850300323425227, 'rG': 6.878761822871883e-06, 'eT': 3.2121702707217105e-06, 'zt': 0.0004385964912280702, 'NH': 0.0002767017155506364, 'BI': 0.0011092623405435386, 'IT': 0.0013869625520110957, 'CL': 0.0014191106906338694, 'LA': 0.0056179775280898875, 'AM': 0.0006095702529716549, 'TI': 0.0013200352009386917, 'gO': 1.999040460578922e-05, 'eO': 3.2121702707217105e-06, 'mg': 1.7128860416916463e-05, 'gb': 3.998080921157844e-05, 'oF': 5.306447333510215e-06, 'vK': 3.850300323425227e-05, 'GE': 0.003837298541826554, 'L ': 0.009831460674157303, 'AF': 0.00030478512648582747, 'FF': 0.0005136106831022085, 'uj': 1.5596487670976495e-05, 'hz': 1.8400392541707557e-05, 'Ih': 0.00012608750472828143, 'Gz': 0.0007674597083653108, 'aV': 5.097957248530514e-06, 'bk': 6.441016392386718e-05, 'Oz': 0.001834862385321101, 'uu': 3.119297534195299e-05, 'gv': 0.00019990404605789222, 'gK': 1.999040460578922e-05, 'Db': 0.001487357461576599, 'Ax': 0.00015239256324291374, 'kd': 0.00015599812802246374, 'eC': 3.2121702707217105e-06, 'yj': 2.223655244490894e-05, 'oT': 5.306447333510215e-06, 'tW': 4.553879222015274e-06, 'lM': 1.0436452441086227e-05, 'eP': 3.2121702707217105e-06, 'rD': 6.878761822871883e-06, 'Kw': 0.0008326394671107411, 'gM': 1.999040460578922e-05, 'gP': 1.999040460578922e-05, 'Ia': 0.00012608750472828143, 'eD': 3.2121702707217105e-06, 'tS': 4.553879222015274e-06, 'sN': 6.253478497414187e-06, 'Vw': 0.0008960573476702509, 'Gt': 0.0007674597083653108, 'NY': 0.0011068068622025456, 'YT': 0.0007905138339920949, 'NG': 0.0005534034311012728, 'FU': 0.0015408320493066256, 'LL': 0.004213483146067416, 'IC': 0.0005043500189131257, 'HE': 0.0011420740063956144, 'PL': 0.00046040515653775324, 'AS': 0.0006095702529716549, 'AD': 0.00030478512648582747, 'EF': 0.0008861320336730173, 'OR': 0.007339449541284404, 'YO': 0.0047430830039525695, 'DI': 0.0034705007436787306, 'TR': 0.0007333528894103843, 'IB': 0.0005043500189131257, 'BU': 0.0008319467554076539, 'US': 0.014134275618374558, 'RK': 0.0006542361792607131, 'pg': 0.0002050388292282851, 'PG': 0.0003069367710251688, 'GL': 0.0015349194167306216, 'CI': 0.0014191106906338694, 'IM': 0.0006304375236414071, 'MI': 0.0009179926560587516, 'ED': 0.002658396101019052, 'RR': 0.0013084723585214263, 'TY': 0.0008800234672924611, 'AI': 0.00015239256324291374, 'ME': 0.0015299877600979193, 'DA': 0.0019831432821021317, 'AG': 0.0010667479427003963, 'ES': 0.0031014621178555605, 'GR': 0.0030698388334612432, 'AV': 0.00015239256324291374, 'NO': 0.001383508577753182, 'EM': 0.002215330084182543, 'EG': 0.00044306601683650863, 'IA': 0.00037826251418484426, 'BR': 0.0005546311702717693, 'H ': 0.0011420740063956144, 'EX': 0.0008861320336730173, 'XC': 0.0014858841010401188, 'HO': 0.00022841480127912289, 'ID': 0.00025217500945656286, 'DE': 0.002478929102627665, 'PA': 0.0001534683855125844, 'PH': 0.0001534683855125844, 'UN': 0.014134275618374558, 'WN': 0.00034626038781163435, 'WI': 0.0006925207756232687, 'OT': 0.0024464831804281344, 'BL': 0.00027731558513588466, 'TU': 0.00014667057788207686, 'UA': 0.0035335689045936395, 'EQ': 0.00044306601683650863, 'QU': 0.02857142857142857, 'PU': 0.0003069367710251688, 'GI': 0.0007674597083653108, 'SU': 0.0003348961821835231, 'UC': 0.0035335689045936395, 'KI': 0.0008326394671107411, 'XP': 0.0014858841010401188, 'MP': 0.0003059975520195838, 'UD': 0.0035335689045936395, 'RC': 0.00032711808963035657, 'TN': 0.00014667057788207686, 'RP': 0.00032711808963035657, 'MN': 0.0003059975520195838, 'AK': 0.00015239256324291374, 'DO': 0.0004957858205255329}\n"
          ]
        }
      ],
      "source": [
        "print(M)"
      ]
    },
    {
      "cell_type": "code",
      "execution_count": 16,
      "metadata": {
        "colab": {
          "base_uri": "https://localhost:8080/"
        },
        "id": "gkQeBrPMcDH6",
        "outputId": "326dda94-2062-480e-ad0b-f130cb8ebc61"
      },
      "outputs": [
        {
          "output_type": "stream",
          "name": "stdout",
          "text": [
            "r =  0 = 0.0 %\tdecrypted =  mq RmKgRyGyRGIRmKgRMFvFfqyRIKRyqPtNzIRIsG RMq  Ffq\n",
            "r =  1 = 0.0 %\tdecrypted =  mq RmKgRyGyRGIRmKgRMFvFfqyRIKRyqPtNzIRIsG RMq  Ffq\n",
            "r =  2 = 0.0 %\tdecrypted =  mq RmKgRyGyRGIRmKgRMFvFfqyRIKRyqPtNzIRIsG RMq  Ffq\n",
            "r =  3 = 0.0 %\tdecrypted =  mq RmKgRyGyRGIRmKgRMFvFfqyRIKRyqPtNzIRIsG RMq  Ffq\n",
            "r =  4 = 0.0 %\tdecrypted =  mq RmKgRyGyRGIRmKgRMFvFfqyRIKRyqPtNzIRIsG RMq  Ffq\n",
            "r =  5 = 0.0 %\tdecrypted =  mq RmKgRyGyRGIRmKgRMFvFfqyRIKRyqPtNzIRIsG RMq  Ffq\n",
            "r =  6 = 0.1 %\tdecrypted =  mq RmOgRyGyRGIRmOgRMFvFfqyRIORyqPtNzIRIsG RMq  Ffq\n",
            "r =  7 = 0.1 %\tdecrypted =  mq RmOgRyGyRGIRmOgRMFvFfqyRIORyqPtNzIRIsG RMq  Ffq\n",
            "r =  8 = 0.1 %\tdecrypted =  mq RmOgRyGyRGIRmOgRMFvFfqyRIORyqntNzIRIsG RMq  Ffq\n",
            "r =  9 = 0.1 %\tdecrypted =  mq RmOgRyGyRGIRmOgRMFvFfqyRIORyqntNzIRIsG RMq  Ffq\n",
            "r =  1000 = 10.0 %\tdecrypted =  Mi eMmhenaneareMmheutstkinermeniyofprerda eui  tki\n",
            "r =  2000 = 20.0 %\tdecrypted =  LimeLadenoneo eLadeutrtkine aenicsgp e homeuimmtki\n",
            "r =  3000 = 30.0 %\tdecrypted =  ZimeZayenoneoteZayeu r ginetaenicskptethomeuimm gi\n",
            "r =  4000 = 40.0 %\tdecrypted =  Zis Zay vov ot Zay menediv ta vicrkpt thos missedi\n",
            "r =  5000 = 50.0 %\tdecrypted =  Jos Jay ded et Jay minigod ta docrupt thes mossigo\n",
            "r =  6000 = 60.0 %\tdecrypted =  Yes Yay dod ot Yay miniged ta decrupt thos messige\n",
            "r =  7000 = 70.0 %\tdecrypted =  Yes Yoy did it Yoy managed to decrupt this message\n",
            "r =  8000 = 80.0 %\tdecrypted =  Yes You did it You managed to decrypt this message\n",
            "r =  9000 = 90.0 %\tdecrypted =  Yes You did it You managed to decrypt this message\n"
          ]
        }
      ],
      "source": [
        "\n",
        "for r in np.arange(R):\n",
        "\n",
        "  if (np.mod(r,tenth)==0 or r<10):\n",
        "    metropolis_decrypted = transform_message(cryptogram, sigma, char_mapping, char_mapping_inv)\n",
        "    print(\"r = \", r, \"=\",np.round(100*r/R,1),\"%\\tdecrypted = \", metropolis_decrypted[:show_length])\n",
        "\n",
        "  sigma2=cp.copy(sigma)\n",
        "\n",
        "  #random perm, but only take first two elements = i,j uniform and distinct\n",
        "  tmp=np.random.permutation(number_of_characters)\n",
        "  i=tmp[0]\n",
        "  j=tmp[1]\n",
        "  sigma2[[i,j]]=sigma2[[j,i]]\n",
        "\n",
        "  ratio2 = calc_likelihood_ratio(cryptogram, M, sigma, i, j, char_mapping_inv, char_mapping)\n",
        "\n",
        "  alpha=min(1,ratio2)\n",
        "  U=np.random.random(1)[0]\n",
        "  if (U<=alpha):\n",
        "      sigma=cp.copy(sigma2)"
      ]
    },
    {
      "cell_type": "code",
      "execution_count": 17,
      "metadata": {
        "colab": {
          "base_uri": "https://localhost:8080/"
        },
        "id": "dIAqgn3EfYLH",
        "outputId": "d5630503-b382-4b99-9100-608cfeec1bcc"
      },
      "outputs": [
        {
          "output_type": "stream",
          "name": "stdout",
          "text": [
            "[26 14 44 42 21 12 38  7 50 39 11 30 47 48 35 17 33 34  4  1 32 52  2 37\n",
            " 41 15 36 49  6 43 20 29 22 51 45 24 31 28  9  0  3 46 27 10 16 25 18 23\n",
            " 13 40  8  5 19]\n"
          ]
        }
      ],
      "source": [
        "print(sigma)"
      ]
    },
    {
      "cell_type": "code",
      "execution_count": 18,
      "metadata": {
        "colab": {
          "base_uri": "https://localhost:8080/"
        },
        "id": "z2Rn5lWGKySa",
        "outputId": "0d8706cc-413a-41c1-b7fd-8044ca9a33ec"
      },
      "outputs": [
        {
          "output_type": "stream",
          "name": "stdout",
          "text": [
            "Yes You did it You managed to decrypt this message Clease write email to the lecturer with slogan Getropolis algorithm allows to break substitution ciphers Pescribe shortly your approach To make it easier to decrypt I put here more sentences it does make it easier for Getropolis to decrypt it In particular it is easier if all the lower and upper letters appear in this message Below information on Getropolis algorithm from Kikipedia is copied The algorithm was named after Licholas Getropolis who authored the  article Equation of State Ralculations by Dast Romputing Gachines together with Arianna K Mosenbluth Garshall Mosenbluth Augusta N Teller and Edward Teller This article proposed the algorithm for the case of symmetrical proposal distributions and K X Nastings extended it to the more general case in  Some controversy exists with regard to credit for development of the algorithm Getropolis had coined the term Gonte Rarlo in an earlier article with Stanislav Olam was familiar with the computational aspects of the method and led the group in the Theoretical Pivision that designed and built the GALIAR I computer used in the experiments in  Nowever prior to  there was no detailed account of the algorithms development Then shortly before his death Garshall Mosenbluth attended a  conference at FALF marking the th anniversary of the  publication At this conference Mosenbluth described the algorithm and its development in a presentation titled Henesis of the Gonte Rarlo Algorithm for Statistical Gechanics Durther historical clarification is made by Hubernatis in a  journal article recounting the th anniversary conference Mosenbluth makes it clear that he and his wife Arianna did the work and that Getropolis played no role in the development other than providing computer time This contradicts an account by Edward Teller who states in his memoirs that the five authors of the  article worked together for days and nights In contrast the detailed account by Mosenbluth credits Teller with a crucial but early suggestion to take advantage of statistical mechanics and take ensemble averages instead of following detailed kinematics This says Mosenbluth started him thinking about the generalized Gonte Rarlo approach  a topic which he says he had discussed often with Von Leumann Arianna recounted to Hubernatis in  that Augusta Teller started the computer work but that Arianna herself took it over and wrote the code from scratch In an oral history recorded shortly before his death Mosenbluth again credits Teller with posing the original problem himself with solving it and Arianna with programming the computer In terms of reputation there is little reason to question Mosenbluths account In a biographical memoir of Mosenbluth Dreeman Pyson writes Gany times I came to Mosenbluth asking him a question  and receiving an answer in two minutes Then it would usually take me a week of hard work to understand in detail why Mosenbluths answer was right Ne had an amazing ability to see through a complicated physical situation and reach the right answer by physical arguments Enrico Dermi was the only other physicist I have known who was equal to Mosenbluth in his intuitive grasp of physics Rompared with an algorithm like adaptive rejection sampling that directly generates independent samples from a distribution GetropolisNastings and other GRGR algorithms have a number of disadvantages The samples are correlated Even though over the long term they do correctly follow a set of nearby samples will be correlated with each other and not correctly reflect the distribution This means that if we want a set of independent samples we have to throw away the majority of samples and only take every nth sample for some value of n typically determined by examining the autocorrelation between adjacent samples Autocorrelation can be reduced by increasing the jumping width the average size of a jump which is related to the variance of the jumping distribution but this will also increase the likelihood of rejection of the proposed jump Too large or too small a jumping size will lead to a slowmixing Garkov chain ie a highly correlated set of samples so that a very large number of samples will be needed to get a reasonable estimate of any desired property of the distribution Although the Garkov chain eventually converges to the desired distribution the initial samples may follow a very different distribution especially if the starting point is in a region of low density As a result a burnin period is typically necessary where an initial number of samples eg the first  or so are thrown away Un the other hand most simple rejection sampling methods suffer from the curse of dimensionality where the probability of rejection increases exponentially as a function of the number of dimensions GetropolisNastings along with other GRGR methods do not have this problem to such a degree and thus are often the only solutions available when the number of dimensions of the distribution to be sampled is high As a result GRGR methods are often the methods of choice for producing samples from hierarchical Bayesian models and other highdimensional statistical models used nowadays in many disciplines In multivariate distributions the classic GetropolisNastings algorithm as described above involves choosing a new multidimensional sample point Khen the number of dimensions is high finding the suitable jumping distribution to use can be difficult as the different individual dimensions behave in very different ways and the jumping width see above must be just right for all dimensions at once to avoid excessively slow mixing An alternative approach that often works better in such situations known as Hibbs sampling involves choosing a new sample for each dimension separately from the others rather than choosing a sample for all dimensions at once This is especially applicable when the multivariate distribution is composed of a set of individual random variables in which each variable is conditioned on only a small number of other variables as is the case in most typical hierarchical models The individual variables are then sampled one at a time with each variable conditioned on the most recent values of all the others Various algorithms can be used to choose these individual samples depending on the exact form of the multivariate distribution some possibilities are the adaptive rejection sampling methods the adaptive rejection Getropolis sampling algorithm or its improvements see matlab code a simple onedimensional GetropolisNastings step or slice sampling In statistics Hibbs sampling or a Hibbs sampler is a Garkov chain Gonte Rarlo GRGR algorithm for obtaining a sequence of observations which are approximately from a specified multivariate probability distribution when direct sampling is difficult This sequence can be used to approximate the joint distribution eg to generate a histogram of the distribution to approximate the marginal distribution of one of the variables or some subset of the variables for example the unknown parameters or latent variables or to compute an integral such as the expected value of one of the variables Typically some of the variables correspond to observations whose values are known and hence do not need to be sampled Hibbs sampling is commonly used as a means of statistical inference especially Bayesian inference It is a randomized algorithm ie an algorithm that makes use of random numbers and is an alternative to deterministic algorithms for statistical inference such as the expectationmaximization algorithm EG As with other GRGR algorithms Hibbs sampling generates a Garkov chain of samples each of which is correlated with nearby samples As a result care must be taken if independent samples are desired Henerally samples from the beginning of the chain the burnin period may not accurately represent the desired distribution and are usually discarded It has been shown however that using a longer chain instead eg a chain that is n times as long as the initially considered chain using a thinning factor of n leads to better estimates of the true posterior Thus thinning should only be applied when time or computer memory are restricted Hibbs sampling is named after the physicist Josiah Killard Hibbs in reference to an analogy between the sampling algorithm and statistical physics The algorithm was described by brothers Stuart and Ponald Heman in  some eight decades after the death of Hibbs In its basic version Hibbs sampling is a special case of the GetropolisNastings algorithm Nowever in its extended versions see below it can be considered a general framework for sampling from a large set of variables by sampling each variable or in some cases each group of variables in turn and can incorporate the GetropolisNastings algorithm or more sophisticated methods such as slice sampling adaptive rejection sampling and adaptive rejection Getropolis algorithms to implement one or more of the sampling steps Hibbs sampling is applicable when the joint distribution is not known explicitly or is difficult to sample from directly but the conditional distribution of each variable is known and is easy or at least easier to sample from The Hibbs sampling algorithm generates an instance from the distribution of each variable in turn conditional on the current values of the other variables It can be shown that the sequence of samples constitutes a Garkov chain and the stationary distribution of that Garkov chain is just the soughtafter joint distribution Hibbs sampling is particularly welladapted to sampling the posterior distribution of a Bayesian network since Bayesian networks are typically specified as a collection of conditional distributions And some words which surely contain all the letters cab federal ghost kill jar moon poor quest rose trust vowel proxy zebra All Beside Row Pragon Dee Hhost Nome In Jam Xey Fow Goon Lo Uven Caper Queen Moof Seven Travel Oniverse Video Kool Zray Yes Webra\n"
          ]
        }
      ],
      "source": [
        "metropolis_decrypted = transform_message(cryptogram, sigma, char_mapping, char_mapping_inv)\n",
        "print(metropolis_decrypted)"
      ]
    },
    {
      "cell_type": "markdown",
      "source": [
        "# Q15.1\n",
        "* Compute frequency matrix M from another English text and repeat the procedure: encrypt and then decrypt message of your choice. Try shorter and longer messages."
      ],
      "metadata": {
        "id": "QD7qrH-K49jG"
      }
    },
    {
      "cell_type": "code",
      "source": [],
      "metadata": {
        "id": "NcXDaEwW5Riy"
      },
      "execution_count": null,
      "outputs": []
    }
  ],
  "metadata": {
    "colab": {
      "provenance": [],
      "include_colab_link": true
    },
    "kernelspec": {
      "display_name": "Python 3 (ipykernel)",
      "language": "python",
      "name": "python3"
    },
    "language_info": {
      "codemirror_mode": {
        "name": "ipython",
        "version": 3
      },
      "file_extension": ".py",
      "mimetype": "text/x-python",
      "name": "python",
      "nbconvert_exporter": "python",
      "pygments_lexer": "ipython3",
      "version": "3.10.12"
    }
  },
  "nbformat": 4,
  "nbformat_minor": 0
}