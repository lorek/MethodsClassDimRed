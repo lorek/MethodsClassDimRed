{
  "cells": [
    {
      "cell_type": "markdown",
      "metadata": {
        "id": "view-in-github",
        "colab_type": "text"
      },
      "source": [
        "<a href=\"https://colab.research.google.com/github/lorek/MethodsClassDimRed/blob/main/MoCaDR_List_nr_5_nn_lr_torch.ipynb\" target=\"_parent\"><img src=\"https://colab.research.google.com/assets/colab-badge.svg\" alt=\"Open In Colab\"/></a>"
      ]
    },
    {
      "cell_type": "markdown",
      "source": [
        "**Methods of classification and dimensionality reduction**\n",
        "\n",
        "\n",
        "Paweł Lorek  \n",
        "University of Wrocław\n",
        "\n",
        "# LIST NR 5: Linear Regression (and extensions), classification and Neural Networks in PyTorch.\n",
        "\n",
        "\n",
        " <font face=\"Rage\" size=2  > Updated: 08.04.2025 <font>"
      ],
      "metadata": {
        "id": "36fjddJFPX0A"
      }
    },
    {
      "cell_type": "code",
      "execution_count": null,
      "metadata": {
        "id": "EP-1YR4bM2tl",
        "colab": {
          "base_uri": "https://localhost:8080/"
        },
        "outputId": "63e1b9a5-658e-4a8f-a2b6-862588cc1684"
      },
      "outputs": [
        {
          "output_type": "stream",
          "name": "stdout",
          "text": [
            "Using device: cpu\n"
          ]
        }
      ],
      "source": [
        "# Paweł Lorek\n",
        "\n",
        "\n",
        "import torch\n",
        "import torch.nn as nn\n",
        "import torch.optim as optim\n",
        "from torch.utils.data import DataLoader, TensorDataset\n",
        "import numpy as np\n",
        "import matplotlib.pyplot as plt\n",
        "from datetime import datetime\n",
        "\n",
        "import time\n",
        "\n",
        "from keras.datasets import mnist # <-- dataset from here, 28x28 images\n",
        "\n",
        "# For reproducibility\n",
        "torch.manual_seed(42)\n",
        "np.random.seed(42)\n",
        "\n",
        "# Select device\n",
        "device = torch.device('cuda' if torch.cuda.is_available() else 'cpu')\n",
        "print(f'Using device: {device}')\n"
      ]
    },
    {
      "cell_type": "markdown",
      "source": [],
      "metadata": {
        "id": "jpr-au45PaMf"
      }
    },
    {
      "cell_type": "code",
      "source": [
        "!pip install torchinfo\n",
        "from torchinfo import summary as torch_summary"
      ],
      "metadata": {
        "colab": {
          "base_uri": "https://localhost:8080/"
        },
        "id": "1O5cn_9XFrVT",
        "outputId": "81e212fc-c152-45b9-ecd5-d54cf6ff326b"
      },
      "execution_count": null,
      "outputs": [
        {
          "output_type": "stream",
          "name": "stdout",
          "text": [
            "Collecting torchinfo\n",
            "  Downloading torchinfo-1.8.0-py3-none-any.whl.metadata (21 kB)\n",
            "Downloading torchinfo-1.8.0-py3-none-any.whl (23 kB)\n",
            "Installing collected packages: torchinfo\n",
            "Successfully installed torchinfo-1.8.0\n"
          ]
        }
      ]
    },
    {
      "cell_type": "markdown",
      "metadata": {
        "id": "qV5J_BDeMlLI"
      },
      "source": [
        "# Data Preparation\n",
        "Load mnist dataset, classes = 0,1,...,9"
      ]
    },
    {
      "cell_type": "code",
      "source": [
        "(x_train, y_train), (x_test, y_test) = mnist.load_data()"
      ],
      "metadata": {
        "id": "kjH1Qd1AtnML",
        "colab": {
          "base_uri": "https://localhost:8080/"
        },
        "outputId": "1c829c75-a1d0-4370-d8f5-37506978682b"
      },
      "execution_count": null,
      "outputs": [
        {
          "output_type": "stream",
          "name": "stdout",
          "text": [
            "Downloading data from https://storage.googleapis.com/tensorflow/tf-keras-datasets/mnist.npz\n",
            "\u001b[1m11490434/11490434\u001b[0m \u001b[32m━━━━━━━━━━━━━━━━━━━━\u001b[0m\u001b[37m\u001b[0m \u001b[1m0s\u001b[0m 0us/step\n"
          ]
        }
      ]
    },
    {
      "cell_type": "code",
      "source": [
        "print(\"x_train.shape = \",x_train.shape)\n",
        "print(\"x_test.shape = \",x_test.shape)"
      ],
      "metadata": {
        "colab": {
          "base_uri": "https://localhost:8080/"
        },
        "id": "GvyQFoc5thAV",
        "outputId": "cca41107-d34b-4ae9-8677-f95d28c3e4f5"
      },
      "execution_count": null,
      "outputs": [
        {
          "output_type": "stream",
          "name": "stdout",
          "text": [
            "x_train.shape =  (60000, 28, 28)\n",
            "x_test.shape =  (10000, 28, 28)\n"
          ]
        }
      ]
    },
    {
      "cell_type": "markdown",
      "source": [
        "##Binary classification"
      ],
      "metadata": {
        "id": "swNsvX4wthHd"
      }
    },
    {
      "cell_type": "markdown",
      "metadata": {
        "id": "Cd7vqave8t31"
      },
      "source": [
        "we will start with binary classification, choose only digits 0 or 1"
      ]
    },
    {
      "cell_type": "code",
      "execution_count": null,
      "metadata": {
        "colab": {
          "base_uri": "https://localhost:8080/"
        },
        "id": "uhceZ4SV8v8J",
        "outputId": "ed78f80e-0d4b-43ff-a2ad-7330a308701b"
      },
      "outputs": [
        {
          "output_type": "stream",
          "name": "stdout",
          "text": [
            "images of size: h=  28 , w =  28\n",
            "x_train2.shape =  (12665, 784)\n",
            "x_test2.shape =  (2115, 784)\n"
          ]
        }
      ],
      "source": [
        "\n",
        "x_train2, y_train2 = x_train[(y_train==0) | (y_train==1)], y_train[(y_train==0) | (y_train==1)]\n",
        "x_test2, y_test2 = x_test[(y_test==0) | (y_test==1)], y_test[(y_test==0) | (y_test==1)]\n",
        "\n",
        "\n",
        "# nr of samples, size  of images\n",
        "n_samples_train, h, w =     x_train2.shape\n",
        "n_samples_test, _, _ =      x_test2.shape\n",
        "print(\"images of size: h= \", h,\", w = \", w)\n",
        "# reshape nr_samples * \"vectorized image\"\n",
        "\n",
        "num_features = h*w\n",
        "\n",
        "x_train2 = x_train2.reshape((-1, h*w))\n",
        "x_test2 = x_test2.reshape((-1, h*w))\n",
        "\n",
        "print(\"x_train2.shape = \", x_train2.shape)\n",
        "print(\"x_test2.shape = \", x_test2.shape)\n",
        "\n",
        "#normalize\n",
        "x_train2 = x_train2 / 255\n",
        "x_test2 = x_test2 / 255"
      ]
    },
    {
      "cell_type": "code",
      "execution_count": null,
      "metadata": {
        "colab": {
          "base_uri": "https://localhost:8080/",
          "height": 287
        },
        "id": "hDED5XHOASPt",
        "outputId": "842ccab0-d654-4f40-caf2-1177c7916148"
      },
      "outputs": [
        {
          "output_type": "display_data",
          "data": {
            "text/plain": [
              "<Figure size 640x480 with 2 Axes>"
            ],
            "image/png": "[encoded data removed]"
          },
          "metadata": {}
        }
      ],
      "source": [
        "f = plt.figure()\n",
        "f.add_subplot(1,2, 1)\n",
        "img=x_train2[0].reshape(h,w)\n",
        "plt.imshow(img,cmap='gray')\n",
        "img=x_train2[1].reshape(h,w)\n",
        "f.add_subplot(1,2, 2)\n",
        "plt.imshow(img,cmap='gray')\n",
        "plt.show()"
      ]
    },
    {
      "cell_type": "markdown",
      "source": [
        "# Logistic classification recap\n",
        "## binary classification\n",
        "\n",
        "\n",
        " Suppose we are to estimate if a person dies next year:\n",
        " $$Pr(death | \\mathbf{x})$$\n",
        " where\n",
        " $$\\mathbf{x}=(\\textrm{age, yearly alcohol usage, cholesterol,...})$$\n",
        "\n",
        " We want some simple model:\n",
        " $$z=w_0+w_1x_1+\\ldots+w_d x_d =\\mathbf{x}^T\\mathbf{w}\\qquad (\\mathbf{x}=(1,x_1,\\ldots,x_d))$$\n",
        " Roughly speaking, the larger the above value,\n",
        " the larger the chances of death.\n",
        "\n",
        " We want to \"transform\" $z$ into probability.  One way, take\n",
        "$$f(z)={1\\over 1+e^{-z}}$$\n",
        "\n",
        "\n",
        "Given data: $(\\mathbf{x}_1,...,\\mathbf{x}_n)$ (\"train images\"), $(y_1,\\ldots,y_n)$, $y_i\\in\\{0,1\\}$ (\"y_train\", \"labels\") we assume that y_i was a result of flipping a coin with succ. probl $f(z)$\n",
        "$$Y_i\\sim \\textrm{Bernoulli}(f(z))$$\n",
        "(**recall**:  we always use $z=w_0+w_1x_1+\\ldots+x_dw_d$)\n",
        "\n",
        "$$\n",
        "Pr(Y_i=s)\n",
        " =\\left\\{\n",
        " \\begin{array}{lll}\n",
        "  f(z) & \\textrm{if} & s=1\\\\\n",
        "  1-f(z) & \\textrm{if} & s=0\\\\  \n",
        " \\end{array}\\right.  \\qquad \\qquad = f(z)^s (1-f(z))^{1-s}\n",
        "$$\n",
        "\n",
        "And the probability that we observed $(y_1,\\ldots,y_n)$ given current $(w_0,\\ldots,w_d)$ (**here** $z_i=\\mathbf{x}^T_i\\mathbf{w}$)\n",
        "\n",
        "$$L(\\mathbf{w})=\\prod_{i=1}^n Pr(Y_i=y_i|\\mathbf{w}) =\\prod_{i=1}^n f(z_i)^{y_i} (1-f(z_i))^{1-y_i}$$\n",
        "\n",
        "We want to find $\\textrm{argmax}_\\mathbf{w} L(\\mathbf{w})$, we have\n",
        "$$\\textrm{argmax}_\\mathbf{w} L(\\mathbf{w}) =\\textrm{argmin}_\\mathbf{w} BCE(\\mathbf{w}), $$\n",
        "  where\n",
        "$$BCE(\\mathbf{w}) = -{1\\over n}\\log L(\\mathbf{w})= -{1\\over n}\\sum_{i=1}^n \\left[y_i \\log f(z_i)+(1-y_i)\\log(1-f(z_i))\\right]$$\n",
        "\n",
        "This is **BINARY CROSS ENTROPY** LOSS FUNCTION!"
      ],
      "metadata": {
        "id": "Zkn7Uykjwyxe"
      }
    },
    {
      "cell_type": "markdown",
      "metadata": {
        "id": "AiF92jHLAz3u"
      },
      "source": [
        "# Simplest (?) NN"
      ]
    },
    {
      "cell_type": "markdown",
      "metadata": {
        "id": "Vlp3FC7C9aOH"
      },
      "source": [
        "create 1 dense layer : in our case, m=h*w =28*28 = 784\n",
        "\n",
        "![alt text](https://raw.githubusercontent.com/lorek/datasets/master/nn_1_denselayer.png)"
      ]
    },
    {
      "cell_type": "markdown",
      "metadata": {
        "id": "giO8x_cI-qOV"
      },
      "source": [
        "where $$\\sum = z= w_0 + x_1 w_1 + .... x_m w_m$$\n",
        "\n",
        "Activation function, sigmoid (aka *logistic function*):\n",
        "$$ f(z) = {1\\over 1+ e^{-z}}$$\n",
        "\n",
        "Note $f(z)\\in (0,1)$ (probability)\n"
      ]
    },
    {
      "cell_type": "code",
      "execution_count": null,
      "metadata": {
        "colab": {
          "base_uri": "https://localhost:8080/",
          "height": 430
        },
        "id": "rG5HzHEwCKQh",
        "outputId": "73f52877-8d9a-433a-cc28-f2cb183948d2"
      },
      "outputs": [
        {
          "output_type": "display_data",
          "data": {
            "text/plain": [
              "<Figure size 640x480 with 1 Axes>"
            ],
            "image/png": "[encoded data removed]"
          },
          "metadata": {}
        }
      ],
      "source": [
        "xx=np.arange(-6,6, 0.5)\n",
        "plt.plot(xx,1/(1+np.exp(-xx)))\n",
        "plt.show()"
      ]
    },
    {
      "cell_type": "markdown",
      "metadata": {
        "id": "UsvxYcXhCJYg"
      },
      "source": [
        "Final classification\n",
        "$$k(\\mathbf{x})=k(x_1,\\ldots,x_m) = \\mathbf{1}(f(z)>0.5)$$\n"
      ]
    },
    {
      "cell_type": "markdown",
      "metadata": {
        "id": "ndopWO1LJDgs"
      },
      "source": [
        "## Model creation\n",
        "We create a logistic regression model using `nn.Sequential`.\n",
        "The model maps input features directly to a probability by applying a linear transformation followed by the sigmoid activation."
      ]
    },
    {
      "cell_type": "code",
      "execution_count": null,
      "metadata": {
        "id": "hmm93LsS-gT6"
      },
      "outputs": [],
      "source": [
        "# see inital imports at the top\n",
        "\n",
        "model_lr_torch = nn.Sequential(\n",
        "    nn.Linear(num_features,1),\n",
        "    nn.Sigmoid()).to(device)"
      ]
    },
    {
      "cell_type": "markdown",
      "source": [
        "*Remark: we could create a simple linear model `model_lr_torch = nn.Linear(num_features,1).to(device)` and then use `sigmoid` manually during training.*"
      ],
      "metadata": {
        "id": "ydnpiXZD9JjI"
      }
    },
    {
      "cell_type": "code",
      "source": [
        "torch_summary(model_lr_torch)"
      ],
      "metadata": {
        "colab": {
          "base_uri": "https://localhost:8080/"
        },
        "id": "irOXDZtCFxSh",
        "outputId": "5ec52603-f431-4205-dbea-5496ac4a78da"
      },
      "execution_count": null,
      "outputs": [
        {
          "output_type": "execute_result",
          "data": {
            "text/plain": [
              "=================================================================\n",
              "Layer (type:depth-idx)                   Param #\n",
              "=================================================================\n",
              "Sequential                               --\n",
              "├─Linear: 1-1                            785\n",
              "├─Sigmoid: 1-2                           --\n",
              "=================================================================\n",
              "Total params: 785\n",
              "Trainable params: 785\n",
              "Non-trainable params: 0\n",
              "================================================================="
            ]
          },
          "metadata": {},
          "execution_count": 9
        }
      ]
    },
    {
      "cell_type": "markdown",
      "source": [
        "We need data as torch tensors"
      ],
      "metadata": {
        "id": "rzkE4IRTvMhn"
      }
    },
    {
      "cell_type": "code",
      "source": [
        "x_train2_tensor = torch.tensor(x_train2, device=device, dtype=torch.float32 )\n",
        "y_train2_tensor = torch.tensor(y_train2, device=device, dtype=torch.float32 ).unsqueeze(1) # shape (N,1)\n",
        "\n",
        "x_test2_tensor = torch.tensor(x_test2, device=device, dtype=torch.float32 )\n",
        "y_test2_tensor = torch.tensor(y_test2, device=device, dtype=torch.float32 ).unsqueeze(1) # shape (N,1)\n",
        "\n",
        "\n",
        "# Create a TensorDataset and DataLoader\n",
        "dataset = TensorDataset(x_train2_tensor, y_train2_tensor)\n",
        "batch_size = 128\n",
        "dataloader = DataLoader(dataset, batch_size=batch_size, shuffle=True)"
      ],
      "metadata": {
        "id": "3tlYa2XkvGMU"
      },
      "execution_count": null,
      "outputs": []
    },
    {
      "cell_type": "code",
      "source": [
        "# Define the loss function and optimizer\n",
        "BCE_loss = nn.BCELoss()\n",
        "#optimizer = optim.SGD(model_lr_torch.parameters(), lr=0.1)\n",
        "optimizer = optim.Adam(model_lr_torch.parameters(), lr=0.01)\n",
        "\n",
        "num_epochs = 150\n",
        "loss_history = []\n",
        "\n",
        "\n",
        "start_time = datetime.now()\n",
        "\n",
        "\n",
        "for epoch in range(num_epochs):\n",
        "    epoch_loss = 0.0\n",
        "\n",
        "    for batch_X, batch_y in dataloader:\n",
        "        # Move data to the device\n",
        "        batch_X, batch_y = batch_X.to(device), batch_y.to(device)\n",
        "\n",
        "        # Zero the gradients\n",
        "        optimizer.zero_grad()\n",
        "\n",
        "        # Forward pass\n",
        "        output_probs = model_lr_torch(batch_X)\n",
        "\n",
        "        # Compute binary cross-entropy loss\n",
        "        loss = BCE_loss(output_probs, batch_y)\n",
        "\n",
        "        # Backward pass and update\n",
        "        loss.backward()\n",
        "        optimizer.step()\n",
        "\n",
        "        epoch_loss += loss.item()\n",
        "\n",
        "    average_loss = epoch_loss / len(dataloader)\n",
        "    loss_history.append(average_loss)\n",
        "    if (epoch + 1) % 20 == 0:\n",
        "        print(f'Epoch [{epoch+1}/{num_epochs}], Loss: {average_loss:.6f}')\n",
        "\n",
        "time_elapsed = datetime.now() - start_time\n",
        "print('TRAINING TIME (hh:mm:ss.ms) {}'.format(time_elapsed))"
      ],
      "metadata": {
        "colab": {
          "base_uri": "https://localhost:8080/"
        },
        "id": "Xsq8Nh6luyMg",
        "outputId": "44473bfd-847c-45de-cf39-d935f9e18120"
      },
      "execution_count": null,
      "outputs": [
        {
          "output_type": "stream",
          "name": "stdout",
          "text": [
            "Epoch [20/150], Loss: 0.000601\n",
            "Epoch [40/150], Loss: 0.000158\n",
            "Epoch [60/150], Loss: 0.000062\n",
            "Epoch [80/150], Loss: 0.000022\n",
            "Epoch [100/150], Loss: 0.000008\n",
            "Epoch [120/150], Loss: 0.000003\n",
            "Epoch [140/150], Loss: 0.000001\n",
            "TRAINING TIME (hh:mm:ss.ms) 0:00:49.554410\n"
          ]
        }
      ]
    },
    {
      "cell_type": "markdown",
      "source": [
        "Plot loss history:"
      ],
      "metadata": {
        "id": "IxhOAl0d9vEl"
      }
    },
    {
      "cell_type": "code",
      "source": [
        "plt.figure(figsize=(7, 4))\n",
        "plt.plot(loss_history, marker='.', label='Training Loss')\n",
        "plt.title('Training Loss History -- all steps')\n",
        "plt.xlabel('Epoch')\n",
        "plt.ylabel('Loss')\n",
        "plt.legend()\n",
        "plt.grid(True)\n",
        "\n",
        "plt.figure(figsize=(7, 4))\n",
        "plt.plot(loss_history[10:], marker='.', label='Training Loss')\n",
        "plt.title('Training Loss History -- steps 10, 11, ...')\n",
        "plt.xlabel('Epoch')\n",
        "plt.ylabel('Loss')\n",
        "plt.legend()\n",
        "plt.grid(True)\n",
        "plt.show()"
      ],
      "metadata": {
        "colab": {
          "base_uri": "https://localhost:8080/",
          "height": 803
        },
        "id": "xTXNQtbm9uX-",
        "outputId": "3780edf8-1025-4828-f196-31e448a14b18"
      },
      "execution_count": null,
      "outputs": [
        {
          "output_type": "display_data",
          "data": {
            "text/plain": [
              "<Figure size 700x400 with 1 Axes>"
            ],
            "image/png": "[encoded data removed]"
          },
          "metadata": {}
        },
        {
          "output_type": "display_data",
          "data": {
            "text/plain": [
              "<Figure size 700x400 with 1 Axes>"
            ],
            "image/png": "[encoded data removed]"
          },
          "metadata": {}
        }
      ]
    },
    {
      "cell_type": "code",
      "source": [],
      "metadata": {
        "id": "zTbFo2V0-NvV"
      },
      "execution_count": null,
      "outputs": []
    },
    {
      "cell_type": "markdown",
      "source": [
        "Lets compute loss on all train data:"
      ],
      "metadata": {
        "id": "q4mI3kLtxYlb"
      }
    },
    {
      "cell_type": "code",
      "source": [
        "output_probs = model_lr_torch(x_train2_tensor)\n",
        "\n",
        "\n",
        "BCE_loss_train_built_in = BCE_loss(output_probs, y_train2_tensor)\n",
        "print(\"BCE_loss_train_built_in = \",BCE_loss_train_built_in)"
      ],
      "metadata": {
        "colab": {
          "base_uri": "https://localhost:8080/"
        },
        "id": "PDI3dNYQxblS",
        "outputId": "a71c9bfb-d31a-4816-fa8e-5894d0f0de22"
      },
      "execution_count": null,
      "outputs": [
        {
          "output_type": "stream",
          "name": "stdout",
          "text": [
            "BCE_loss_train_built_in =  tensor(7.2585e-07, grad_fn=<BinaryCrossEntropyBackward0>)\n"
          ]
        }
      ]
    },
    {
      "cell_type": "markdown",
      "source": [
        "Sanity check: should be the same as directly using formula (recall, $z_i$ is logit, and $f(z_i)={1\\over 1+e^{-z_i}}$ is the resulting prob.)\n",
        "$$BCE(\\mathbf{w}) = -{1\\over n}\\log L(\\mathbf{w})= -{1\\over n}\\sum_{i=1}^n \\left[y_i \\log f(z_i)+(1-y_i)\\log(1-f(z_i))\\right]$$"
      ],
      "metadata": {
        "id": "HKauKJq0xypK"
      }
    },
    {
      "cell_type": "markdown",
      "source": [
        "**TECHNICAL ISSUE:** log(0) is infinity. to avoid it we usually add some small epsilon to the values:"
      ],
      "metadata": {
        "id": "qtLDvEtf1mTp"
      }
    },
    {
      "cell_type": "code",
      "source": [
        "eps = 1e-7\n",
        "BCE_loss_train_manual = -torch.mean(y_train2_tensor*torch.log(output_probs+eps)+(1-y_train2_tensor)*torch.log(1-output_probs+eps))\n",
        "print(\"BCE_loss_train_manual = \", BCE_loss_train_manual)"
      ],
      "metadata": {
        "colab": {
          "base_uri": "https://localhost:8080/"
        },
        "id": "Ub5u7SgWxvx-",
        "outputId": "9a4da518-2ab1-4cb3-e9d4-4204c4fcafeb"
      },
      "execution_count": null,
      "outputs": [
        {
          "output_type": "stream",
          "name": "stdout",
          "text": [
            "BCE_loss_train_manual =  tensor(6.0675e-07, grad_fn=<NegBackward0>)\n"
          ]
        }
      ]
    },
    {
      "cell_type": "markdown",
      "source": [
        "Prediction:"
      ],
      "metadata": {
        "id": "2TwRTrKozo00"
      }
    },
    {
      "cell_type": "code",
      "execution_count": null,
      "metadata": {
        "id": "zODRVuzwpKKd"
      },
      "outputs": [],
      "source": [
        "from sklearn.metrics import accuracy_score"
      ]
    },
    {
      "cell_type": "code",
      "execution_count": null,
      "metadata": {
        "colab": {
          "base_uri": "https://localhost:8080/"
        },
        "id": "rQgPeVip_wB6",
        "outputId": "9e798ae2-3003-45a2-a5f2-3bb13e23a5f2"
      },
      "outputs": [
        {
          "output_type": "stream",
          "name": "stdout",
          "text": [
            "model_lr_torch (classification of 0 and 1 digits): accuracy  =  \t 0.9995271867612293\n"
          ]
        }
      ],
      "source": [
        "#prediction\n",
        "x_test2_pred_output_probs =  model_lr_torch(x_test2_tensor)\n",
        "\n",
        "x_test2_pred_output_classes = (x_test2_pred_output_probs>0.5)\n",
        "\n",
        "print(\"model_lr_torch (classification of 0 and 1 digits): accuracy  =  \\t\",accuracy_score(x_test2_pred_output_classes ,y_test2))"
      ]
    },
    {
      "cell_type": "code",
      "execution_count": null,
      "metadata": {
        "id": "HjQ1asinBAVU"
      },
      "outputs": [],
      "source": []
    },
    {
      "cell_type": "markdown",
      "metadata": {
        "id": "WjLcQ0HgKWLG"
      },
      "source": [
        "Run logistic classifier from sklearn (to compare with our neural network implementation):"
      ]
    },
    {
      "cell_type": "code",
      "source": [],
      "metadata": {
        "id": "emHrrFtKVDit"
      },
      "execution_count": null,
      "outputs": []
    },
    {
      "cell_type": "code",
      "source": [
        "from sklearn.linear_model import LogisticRegression"
      ],
      "metadata": {
        "id": "M-uCQ1E22fDa"
      },
      "execution_count": null,
      "outputs": []
    },
    {
      "cell_type": "code",
      "execution_count": null,
      "metadata": {
        "colab": {
          "base_uri": "https://localhost:8080/"
        },
        "id": "xZjZhQl6BQmZ",
        "outputId": "d2544add-ac65-4310-ac4c-92e737ea8a57"
      },
      "outputs": [
        {
          "output_type": "stream",
          "name": "stdout",
          "text": [
            "Log. clf: accuracy  = \t 0.9995271867612293  correctly cl. cases= 2114  out of  2115\n",
            "NN clf: accuracy  =  \t 0.9995271867612293  correctly cl. cases= 2114  out of  2115\n"
          ]
        }
      ],
      "source": [
        "#sklearn_lr = LogisticRegression(random_state=0, penalty=\"elasticnet\", solver='saga', l1_ratio=0.5, max_iter=200).fit(x_train2,y_train2)\n",
        "sklearn_lr = LogisticRegression(random_state=0).fit(x_train2,y_train2)\n",
        "\n",
        "sklearn_y_pred=sklearn_lr.predict(x_test2)\n",
        "print(\"Log. clf: accuracy  = \\t\",accuracy_score(sklearn_y_pred,y_test2), \" correctly cl. cases=\",np.sum(sklearn_y_pred==y_test2), \" out of \", len(y_test2))\n",
        "print(\"NN clf: accuracy  =  \\t\",accuracy_score(x_test2_pred_output_classes ,y_test2), \" correctly cl. cases=\",np.sum(x_test2_pred_output_classes.detach().numpy().reshape(-1)==y_test2), \" out of \", len(y_test2))"
      ]
    },
    {
      "cell_type": "markdown",
      "source": [
        "also compute BCE on test data:"
      ],
      "metadata": {
        "id": "pNbC4Abd5Y14"
      }
    },
    {
      "cell_type": "code",
      "source": [
        "sklearn_pred_probs = sklearn_lr.predict_proba(x_test2)[:, 1]\n",
        "\n",
        "# Compute BCE manually using the formula:\n",
        "# BCE = -mean( y*log(prob) + (1-y)*log(1-prob) )\n",
        "eps = 1e-7\n",
        "BCE_sklearn = -np.mean(y_test2 * np.log(sklearn_pred_probs + eps) + (1 - y_test2) * np.log(1 - sklearn_pred_probs + eps))\n",
        "print(\"Sklearn BCE on x_test2 =\", BCE_sklearn)\n",
        "\n",
        "# BCE -- model_lr_torch\n",
        "\n",
        "output_probs_torch =  model_lr_torch(x_test2_tensor)\n",
        "\n",
        "BCE_torch = -torch.mean(\n",
        "    y_test2_tensor * torch.log(output_probs_torch + eps) +\n",
        "    (1 - y_test2_tensor) * torch.log(1 - output_probs_torch + eps)\n",
        ")\n",
        "print(\"PyTorch BCE on x_test2 =\", BCE_torch.item())"
      ],
      "metadata": {
        "colab": {
          "base_uri": "https://localhost:8080/"
        },
        "id": "5TJfqR2W5UKa",
        "outputId": "9af4e168-f702-4f62-db73-100ae9e2f4ea"
      },
      "execution_count": null,
      "outputs": [
        {
          "output_type": "stream",
          "name": "stdout",
          "text": [
            "Sklearn BCE on x_test2 = 0.0015942733010772799\n",
            "PyTorch BCE on x_test2 = 0.002224832074716687\n"
          ]
        }
      ]
    },
    {
      "cell_type": "markdown",
      "metadata": {
        "id": "lMD0Q7QWLEJM"
      },
      "source": [
        "Have a closer look at coefficients $w_0, \\ldots, w_d$"
      ]
    },
    {
      "cell_type": "code",
      "source": [
        "model_lr_torch[0].weight.shape"
      ],
      "metadata": {
        "colab": {
          "base_uri": "https://localhost:8080/"
        },
        "id": "huvPS2zc3KhO",
        "outputId": "5ae08e0c-5fa1-4379-ec9e-fdbe7515eca3"
      },
      "execution_count": null,
      "outputs": [
        {
          "output_type": "execute_result",
          "data": {
            "text/plain": [
              "torch.Size([1, 784])"
            ]
          },
          "metadata": {},
          "execution_count": 20
        }
      ]
    },
    {
      "cell_type": "code",
      "execution_count": null,
      "metadata": {
        "colab": {
          "base_uri": "https://localhost:8080/",
          "height": 475
        },
        "id": "C4AJ5j0LKgsQ",
        "outputId": "b8a323d1-6602-4618-fef3-de34ee799fb0"
      },
      "outputs": [
        {
          "output_type": "stream",
          "name": "stdout",
          "text": [
            "Sum(|lc_coef|) LC:  85.32542024022332\n",
            "Sum(|nn_coef|) LC:  568.93646\n"
          ]
        },
        {
          "output_type": "display_data",
          "data": {
            "text/plain": [
              "<Figure size 1120x480 with 1 Axes>"
            ],
            "image/png": "[encoded data removed]"
          },
          "metadata": {}
        }
      ],
      "source": [
        "# coef. and bias of logist. cl:\n",
        "sklearn_lr_coef = sklearn_lr.coef_.reshape(-1)\n",
        "sklearn_lr_bias = sklearn_lr.intercept_[0]\n",
        "\n",
        "# coef and bias of model_tr_torch\n",
        "nn_coef = model_lr_torch[0].weight.detach().cpu().numpy().reshape(-1)\n",
        "nn_bias = model_lr_torch[0].bias.detach().cpu().numpy()[0]\n",
        "\n",
        "#draw coefs\n",
        "plt.figure(figsize=(14, 6), dpi= 80, facecolor='w', edgecolor='k')\n",
        "plt.plot(np.arange(h*w), sklearn_lr_coef, label=\"Log. cl. coef\")\n",
        "plt.plot(np.arange(h*w), nn_coef, label=\"NN coef\")\n",
        "plt.title(\"NN bias=\"+str(np.round(nn_bias,3)) + \",  Log. cl bias=\"+str(np.round(sklearn_lr_bias,3)));\n",
        "\n",
        "print(\"Sum(|lc_coef|) LC: \", np.sum(np.abs(sklearn_lr_coef)))\n",
        "print(\"Sum(|nn_coef|) LC: \", np.sum(np.abs(nn_coef)))\n",
        "\n",
        "plt.legend()\n",
        "plt.show()\n",
        "\n"
      ]
    },
    {
      "cell_type": "markdown",
      "metadata": {
        "id": "ZOC1nDJo3cnf"
      },
      "source": [
        "Coefficients as images:"
      ]
    },
    {
      "cell_type": "code",
      "execution_count": null,
      "metadata": {
        "colab": {
          "base_uri": "https://localhost:8080/",
          "height": 435
        },
        "id": "uozbzh7F2y3Y",
        "outputId": "ddff8b6a-13a9-404e-ba33-86d940983f15"
      },
      "outputs": [
        {
          "output_type": "display_data",
          "data": {
            "text/plain": [
              "<Figure size 1000x1000 with 2 Axes>"
            ],
            "image/png": "[encoded data removed]"
          },
          "metadata": {}
        }
      ],
      "source": [
        "f = plt.figure(figsize=(10, 10))\n",
        "\n",
        "# First subplot with title \"A\"\n",
        "ax1 = f.add_subplot(1, 2, 1)\n",
        "ax1.imshow(nn_coef.reshape(h, w), cmap='gray')\n",
        "ax1.set_title(\"model_lr_torch coefficients\")\n",
        "\n",
        "# Second subplot with title \"B\"\n",
        "ax2 = f.add_subplot(1, 2, 2)\n",
        "ax2.imshow(sklearn_lr_coef.reshape(h, w), cmap='gray')\n",
        "ax2.set_title(\"sklearn_lr coefficients\")\n",
        "\n",
        "plt.show()"
      ]
    },
    {
      "cell_type": "code",
      "execution_count": null,
      "metadata": {
        "colab": {
          "base_uri": "https://localhost:8080/",
          "height": 562
        },
        "id": "1iWOgFCGcxZT",
        "outputId": "a492bc1f-604e-4e44-ba7f-a58444cbf5f6"
      },
      "outputs": [
        {
          "output_type": "stream",
          "name": "stdout",
          "text": [
            "(100,)\n"
          ]
        },
        {
          "output_type": "display_data",
          "data": {
            "text/plain": [
              "<Figure size 1280x640 with 2 Axes>"
            ],
            "image/png": "[encoded data removed]"
          },
          "metadata": {}
        }
      ],
      "source": [
        "output_probs_torch_numpy = output_probs_torch.detach().numpy()\n",
        "\n",
        "fr=1100; to=1200\n",
        "xx=np.arange(fr,to)\n",
        "print(xx.shape)\n",
        "f = plt.figure(figsize=(16, 8), dpi= 80, facecolor='w', edgecolor='k')\n",
        "f.add_subplot(2,1, 1)\n",
        "plt.scatter(xx,sklearn_pred_probs[fr:to], s=1,label='sklearn_lr');\n",
        "plt.scatter(xx,output_probs_torch_numpy[fr:to], s=1,label='model_lr_torch');\n",
        "plt.axhline(y=0.5, color='r', linestyle='--', label=\"0.5\", alpha=0.3)\n",
        "#\n",
        "\n",
        "plt.legend()\n",
        "\n",
        "f.add_subplot(2,1, 2)\n",
        "plt.scatter(xx,sklearn_pred_probs[fr:to]-output_probs_torch_numpy[fr:to].reshape(-1), label='diff');\n",
        "plt.legend()\n",
        "plt.show()\n",
        "\n",
        "\n"
      ]
    },
    {
      "cell_type": "code",
      "execution_count": null,
      "metadata": {
        "id": "abo6MLG9VlUC"
      },
      "outputs": [],
      "source": [
        "\n"
      ]
    },
    {
      "cell_type": "markdown",
      "source": [
        "# Q5.1 (10 pts)\n",
        "\n",
        "* Above we implemented logistic regression as the following  network with 1  neuron:\n",
        "```python\n",
        "model_lr_torch = nn.Sequential(\n",
        "    nn.Linear(num_features,1),\n",
        "    nn.Sigmoid()).to(device)\n",
        "```\n",
        "* **Task** Reimplement  he model using:\n",
        "```python\n",
        "model_lr_torch_v2 = nn.Sequential(\n",
        "    nn.Linear(num_features,1)    \n",
        "```\n",
        "* Since the output is now a raw real number (logit), adjust the loss function accordingly. Compare the results with those from `model_lr_torch`\n",
        "* *Hint*: When computing $\\log(s)$ in practice, to avoid numerical issues (such as $\\log(0)$), add a small constant and compute  $\\log(s+\\textrm{eps})$ instead. A recommended value is: `eps=1e-7`\n",
        "\n"
      ],
      "metadata": {
        "id": "R-QKmxvV1gzM"
      }
    },
    {
      "cell_type": "markdown",
      "metadata": {
        "id": "UAgSeAhfM03Y"
      },
      "source": [
        "# Multiclass, still 1 layer\n",
        "\n",
        "Now we will classify digits 0,1,2,3"
      ]
    },
    {
      "cell_type": "code",
      "execution_count": null,
      "metadata": {
        "id": "ZeriwKDbK70C"
      },
      "outputs": [],
      "source": []
    },
    {
      "cell_type": "code",
      "execution_count": null,
      "metadata": {
        "colab": {
          "base_uri": "https://localhost:8080/"
        },
        "id": "A2QJFumtM34a",
        "outputId": "acfa70d8-55ef-427c-d637-9dd78acd0495"
      },
      "outputs": [
        {
          "output_type": "stream",
          "name": "stdout",
          "text": [
            "images of size: h=  28 , w =  28\n",
            "x_trainM.shape =  (24754, 784)\n",
            "x_testM.shape =  (4157, 784)\n"
          ]
        }
      ],
      "source": [
        "x_trainM, y_trainM = x_train , y_train\n",
        "x_testM, y_testM = x_test , y_test\n",
        "\n",
        "\n",
        "\n",
        "x_trainM, y_trainM = x_train[y_train<=3], y_train[y_train<=3]\n",
        "x_testM, y_testM = x_test[y_test<=3], y_test[y_test<=3]\n",
        "\n",
        "\n",
        "# nr of samples, size  of images\n",
        "n_samples_trainM, h, w =     x_trainM.shape\n",
        "n_samples_testM, _, _ =      x_testM.shape\n",
        "print(\"images of size: h= \", h,\", w = \", w)\n",
        "\n",
        "num_features = h*w\n",
        "\n",
        "x_trainM = x_trainM.reshape((-1, h*w))\n",
        "x_testM = x_testM.reshape((-1, h*w))\n",
        "\n",
        "print(\"x_trainM.shape = \", x_trainM.shape)\n",
        "print(\"x_testM.shape = \", x_testM.shape)\n",
        "\n",
        "#normalize\n",
        "x_trainM = x_trainM / 255\n",
        "x_testM = x_testM / 255"
      ]
    },
    {
      "cell_type": "code",
      "execution_count": null,
      "metadata": {
        "colab": {
          "base_uri": "https://localhost:8080/",
          "height": 209
        },
        "id": "rXLeEDxKM34p",
        "outputId": "cb6343f1-fc30-4146-bcdd-41c8e0fd0487"
      },
      "outputs": [
        {
          "output_type": "display_data",
          "data": {
            "text/plain": [
              "<Figure size 640x480 with 3 Axes>"
            ],
            "image/png": "[encoded data removed]"
          },
          "metadata": {}
        }
      ],
      "source": [
        "f = plt.figure()\n",
        "f.add_subplot(1,3, 1)\n",
        "img=x_trainM[10].reshape(h,w)\n",
        "plt.imshow(img,cmap='gray')\n",
        "img=x_trainM[331].reshape(h,w)\n",
        "f.add_subplot(1,3, 2)\n",
        "plt.imshow(img,cmap='gray')\n",
        "img=x_trainM[39].reshape(h,w)\n",
        "f.add_subplot(1,3,3)\n",
        "plt.imshow(img,cmap='gray')\n",
        "plt.show()"
      ]
    },
    {
      "cell_type": "markdown",
      "metadata": {
        "id": "18K-Y5fA3vYw"
      },
      "source": [
        "# This time -- let us have a look how is Logist. Class. applied in case of >2 classes.\n",
        "\n",
        "## Solution 1: one-versus-rest (image: Andrew Ng)\n",
        "<div>\n",
        "<img src=\"https://raw.githubusercontent.com/lorek/datasets/master/LogClass_oneVsRest.png\" width=\"700\"/>\n",
        "</div>\n",
        "Then final probability of $x$ belonging to class $j$\n",
        "$$\\textrm{Prob}(\\textrm{class = } j| x) = {h_{\\theta}^{(j)}(x)\\over h_{\\theta}^{(1)}(x)+h_{\\theta}^{(2)}(x)+h_{\\theta}^{(3)}(x)} $$\n",
        "and finall classification\n",
        "$$\\textrm{Class}(x)={\\textrm{argmax}_j} \\textrm{Prob}(\\textrm{class = } j| x)$$\n",
        "\n",
        "\n",
        "## Solution 2: \"Multinomial\"  \n",
        "\n",
        "Recall, in binary case we had:\n",
        "$$P(Y=1 | \\mathbf{x}) = f(\\mathbf{w}^T\\mathbf{x})=f(z)={1\\over 1+e^{-z}}={e^z\\over 1+e^{z}} \\propto e^z$$\n"
      ]
    },
    {
      "cell_type": "markdown",
      "metadata": {
        "id": "_L0dKAGK41gK"
      },
      "source": [
        "Thus, natural extension: when $Y\\in\\{1,2,\\ldots,C\\}$, then we create weights for each class:\n",
        "$$\\mathbf{w}_i=(w_{i0}, w_{i1},\\ldots, w_{id})^T$$"
      ]
    },
    {
      "cell_type": "markdown",
      "metadata": {
        "id": "Uq7jj1Yz5JpA"
      },
      "source": [
        "And assume that the model is\n",
        "$$P(Y=k|\\mathbf{x})\\propto e^{\\mathbf{w}^T_k\\mathbf{x}}$$\n",
        "\n",
        "Normalizing we have\n",
        "$$P(Y=k|\\mathbf{x})= {e^{\\mathbf{w}^T_k\\mathbf{x}}\\over \\sum_{j=1}^C e^{\\mathbf{w}^T_j\\mathbf{x}}}$$\n",
        "\n",
        "\n",
        "**SOFTMAX:** transforming $(z_1,..., z_C), z_i\\in\\mathbb{R}$ into probabilites:\n",
        "$$\\textrm{softmax}(z_i)={e^{z_i}\\over \\sum_{j=1}^C e^{z_j}}$$"
      ]
    },
    {
      "cell_type": "markdown",
      "metadata": {
        "id": "VPA65YP37tso"
      },
      "source": [
        "How to compute Likelihood then?\n",
        "$$L(\\mathbf{W})=\\prod_{i=1}^n P(Y=y_i|\\mathbf{x}_i)=\\prod_{i=1}^n\\prod_{k=1}^C \\left( {e^{\\mathbf{w}_k^T\\mathbf{x}_i}\\over \\sum_{i=1}^C e^{\\mathbf{w}_k^T\\mathbf{x}_i}}\\right)^{\\mathbf{1}(y_i=k)}$$\n",
        "\n",
        "take log\n",
        "$$\\log L(\\mathbf{W}) = \\sum_{i=1}^n\\sum_{k=1}^C \\mathbf{1}(y_i=k)\\log\\left( {e^{\\mathbf{w}_k^T\\mathbf{x}_i}\\over \\sum_{i=1}^C e^{\\mathbf{w}_k^T\\mathbf{x}_i}}\\right)$$\n",
        "\n",
        "and we aim to find $\\textrm{argmax}_\\mathbf{W} \\log(\\mathbf{W})$ what is equiv. to finding $\\textrm{argmin}_\\mathbf{W} CCE(\\mathbf{W})$, where\n",
        "$$\\textrm{CCE}(\\mathbf{W})  = -\\log L(\\mathbf{W})$$\n",
        "\n",
        " **CCE = Categorical Cross Entropy**"
      ]
    },
    {
      "cell_type": "markdown",
      "metadata": {
        "id": "nWosd9Zg85KY"
      },
      "source": []
    },
    {
      "cell_type": "code",
      "execution_count": null,
      "metadata": {
        "id": "1QZ6GCJMNML_"
      },
      "outputs": [],
      "source": []
    },
    {
      "cell_type": "markdown",
      "metadata": {
        "id": "mYii6VQ36Upt"
      },
      "source": [
        "# Binary vs Multiclass:\n",
        "![alt text](https://raw.githubusercontent.com/lorek/datasets/master/nn_1_denselayerSoftmax.png)"
      ]
    },
    {
      "cell_type": "markdown",
      "metadata": {
        "id": "7GItirD76sBk"
      },
      "source": [
        "## Logist. class. in sklearn\n",
        "### MULTINOMIAL"
      ]
    },
    {
      "cell_type": "code",
      "execution_count": null,
      "metadata": {
        "colab": {
          "base_uri": "https://localhost:8080/"
        },
        "id": "aoi4BKZt6syO",
        "outputId": "20353699-25e2-4aa4-cf27-4510096dedb6"
      },
      "outputs": [
        {
          "output_type": "stream",
          "name": "stderr",
          "text": [
            "/usr/local/lib/python3.11/dist-packages/sklearn/linear_model/_logistic.py:1247: FutureWarning: 'multi_class' was deprecated in version 1.5 and will be removed in 1.7. From then on, it will always use 'multinomial'. Leave it to its default value to avoid this warning.\n",
            "  warnings.warn(\n"
          ]
        },
        {
          "output_type": "stream",
          "name": "stdout",
          "text": [
            "\t\t took 11.89141 seconds \n"
          ]
        }
      ],
      "source": [
        "start_time = time.time()\n",
        "sklearn_lr_M_multin = LogisticRegression(random_state=0, max_iter=200,   multi_class='multinomial').fit(x_trainM,y_trainM)\n",
        "\n",
        "print(\"\\t\\t took %s seconds \" % round((time.time() - start_time),5))"
      ]
    },
    {
      "cell_type": "markdown",
      "metadata": {
        "id": "R1WScpGHqBix"
      },
      "source": [
        "### One-vs-all (aka one-vs-rest)\n"
      ]
    },
    {
      "cell_type": "code",
      "execution_count": null,
      "metadata": {
        "colab": {
          "base_uri": "https://localhost:8080/"
        },
        "id": "CNJxeWF6mBwe",
        "outputId": "61b06610-4a58-4300-e45e-8defa081f11d"
      },
      "outputs": [
        {
          "output_type": "stream",
          "name": "stderr",
          "text": [
            "/usr/local/lib/python3.11/dist-packages/sklearn/linear_model/_logistic.py:1256: FutureWarning: 'multi_class' was deprecated in version 1.5 and will be removed in 1.7. Use OneVsRestClassifier(LogisticRegression(..)) instead. Leave it to its default value to avoid this warning.\n",
            "  warnings.warn(\n"
          ]
        },
        {
          "output_type": "stream",
          "name": "stdout",
          "text": [
            "\t\t took 8.85654 seconds \n"
          ]
        }
      ],
      "source": [
        "start_time = time.time()\n",
        "sklearn_lr_M_ovr = LogisticRegression(random_state=0, max_iter=200,   multi_class='ovr').fit(x_trainM,y_trainM)\n",
        "\n",
        "print(\"\\t\\t took %s seconds \" % round((time.time() - start_time),5))"
      ]
    },
    {
      "cell_type": "code",
      "execution_count": null,
      "metadata": {
        "id": "Haz44EJRl_oX"
      },
      "outputs": [],
      "source": []
    },
    {
      "cell_type": "code",
      "execution_count": null,
      "metadata": {
        "colab": {
          "base_uri": "https://localhost:8080/"
        },
        "id": "tXBiK9NY6_A2",
        "outputId": "20626783-1707-4183-ad95-e253e42dca09"
      },
      "outputs": [
        {
          "output_type": "stream",
          "name": "stdout",
          "text": [
            "sklearn_lr_M_multin accuracy  = \t 0.9781092133750301  correctly cl. cases= 4066\n",
            "sklearn_lr_M_ovr: accuracy  = \t\t 0.9754630743324513  correctly cl. cases= 4055\n"
          ]
        }
      ],
      "source": [
        "sklearn_lr_M_multin_pred=sklearn_lr_M_multin.predict(x_testM)\n",
        "\n",
        "sklearn_lr_M_ovr_pred =sklearn_lr_M_ovr.predict(x_testM)\n",
        "\n",
        "print(\"sklearn_lr_M_multin accuracy  = \\t\",accuracy_score(sklearn_lr_M_multin_pred,y_testM), \" correctly cl. cases=\",np.sum(sklearn_lr_M_multin_pred==y_testM))\n",
        "print(\"sklearn_lr_M_ovr: accuracy  = \\t\\t\",accuracy_score(sklearn_lr_M_ovr_pred,y_testM), \" correctly cl. cases=\",np.sum(sklearn_lr_M_ovr_pred==y_testM))\n"
      ]
    },
    {
      "cell_type": "markdown",
      "metadata": {
        "id": "l0g9p2y47FkL"
      },
      "source": [
        "## Neural Network, Torch implementation, 1 layer, multiclass\n"
      ]
    },
    {
      "cell_type": "markdown",
      "source": [
        "### Data preparation"
      ],
      "metadata": {
        "id": "X_CJ87t2DoE4"
      }
    },
    {
      "cell_type": "code",
      "source": [
        "#Convert data to PyTorch tensors:\n",
        "\n",
        "x_trainM_tensor = torch.tensor(x_trainM, dtype=torch.float32)\n",
        "x_testM_tensor  = torch.tensor(x_testM, dtype=torch.float32)\n",
        "\n",
        "# Convert labels to tensor (as integers)\n",
        "y_trainM_tensor = torch.tensor(y_trainM, dtype=torch.long)\n",
        "y_testM_tensor  = torch.tensor(y_testM, dtype=torch.long)\n"
      ],
      "metadata": {
        "id": "ZWppMwfKDyvM"
      },
      "execution_count": null,
      "outputs": []
    },
    {
      "cell_type": "code",
      "source": [
        "#classes of first three data points (digits)\n",
        "y_testM_tensor[0]"
      ],
      "metadata": {
        "colab": {
          "base_uri": "https://localhost:8080/"
        },
        "id": "01ouHEQyD-Bh",
        "outputId": "d31d6866-1c55-4f6d-a4b8-43254d501982"
      },
      "execution_count": null,
      "outputs": [
        {
          "output_type": "execute_result",
          "data": {
            "text/plain": [
              "tensor(2)"
            ]
          },
          "metadata": {},
          "execution_count": 33
        }
      ]
    },
    {
      "cell_type": "markdown",
      "source": [
        "However, we need one-hot encoding: we have 4 classes {0,1,2,3}, then e.g., class 2 should be represented as vector [0,0,1,0] and so on.\n"
      ],
      "metadata": {
        "id": "8r1ublopEOME"
      }
    },
    {
      "cell_type": "code",
      "source": [
        "import torch.nn.functional as F\n",
        "\n",
        "# Create one-hot encodings\n",
        "num_classes = 4\n",
        "y_trainM_one_hot = F.one_hot(y_trainM_tensor, num_classes=num_classes).float()\n",
        "y_testM_one_hot  = F.one_hot(y_testM_tensor, num_classes=num_classes).float()\n",
        "\n",
        "print(\"y_testM_one_hot[0, :] =\", y_testM_one_hot[0, :])\n",
        "print(\"y_testM_one_hot.shape =\", y_testM_one_hot.shape)\n"
      ],
      "metadata": {
        "colab": {
          "base_uri": "https://localhost:8080/"
        },
        "id": "p4GWicojEcoB",
        "outputId": "645fd443-7b56-4278-e5fb-9e3ca5f19059"
      },
      "execution_count": null,
      "outputs": [
        {
          "output_type": "stream",
          "name": "stdout",
          "text": [
            "y_testM_one_hot[0, :] = tensor([0., 0., 1., 0.])\n",
            "y_testM_one_hot.shape = torch.Size([4157, 4])\n"
          ]
        }
      ]
    },
    {
      "cell_type": "code",
      "source": [
        "# Create DataLoader for training data\n",
        "batch_size = 16\n",
        "train_dataset = TensorDataset(x_trainM_tensor, y_trainM_one_hot)\n",
        "train_loader = DataLoader(train_dataset, batch_size=batch_size, shuffle=True)"
      ],
      "metadata": {
        "id": "wBd44ojoE1Oi"
      },
      "execution_count": null,
      "outputs": []
    },
    {
      "cell_type": "markdown",
      "metadata": {
        "id": "qEGZjPmZs2Lh"
      },
      "source": [
        "\n",
        "Thus, using **activation='softmax'** we have a logistic regression!\n",
        "\n"
      ]
    },
    {
      "cell_type": "code",
      "source": [
        "print(\"num_classes = \",num_classes, \", num_features = \", num_features)"
      ],
      "metadata": {
        "colab": {
          "base_uri": "https://localhost:8080/"
        },
        "id": "wSYembiPHWrM",
        "outputId": "5cd713a5-ef0c-4884-b992-17cc61acaa80"
      },
      "execution_count": null,
      "outputs": [
        {
          "output_type": "stream",
          "name": "stdout",
          "text": [
            "num_classes =  4 , num_features =  784\n"
          ]
        }
      ]
    },
    {
      "cell_type": "code",
      "source": [
        "# Build the model: Linear layer with softmax activation (to output probabilities)\n",
        "#device = torch.device('cuda' if torch.cuda.is_available() else 'cpu')\n",
        "\n",
        "model_lr4_torch = nn.Sequential(\n",
        "    nn.Linear(num_features, num_classes),\n",
        "    nn.Softmax(dim=1)\n",
        ").to(device)\n"
      ],
      "metadata": {
        "id": "8VHsHwQ-GeJd"
      },
      "execution_count": null,
      "outputs": []
    },
    {
      "cell_type": "code",
      "source": [
        "torch_summary(model_lr4_torch)"
      ],
      "metadata": {
        "colab": {
          "base_uri": "https://localhost:8080/"
        },
        "id": "xx0V593WDUqA",
        "outputId": "5e74b60a-091f-42fe-ef21-bf655fb98ac2"
      },
      "execution_count": null,
      "outputs": [
        {
          "output_type": "execute_result",
          "data": {
            "text/plain": [
              "=================================================================\n",
              "Layer (type:depth-idx)                   Param #\n",
              "=================================================================\n",
              "Sequential                               --\n",
              "├─Linear: 1-1                            3,140\n",
              "├─Softmax: 1-2                           --\n",
              "=================================================================\n",
              "Total params: 3,140\n",
              "Trainable params: 3,140\n",
              "Non-trainable params: 0\n",
              "================================================================="
            ]
          },
          "metadata": {},
          "execution_count": 38
        }
      ]
    },
    {
      "cell_type": "markdown",
      "source": [
        "The situation is like this (image is with 3 classes, we consider 4 classes)\n",
        "\n",
        "<img src=\"https://raw.githubusercontent.com/lorek/datasets/refs/heads/master/nn_1l_softmax.png\" alt=\"alt text\" width=\"400\">\n",
        "\n",
        "Thus:\n",
        "* **Input Layer** accepts a vector with 784 features (in our case, a flattened $28\\times 28$ images)\n",
        "* **Linear Layer** has 4 output neurons (one for each class). Each neuron computes a weighted sum of the 784 inputs plus bias. Suppose we represent all the parameters in a matrix $W$ of size `num_classes * (num_features+1)` (the extra column accounts for the biases, which can be stored as $W_{j,0}$ for neuron $j$). Then the output of each neuron $j=1,2,3,4$ is  given by\n",
        "$$z_j = W_{j,0} + \\sum_{i=1}^{784} W_{j,i} x_i$$\n",
        "* **Softmax Layer**. The softmax is applied to 4 output values from the linear layer. It converts raw outputs (logits) into probabilities. In our example, it returns a vector\n",
        "$$\\left[ {e^{z_1}\\over \\sum_{j=1}^4 e^{z_j}}, {e^{z_2}\\over \\sum_{j=1}^4 e^{z_j}}, {e^{z_3}\\over \\sum_{j=1}^4 e^{z_j}}, {e^{z_4}\\over \\sum_{j=1}^4 e^{z_j}}\\right]$$"
      ],
      "metadata": {
        "id": "w-5-oGmoJ3ao"
      }
    },
    {
      "cell_type": "code",
      "source": [],
      "metadata": {
        "id": "3e3OHWRTJbV4"
      },
      "execution_count": null,
      "outputs": []
    },
    {
      "cell_type": "code",
      "source": [],
      "metadata": {
        "id": "_edqoocJM-0y"
      },
      "execution_count": null,
      "outputs": []
    },
    {
      "cell_type": "markdown",
      "source": [
        "Recall Categorical Cross Entropy:\n",
        "\n",
        "$$\\textrm{CCE}(\\mathbf{W})  = - \\log L(\\mathbf{W}) = - \\sum_{i=1}^n\\sum_{k=1}^C \\mathbf{1}(y_i=k)\\log\\left( {e^{\\mathbf{w}_k^T\\mathbf{x}_i}\\over \\sum_{i=1}^C e^{\\mathbf{w}_k^T\\mathbf{x}_i}}\\right)$$"
      ],
      "metadata": {
        "id": "Np4YE-yFM_BS"
      }
    },
    {
      "cell_type": "markdown",
      "source": [
        "$$\\textrm{CCE}(\\mathbf{W})  = -\\log L(\\mathbf{W})$$\n",
        "\n",
        " **CCE = Categorical Cross Entropy**"
      ],
      "metadata": {
        "id": "D5_mcjYkM1Od"
      }
    },
    {
      "cell_type": "code",
      "source": [
        "def categorical_crossentropy(predictions, targets, eps=1e-7):\n",
        "    # predictions are probabilities, targets are one-hot encoded\n",
        "    return -torch.mean(torch.sum(targets * torch.log(predictions + eps), dim=1))"
      ],
      "metadata": {
        "id": "M1l2jDJJNKEI"
      },
      "execution_count": null,
      "outputs": []
    },
    {
      "cell_type": "code",
      "source": [
        "# Training\n",
        "\n",
        "# Setup optimizer\n",
        "optimizer = optim.Adam(model_lr4_torch.parameters(), lr=0.01)\n",
        "\n",
        "\n",
        "num_epochs = 10\n",
        "start_time = time.time()\n",
        "for epoch in range(num_epochs):\n",
        "    epoch_loss = 0.0\n",
        "    for batch_x, batch_y in train_loader:\n",
        "        batch_x, batch_y = batch_x.to(device), batch_y.to(device)\n",
        "        optimizer.zero_grad()\n",
        "        predictions = model_lr4_torch(batch_x)\n",
        "        loss = categorical_crossentropy(predictions, batch_y)\n",
        "        loss.backward()\n",
        "        optimizer.step()\n",
        "        epoch_loss += loss.item()\n",
        "    average_loss = epoch_loss / len(train_loader)\n",
        "    print(f\"Epoch [{epoch+1}/{num_epochs}], Loss: {average_loss:.4f}\")\n",
        "\n",
        "print(\"\\t\\t took %s seconds \" % round((time.time() - start_time), 5))"
      ],
      "metadata": {
        "colab": {
          "base_uri": "https://localhost:8080/"
        },
        "id": "jT1s06rMNMN-",
        "outputId": "a839a0a9-99bc-4de6-9e3d-3cc40b985648"
      },
      "execution_count": null,
      "outputs": [
        {
          "output_type": "stream",
          "name": "stdout",
          "text": [
            "Epoch [1/10], Loss: 0.1333\n",
            "Epoch [2/10], Loss: 0.1203\n",
            "Epoch [3/10], Loss: 0.1187\n",
            "Epoch [4/10], Loss: 0.1143\n",
            "Epoch [5/10], Loss: 0.1152\n",
            "Epoch [6/10], Loss: 0.1124\n",
            "Epoch [7/10], Loss: 0.1057\n",
            "Epoch [8/10], Loss: 0.1037\n",
            "Epoch [9/10], Loss: 0.1107\n",
            "Epoch [10/10], Loss: 0.1060\n",
            "\t\t took 18.81222 seconds \n"
          ]
        }
      ]
    },
    {
      "cell_type": "code",
      "source": [
        "batch_x[0].shape, batch_y[0].shape"
      ],
      "metadata": {
        "colab": {
          "base_uri": "https://localhost:8080/"
        },
        "id": "XoNGbI7PF1zt",
        "outputId": "28b67dbb-aafc-47e7-b060-a7d5682ac248"
      },
      "execution_count": null,
      "outputs": [
        {
          "output_type": "execute_result",
          "data": {
            "text/plain": [
              "(torch.Size([784]), torch.Size([4]))"
            ]
          },
          "metadata": {},
          "execution_count": 41
        }
      ]
    },
    {
      "cell_type": "code",
      "source": [
        "output_probs = model_lr4_torch(x_testM_tensor.to(device))\n",
        "\n",
        "# Get the predicted class by taking the argmax along the class dimension\n",
        "model_l4_predicted_classes = output_probs.argmax(dim=1)\n",
        "\n",
        "\n",
        "print(\"sklearn_lr_M_multin accuracy  = \\t\",accuracy_score(sklearn_lr_M_multin_pred,y_testM), \" correctly cl. cases=\",np.sum(sklearn_lr_M_multin_pred==y_testM))\n",
        "print(\"sklearn_lr_M_ovr: accuracy  = \\t\\t\",accuracy_score(sklearn_lr_M_ovr_pred,y_testM), \" correctly cl. cases=\",np.sum(sklearn_lr_M_ovr_pred==y_testM))\n",
        "print(\"model_lr4: accuracy  = \\t\\t\\t\",accuracy_score(model_l4_predicted_classes,y_testM), \" correctly cl. cases=\",np.sum(model_l4_predicted_classes.detach().numpy()==y_testM))\n",
        "\n"
      ],
      "metadata": {
        "colab": {
          "base_uri": "https://localhost:8080/"
        },
        "id": "Gx58LnKEOu-c",
        "outputId": "d9ae18ef-a0f8-4bb6-c734-c0281af83b05"
      },
      "execution_count": null,
      "outputs": [
        {
          "output_type": "stream",
          "name": "stdout",
          "text": [
            "sklearn_lr_M_multin accuracy  = \t 0.9781092133750301  correctly cl. cases= 4066\n",
            "sklearn_lr_M_ovr: accuracy  = \t\t 0.9754630743324513  correctly cl. cases= 4055\n",
            "model_lr4: accuracy  = \t\t\t 0.9764253067115708  correctly cl. cases= 4059\n"
          ]
        }
      ]
    },
    {
      "cell_type": "markdown",
      "source": [
        "## Deeper (2-layer) network:"
      ],
      "metadata": {
        "id": "GAdUqU03JpTT"
      }
    },
    {
      "cell_type": "code",
      "source": [
        "model_4digits_torch_2_layers = nn.Sequential(\n",
        "    nn.Linear(num_features, 128),\n",
        "    nn.ReLU(),\n",
        "    nn.Linear(128, num_classes),\n",
        "    nn.Softmax(dim=1)  # Output probabilities\n",
        ").to(device)"
      ],
      "metadata": {
        "id": "my3hCdRGJmjE"
      },
      "execution_count": null,
      "outputs": []
    },
    {
      "cell_type": "markdown",
      "source": [
        "![image.png](data:image/png;base64,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)"
      ],
      "metadata": {
        "id": "lR5kjN_fXMr5"
      }
    },
    {
      "cell_type": "code",
      "source": [
        "optimizer = optim.Adam(model_4digits_torch_2_layers.parameters(), lr=0.001)\n",
        "\n",
        "n_epochs = 10\n",
        "start_time = time.time()\n",
        "\n",
        "\n",
        "for epoch in range(n_epochs):\n",
        "    running_loss = 0.0\n",
        "    for x_batch, y_batch in train_loader:\n",
        "        # Move data to the device\n",
        "        x_batch, y_batch = x_batch.to(device), y_batch.to(device)\n",
        "\n",
        "        # Zero the gradients\n",
        "        optimizer.zero_grad()\n",
        "\n",
        "        # Forward pass: compute model outputs (probabilities)\n",
        "        outputs = model_4digits_torch_2_layers(x_batch)\n",
        "\n",
        "        # Compute the custom categorical cross-entropy loss\n",
        "        loss = categorical_crossentropy(outputs, y_batch)\n",
        "\n",
        "        # Backward pass and update\n",
        "        loss.backward()\n",
        "        optimizer.step()\n",
        "\n",
        "        # Accumulate loss (scaled by the number of samples in the batch)\n",
        "        running_loss += loss.item() * x_batch.size(0)\n",
        "\n",
        "    # Compute average loss for the epoch\n",
        "    epoch_loss = running_loss / len(train_loader)\n",
        "    print(f\"Epoch {epoch+1}/{n_epochs}, Loss: {epoch_loss:.6f}\")\n",
        "\n",
        "print(\"Training completed in {:.2f} seconds\".format(time.time() - start_time))"
      ],
      "metadata": {
        "colab": {
          "base_uri": "https://localhost:8080/"
        },
        "id": "aIVnXjI9MKSw",
        "outputId": "c2aefb99-61a7-428e-ee8e-eb0503590ab4"
      },
      "execution_count": null,
      "outputs": [
        {
          "output_type": "stream",
          "name": "stdout",
          "text": [
            "Epoch 1/10, Loss: 1.681829\n",
            "Epoch 2/10, Loss: 0.675318\n",
            "Epoch 3/10, Loss: 0.402613\n",
            "Epoch 4/10, Loss: 0.271039\n",
            "Epoch 5/10, Loss: 0.204537\n",
            "Epoch 6/10, Loss: 0.134354\n",
            "Epoch 7/10, Loss: 0.087279\n",
            "Epoch 8/10, Loss: 0.088327\n",
            "Epoch 9/10, Loss: 0.078552\n",
            "Epoch 10/10, Loss: 0.074310\n",
            "Training completed in 55.12 seconds\n"
          ]
        }
      ]
    },
    {
      "cell_type": "code",
      "source": [
        "output_probs_2l = model_4digits_torch_2_layers(x_testM_tensor.to(device))\n",
        "# Get the predicted class by taking the argmax along the class dimension\n",
        "model_l4_predicted_classes_2l = output_probs_2l.argmax(dim=1)\n",
        "print(\"model_4digits_torch_2_layers  = \\t\\t\\t\",accuracy_score(model_l4_predicted_classes_2l,y_testM), \" correctly cl. cases=\",np.sum(model_l4_predicted_classes_2l.detach().numpy()==y_testM))\n"
      ],
      "metadata": {
        "colab": {
          "base_uri": "https://localhost:8080/"
        },
        "id": "XkTjc7h7Ky53",
        "outputId": "98e75f23-e94f-4870-a161-e08cb9eb0c6b"
      },
      "execution_count": null,
      "outputs": [
        {
          "output_type": "stream",
          "name": "stdout",
          "text": [
            "model_4digits_torch_2_layers  = \t\t\t 0.9942266057252827  correctly cl. cases= 4133\n"
          ]
        }
      ]
    },
    {
      "cell_type": "code",
      "source": [],
      "metadata": {
        "id": "NQ33Uq40Nhoo"
      },
      "execution_count": null,
      "outputs": []
    },
    {
      "cell_type": "markdown",
      "source": [
        "# Q5.2 (10 pts)\n",
        "**Q5.2 STARTS**\n",
        "\n",
        "* Implement a neural network with the same architecture as `model_4digits_torch_2_layers, but without using `torch.nn` modules\n",
        "\n",
        "* It is convenient first to augment data -- currently we have 784 features, we will add one extra column (first one) with fixed value of 1:\n"
      ],
      "metadata": {
        "id": "75jKYLGxNiUf"
      }
    },
    {
      "cell_type": "code",
      "source": [
        "# Prepend a column of ones to x_trainM_tensor\n",
        "ones_column = torch.ones(x_trainM_tensor.size(0), 1, device=x_trainM_tensor.device)\n",
        "x_trainM_tensor_augmented = torch.cat((ones_column, x_trainM_tensor), dim=1)\n",
        "print(\"Augmented x_trainM_tensor shape:\", x_trainM_tensor_augmented.shape)  # Expected: [num_samples, 785]\n",
        "\n",
        "# Create TensorDataset and DataLoader using the augmented data\n",
        "batch_size = 16\n",
        "train_dataset_augmented = TensorDataset(x_trainM_tensor_augmented, y_trainM_one_hot)\n",
        "train_loader_augmented = DataLoader(train_dataset_augmented, batch_size=batch_size, shuffle=True)"
      ],
      "metadata": {
        "colab": {
          "base_uri": "https://localhost:8080/"
        },
        "id": "cmz6siQrOAQv",
        "outputId": "1c2ec6ca-b64d-420a-af50-6ba99cc5f90f"
      },
      "execution_count": null,
      "outputs": [
        {
          "output_type": "stream",
          "name": "stdout",
          "text": [
            "Augmented x_trainM_tensor shape: torch.Size([24754, 785])\n"
          ]
        }
      ]
    },
    {
      "cell_type": "markdown",
      "source": [
        "*  The original input vector has 784 features, denote augmented input as $\\mathbf{x}_{\\text{aug}}$:\n",
        "* $$\n",
        "\\mathbf{x} =\n",
        "\\begin{bmatrix}\n",
        "x_1 \\\\ x_2 \\\\ \\vdots \\\\ x_{784}\n",
        "\\end{bmatrix} \\in \\mathbb{R}^{784},\n",
        "\\qquad\n",
        "\\mathbf{x}_{\\text{aug}} =\n",
        "\\begin{bmatrix}\n",
        "1 \\\\ x_1 \\\\ x_2 \\\\ \\vdots \\\\ x_{784}\n",
        "\\end{bmatrix} \\in \\mathbb{R}^{785}.\n",
        "$$\n",
        "* Define the first weight matrix\n",
        "$\n",
        "\\mathbf{W}_1 \\in \\mathbb{R}^{785 \\times 128}.\n",
        "$\n",
        "*Compute the hidden representation using the ReLU activation:\n",
        "$$\n",
        "\\mathbf{H} = \\operatorname{ReLU}\\left( \\mathbf{x}_{\\text{aug}}^\\top \\mathbf{W}_1 \\right).\n",
        "$$\n",
        "* **Hint:** Use `torch.relu` to perform the ReLU operation element-wise.\n",
        "* Next, to incorporate the bias for the hidden-to-output layer, augment the hidden representation by prepending 1. Denote this augmented hidden representation by\n",
        "$\n",
        "\\mathbf{H}_{\\text{aug}} \\in \\mathbb{R}^{129}\\quad (\\text{since } 128+1 = 129).\n",
        "$\n",
        "* Define the second weight matrix\n",
        "$$\n",
        "\\mathbf{W}_2 \\in \\mathbb{R}^{129 \\times 4}.\n",
        "$$\n",
        "* Compute the output logits as follows:\n",
        "$$\n",
        "\\mathbf{y}_{\\text{logits}} = \\mathbf{H}_{\\text{aug}}^\\top \\mathbf{W}_2.\n",
        "$$\n",
        "Finally, obtain the class probabilities by applying the softmax function:\n",
        "$$\n",
        "\\mathbf{y}_{\\text{probs}} = \\operatorname{softmax}\\left(\\mathbf{y}_{\\text{logits}}\\right).\n",
        "$$\n",
        "* Your **task** is to implement this network using only `PyTorch` tensor operations (i.e., matrix multiplications) without any `torch.nn` layers. Augment the input data as described, define and initialize the matrices ($\\textbf{W}$ for weights and $\\textbf{H}$ for the hidden representation) properly, compute the forward pass using `torch.relu` for the activation, and use an optimizer (e.g., `torch.optim.Adam` to update the weight matrices during training on a dataset with one-hot encoded targets.\n",
        "* Below a template for solution is written, \"just\" write function `forward()`\n",
        "\n"
      ],
      "metadata": {
        "id": "ZiXyIeRFPejO"
      }
    },
    {
      "cell_type": "markdown",
      "source": [
        "* Below is the example, where `batch_x` is of shape (16,10) (i.e., 10 points, each 10dimensional, assume it is already augmented). We will create random $\\textbf{W}$ of size $10\\times 6$ (which mimics 6 neurons), compute hidden representation as\n",
        "$$\\mathbf{H} = \\mathbf{x}_{\\text{batch}} \\, \\mathbf{W} \\in \\mathbb{R}^{16 \\times 6}.$$\n",
        "To incorporate a bias term for subsequent layers, we augment \\(\\mathbf{H}\\) by prepending a column of ones. Formally, let:\n",
        "$$\n",
        "\\mathbf{1} \\in \\mathbb{R}^{16 \\times 1} \\quad \\text{(a column vector of ones)},\n",
        "$$\n",
        "then the augmented hidden representation is given by:\n",
        "$$\n",
        "\\mathbf{H}_{\\text{aug}} = \\begin{bmatrix} \\mathbf{1} & \\mathbf{H} \\end{bmatrix} \\in \\mathbb{R}^{16 \\times 7}.\n",
        "$$"
      ],
      "metadata": {
        "id": "V1zVPBZvRk5b"
      }
    },
    {
      "cell_type": "code",
      "source": [
        "# Create a random weight matrix W of shape (10, 6), which mimics 6 neurons\n",
        "W = torch.randn(10, 6)\n",
        "\n",
        "# Create a random batch of inputs x_batch of shape (16, 10) (one data x = row)\n",
        "x_batch = torch.randn(16, 10)\n",
        "\n",
        "# Compute the hidden representation H = x_batch @ W (for one x it is: x^T *W), resulting in shape (16, 6)\n",
        "H = torch.matmul(x_batch, W)\n",
        "\n",
        "# Apply the ReLU activation element-wise\n",
        "H_relu = torch.relu(H)\n",
        "\n",
        "# Augment H_relu by adding a column of ones at the beginning (for bias)\n",
        "ones = torch.ones(H_relu.shape[0], 1)\n",
        "H_aug = torch.cat((ones, H_relu), dim=1)  # new shape: (16, 7)\n",
        "\n",
        "print(\"x_batch shape:\", x_batch.shape)   # Expected: (16, 10)\n",
        "print(\"W shape:\", W.shape)               # Expected: (10, 6)\n",
        "print(\"H shape:\", H.shape)               # Expected: (16, 6)\n",
        "print(\"H_relu shape:\", H_relu.shape)     # Expected: (16, 6)\n",
        "print(\"H_aug shape:\", H_aug.shape)       # Expected: (16, 7)"
      ],
      "metadata": {
        "colab": {
          "base_uri": "https://localhost:8080/"
        },
        "id": "OsH6o39kQkJ0",
        "outputId": "536834ea-4f77-4dc1-a631-cc73822f24d5"
      },
      "execution_count": null,
      "outputs": [
        {
          "output_type": "stream",
          "name": "stdout",
          "text": [
            "x_batch shape: torch.Size([16, 10])\n",
            "W shape: torch.Size([10, 6])\n",
            "H shape: torch.Size([16, 6])\n",
            "H_relu shape: torch.Size([16, 6])\n",
            "H_aug shape: torch.Size([16, 7])\n"
          ]
        }
      ]
    },
    {
      "cell_type": "markdown",
      "source": [
        "* **Template of solution**"
      ],
      "metadata": {
        "id": "cNeDysgBihyi"
      }
    },
    {
      "cell_type": "code",
      "source": [
        "# Initialize weight matrices\n",
        "W1 = torch.randn(785, 128, device=device, requires_grad=True)\n",
        "W2 = torch.randn(129, 4, device=device, requires_grad=True)\n",
        "\n",
        "optimizer = optim.Adam([W1, W2], lr=0.001)\n",
        "\n"
      ],
      "metadata": {
        "id": "U2plN79Zhcts"
      },
      "execution_count": null,
      "outputs": []
    },
    {
      "cell_type": "code",
      "source": [
        "def forward(batch_x):\n",
        "  print(\"TO DO\")"
      ],
      "metadata": {
        "id": "LhLRhX2ZkJ-M"
      },
      "execution_count": null,
      "outputs": []
    },
    {
      "cell_type": "code",
      "source": [
        "n_epochs = 20\n",
        "\n",
        "for epoch in range(n_epochs):\n",
        "    running_loss = 0.0\n",
        "    for batch_x, batch_y in train_loader_augmented:\n",
        "        batch_x, batch_y = batch_x.to(device), batch_y.to(device)\n",
        "        optimizer.zero_grad()\n",
        "        preds = forward(batch_x)\n",
        "        loss = categorical_crossentropy(preds, batch_y)\n",
        "        loss.backward()\n",
        "        optimizer.step()\n",
        "        running_loss += loss.item() * batch_x.size(0)\n",
        "    epoch_loss = running_loss / len(dataset)\n",
        "    print(f\"Epoch {epoch+1}/{n_epochs}, Loss: {epoch_loss:.6f}\")"
      ],
      "metadata": {
        "id": "8A_fssjnZfT7"
      },
      "execution_count": null,
      "outputs": []
    },
    {
      "cell_type": "markdown",
      "source": [
        "* Predictions/accuracy:"
      ],
      "metadata": {
        "id": "ppc6HdUtiuRm"
      }
    },
    {
      "cell_type": "code",
      "source": [
        "# Augment the test data: prepend a column of ones\n",
        "x_testM_tensor_aug = torch.cat((torch.ones(x_testM_tensor.size(0), 1, device=x_testM_tensor.device),\n",
        "                                x_testM_tensor), dim=1)  # New shape: (N, 785)\n",
        "\n",
        "# Compute predictions using the forward function defined previously.\n",
        "preds_test = forward(x_testM_tensor_aug)\n",
        "\n",
        "# Get predicted classes by taking the index with the highest probability for each sample.\n",
        "predicted_classes = preds_test.argmax(dim=1)\n",
        "\n",
        "\n",
        "print(\"W1, W2, accuracy  = \\t\",accuracy_score(predicted_classes,y_testM), \" correctly cl. cases=\",np.sum(predicted_classes.detach().numpy()==y_testM))\n"
      ],
      "metadata": {
        "colab": {
          "base_uri": "https://localhost:8080/"
        },
        "id": "mkcjfJB1jVvM",
        "outputId": "87f3ab19-5a56-45f6-f210-8a9d1058f04a"
      },
      "execution_count": null,
      "outputs": [
        {
          "output_type": "stream",
          "name": "stdout",
          "text": [
            "W1, W2, accuracy  = \t 0.9915804666827038  correctly cl. cases= 4122\n"
          ]
        }
      ]
    },
    {
      "cell_type": "markdown",
      "source": [
        "**Q5.2 ENDS**"
      ],
      "metadata": {
        "id": "QFdZFtc1jSCU"
      }
    },
    {
      "cell_type": "markdown",
      "source": [
        "## Deeper (3-layer) network:"
      ],
      "metadata": {
        "id": "FcG15_msQwVJ"
      }
    },
    {
      "cell_type": "code",
      "source": [
        "model_4digits_torch_deeper = nn.Sequential(\n",
        "    nn.Linear(num_features, 128),\n",
        "    nn.ReLU(),\n",
        "    nn.Linear(128, 64),\n",
        "    nn.ReLU(),\n",
        "    nn.Linear(64, 32),\n",
        "    nn.ReLU(),\n",
        "    nn.Linear(32, num_classes),\n",
        "    nn.Softmax(dim=1)\n",
        ").to(device)"
      ],
      "metadata": {
        "id": "AagdgigXRBv8"
      },
      "execution_count": null,
      "outputs": []
    },
    {
      "cell_type": "code",
      "source": [
        "torch_summary(model_4digits_torch_deeper)"
      ],
      "metadata": {
        "colab": {
          "base_uri": "https://localhost:8080/"
        },
        "id": "MI63CNyQRFWz",
        "outputId": "12b8530b-7297-48b1-d4ac-16097c61c18f"
      },
      "execution_count": null,
      "outputs": [
        {
          "output_type": "execute_result",
          "data": {
            "text/plain": [
              "=================================================================\n",
              "Layer (type:depth-idx)                   Param #\n",
              "=================================================================\n",
              "Sequential                               --\n",
              "├─Linear: 1-1                            100,480\n",
              "├─ReLU: 1-2                              --\n",
              "├─Linear: 1-3                            8,256\n",
              "├─ReLU: 1-4                              --\n",
              "├─Linear: 1-5                            2,080\n",
              "├─ReLU: 1-6                              --\n",
              "├─Linear: 1-7                            132\n",
              "├─Softmax: 1-8                           --\n",
              "=================================================================\n",
              "Total params: 110,948\n",
              "Trainable params: 110,948\n",
              "Non-trainable params: 0\n",
              "================================================================="
            ]
          },
          "metadata": {},
          "execution_count": 57
        }
      ]
    },
    {
      "cell_type": "markdown",
      "source": [
        "![image.png](data:image/png;base64,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)"
      ],
      "metadata": {
        "id": "NpJFuhCsXfsz"
      }
    },
    {
      "cell_type": "code",
      "source": [
        "# Setup optimizer (using Adam)\n",
        "optimizer = optim.Adam(model_4digits_torch_deeper.parameters(), lr=0.01)\n",
        "\n",
        "# Training loop\n",
        "num_epochs = 10\n",
        "start_time = time.time()\n",
        "for epoch in range(num_epochs):\n",
        "    epoch_loss = 0.0\n",
        "    for batch_x, batch_y in train_loader:\n",
        "        batch_x, batch_y = batch_x.to(device), batch_y.to(device)\n",
        "        optimizer.zero_grad()\n",
        "        predictions = model_4digits_torch_deeper(batch_x)\n",
        "        loss = categorical_crossentropy(predictions, batch_y)\n",
        "        loss.backward()\n",
        "        optimizer.step()\n",
        "        epoch_loss += loss.item()\n",
        "    average_loss = epoch_loss / len(train_loader)\n",
        "    print(f\"Epoch [{epoch+1}/{num_epochs}], Loss: {average_loss:.4f}\")\n",
        "\n",
        "print(\"\\t\\t took %s seconds \" % round((time.time() - start_time), 5))"
      ],
      "metadata": {
        "colab": {
          "base_uri": "https://localhost:8080/"
        },
        "id": "dNYgOccMRR9x",
        "outputId": "9e4ad8e8-1ada-4590-f757-9dd3d0a27170"
      },
      "execution_count": null,
      "outputs": [
        {
          "output_type": "stream",
          "name": "stdout",
          "text": [
            "Epoch [1/10], Loss: 0.1233\n",
            "Epoch [2/10], Loss: 0.0764\n",
            "Epoch [3/10], Loss: 0.0672\n",
            "Epoch [4/10], Loss: 0.0592\n",
            "Epoch [5/10], Loss: 0.0480\n",
            "Epoch [6/10], Loss: 0.0529\n",
            "Epoch [7/10], Loss: 0.0619\n",
            "Epoch [8/10], Loss: 0.0728\n",
            "Epoch [9/10], Loss: 0.0479\n",
            "Epoch [10/10], Loss: 0.0371\n",
            "\t\t took 83.06585 seconds \n"
          ]
        }
      ]
    },
    {
      "cell_type": "code",
      "source": [
        "output_probs_deeper = model_4digits_torch_deeper(x_testM_tensor.to(device))\n",
        "\n",
        "# Get the predicted class by taking the argmax along the class dimension\n",
        "model_4digits_deeper_predicted_classes = output_probs_deeper.argmax(dim=1)\n",
        "\n",
        "\n",
        "print(\"sklearn_lr_M_multin accuracy  = \\t\",accuracy_score(sklearn_lr_M_multin_pred,y_testM), \" correctly cl. cases=\",np.sum(sklearn_lr_M_multin_pred==y_testM), \" out of \",len(y_testM))\n",
        "print(\"sklearn_lr_M_ovr: accuracy  = \\t\\t\",accuracy_score(sklearn_lr_M_ovr_pred,y_testM), \" correctly cl. cases=\",np.sum(sklearn_lr_M_ovr_pred==y_testM), \" out of \",len(y_testM))\n",
        "print(\"model_lr4: accuracy  = \\t\\t\\t\",accuracy_score(model_l4_predicted_classes,y_testM), \" correctly cl. cases=\",np.sum(model_l4_predicted_classes.detach().numpy()==y_testM), \" out of \",len(y_testM))\n",
        "print(\"model_lr4_deeper: accuracy  = \\t\\t\",accuracy_score(model_4digits_deeper_predicted_classes,y_testM), \" correctly cl. cases=\",np.sum(model_4digits_deeper_predicted_classes.detach().numpy()==y_testM), \" out of \",len(y_testM))\n",
        "\n"
      ],
      "metadata": {
        "colab": {
          "base_uri": "https://localhost:8080/"
        },
        "id": "4KDXZX70RqCA",
        "outputId": "9f05a09e-14d8-4d14-8c24-9fd79a639303"
      },
      "execution_count": null,
      "outputs": [
        {
          "output_type": "stream",
          "name": "stdout",
          "text": [
            "sklearn_lr_M_multin accuracy  = \t 0.9781092133750301  correctly cl. cases= 4066  out of  4157\n",
            "sklearn_lr_M_ovr: accuracy  = \t\t 0.9754630743324513  correctly cl. cases= 4055  out of  4157\n",
            "model_lr4: accuracy  = \t\t\t 0.9764253067115708  correctly cl. cases= 4059  out of  4157\n",
            "model_lr4_deeper: accuracy  = \t\t 0.9843637238393071  correctly cl. cases= 4092  out of  4157\n"
          ]
        }
      ]
    },
    {
      "cell_type": "markdown",
      "metadata": {
        "id": "M7XSofsR_oQN"
      },
      "source": [
        "## Three-layer network (torch) and sklearn log. regr. for all 10 classes"
      ]
    },
    {
      "cell_type": "code",
      "source": [
        "# Flatten images and scale pixel values to [0,1]\n",
        "x_train10 = x_train.reshape(-1, 28*28).astype(np.float32) / 255.0\n",
        "x_test10  = x_test.reshape(-1, 28*28).astype(np.float32) / 255.0\n",
        "\n",
        "print(\"x_train10 shape:\", x_train10.shape)\n",
        "print(\"x_test10 shape:\", x_test10.shape)"
      ],
      "metadata": {
        "colab": {
          "base_uri": "https://localhost:8080/"
        },
        "id": "5lqw79VbYLPA",
        "outputId": "4472521b-1ac7-4897-cc9f-9263f5ca6bae"
      },
      "execution_count": null,
      "outputs": [
        {
          "output_type": "stream",
          "name": "stdout",
          "text": [
            "x_train10 shape: (60000, 784)\n",
            "x_test10 shape: (10000, 784)\n"
          ]
        }
      ]
    },
    {
      "cell_type": "markdown",
      "source": [
        "## sklearn LR:"
      ],
      "metadata": {
        "id": "gmgziYejUul6"
      }
    },
    {
      "cell_type": "markdown",
      "source": [
        "**NOTE: BELOW CODE (Logistic Regression) from sklearn takes ~ 1.5 min**\n"
      ],
      "metadata": {
        "id": "M0zN_8mMX-QT"
      }
    },
    {
      "cell_type": "code",
      "source": [
        "# may take ~ 100 sec.\n",
        "\n",
        "\n",
        "sklear_lr10 = LogisticRegression(max_iter=1000, random_state=0)\n",
        "start_time = time.time()\n",
        "print(\"Training sklearn LR model....\")\n",
        "sklear_lr10.fit(x_train10, y_train)\n",
        "print(\"\\t\\t took %s seconds \" % round((time.time() - start_time), 5))\n",
        "\n",
        "# Predict and evaluate on test data\n",
        "sklearn_preds = sklear_lr10.predict(x_test10)\n",
        "acc_sklearn = accuracy_score(y_test, sklearn_preds)\n",
        "\n",
        "print(\"sklear_lr10: accuracy  = \\t\\t\",acc_sklearn)\n",
        "\n"
      ],
      "metadata": {
        "colab": {
          "base_uri": "https://localhost:8080/"
        },
        "id": "XVRnt-CTWIgC",
        "outputId": "f65a788b-fbd1-41d0-cca9-be87b7e642d7"
      },
      "execution_count": null,
      "outputs": [
        {
          "output_type": "stream",
          "name": "stdout",
          "text": [
            "Training sklearn LR model....\n",
            "\t\t took 100.15691 seconds \n",
            "sklear_lr10: accuracy  = \t\t 0.9255\n"
          ]
        }
      ]
    },
    {
      "cell_type": "markdown",
      "source": [
        "Torch impl"
      ],
      "metadata": {
        "id": "QA4zvj76YQYW"
      }
    },
    {
      "cell_type": "code",
      "source": [
        "# Convert data to PyTorch tensors\n",
        "x_train10_tensor = torch.tensor(x_train10, dtype=torch.float32)\n",
        "x_test10_tensor  = torch.tensor(x_test10, dtype=torch.float32)\n",
        "\n",
        "# For one-hot encoding, convert labels (integers) to one-hot vectors\n",
        "num_classes = 10\n",
        "y_train10_tensor = torch.tensor(y_train, dtype=torch.long)\n",
        "y_test10_tensor  = torch.tensor(y_test, dtype=torch.long)\n",
        "\n",
        "y_train10_one_hot = F.one_hot(y_train10_tensor, num_classes=num_classes).float()\n",
        "y_test10_one_hot  = F.one_hot(y_test10_tensor, num_classes=num_classes).float()\n",
        "\n",
        "# Create a TensorDataset and DataLoader for training\n",
        "batch_size = 128\n",
        "train_dataset = TensorDataset(x_train10_tensor, y_train10_one_hot)\n",
        "train_loader = DataLoader(train_dataset, batch_size=batch_size, shuffle=True)"
      ],
      "metadata": {
        "id": "EOXtZ7PVWhCs"
      },
      "execution_count": null,
      "outputs": []
    },
    {
      "cell_type": "code",
      "source": [
        "# Define the deeper model with 3 hidden layers, ending with Softmax\n",
        "model_10digits_torch_deeper = nn.Sequential(\n",
        "    nn.Linear(28*28, 128),\n",
        "    nn.ReLU(),\n",
        "    nn.Linear(128, 64),\n",
        "    nn.ReLU(),\n",
        "    nn.Linear(64, 32),\n",
        "    nn.ReLU(),\n",
        "    nn.Linear(32, num_classes),\n",
        "    nn.Softmax(dim=1)\n",
        ").to(device)"
      ],
      "metadata": {
        "id": "BK2d6iNdWoPC"
      },
      "execution_count": null,
      "outputs": []
    },
    {
      "cell_type": "markdown",
      "source": [
        "![image.png](data:image/png;base64,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)"
      ],
      "metadata": {
        "id": "Y49Fad4lXzZf"
      }
    },
    {
      "cell_type": "code",
      "source": [
        "# Setup optimizer\n",
        "optimizer = optim.Adam(model_10digits_torch_deeper.parameters(), lr=0.001)\n",
        "\n",
        "num_epochs = 10\n",
        "start_time = time.time()\n",
        "for epoch in range(num_epochs):\n",
        "    model_10digits_torch_deeper.train()\n",
        "    epoch_loss = 0.0\n",
        "    for batch_x, batch_y in train_loader:\n",
        "        batch_x, batch_y = batch_x.to(device), batch_y.to(device)\n",
        "        optimizer.zero_grad()\n",
        "        predictions = model_10digits_torch_deeper(batch_x)\n",
        "        loss = categorical_crossentropy(predictions, batch_y)\n",
        "        loss.backward()\n",
        "        optimizer.step()\n",
        "        epoch_loss += loss.item()\n",
        "    avg_loss = epoch_loss / len(train_loader)\n",
        "    print(f\"Epoch [{epoch+1}/{num_epochs}], Loss: {avg_loss:.4f}\")\n",
        "\n",
        "print(\"PyTorch training took {:.2f} seconds\".format(time.time() - start_time))"
      ],
      "metadata": {
        "colab": {
          "base_uri": "https://localhost:8080/"
        },
        "id": "rpXE0I9DWrOB",
        "outputId": "24db4b2c-790d-4eab-dede-2cfa526a32ba"
      },
      "execution_count": null,
      "outputs": [
        {
          "output_type": "stream",
          "name": "stdout",
          "text": [
            "Epoch [1/10], Loss: 0.4970\n",
            "Epoch [2/10], Loss: 0.1898\n",
            "Epoch [3/10], Loss: 0.1323\n",
            "Epoch [4/10], Loss: 0.1003\n",
            "Epoch [5/10], Loss: 0.0794\n",
            "Epoch [6/10], Loss: 0.0661\n",
            "Epoch [7/10], Loss: 0.0560\n",
            "Epoch [8/10], Loss: 0.0450\n",
            "Epoch [9/10], Loss: 0.0392\n",
            "Epoch [10/10], Loss: 0.0341\n",
            "PyTorch training took 40.26 seconds\n"
          ]
        }
      ]
    },
    {
      "cell_type": "code",
      "source": [
        "model_10digits_torch_deeper.eval()\n",
        "with torch.no_grad():\n",
        "    test_outputs = model_10digits_torch_deeper(x_test10_tensor.to(device))\n",
        "    # Get predicted classes by taking argmax\n",
        "    torch_preds = test_outputs.argmax(dim=1).cpu().numpy()\n",
        "\n",
        "acc_torch = accuracy_score(y_test, torch_preds)\n",
        "print(y_test)"
      ],
      "metadata": {
        "colab": {
          "base_uri": "https://localhost:8080/"
        },
        "id": "IhMLInhvXDOb",
        "outputId": "66fc2f33-3107-4d19-eefe-439fe594c5e7"
      },
      "execution_count": null,
      "outputs": [
        {
          "output_type": "stream",
          "name": "stdout",
          "text": [
            "[7 2 1 ... 4 5 6]\n"
          ]
        }
      ]
    },
    {
      "cell_type": "code",
      "source": [
        "\n",
        "print(\"model_10digits_deeper: accuracy  = \\t\\t\",accuracy_score(torch_preds ,y_test), \" correctly cl. cases=\",np.sum(torch_preds==y_test), \" out of \",len(y_test))\n"
      ],
      "metadata": {
        "colab": {
          "base_uri": "https://localhost:8080/"
        },
        "id": "GGipBDkqWuH4",
        "outputId": "45e68a67-1454-4f7d-a418-8ae40ef9bebe"
      },
      "execution_count": null,
      "outputs": [
        {
          "output_type": "stream",
          "name": "stdout",
          "text": [
            "model_10digits_deeper: accuracy  = \t\t 0.9766  correctly cl. cases= 9766  out of  10000\n"
          ]
        }
      ]
    },
    {
      "cell_type": "code",
      "source": [
        "print(\"sklear_lr10: accuracy  = \\t\\t\",acc_sklearn)"
      ],
      "metadata": {
        "id": "0hi40sJMa98P",
        "outputId": "3642d9b2-816c-4f0a-a1d4-a0ccb578922e",
        "colab": {
          "base_uri": "https://localhost:8080/"
        }
      },
      "execution_count": null,
      "outputs": [
        {
          "output_type": "stream",
          "name": "stdout",
          "text": [
            "sklear_lr10: accuracy  = \t\t 0.9255\n"
          ]
        }
      ]
    },
    {
      "cell_type": "code",
      "source": [],
      "metadata": {
        "id": "oS09zYxqa-Ld"
      },
      "execution_count": null,
      "outputs": []
    },
    {
      "cell_type": "markdown",
      "source": [
        "# Q5.3\n",
        "**Q5.3 STARTS**\n",
        "* In this task you will classify `Wine dataset`, which is a 3-class dataset (wines from 3 different cultivars) comprising 178 samples with 13 chemical features each.\n",
        "* First, let us read in dataset, split it into train and test set, and transform it to torch:"
      ],
      "metadata": {
        "id": "XtTcuMkAlRpA"
      }
    },
    {
      "cell_type": "code",
      "source": [
        "\n",
        "from sklearn.datasets import load_wine\n",
        "from sklearn.model_selection import train_test_split\n",
        "\n",
        "\n",
        "device = torch.device(\"cuda\" if torch.cuda.is_available() else \"cpu\")\n",
        "\n",
        "# Load Wine dataset: 178 samples, 13 features, 3 classes.\n",
        "wine = load_wine()\n",
        "X = wine.data\n",
        "y = wine.target\n",
        "\n",
        "# Split into train/test (80%/20%) with stratification.\n",
        "X_train, X_test, y_train, y_test = train_test_split(\n",
        "    X, y, test_size=0.2, random_state=42, stratify=y)\n",
        "\n",
        "# Convert data to torch tensors.\n",
        "X_train_tensor = torch.tensor(X_train, dtype=torch.float32)\n",
        "X_test_tensor = torch.tensor(X_test, dtype=torch.float32)\n",
        "y_train_tensor = torch.tensor(y_train, dtype=torch.long)\n",
        "y_test_tensor = torch.tensor(y_test, dtype=torch.long)\n",
        "\n",
        "# One-hot encode target labels (for 3 classes).\n",
        "y_train_tensor = F.one_hot(y_train_tensor, num_classes=3).float()\n",
        "y_test_tensor = F.one_hot(y_test_tensor, num_classes=3).float()\n",
        "\n",
        "# Create DataLoader for training set.\n",
        "batch_size = 128\n",
        "train_dataset = TensorDataset(X_train_tensor, y_train_tensor)\n",
        "train_loader = DataLoader(train_dataset, batch_size=batch_size, shuffle=True)"
      ],
      "metadata": {
        "id": "AKSb9oZBLyRE"
      },
      "execution_count": null,
      "outputs": []
    },
    {
      "cell_type": "markdown",
      "source": [
        "* **TASK** Create a simple three-layer network with the following architecture:"
      ],
      "metadata": {
        "id": "sDdhxD1KP2BU"
      }
    },
    {
      "cell_type": "markdown",
      "source": [
        "![image.png](data:image/png;base64,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)"
      ],
      "metadata": {
        "id": "VR2JPwx4TXkG"
      }
    },
    {
      "cell_type": "markdown",
      "source": [
        "* Train the model with `Adam` optimizer with `lr=0.01` for `n_epochs=500`.\n",
        "* Compute final accuracy. Check if decreasing batch size (e.g., `batch_size=16`) improves the results."
      ],
      "metadata": {
        "id": "UKVNuVFZTxtI"
      }
    },
    {
      "cell_type": "markdown",
      "source": [
        "**Q5.3 ENDS**"
      ],
      "metadata": {
        "id": "xO7X6ZBxVP5M"
      }
    },
    {
      "cell_type": "code",
      "source": [],
      "metadata": {
        "id": "6im2imfEQ2Yy"
      },
      "execution_count": null,
      "outputs": []
    }
  ],
  "metadata": {
    "colab": {
      "provenance": [],
      "include_colab_link": true
    },
    "kernelspec": {
      "display_name": "Python 3",
      "name": "python3"
    }
  },
  "nbformat": 4,
  "nbformat_minor": 0
}