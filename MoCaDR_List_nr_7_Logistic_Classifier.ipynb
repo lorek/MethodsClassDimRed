{
  "nbformat": 4,
  "nbformat_minor": 0,
  "metadata": {
    "colab": {
      "provenance": [],
      "authorship_tag": "ABX9TyNCru7hXO4klqjh4cbd0aL6",
      "include_colab_link": true
    },
    "kernelspec": {
      "name": "python3",
      "display_name": "Python 3"
    },
    "language_info": {
      "name": "python"
    }
  },
  "cells": [
    {
      "cell_type": "markdown",
      "metadata": {
        "id": "view-in-github",
        "colab_type": "text"
      },
      "source": [
        "<a href=\"https://colab.research.google.com/github/lorek/MethodsClassDimRed/blob/main/MoCaDR_List_nr_7_Logistic_Classifier.ipynb\" target=\"_parent\"><img src=\"https://colab.research.google.com/assets/colab-badge.svg\" alt=\"Open In Colab\"/></a>"
      ]
    },
    {
      "cell_type": "markdown",
      "source": [
        "# Logistic Classifier."
      ],
      "metadata": {
        "id": "xnNFmcVoGC5u"
      }
    },
    {
      "cell_type": "code",
      "source": [
        "# Paweł Lorek\n",
        "\n",
        "\n",
        "import numpy as np\n",
        "import matplotlib\n",
        "import matplotlib.pyplot as plt\n",
        "import time\n",
        "\n",
        "import copy as cp\n",
        "\n",
        "from sklearn.metrics import accuracy_score\n",
        "\n",
        "\n",
        "from sklearn.linear_model import LogisticRegression\n",
        "#keras -> tensorflow.keras\n",
        "\n",
        "from keras import models\n",
        "from keras import layers\n",
        "from keras import losses\n",
        "from keras import optimizers\n",
        "from keras.utils import to_categorical\n",
        "from keras.datasets import mnist\n",
        "\n",
        ""
      ],
      "metadata": {
        "id": "39RfP2oyGF73"
      },
      "execution_count": 110,
      "outputs": []
    },
    {
      "cell_type": "code",
      "source": [],
      "metadata": {
        "id": "xmd4lvm6GQZh"
      },
      "execution_count": 110,
      "outputs": []
    },
    {
      "cell_type": "markdown",
      "source": [
        "# Binary Classification"
      ],
      "metadata": {
        "id": "SPjNwibvGT2E"
      }
    },
    {
      "cell_type": "markdown",
      "source": [
        "### MNIST (again). we will start with binary classification, choose only digits 0 or 1"
      ],
      "metadata": {
        "id": "fBW1BjSBGWgd"
      }
    },
    {
      "cell_type": "code",
      "source": [
        "(x_train, y_train), (x_test, y_test) = mnist.load_data()"
      ],
      "metadata": {
        "id": "RSrP63OyGdjN"
      },
      "execution_count": 111,
      "outputs": []
    },
    {
      "cell_type": "code",
      "source": [
        "x_train2, y_train2 = x_train[(y_train==0) | (y_train==1)], y_train[(y_train==0) | (y_train==1)]\n",
        "x_test2, y_test2 = x_test[(y_test==0) | (y_test==1)], y_test[(y_test==0) | (y_test==1)]\n",
        "\n",
        "\n",
        "# nr of samples, size  of images\n",
        "n_samples_train, h, w =     x_train2.shape\n",
        "n_samples_test, _, _ =      x_test2.shape\n",
        "print(\"images of size: h= \", h,\", w = \", w)\n",
        "# reshape nr_samples * \"vectorized image\"\n",
        "\n",
        "x_train2 = x_train2.reshape((-1, h*w))\n",
        "x_test2 = x_test2.reshape((-1, h*w))\n",
        "\n",
        "print(\"x_train2.shape = \", x_train2.shape)\n",
        "print(\"x_test2.shape = \", x_test2.shape)\n",
        "\n",
        "#normalize\n",
        "x_train2 = x_train2 / 255\n",
        "x_test2 = x_test2 / 255"
      ],
      "metadata": {
        "colab": {
          "base_uri": "https://localhost:8080/"
        },
        "id": "ann0P7DZGN4l",
        "outputId": "4643aea6-7f43-47cc-a42d-68d12a2c2471"
      },
      "execution_count": 112,
      "outputs": [
        {
          "output_type": "stream",
          "name": "stdout",
          "text": [
            "images of size: h=  28 , w =  28\n",
            "x_train2.shape =  (12665, 784)\n",
            "x_test2.shape =  (2115, 784)\n"
          ]
        }
      ]
    },
    {
      "cell_type": "code",
      "source": [
        "f = plt.figure()\n",
        "f.add_subplot(1,2, 1)\n",
        "img=x_train2[0].reshape(h,w)\n",
        "plt.imshow(img,cmap='gray')\n",
        "img=x_train2[1].reshape(h,w)\n",
        "f.add_subplot(1,2, 2)\n",
        "plt.imshow(img,cmap='gray')\n",
        "plt.show()"
      ],
      "metadata": {
        "colab": {
          "base_uri": "https://localhost:8080/",
          "height": 287
        },
        "id": "iG-8ZUjbGaWi",
        "outputId": "cdffcf24-dcc0-475b-ed97-0d258283a615"
      },
      "execution_count": 113,
      "outputs": [
        {
          "output_type": "display_data",
          "data": {
            "text/plain": [
              "<Figure size 640x480 with 2 Axes>"
            ],
            "image/png": "[encoded data removed]"
          },
          "metadata": {}
        }
      ]
    },
    {
      "cell_type": "markdown",
      "source": [
        "**Method**\n",
        "Suppose we are to estimate if a person dies next year:\n",
        " $$Pr(death | \\mathbf{x})$$\n",
        " where\n",
        " $$\\mathbf{x}=(\\textrm{age, yearly alcohol usage, cholesterol,...})$$\n",
        "\n",
        " We want some simple model:\n",
        " $$z=w_0+w_1x_1+\\ldots+w_d x_d =\\mathbf{x}^T\\mathbf{w}\\qquad (\\mathbf{x}=(1,x_1,\\ldots,x_d))$$\n",
        " Roughly speaking, the larger the above value,\n",
        " the larger the chances of death.\n",
        "\n",
        " We want to \"transform\" $z$ into probability.  One way, take\n",
        "$$f(z)={1\\over 1+e^{-z}}$$\n",
        "\n",
        "Given data: $(\\mathbf{x}_1,...,\\mathbf{x}_n)$ (\"train images\"), $(y_1,\\ldots,y_n)$, $y_i\\in\\{0,1\\}$ (\"y_train\", \"labels\") we assume that y_i was a result of flipping a coin with succ. probl $f(z)$\n",
        "$$Y_i\\sim Bernoulli(f(z))$$\n",
        "(**recall**:  we always use $z=w_0+w_1x_1+\\ldots+x_dw_d$)\n",
        "\n",
        "$$\n",
        "Pr(Y_i=s)\n",
        " =\\left\\{\n",
        " \\begin{array}{lll}\n",
        "  f(z) & \\textrm{if} & s=1\\\\\n",
        "  1-f(z) & \\textrm{if} & s=0\\\\  \n",
        " \\end{array}\\right.  \\qquad \\qquad = f(z)^s (1-f(z))^{1-s}\n",
        "$$\n",
        "\n",
        "And the probability that we observed $(y_1,\\ldots,y_n)$ given current $(w_0,\\ldots,w_d)$ (**here** $z_i=\\mathbf{x}^T_i\\mathbf{w}$)\n",
        "\n",
        "$$L(\\mathbf{w})=\\prod_{i=1}^n Pr(Y_i=y_i|\\mathbf{w}) =\\prod_{i=1}^n f(z_i)^{y_i} (1-f(z_i))^{1-y_i}$$\n",
        "\n",
        "We want to find $\\textrm{argmax}_\\mathbf{w} L(\\mathbf{w})$, we have\n",
        "$$\\textrm{argmax}_\\mathbf{w} L(\\mathbf{w}) =\\textrm{argmin}_\\mathbf{w} BCE(\\mathbf{w}), $$\n",
        "  where\n",
        "$$BCE(\\mathbf{w}) = -{1\\over n}\\log L(\\mathbf{w})= -{1\\over n}\\sum_{i=1}^n \\left[y_i \\log f(z_i)+(1-y_i)\\log(1-f(z_i))\\right]$$\n",
        "\n",
        "This is **BINARY CROSS ENTROPY** LOSS FUNCTION!"
      ],
      "metadata": {
        "id": "tUK05cQAGklV"
      }
    },
    {
      "cell_type": "markdown",
      "source": [
        "# A) Built-in logistic classifier (sklearn, for comparison):"
      ],
      "metadata": {
        "id": "uJxGoiphG5KH"
      }
    },
    {
      "cell_type": "code",
      "source": [
        "#clf_lc = LogisticRegression(random_state=0, penalty=\"elasticnet\", solver='saga', l1_ratio=0.5, max_iter=200).fit(x_train2,y_train2)\n",
        "clf_lc = LogisticRegression(random_state=0).fit(x_train2,y_train2)\n",
        "\n",
        "lc_y_pred=clf_lc.predict(x_test2)\n",
        "print(\"Log. clf: accuracy  = \\t\",accuracy_score(lc_y_pred,y_test2), \" correctly cl. cases=\",np.sum(lc_y_pred==y_test2))\n",
        ""
      ],
      "metadata": {
        "colab": {
          "base_uri": "https://localhost:8080/"
        },
        "id": "pqQOAcjwGgfG",
        "outputId": "9bf37f69-51ee-427a-adb9-2d7cc6d53130"
      },
      "execution_count": 114,
      "outputs": [
        {
          "output_type": "stream",
          "name": "stdout",
          "text": [
            "Log. clf: accuracy  = \t 0.9995271867612293  correctly cl. cases= 2114\n"
          ]
        }
      ]
    },
    {
      "cell_type": "markdown",
      "source": [
        "# B) Using Keras\n",
        "\n"
      ],
      "metadata": {
        "id": "cy12zofTHYDw"
      }
    },
    {
      "cell_type": "markdown",
      "source": [
        "### Simplest (?) NN:\n",
        "create 1 dense layer : in our case, m=h*w =28 * 28 = 784\n",
        "\n",
        "![alt text](https://raw.githubusercontent.com/lorek/datasets/master/nn_1_denselayer.png)"
      ],
      "metadata": {
        "id": "YLLwPYrZHecp"
      }
    },
    {
      "cell_type": "code",
      "source": [],
      "metadata": {
        "id": "V_OjTI2XHMyI"
      },
      "execution_count": 114,
      "outputs": []
    },
    {
      "cell_type": "markdown",
      "source": [
        "Now we need to specify the model:"
      ],
      "metadata": {
        "id": "QxwoBAgrHpax"
      }
    },
    {
      "cell_type": "code",
      "source": [
        "model = models.Sequential()\n",
        "model.add(layers.Dense(1, input_shape=(h*w,), activation='sigmoid'))\n"
      ],
      "metadata": {
        "id": "dXqG8p8sHqX5"
      },
      "execution_count": 115,
      "outputs": []
    },
    {
      "cell_type": "code",
      "source": [
        "# set some parameters: use SGD as optimizer, loss='binary_crossentropy'\n",
        "\n",
        "model.compile(optimizer='sgd', loss='binary_crossentropy', metrics=['accuracy'])\n",
        "\n",
        "# REMARK: metrics=['accuracy'] -- not used in learning at all\n",
        "# (needed later for evaluation)"
      ],
      "metadata": {
        "id": "k09nVPg8HsJZ"
      },
      "execution_count": 116,
      "outputs": []
    },
    {
      "cell_type": "code",
      "source": [
        "#learning:\n",
        "model.fit(x=x_train2,y=y_train2,  epochs=5,batch_size=128)"
      ],
      "metadata": {
        "colab": {
          "base_uri": "https://localhost:8080/"
        },
        "id": "e3KcUv88Hvka",
        "outputId": "ab74c591-f62f-4826-a929-eff5171ef194"
      },
      "execution_count": 117,
      "outputs": [
        {
          "output_type": "stream",
          "name": "stdout",
          "text": [
            "Epoch 1/5\n",
            "99/99 [==============================] - 1s 2ms/step - loss: 0.2692 - accuracy: 0.9442\n",
            "Epoch 2/5\n",
            "99/99 [==============================] - 0s 2ms/step - loss: 0.0934 - accuracy: 0.9962\n",
            "Epoch 3/5\n",
            "99/99 [==============================] - 0s 2ms/step - loss: 0.0619 - accuracy: 0.9965\n",
            "Epoch 4/5\n",
            "99/99 [==============================] - 0s 2ms/step - loss: 0.0479 - accuracy: 0.9965\n",
            "Epoch 5/5\n",
            "99/99 [==============================] - 0s 2ms/step - loss: 0.0399 - accuracy: 0.9965\n"
          ]
        },
        {
          "output_type": "execute_result",
          "data": {
            "text/plain": [
              "<keras.src.callbacks.History at 0x7bb419954820>"
            ]
          },
          "metadata": {},
          "execution_count": 117
        }
      ]
    },
    {
      "cell_type": "code",
      "source": [
        "#prediction\n",
        "nn_y_pred_prob = model.predict(x_test2)\n",
        "nn_y_pred = (nn_y_pred_prob>0.5).astype(int)\n",
        "print(\"NN clf: accuracy  =  \\t\",accuracy_score(nn_y_pred ,y_test2))"
      ],
      "metadata": {
        "colab": {
          "base_uri": "https://localhost:8080/"
        },
        "id": "hvv7kSwmH0Cb",
        "outputId": "820ed8d0-3c88-431d-d4fb-affdbde05d3b"
      },
      "execution_count": 118,
      "outputs": [
        {
          "output_type": "stream",
          "name": "stdout",
          "text": [
            "67/67 [==============================] - 0s 1ms/step\n",
            "NN clf: accuracy  =  \t 0.9985815602836879\n"
          ]
        }
      ]
    },
    {
      "cell_type": "markdown",
      "source": [
        "COMPARISON of Keras vs sklearn:"
      ],
      "metadata": {
        "id": "yc4Lx9CwH5GS"
      }
    },
    {
      "cell_type": "code",
      "source": [
        "print(\"Log. clf (sklearn): accuracy  = \\t\",accuracy_score(lc_y_pred,y_test2), \" correctly cl. cases=\",np.sum(lc_y_pred==y_test2))\n",
        "print(\"NN clf (Keras): accuracy  =  \\t\\t\",accuracy_score(nn_y_pred ,y_test2), \" correctly cl. cases=\",np.sum(nn_y_pred.reshape(-1)==y_test2))"
      ],
      "metadata": {
        "colab": {
          "base_uri": "https://localhost:8080/"
        },
        "id": "vwpBhwhxH726",
        "outputId": "959a3f9f-798e-4273-dfd1-6927bce8814d"
      },
      "execution_count": 119,
      "outputs": [
        {
          "output_type": "stream",
          "name": "stdout",
          "text": [
            "Log. clf (sklearn): accuracy  = \t 0.9995271867612293  correctly cl. cases= 2114\n",
            "NN clf (Keras): accuracy  =  \t\t 0.9985815602836879  correctly cl. cases= 2112\n"
          ]
        }
      ]
    },
    {
      "cell_type": "markdown",
      "source": [
        "VISUALIZATION of results"
      ],
      "metadata": {
        "id": "HoQuI-PVILSD"
      }
    },
    {
      "cell_type": "markdown",
      "source": [
        "Have a closer look at coefficients $w_0, \\ldots, w_d$"
      ],
      "metadata": {
        "id": "XKFrrRROIPwb"
      }
    },
    {
      "cell_type": "code",
      "source": [
        "# coef. and bias of logist. cl:\n",
        "nn_coef=model.weights[0].numpy().reshape(-1)\n",
        "lc_coef = clf_lc.coef_.reshape(-1)\n",
        "lc_bias = clf_lc.intercept_[0]\n",
        "\n",
        "# coef and bias of nn\n",
        "nn_coef = model.layers[0].get_weights()[0].reshape(-1)\n",
        "nn_bias = model.layers[0].get_weights()[1][0]\n",
        "\n",
        "#draw coefs\n",
        "plt.figure(figsize=(14, 6), dpi= 80, facecolor='w', edgecolor='k')\n",
        "plt.plot(np.arange(h*w), lc_coef, label=\"Sklearn. coef\")\n",
        "plt.plot(np.arange(h*w), nn_coef, label=\"NN coef\")\n",
        "plt.title(\"NN bias=\"+str(np.round(nn_bias,3)) + \",  Log. cl bias=\"+str(np.round(lc_bias,3)));\n",
        "\n",
        "print(\"Sum(|lc_coef|) LC: \", np.sum(np.abs(lc_coef)))\n",
        "print(\"Sum(|nn_coef|) LC: \", np.sum(np.abs(nn_coef)))\n",
        "\n",
        "plt.legend()\n",
        "plt.show()\n"
      ],
      "metadata": {
        "colab": {
          "base_uri": "https://localhost:8080/",
          "height": 473
        },
        "id": "TdFrPrM3IQrE",
        "outputId": "461f3216-fbed-420a-b4a7-f312246717a3"
      },
      "execution_count": 120,
      "outputs": [
        {
          "output_type": "stream",
          "name": "stdout",
          "text": [
            "Sum(|lc_coef|) LC:  86.50905887026815\n",
            "Sum(|nn_coef|) LC:  40.85721\n"
          ]
        },
        {
          "output_type": "display_data",
          "data": {
            "text/plain": [
              "<Figure size 1120x480 with 1 Axes>"
            ],
            "image/png": "[encoded data removed]"
          },
          "metadata": {}
        }
      ]
    },
    {
      "cell_type": "code",
      "source": [
        "f = plt.figure(figsize=(10, 10))\n",
        "f.add_subplot(1,2, 1)\n",
        "plt.imshow(nn_coef.reshape(h,w), cmap='gray' )\n",
        "plt.title(\"Nerual Network weights\")\n",
        "f.add_subplot(1,2, 2)\n",
        "plt.imshow(lc_coef.reshape(h,w), cmap='gray')\n",
        "plt.title(\"Sklearn weights\")\n",
        "plt.show()"
      ],
      "metadata": {
        "colab": {
          "base_uri": "https://localhost:8080/",
          "height": 435
        },
        "id": "0eGMd7xnH3ui",
        "outputId": "b6679adb-52bb-4fe6-80d3-5e6465f362ed"
      },
      "execution_count": 121,
      "outputs": [
        {
          "output_type": "display_data",
          "data": {
            "text/plain": [
              "<Figure size 1000x1000 with 2 Axes>"
            ],
            "image/png": "[encoded data removed]"
          },
          "metadata": {}
        }
      ]
    },
    {
      "cell_type": "markdown",
      "source": [
        "Visulalize predicted probabilities (true classes given by color)"
      ],
      "metadata": {
        "id": "w5B34uy_J0Hh"
      }
    },
    {
      "cell_type": "code",
      "source": [
        "nn_y_pred_proba = model.predict(x_test2) # <- these are actually probabilities\n",
        "print(nn_y_pred_proba)"
      ],
      "metadata": {
        "colab": {
          "base_uri": "https://localhost:8080/"
        },
        "id": "bF5otn9zJ__y",
        "outputId": "d5fa459d-8aed-4539-bbc3-dffb415b487d"
      },
      "execution_count": 122,
      "outputs": [
        {
          "output_type": "stream",
          "name": "stdout",
          "text": [
            "67/67 [==============================] - 0s 1ms/step\n",
            "[[0.97095376]\n",
            " [0.00371033]\n",
            " [0.98740053]\n",
            " ...\n",
            " [0.9882949 ]\n",
            " [0.01662008]\n",
            " [0.9942965 ]]\n"
          ]
        }
      ]
    },
    {
      "cell_type": "code",
      "source": [
        "fr=1100; to=1200\n",
        "xx=np.arange(fr,to)\n",
        "print(xx.shape)\n",
        "f = plt.figure(figsize=(8, 6), dpi= 80, facecolor='w', edgecolor='k')\n",
        "f.add_subplot(2,1, 1)\n",
        "plt.scatter(xx,lc_y_pred_proba[fr:to], s=1,label='lc');\n",
        "plt.scatter(xx,nn_y_pred_proba[fr:to], s=1,label='nn');\n",
        "#\n",
        "\n",
        "plt.legend()\n",
        "\n",
        "f.add_subplot(2,1, 2)\n",
        "plt.scatter(xx,lc_y_pred_proba[fr:to]-nn_y_pred_proba[fr:to].reshape(-1), label='diff');\n",
        "plt.legend()\n",
        "plt.show()"
      ],
      "metadata": {
        "colab": {
          "base_uri": "https://localhost:8080/",
          "height": 438
        },
        "id": "LDN_odv0J7Xi",
        "outputId": "1f053abd-f465-42f8-c698-8964a0389afe"
      },
      "execution_count": 123,
      "outputs": [
        {
          "output_type": "stream",
          "name": "stdout",
          "text": [
            "(100,)\n"
          ]
        },
        {
          "output_type": "display_data",
          "data": {
            "text/plain": [
              "<Figure size 640x480 with 2 Axes>"
            ],
            "image/png": "[encoded data removed]"
          },
          "metadata": {}
        }
      ]
    },
    {
      "cell_type": "markdown",
      "source": [
        "# Q7.1\n",
        "* Extend built logistic regression model: Add one extra (first) layer with 512 neurons (dense layer). Consider 2-3 different activation functions, try different optimizers (and learning rates). Compare accuracy on test set with previous models. How many parameters does your network have?"
      ],
      "metadata": {
        "id": "MEWrZ3YPKEkb"
      }
    },
    {
      "cell_type": "code",
      "source": [],
      "metadata": {
        "id": "A_8VFBtbK3eu"
      },
      "execution_count": 123,
      "outputs": []
    },
    {
      "cell_type": "markdown",
      "source": [
        "# C) Own implementation (of stochastic gradient descent for logistic classifier)."
      ],
      "metadata": {
        "id": "CKut-wT5K3mF"
      }
    },
    {
      "cell_type": "markdown",
      "source": [
        "Recall, on a lecture we have shown that the gradient of binary cross entropy can be expressed as:\n",
        "$$\\nabla_{\\mathbf{w}}g(\\mathbf{w})=\\mathbf{X}^T(\\boldsymbol{\\rho}-\\mathbf{y})$$\n",
        "where $\\boldsymbol{\\rho}=(\\rho(1),\\ldots,\\rho(n))^T$ and\n",
        "$$\\rho(i) = \\textrm{sigmoid}(\\mathbf{w}^T \\mathbf{x}_i)={\\exp\\left(\\sum_{j=1}^d w_{j} x_{ij}\\right)\\over 1+\\exp\\left(\\sum_{j=1}^d w_{j} x_{ij}\\right)}$$\n"
      ],
      "metadata": {
        "id": "iXyoFgslK_mm"
      }
    },
    {
      "cell_type": "markdown",
      "source": [
        "We want $\\mathbf{w}=(w_0,w_1,w_2,\\ldots,w_d)$, $w_0$ is the bias. Trick: we will \"enlarge\" dimension of observations, adding first column with all ones."
      ],
      "metadata": {
        "id": "Bhx0_D0iMNjL"
      }
    },
    {
      "cell_type": "code",
      "source": [
        "# add extra FIRST column to xs (for bias)\n",
        "x_train2_with_ones = np.ones((x_train2.shape[0],x_train2.shape[1]+1))\n",
        "x_train2_with_ones[:,1:x_train2_with_ones.shape[1]]=x_train2\n",
        "\n",
        "x_test2_with_ones = np.ones((x_test2.shape[0],x_test2.shape[1]+1))\n",
        "x_test2_with_ones[:,1:x_test2_with_ones.shape[1]]=x_test2\n",
        "print(x_test2_with_ones[:,0])\n",
        "\n",
        ""
      ],
      "metadata": {
        "colab": {
          "base_uri": "https://localhost:8080/"
        },
        "id": "6gkQXF2eMaxl",
        "outputId": "8fa88bab-344c-4f89-de89-3b83bc2ee7a5"
      },
      "execution_count": 124,
      "outputs": [
        {
          "output_type": "stream",
          "name": "stdout",
          "text": [
            "[1. 1. 1. ... 1. 1. 1.]\n"
          ]
        }
      ]
    },
    {
      "cell_type": "code",
      "source": [
        "x_train2.shape,x_train2_with_ones.shape"
      ],
      "metadata": {
        "colab": {
          "base_uri": "https://localhost:8080/"
        },
        "id": "xv2-ImxUNGQT",
        "outputId": "8592dc2b-059e-4585-b201-3e2e37beae0c"
      },
      "execution_count": 125,
      "outputs": [
        {
          "output_type": "execute_result",
          "data": {
            "text/plain": [
              "((12665, 784), (12665, 785))"
            ]
          },
          "metadata": {},
          "execution_count": 125
        }
      ]
    },
    {
      "cell_type": "markdown",
      "source": [
        "Initial random weights:\n"
      ],
      "metadata": {
        "id": "bRyPoxrDMC6y"
      }
    },
    {
      "cell_type": "code",
      "source": [
        "np.random.seed(11)\n",
        "weights_init = np.random.rand(x_train2_with_ones.shape[1])*2-1"
      ],
      "metadata": {
        "id": "j8qb2AbqMJeS"
      },
      "execution_count": 126,
      "outputs": []
    },
    {
      "cell_type": "code",
      "source": [
        "# sigmoid\n",
        "def sigmoid(X, weight):\n",
        "    z = np.dot(X, weight)\n",
        "    f=1 / (1 + np.exp(-z))\n",
        "    return f\n",
        "\n",
        "\n",
        "# compute accuracy given X_test, Y_test and Weights\n",
        "\n",
        "def get_accuracy_score(X_test, Y_test, Weights):\n",
        "  Y_pred_proba=sigmoid(X_test,Weights)\n",
        "  Y_pred=np.zeros(X_test.shape[0])\n",
        "  Y_pred[Y_pred_proba>0.5]=1\n",
        "  return accuracy_score(Y_pred,Y_test)"
      ],
      "metadata": {
        "id": "SpFPhBLeNfFO"
      },
      "execution_count": 127,
      "outputs": []
    },
    {
      "cell_type": "code",
      "source": [
        "\n",
        "print(\"acc with init weights  \" , get_accuracy_score(x_test2_with_ones, y_test2, weights_init));#"
      ],
      "metadata": {
        "colab": {
          "base_uri": "https://localhost:8080/"
        },
        "id": "EWCNexdCNfH2",
        "outputId": "ddeb8320-60c4-4186-9b1e-a12675fdf594"
      },
      "execution_count": 128,
      "outputs": [
        {
          "output_type": "stream",
          "name": "stdout",
          "text": [
            "acc with init weights   0.4765957446808511\n"
          ]
        }
      ]
    },
    {
      "cell_type": "code",
      "source": [
        "# Simple direct implementation\n",
        "\n",
        "def gd_learning1(X_train, Y_train, weights_initial, epochs, l_rate=0.1):\n",
        "  weightss = cp.copy(weights_init)\n",
        "  # print(weightss)\n",
        "  for epoch in range(epochs):\n",
        "    f=sigmoid(X_train, weightss)\n",
        "    gradient =  np.dot(X_train.T, (f - Y_train)) / Y_train.shape[0] # <-- MAIN STEP (gradient)\n",
        "    weightss = weightss - l_rate * gradient\n",
        "  #print(weightss)\n",
        "  return weightss"
      ],
      "metadata": {
        "id": "uG-3n2xwNfK2"
      },
      "execution_count": 129,
      "outputs": []
    },
    {
      "cell_type": "code",
      "source": [
        "# Run gd_learning1\n",
        "# (try more epochs=steps)\n",
        "weights_gd1 = gd_learning1(x_train2_with_ones,y_train2, weights_init, 200,0.1);\n",
        "gd1_200_accuracy=get_accuracy_score(x_test2_with_ones, y_test2, weights_gd1)\n",
        "print(\"acc AFTER GD1, : \" , gd1_200_accuracy);"
      ],
      "metadata": {
        "colab": {
          "base_uri": "https://localhost:8080/"
        },
        "id": "1WVsTi9mN6mx",
        "outputId": "0099ce11-2a4c-4aa1-b782-035412be0b56"
      },
      "execution_count": 130,
      "outputs": [
        {
          "output_type": "stream",
          "name": "stdout",
          "text": [
            "acc AFTER GD1, :  0.9929078014184397\n"
          ]
        }
      ]
    },
    {
      "cell_type": "markdown",
      "source": [
        "# Q7.2\n",
        "* a) Function `gd_learning1` computes gradient using all data points in each epoch. Implement Function `gd_learning2` which also takes parameter `batch_size` (128 by default) and in one epoch it iterates over batches of size `batch_size` and compute gradient for each batch (one epoch = iteration over all data points, except maybe those not fitted into batch)\n",
        "* b) Function `gd_learning1` exploits the knowledge of a formula for gradient. Provide implementation using torch automatic differentation (see Lists 5 and 6) where only form of loss is given."
      ],
      "metadata": {
        "id": "Or3uADt_OS7E"
      }
    },
    {
      "cell_type": "code",
      "source": [],
      "metadata": {
        "id": "zomnrtRAPeTj"
      },
      "execution_count": 130,
      "outputs": []
    },
    {
      "cell_type": "markdown",
      "source": [
        "# Multinomial logistic classifier\n",
        "\n",
        "We will classify digits 0,1,2"
      ],
      "metadata": {
        "id": "c4JoLzj7PeZs"
      }
    },
    {
      "cell_type": "code",
      "source": [
        "x_trainM, y_trainM = x_train , y_train\n",
        "x_testM, y_testM = x_test , y_test\n",
        "\n",
        "#x_trainM, y_trainM = x_train[(y_train==0) | (y_train==1) | (y_train==2)], y_train[(y_train==0) | (y_train==1)| (y_train==2)]\n",
        "#x_testM, y_testM = x_test[(y_test==0) | (y_test==1)| (y_test==2)], y_test[(y_test==0) | (y_test==1)| (y_test==2)]\n",
        "\n",
        "x_trainM, y_trainM = x_train[y_train<=3], y_train[y_train<=3]\n",
        "x_testM, y_testM = x_test[y_test<=3], y_test[y_test<=3]\n",
        "\n",
        "\n",
        "# nr of samples, size  of images\n",
        "n_samples_trainM, h, w =     x_trainM.shape\n",
        "n_samples_testM, _, _ =      x_testM.shape\n",
        "print(\"images of size: h= \", h,\", w = \", w)\n",
        "# reshape nr_samples * \"vectorized image\"\n",
        "\n",
        "x_trainM = x_trainM.reshape((-1, h*w))\n",
        "x_testM = x_testM.reshape((-1, h*w))\n",
        "\n",
        "print(\"x_train2.shape = \", x_trainM.shape)\n",
        "\n",
        "#normalize\n",
        "x_trainM = x_trainM / 255\n",
        "x_testM = x_testM / 255"
      ],
      "metadata": {
        "colab": {
          "base_uri": "https://localhost:8080/"
        },
        "id": "e3AlBAMcPwt9",
        "outputId": "f093401e-b5dc-4912-cc10-6a16ac45a1b5"
      },
      "execution_count": 131,
      "outputs": [
        {
          "output_type": "stream",
          "name": "stdout",
          "text": [
            "images of size: h=  28 , w =  28\n",
            "x_train2.shape =  (24754, 784)\n"
          ]
        }
      ]
    },
    {
      "cell_type": "code",
      "source": [
        "f = plt.figure()\n",
        "f.add_subplot(1,3, 1)\n",
        "img=x_trainM[10].reshape(h,w)\n",
        "plt.imshow(img,cmap='gray')\n",
        "img=x_trainM[331].reshape(h,w)\n",
        "f.add_subplot(1,3, 2)\n",
        "plt.imshow(img,cmap='gray')\n",
        "img=x_trainM[39].reshape(h,w)\n",
        "f.add_subplot(1,3,3)\n",
        "plt.imshow(img,cmap='gray')\n",
        "plt.show()"
      ],
      "metadata": {
        "colab": {
          "base_uri": "https://localhost:8080/",
          "height": 209
        },
        "id": "zKGxs0J5Py8V",
        "outputId": "7bf4e2fd-3c09-43e8-fc1e-7329544b68d9"
      },
      "execution_count": 132,
      "outputs": [
        {
          "output_type": "display_data",
          "data": {
            "text/plain": [
              "<Figure size 640x480 with 3 Axes>"
            ],
            "image/png": "[encoded data removed]"
          },
          "metadata": {}
        }
      ]
    },
    {
      "cell_type": "markdown",
      "source": [
        "**This time -- let us have a look how is Logist. Class. applied in case of >2 classes.**\n",
        "\n",
        "## Solution 1: one-versus-rest (image: Andrew Ng)\n",
        "<div>\n",
        "<img src=\"https://raw.githubusercontent.com/lorek/datasets/master/LogClass_oneVsRest.png\" width=\"700\"/>\n",
        "</div>\n",
        "\n",
        "## Solution 2: \"Multinomial\"  \n",
        "\n",
        "Recall, in binary case we had:\n",
        "$$P(Y=1 | \\mathbf{x}) = f(\\mathbf{w}^T\\mathbf{x})=f(z)={1\\over 1+e^{-z}}={e^z\\over 1+e^{z}} \\propto e^z$$\n"
      ],
      "metadata": {
        "id": "PtuW0RxTPo18"
      }
    },
    {
      "cell_type": "markdown",
      "source": [
        "And assume that the model is\n",
        "$$P(Y=k|\\mathbf{x})\\propto e^{\\mathbf{w}_k\\mathbf{x}}$$\n",
        "\n",
        "Normalizing we have\n",
        "$$P(Y=k|\\mathbf{x})= {e^{\\mathbf{w}_k\\mathbf{x}}\\over \\sum_{j=1}^C e^{\\mathbf{w}_j\\mathbf{x}}}$$\n",
        "\n",
        "\n",
        "**SOFTMAX:** transforming $(z_1,..., Z_C), z_i\\in\\mathbb{R}$ into probabilites:\n",
        "$$\\textrm{softmax}(z_i)={e^{z_i}\\over \\sum_{j=1}^C e^{z_j}}$$\n",
        "And assume that the model is\n",
        "$$P(Y=k|\\mathbf{x})\\propto e^{\\mathbf{w}_k\\mathbf{x}}$$\n",
        "\n",
        " How to compute Likelihood then?\n",
        "$$L(\\mathbf{W})=\\prod_{i=1}^n P(Y=y_i|\\mathbf{x}_i)=\\prod_{i=1}^n\\prod_{k=1}^C \\left( {e^{\\mathbf{w}_k^T\\mathbf{x}_i}\\over \\sum_{i=1}^C e^{\\mathbf{w}_k^T\\mathbf{x}_i}}\\right)^{\\mathbf{1}(y_i=k)}$$\n",
        "\n",
        "take log\n",
        "$$\\log L(\\mathbf{W}) = \\sum_{i=1}^n\\sum_{k=1}^C \\mathbf{1}(y_i=k)\\log\\left( {e^{\\mathbf{w}_k^T\\mathbf{x}_i}\\over \\sum_{i=1}^C e^{\\mathbf{w}_k^T\\mathbf{x}_i}}\\right)$$\n",
        "\n",
        "and we aim to find $\\textrm{argmax}_\\mathbf{W} \\log(\\mathbf{W})$ what is equiv. to finding $\\textrm{argmin}_\\mathbf{W} CCE(\\mathbf{W})$, where\n",
        "$$\\textrm{CCE}(\\mathbf{W})  = -\\log L(\\mathbf{W})$$\n",
        "\n",
        " **CCE = Categorical Cross Entropy**\n",
        "\n",
        ""
      ],
      "metadata": {
        "id": "ynugGxROP7vu"
      }
    },
    {
      "cell_type": "markdown",
      "source": [
        "# Binary vs Multiclass:\n",
        "![alt text](https://raw.githubusercontent.com/lorek/datasets/master/nn_1_denselayerSoftmax.png)"
      ],
      "metadata": {
        "id": "bgp-Bt3ZQN0H"
      }
    },
    {
      "cell_type": "markdown",
      "source": [
        "# M1 built in (sklearn)"
      ],
      "metadata": {
        "id": "V0-hXQEHQQlY"
      }
    },
    {
      "cell_type": "code",
      "source": [
        "start_time = time.time()\n",
        "clf_lcM = LogisticRegression(random_state=0, max_iter=200,   multi_class='multinomial').fit(x_trainM,y_trainM)\n",
        "\n",
        "print(\"\\t\\t took %s seconds \" % round((time.time() - start_time),5))"
      ],
      "metadata": {
        "colab": {
          "base_uri": "https://localhost:8080/"
        },
        "id": "u0RQsokdQTgo",
        "outputId": "fb19b259-6709-424f-96ff-aba730a73ae3"
      },
      "execution_count": 133,
      "outputs": [
        {
          "output_type": "stream",
          "name": "stdout",
          "text": [
            "\t\t took 22.38335 seconds \n"
          ]
        },
        {
          "output_type": "stream",
          "name": "stderr",
          "text": [
            "/usr/local/lib/python3.10/dist-packages/sklearn/linear_model/_logistic.py:458: ConvergenceWarning: lbfgs failed to converge (status=1):\n",
            "STOP: TOTAL NO. of ITERATIONS REACHED LIMIT.\n",
            "\n",
            "Increase the number of iterations (max_iter) or scale the data as shown in:\n",
            "    https://scikit-learn.org/stable/modules/preprocessing.html\n",
            "Please also refer to the documentation for alternative solver options:\n",
            "    https://scikit-learn.org/stable/modules/linear_model.html#logistic-regression\n",
            "  n_iter_i = _check_optimize_result(\n"
          ]
        }
      ]
    },
    {
      "cell_type": "markdown",
      "source": [
        "**One-vs-rest**"
      ],
      "metadata": {
        "id": "Syr7DGVyQV0A"
      }
    },
    {
      "cell_type": "code",
      "source": [
        "start_time = time.time()\n",
        "clf_lc_ovr_M = LogisticRegression(random_state=0, max_iter=200,   multi_class='ovr').fit(x_trainM,y_trainM)\n",
        "\n",
        "print(\"\\t\\t took %s seconds \" % round((time.time() - start_time),5))"
      ],
      "metadata": {
        "colab": {
          "base_uri": "https://localhost:8080/"
        },
        "id": "h2ArPq_uQVQo",
        "outputId": "ba31bcac-5667-494f-dc91-d24b959e3bf0"
      },
      "execution_count": 134,
      "outputs": [
        {
          "output_type": "stream",
          "name": "stderr",
          "text": [
            "/usr/local/lib/python3.10/dist-packages/sklearn/linear_model/_logistic.py:458: ConvergenceWarning: lbfgs failed to converge (status=1):\n",
            "STOP: TOTAL NO. of ITERATIONS REACHED LIMIT.\n",
            "\n",
            "Increase the number of iterations (max_iter) or scale the data as shown in:\n",
            "    https://scikit-learn.org/stable/modules/preprocessing.html\n",
            "Please also refer to the documentation for alternative solver options:\n",
            "    https://scikit-learn.org/stable/modules/linear_model.html#logistic-regression\n",
            "  n_iter_i = _check_optimize_result(\n"
          ]
        },
        {
          "output_type": "stream",
          "name": "stdout",
          "text": [
            "\t\t took 27.34401 seconds \n"
          ]
        }
      ]
    },
    {
      "cell_type": "markdown",
      "source": [],
      "metadata": {
        "id": "8McvntcOQS2Q"
      }
    },
    {
      "cell_type": "code",
      "source": [
        "lc_y_predM=clf_lcM.predict(x_testM)\n",
        "lc_ovr_y_predM=clf_lc_ovr_M.predict(x_testM)\n",
        "print(\"Log. MN clf: accuracy  = \\t\",accuracy_score(lc_ovr_y_predM,y_testM), \" correctly cl. cases=\",np.sum(lc_ovr_y_predM==y_testM))\n",
        "print(\"Log. ovr clf: accuracy  = \\t\",accuracy_score(lc_ovr_y_predM,y_testM), \" correctly cl. cases=\",np.sum(lc_ovr_y_predM==y_testM))\n"
      ],
      "metadata": {
        "colab": {
          "base_uri": "https://localhost:8080/"
        },
        "id": "SZG-6DzsQNSA",
        "outputId": "2d3bfb4c-fe1c-42b7-9243-d9e346897b1b"
      },
      "execution_count": 135,
      "outputs": [
        {
          "output_type": "stream",
          "name": "stdout",
          "text": [
            "Log. MN clf: accuracy  = \t 0.9754630743324513  correctly cl. cases= 4055\n",
            "Log. ovr clf: accuracy  = \t 0.9754630743324513  correctly cl. cases= 4055\n"
          ]
        }
      ]
    },
    {
      "cell_type": "markdown",
      "source": [
        "# M2 Keras implementation"
      ],
      "metadata": {
        "id": "SnQYMX07P8UW"
      }
    },
    {
      "cell_type": "code",
      "source": [
        "model = models.Sequential()\n",
        "model = models.Sequential(layers.Dense(4, input_shape=(h*w,), activation='softmax'))\n"
      ],
      "metadata": {
        "id": "EoMqFmZDN2_h"
      },
      "execution_count": 136,
      "outputs": []
    },
    {
      "cell_type": "code",
      "source": [
        "model.compile(optimizer='sgd', loss='categorical_crossentropy', metrics=['accuracy'])"
      ],
      "metadata": {
        "id": "Hlc2SGSIQmXk"
      },
      "execution_count": 137,
      "outputs": []
    },
    {
      "cell_type": "code",
      "source": [
        "print(\"Shape of y_trainM = \", y_trainM.shape)\n",
        "\n",
        "# we need to use one hot encoding:\n",
        "\n",
        "y_train_one_hot_encM = to_categorical(y_trainM)\n",
        "print(\"y_train_one_hot_enc[0,:] = \",y_train_one_hot_encM[0,:])\n",
        "\n",
        "y_test_one_hot_encM = to_categorical(y_testM)"
      ],
      "metadata": {
        "colab": {
          "base_uri": "https://localhost:8080/"
        },
        "id": "SeG3x3DTQmyD",
        "outputId": "1b6fbcdb-a15b-4189-9f76-8baa99971a04"
      },
      "execution_count": 138,
      "outputs": [
        {
          "output_type": "stream",
          "name": "stdout",
          "text": [
            "Shape of y_trainM =  (24754,)\n",
            "y_train_one_hot_enc[0,:] =  [1. 0. 0. 0.]\n"
          ]
        }
      ]
    },
    {
      "cell_type": "code",
      "source": [
        "#learning:\n",
        "start_time = time.time()\n",
        "model.fit(x=x_trainM,y=y_train_one_hot_encM, shuffle=True, epochs=5,batch_size=16)\n",
        "print(\"\\t\\t took %s seconds \" % round((time.time() - start_time),5))"
      ],
      "metadata": {
        "colab": {
          "base_uri": "https://localhost:8080/"
        },
        "id": "11sYpB9HQpw2",
        "outputId": "3bc608f2-c89d-46f4-88bc-6a74b5390195"
      },
      "execution_count": 139,
      "outputs": [
        {
          "output_type": "stream",
          "name": "stdout",
          "text": [
            "Epoch 1/5\n",
            "1548/1548 [==============================] - 3s 2ms/step - loss: 0.2490 - accuracy: 0.9409\n",
            "Epoch 2/5\n",
            "1548/1548 [==============================] - 3s 2ms/step - loss: 0.1376 - accuracy: 0.9615\n",
            "Epoch 3/5\n",
            "1548/1548 [==============================] - 2s 2ms/step - loss: 0.1220 - accuracy: 0.9647\n",
            "Epoch 4/5\n",
            "1548/1548 [==============================] - 2s 2ms/step - loss: 0.1139 - accuracy: 0.9669\n",
            "Epoch 5/5\n",
            "1548/1548 [==============================] - 3s 2ms/step - loss: 0.1088 - accuracy: 0.9676\n",
            "\t\t took 21.36349 seconds \n"
          ]
        }
      ]
    },
    {
      "cell_type": "code",
      "source": [
        "nn_y_predM_prob = model.predict(x_testM)\n",
        "nn_y_predM = (nn_y_predM_prob>0.5).astype(int)\n"
      ],
      "metadata": {
        "colab": {
          "base_uri": "https://localhost:8080/"
        },
        "id": "i7iezKQDQyEo",
        "outputId": "4daf16ab-0b6f-4d3b-d859-621cdb532adc"
      },
      "execution_count": 140,
      "outputs": [
        {
          "output_type": "stream",
          "name": "stdout",
          "text": [
            "130/130 [==============================] - 0s 1ms/step\n"
          ]
        }
      ]
    },
    {
      "cell_type": "code",
      "source": [
        "print(accuracy_score(nn_y_predM ,y_test_one_hot_encM))"
      ],
      "metadata": {
        "colab": {
          "base_uri": "https://localhost:8080/"
        },
        "id": "6HuG7jfSRHid",
        "outputId": "8b15edb7-d01e-4c46-f0f0-49fa155c50af"
      },
      "execution_count": 141,
      "outputs": [
        {
          "output_type": "stream",
          "name": "stdout",
          "text": [
            "0.9716141448159731\n"
          ]
        }
      ]
    },
    {
      "cell_type": "markdown",
      "source": [
        "# Q7.3\n",
        "* a) Construct a similar model with one extra (first) layer consisting of 512 neurons. Compare resulting accuracy.   Consider 2-3 different activation functions, try different optimizers (and learning rates). Compare accuracy on test set with previous models. How many parameters does your network have?\n",
        "* b) Built similar models (multinomial logistic regression and extended with 512 neurons) for classifying all ten digits. Compare running times.\n",
        ""
      ],
      "metadata": {
        "id": "tzK1X-caRo-f"
      }
    },
    {
      "cell_type": "code",
      "source": [],
      "metadata": {
        "id": "sz7AKDZiHAj-"
      },
      "execution_count": 141,
      "outputs": []
    }
  ]
}